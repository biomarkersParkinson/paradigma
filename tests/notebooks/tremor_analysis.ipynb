{
 "cells": [
  {
   "cell_type": "markdown",
   "metadata": {},
   "source": [
    "# Tremor analysis"
   ]
  },
  {
   "cell_type": "code",
   "execution_count": null,
   "metadata": {},
   "outputs": [],
   "source": [
    "from pathlib import Path\n",
    "from paradigma.config import IMUConfig, TremorConfig\n",
    "from paradigma.testing import preprocess_imu_data_io, extract_tremor_features_io, detect_tremor_io, aggregate_tremor_io"
   ]
  },
  {
   "cell_type": "code",
   "execution_count": null,
   "metadata": {},
   "outputs": [],
   "source": [
    "branch = 'tremor'\n",
    "sensor = 'imu'\n",
    "\n",
    "tremor_detection_classifier_package_filename = 'tremor_detection_clf_package.pkl'\n",
    "\n",
    "path_to_data =  Path('../../tests/data')\n",
    "path_to_assets = Path('../../src/paradigma/assets')\n",
    "\n",
    "path_to_sensor_data = path_to_data / '1.prepared_data' / sensor\n",
    "path_to_preprocessed_data = path_to_data / '2.preprocessed_data' / sensor\n",
    "path_to_extracted_features = path_to_data / '3.extracted_features' / branch\n",
    "path_to_predictions = path_to_data / '4.predictions' / branch\n",
    "path_to_aggregations = path_to_data / '6.aggregation' / branch\n",
    "\n",
    "# Cell has the tag 'parameters', so it won't overwrite the parameters when running the notebook in tests"
   ]
  },
  {
   "cell_type": "markdown",
   "metadata": {},
   "source": [
    "## Preprocess data"
   ]
  },
  {
   "cell_type": "code",
   "execution_count": null,
   "metadata": {},
   "outputs": [],
   "source": [
    "config = IMUConfig()\n",
    "df_preprocessed_data = preprocess_imu_data_io(\n",
    "    path_to_input=path_to_sensor_data,\n",
    "    path_to_output=path_to_preprocessed_data,\n",
    "    config=config,\n",
    "    sensor='gyroscope',\n",
    "    watch_side='left'\n",
    ")"
   ]
  },
  {
   "cell_type": "markdown",
   "metadata": {},
   "source": [
    "## Extract tremor features"
   ]
  },
  {
   "cell_type": "code",
   "execution_count": null,
   "metadata": {},
   "outputs": [],
   "source": [
    "config = TremorConfig('features')\n",
    "\n",
    "extract_tremor_features_io(\n",
    "    config=config,\n",
    "    input_path=path_to_preprocessed_data, \n",
    "    output_path=path_to_extracted_features, \n",
    ")"
   ]
  },
  {
   "cell_type": "markdown",
   "metadata": {},
   "source": [
    "## Detect tremor"
   ]
  },
  {
   "cell_type": "code",
   "execution_count": null,
   "metadata": {},
   "outputs": [],
   "source": [
    "tremor_detection_classifier_package_filename = 'tremor_detection_clf_package.pkl'\n",
    "full_path_to_classifier_package = path_to_assets / tremor_detection_classifier_package_filename\n",
    "\n",
    "config = TremorConfig('classification')\n",
    " \n",
    "detect_tremor_io(\n",
    "    config=config, \n",
    "    input_path=path_to_extracted_features, \n",
    "    output_path=path_to_predictions, \n",
    "    path_to_classifier_input=full_path_to_classifier_package\n",
    ")"
   ]
  },
  {
   "cell_type": "markdown",
   "metadata": {},
   "source": [
    "## Compute aggregated tremor measures"
   ]
  },
  {
   "cell_type": "code",
   "execution_count": null,
   "metadata": {},
   "outputs": [],
   "source": [
    "aggregate_tremor_io(\n",
    "    path_to_feature_input=path_to_extracted_features,\n",
    "    path_to_prediction_input=path_to_predictions,\n",
    "    output_path=path_to_aggregations,\n",
    "    config=config\n",
    ")"
   ]
  }
 ],
 "metadata": {
  "kernelspec": {
   "display_name": "paradigma-Fn6RLG4_-py3.11",
   "language": "python",
   "name": "python3"
  },
  "language_info": {
   "codemirror_mode": {
    "name": "ipython",
    "version": 3
   },
   "file_extension": ".py",
   "mimetype": "text/x-python",
   "name": "python",
   "nbconvert_exporter": "python",
   "pygments_lexer": "ipython3",
   "version": "3.11.5"
  }
 },
 "nbformat": 4,
 "nbformat_minor": 2
}

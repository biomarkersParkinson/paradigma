{
 "cells": [
  {
   "cell_type": "markdown",
   "metadata": {},
   "source": [
    "# Heart rate analysis"
   ]
  },
  {
   "cell_type": "code",
   "execution_count": 1,
   "metadata": {},
   "outputs": [],
   "source": [
    "from pathlib import Path\n",
    "\n",
    "from paradigma.config import PPGConfig, IMUConfig, HeartRateConfig\n",
    "from paradigma.testing import preprocess_ppg_data_io\n",
    "from paradigma.util import load_tsdf_dataframe"
   ]
  },
  {
   "cell_type": "code",
   "execution_count": 2,
   "metadata": {
    "tags": [
     "parameters"
    ]
   },
   "outputs": [],
   "source": [
    "# Cell has the tag 'parameters'\n",
    "branch = 'heart_rate'\n",
    "sensor = 'ppg'\n",
    "\n",
    "ppg_prefix = 'PPG'\n",
    "imu_prefix = 'IMU'\n",
    "\n",
    "ppg_classifier_package_filename = 'ppg_quality_clf_package.pkl'\n",
    "\n",
    "path_to_data =  Path('../../tests/data')\n",
    "path_to_assets = Path('../../src/paradigma/assets')\n",
    "\n",
    "path_to_prepared_data = path_to_data / '1.prepared_data'\n",
    "path_to_preprocessed_data = path_to_data / '2.preprocessed_data' / sensor\n",
    "\n",
    "path_to_classifier_package = path_to_assets / ppg_classifier_package_filename\n"
   ]
  },
  {
   "cell_type": "markdown",
   "metadata": {},
   "source": [
    "## Preprocessing"
   ]
  },
  {
   "cell_type": "code",
   "execution_count": 3,
   "metadata": {},
   "outputs": [],
   "source": [
    "ppg_config = PPGConfig()\n",
    "imu_config = IMUConfig()\n",
    "\n",
    "preprocess_ppg_data_io(\n",
    "    path_to_input_ppg=path_to_prepared_data / ppg_prefix, \n",
    "    path_to_input_imu=path_to_prepared_data / imu_prefix,\n",
    "    output_path=path_to_preprocessed_data, \n",
    "    ppg_config=ppg_config, \n",
    "    imu_config=imu_config,\n",
    ")"
   ]
  }
 ],
 "metadata": {
  "kernelspec": {
   "display_name": "paradigma-Fn6RLG4_-py3.11",
   "language": "python",
   "name": "python3"
  },
  "language_info": {
   "codemirror_mode": {
    "name": "ipython",
    "version": 3
   },
   "file_extension": ".py",
   "mimetype": "text/x-python",
   "name": "python",
   "nbconvert_exporter": "python",
   "pygments_lexer": "ipython3",
   "version": "3.11.5"
  }
 },
 "nbformat": 4,
 "nbformat_minor": 2
}

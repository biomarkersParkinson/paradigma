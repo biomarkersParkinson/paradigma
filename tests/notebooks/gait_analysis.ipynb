{
 "cells": [
  {
   "cell_type": "markdown",
   "metadata": {},
   "source": [
    "# Gait analysis"
   ]
  },
  {
   "cell_type": "code",
   "execution_count": 1,
   "metadata": {},
   "outputs": [],
   "source": [
    "from pathlib import Path\n",
    "\n",
    "from paradigma.config import IMUConfig, GaitConfig\n",
    "from paradigma.testing import preprocess_imu_data_io, extract_gait_features_io, \\\n",
    "    detect_gait_io, extract_arm_activity_features_io, filter_gait_io"
   ]
  },
  {
   "cell_type": "code",
   "execution_count": 2,
   "metadata": {
    "tags": [
     "parameters"
    ]
   },
   "outputs": [],
   "source": [
    "branch = 'gait'\n",
    "sensor = 'imu'\n",
    "\n",
    "gait_detection_classifier_package_filename = 'gait_detection_clf_package.pkl'\n",
    "gait_filtering_classifier_package_filename = 'gait_filtering_clf_package.pkl'\n",
    "\n",
    "path_to_data =  Path('../../tests/data')\n",
    "path_to_assets = Path('../../src/paradigma/assets')\n",
    "\n",
    "path_to_sensor_data = path_to_data / '1.prepared_data' / sensor\n",
    "path_to_preprocessed_data = path_to_data / '2.preprocessed_data' / sensor\n",
    "path_to_extracted_features = path_to_data / '3.extracted_features' / branch\n",
    "path_to_predictions = path_to_data / '4.predictions' / branch\n",
    "\n",
    "# Cell has the tag 'parameters', so it won't overwrite the parameters when running the notebook in tests"
   ]
  },
  {
   "cell_type": "markdown",
   "metadata": {},
   "source": [
    "## Preprocessing"
   ]
  },
  {
   "cell_type": "code",
   "execution_count": 3,
   "metadata": {},
   "outputs": [],
   "source": [
    "config = IMUConfig()\n",
    "\n",
    "preprocess_imu_data_io(\n",
    "    path_to_input=path_to_sensor_data, \n",
    "    path_to_output=path_to_preprocessed_data, \n",
    "    config=config, \n",
    "    sensor='both',\n",
    "    watch_side='left'\n",
    ")"
   ]
  },
  {
   "cell_type": "markdown",
   "metadata": {},
   "source": [
    "## Extract gait features"
   ]
  },
  {
   "cell_type": "code",
   "execution_count": 4,
   "metadata": {},
   "outputs": [],
   "source": [
    "config = GaitConfig('gait')\n",
    "\n",
    "extract_gait_features_io(\n",
    "    config=config,\n",
    "    path_to_input=path_to_preprocessed_data, \n",
    "    path_to_output=path_to_extracted_features, \n",
    ")"
   ]
  },
  {
   "cell_type": "markdown",
   "metadata": {},
   "source": [
    "## Detect gait"
   ]
  },
  {
   "cell_type": "code",
   "execution_count": 5,
   "metadata": {},
   "outputs": [],
   "source": [
    "config = GaitConfig('gait')\n",
    "\n",
    "full_path_to_classifier_package = path_to_assets / gait_detection_classifier_package_filename\n",
    " \n",
    "detect_gait_io(\n",
    "    config=config, \n",
    "    path_to_input=path_to_extracted_features, \n",
    "    path_to_output=path_to_predictions, \n",
    "    full_path_to_classifier_package=full_path_to_classifier_package\n",
    ")"
   ]
  },
  {
   "cell_type": "markdown",
   "metadata": {},
   "source": [
    "## Extract arm activity features"
   ]
  },
  {
   "cell_type": "code",
   "execution_count": 6,
   "metadata": {},
   "outputs": [],
   "source": [
    "config = GaitConfig('arm_activity')\n",
    "\n",
    "extract_arm_activity_features_io(\n",
    "    config=config,\n",
    "    path_to_timestamp_input=path_to_preprocessed_data, \n",
    "    path_to_prediction_input=path_to_predictions, \n",
    "    full_path_to_classifier_package=full_path_to_classifier_package,\n",
    "    path_to_output=path_to_extracted_features,\n",
    ")"
   ]
  },
  {
   "cell_type": "markdown",
   "metadata": {},
   "source": [
    "## Filter gait"
   ]
  },
  {
   "cell_type": "code",
   "execution_count": 7,
   "metadata": {},
   "outputs": [],
   "source": [
    "config = GaitConfig('arm_activity')\n",
    "\n",
    "full_path_to_classifier_package = path_to_assets / gait_filtering_classifier_package_filename\n",
    "\n",
    "filter_gait_io(\n",
    "    config=config,\n",
    "    path_to_input=path_to_extracted_features, \n",
    "    path_to_output=path_to_predictions,\n",
    "    full_path_to_classifier_package=full_path_to_classifier_package,\n",
    ")"
   ]
  }
 ],
 "metadata": {
  "kernelspec": {
   "display_name": "paradigma-Fn6RLG4_-py3.11",
   "language": "python",
   "name": "python3"
  },
  "language_info": {
   "codemirror_mode": {
    "name": "ipython",
    "version": 3
   },
   "file_extension": ".py",
   "mimetype": "text/x-python",
   "name": "python",
   "nbconvert_exporter": "python",
   "pygments_lexer": "ipython3",
   "version": "3.11.5"
  }
 },
 "nbformat": 4,
 "nbformat_minor": 2
}

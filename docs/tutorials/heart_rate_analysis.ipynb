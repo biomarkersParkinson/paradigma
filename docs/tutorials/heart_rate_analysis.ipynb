{
 "cells": [
  {
   "cell_type": "markdown",
   "metadata": {},
   "source": [
    "# Heart rate analysis"
   ]
  },
  {
   "cell_type": "markdown",
   "metadata": {},
   "source": [
    "This tutorial shows how to extract heart rate estimates using photoplethysmography (PPG) data and accelerometer data. The pipeline consists of a stepwise approach ot determine signal quality, assessing both PPG morphology and accounting for periodic artifacts using the accelerometer. Based on the signal quality, we extract high-quality segments and estimate the heart rate for every 2 s using the smoothed pseudo Wigner-Ville Distribution. "
   ]
  },
  {
   "cell_type": "markdown",
   "metadata": {},
   "source": [
    "## Load example data"
   ]
  },
  {
   "cell_type": "markdown",
   "metadata": {},
   "source": [
    "Example PPG + accelerometer (from IMU files) data from a participant of the Personalized Parkinson Project is loaded. The data was prepared as explained in `data_preparation.ipynb`. The prepared IMU data contains both accelerometer and gyroscope data, but only accelerometer is used in this pipeline alongside the PPG data. First, we scan the metadata of the PPG and IMU to see if there is overlapping data using scan_and_sync_segments function, whereafter we load the corresponding dataframes."
   ]
  },
  {
   "cell_type": "code",
   "execution_count": null,
   "metadata": {},
   "outputs": [
    {
     "data": {
      "text/plain": [
       "(            time   green\n",
       " 0        0.00000  649511\n",
       " 1        0.00996  648214\n",
       " 2        0.01992  646786\n",
       " 3        0.02988  645334\n",
       " 4        0.03984  644317\n",
       " ...          ...     ...\n",
       " 64770  644.54720  553884\n",
       " 64771  644.55716  554088\n",
       " 64772  644.56712  554240\n",
       " 64773  644.57708  555134\n",
       " 64774  644.58704  557205\n",
       " \n",
       " [64775 rows x 2 columns],\n",
       "             time  accelerometer_x  ...  gyroscope_y  gyroscope_z\n",
       " 0        0.00000         0.550718  ...    32.012195   -26.097561\n",
       " 1        0.01004         0.535885  ...    34.634146   -24.695122\n",
       " 2        0.02008         0.504306  ...    36.768293   -22.926829\n",
       " 3        0.03012         0.488517  ...    38.719512   -21.158537\n",
       " 4        0.04016         0.494258  ...    41.280488   -20.304878\n",
       " ...          ...              ...  ...          ...          ...\n",
       " 72942  730.74468         0.234928  ...    -2.256098     2.256098\n",
       " 72943  730.75472         0.245455  ...    -1.707317     1.768293\n",
       " 72944  730.76476         0.243541  ...    -1.585366     1.890244\n",
       " 72945  730.77480         0.240191  ...    -1.280488     1.585366\n",
       " 72946  730.78484         0.243541  ...    -1.036585     1.219512\n",
       " \n",
       " [72947 rows x 7 columns])"
      ]
     },
     "execution_count": 15,
     "metadata": {},
     "output_type": "execute_result"
    }
   ],
   "source": [
    "from pathlib import Path\n",
    "from paradigma.util import load_tsdf_dataframe\n",
    "from paradigma.config import PPGConfig, IMUConfig\n",
    "from paradigma.preprocessing import scan_and_sync_segments\n",
    "import tsdf\n",
    "\n",
    "path_to_data = Path('../../tests/data')\n",
    "path_to_prepared_data = path_to_data / '1.prepared_data'\n",
    "\n",
    "ppg_config = PPGConfig()\n",
    "imu_config = IMUConfig()\n",
    "# First, we scan and synchronize the data based on the metadatas\n",
    "metadatas_ppg, metadatas_imu = scan_and_sync_segments(path_to_prepared_data / 'ppg', path_to_prepared_data / 'imu')\n",
    "# Then, we load the data\n",
    "metadata_time_ppg = metadatas_ppg[0][ppg_config.time_filename]\n",
    "metadata_values_ppg = metadatas_ppg[0][ppg_config.values_filename]\n",
    "df_ppg = tsdf.load_dataframe_from_binaries([metadata_time_ppg, metadata_values_ppg], tsdf.constants.ConcatenationType.columns)\n",
    "\n",
    "metadata_time_imu = metadatas_imu[0][imu_config.time_filename]\n",
    "metadata_values_imu = metadatas_imu[0][imu_config.values_filename]\n",
    "df_imu = tsdf.load_dataframe_from_binaries([metadata_time_imu, metadata_values_imu], tsdf.constants.ConcatenationType.columns)\n",
    "\n",
    "df_ppg, df_imu"
   ]
  },
  {
   "cell_type": "markdown",
   "metadata": {},
   "source": [
    "## Step 1: Preprocess data"
   ]
  },
  {
   "cell_type": "markdown",
   "metadata": {},
   "source": [
    "The first step after loading the data is to preprocess the data. Preprocessing starts by extracting the data where there is both PPG and IMU data. In this way, we discard the the first or last part of the segment when e.g. the PPG segment is recorded longer than the accelerometer. After this step, the preprocess_ppg_data function  resamples the values of both PPG and accelerometer data using uniformly distributed timestamps, since the sampling rate of both sensors is fixed but not uniform. After this, a bandpass filter (butterworth, 4th-order, cut-off frequencies: [0.4, 3.5]) is applied to the PPG signal and a high-pass (butterworth, 4th-order, cut-off: 0.2 Hz) filter is applied to the accelerometer. "
   ]
  },
  {
   "cell_type": "code",
   "execution_count": null,
   "metadata": {},
   "outputs": [
    {
     "name": "stdout",
     "output_type": "stream",
     "text": [
      "Shape of the original data: (64775, 2) (72947, 4)\n",
      "Shape of the overlapping segments: (64775, 2) (64361, 4)\n"
     ]
    },
    {
     "data": {
      "text/plain": [
       "(             time        green\n",
       " 0        0.000000 -1434.856838\n",
       " 1        0.033333 -3461.717789\n",
       " 2        0.066667 -5172.913796\n",
       " 3        0.100000 -6343.203160\n",
       " 4        0.133333 -6875.904054\n",
       " ...           ...          ...\n",
       " 19333  644.433333 -2403.547097\n",
       " 19334  644.466667 -7434.311944\n",
       " 19335  644.500000 -8214.847078\n",
       " 19336  644.533333 -5194.393329\n",
       " 19337  644.566667    70.147000\n",
       " \n",
       " [19338 rows x 2 columns],\n",
       "          time  accelerometer_x  ...  accelerometer_z  grav_accelerometer_z\n",
       " 0        0.00         0.053078  ...        -0.273154             -0.000530\n",
       " 1        0.01         0.038337  ...        -0.256899              0.002305\n",
       " 2        0.02         0.006824  ...        -0.256739              0.005122\n",
       " 3        0.03        -0.009156  ...        -0.273280              0.007919\n",
       " 4        0.04        -0.003770  ...        -0.289007              0.010696\n",
       " ...       ...              ...  ...              ...                   ...\n",
       " 64454  644.54         0.104185  ...        -0.029342             -0.239111\n",
       " 64455  644.55         0.120403  ...         0.051113             -0.239111\n",
       " 64456  644.56         0.101289  ...         0.037951             -0.239111\n",
       " 64457  644.57         0.073139  ...         0.030834             -0.239111\n",
       " 64458  644.58         0.004578  ...         0.025627             -0.239111\n",
       " \n",
       " [64459 rows x 7 columns])"
      ]
     },
     "execution_count": 18,
     "metadata": {},
     "output_type": "execute_result"
    }
   ],
   "source": [
    "from paradigma.preprocessing import preprocess_ppg_data\n",
    "df_ppg_proc, df_acc_proc = preprocess_ppg_data(df_ppg, df_imu, ppg_config, imu_config)\n",
    "df_ppg_proc, df_acc_proc"
   ]
  },
  {
   "cell_type": "markdown",
   "metadata": {},
   "source": [
    "## Step 2: Extract signal quality features"
   ]
  },
  {
   "cell_type": "markdown",
   "metadata": {},
   "source": [
    "The preprocessed data (PPG & accelerometer) is windowed into overlapping windows of length `ppg_config.window_length_s` with a window step of `ppg_config.window_step_length_s`. From the PPG windows 10 time- and frequency domain features are extracted to assess PPG morphology and from the accelerometer windows one relative power feature is calculated to assess periodic motion artifacts. "
   ]
  },
  {
   "cell_type": "code",
   "execution_count": null,
   "metadata": {},
   "outputs": [
    {
     "data": {
      "text/html": [
       "<div>\n",
       "<style scoped>\n",
       "    .dataframe tbody tr th:only-of-type {\n",
       "        vertical-align: middle;\n",
       "    }\n",
       "\n",
       "    .dataframe tbody tr th {\n",
       "        vertical-align: top;\n",
       "    }\n",
       "\n",
       "    .dataframe thead th {\n",
       "        text-align: right;\n",
       "    }\n",
       "</style>\n",
       "<table border=\"1\" class=\"dataframe\">\n",
       "  <thead>\n",
       "    <tr style=\"text-align: right;\">\n",
       "      <th></th>\n",
       "      <th>time</th>\n",
       "      <th>var</th>\n",
       "      <th>mean</th>\n",
       "      <th>median</th>\n",
       "      <th>kurtosis</th>\n",
       "      <th>skewness</th>\n",
       "      <th>signal_to_noise</th>\n",
       "      <th>auto_corr</th>\n",
       "      <th>f_dom</th>\n",
       "      <th>rel_power</th>\n",
       "      <th>spectral_entropy</th>\n",
       "      <th>acc_power_ratio</th>\n",
       "    </tr>\n",
       "  </thead>\n",
       "  <tbody>\n",
       "    <tr>\n",
       "      <th>0</th>\n",
       "      <td>0.0</td>\n",
       "      <td>1.697510e+07</td>\n",
       "      <td>3418.696392</td>\n",
       "      <td>2892.815105</td>\n",
       "      <td>2.540447</td>\n",
       "      <td>0.277237</td>\n",
       "      <td>3.241634</td>\n",
       "      <td>0.282452</td>\n",
       "      <td>1.171875</td>\n",
       "      <td>0.179922</td>\n",
       "      <td>0.561186</td>\n",
       "      <td>0.014196</td>\n",
       "    </tr>\n",
       "    <tr>\n",
       "      <th>1</th>\n",
       "      <td>1.0</td>\n",
       "      <td>1.635033e+07</td>\n",
       "      <td>3350.769158</td>\n",
       "      <td>2892.815105</td>\n",
       "      <td>2.647951</td>\n",
       "      <td>0.420163</td>\n",
       "      <td>3.202313</td>\n",
       "      <td>0.276526</td>\n",
       "      <td>1.171875</td>\n",
       "      <td>0.201972</td>\n",
       "      <td>0.547812</td>\n",
       "      <td>0.015343</td>\n",
       "    </tr>\n",
       "    <tr>\n",
       "      <th>2</th>\n",
       "      <td>2.0</td>\n",
       "      <td>1.921248e+07</td>\n",
       "      <td>3698.963099</td>\n",
       "      <td>3310.773556</td>\n",
       "      <td>2.333687</td>\n",
       "      <td>0.481974</td>\n",
       "      <td>3.521882</td>\n",
       "      <td>0.210984</td>\n",
       "      <td>0.820312</td>\n",
       "      <td>0.264922</td>\n",
       "      <td>0.509015</td>\n",
       "      <td>0.042583</td>\n",
       "    </tr>\n",
       "    <tr>\n",
       "      <th>3</th>\n",
       "      <td>3.0</td>\n",
       "      <td>1.646562e+07</td>\n",
       "      <td>3389.325775</td>\n",
       "      <td>2946.588526</td>\n",
       "      <td>2.608187</td>\n",
       "      <td>0.733913</td>\n",
       "      <td>3.346236</td>\n",
       "      <td>0.225823</td>\n",
       "      <td>0.703125</td>\n",
       "      <td>0.270707</td>\n",
       "      <td>0.496051</td>\n",
       "      <td>0.034215</td>\n",
       "    </tr>\n",
       "    <tr>\n",
       "      <th>4</th>\n",
       "      <td>4.0</td>\n",
       "      <td>1.603135e+07</td>\n",
       "      <td>3364.366313</td>\n",
       "      <td>2912.280798</td>\n",
       "      <td>2.268768</td>\n",
       "      <td>0.440357</td>\n",
       "      <td>3.314565</td>\n",
       "      <td>0.305998</td>\n",
       "      <td>0.820312</td>\n",
       "      <td>0.264097</td>\n",
       "      <td>0.496697</td>\n",
       "      <td>0.056204</td>\n",
       "    </tr>\n",
       "    <tr>\n",
       "      <th>...</th>\n",
       "      <td>...</td>\n",
       "      <td>...</td>\n",
       "      <td>...</td>\n",
       "      <td>...</td>\n",
       "      <td>...</td>\n",
       "      <td>...</td>\n",
       "      <td>...</td>\n",
       "      <td>...</td>\n",
       "      <td>...</td>\n",
       "      <td>...</td>\n",
       "      <td>...</td>\n",
       "      <td>...</td>\n",
       "    </tr>\n",
       "    <tr>\n",
       "      <th>634</th>\n",
       "      <td>634.0</td>\n",
       "      <td>2.281660e+06</td>\n",
       "      <td>1106.006037</td>\n",
       "      <td>838.307729</td>\n",
       "      <td>4.058037</td>\n",
       "      <td>0.674184</td>\n",
       "      <td>2.072660</td>\n",
       "      <td>0.172052</td>\n",
       "      <td>0.703125</td>\n",
       "      <td>0.204028</td>\n",
       "      <td>0.577570</td>\n",
       "      <td>0.060486</td>\n",
       "    </tr>\n",
       "    <tr>\n",
       "      <th>635</th>\n",
       "      <td>635.0</td>\n",
       "      <td>2.224441e+06</td>\n",
       "      <td>1113.194933</td>\n",
       "      <td>838.307729</td>\n",
       "      <td>3.684159</td>\n",
       "      <td>0.067979</td>\n",
       "      <td>2.118019</td>\n",
       "      <td>0.236408</td>\n",
       "      <td>0.703125</td>\n",
       "      <td>0.221044</td>\n",
       "      <td>0.560362</td>\n",
       "      <td>0.053120</td>\n",
       "    </tr>\n",
       "    <tr>\n",
       "      <th>636</th>\n",
       "      <td>636.0</td>\n",
       "      <td>5.103141e+06</td>\n",
       "      <td>1627.618918</td>\n",
       "      <td>1030.113303</td>\n",
       "      <td>3.913068</td>\n",
       "      <td>0.852331</td>\n",
       "      <td>2.040094</td>\n",
       "      <td>0.235822</td>\n",
       "      <td>0.585938</td>\n",
       "      <td>0.157667</td>\n",
       "      <td>0.514717</td>\n",
       "      <td>0.058853</td>\n",
       "    </tr>\n",
       "    <tr>\n",
       "      <th>637</th>\n",
       "      <td>637.0</td>\n",
       "      <td>7.428728e+06</td>\n",
       "      <td>2093.736007</td>\n",
       "      <td>1520.640067</td>\n",
       "      <td>3.188753</td>\n",
       "      <td>0.305780</td>\n",
       "      <td>2.457446</td>\n",
       "      <td>0.322034</td>\n",
       "      <td>0.468750</td>\n",
       "      <td>0.150582</td>\n",
       "      <td>0.458477</td>\n",
       "      <td>0.061269</td>\n",
       "    </tr>\n",
       "    <tr>\n",
       "      <th>638</th>\n",
       "      <td>638.0</td>\n",
       "      <td>1.549534e+07</td>\n",
       "      <td>2974.462555</td>\n",
       "      <td>2482.703944</td>\n",
       "      <td>4.042171</td>\n",
       "      <td>-0.628008</td>\n",
       "      <td>2.228730</td>\n",
       "      <td>0.095918</td>\n",
       "      <td>0.468750</td>\n",
       "      <td>0.102976</td>\n",
       "      <td>0.493830</td>\n",
       "      <td>0.105554</td>\n",
       "    </tr>\n",
       "  </tbody>\n",
       "</table>\n",
       "<p>639 rows × 12 columns</p>\n",
       "</div>"
      ],
      "text/plain": [
       "      time           var  ...  spectral_entropy  acc_power_ratio\n",
       "0      0.0  1.697510e+07  ...          0.561186         0.014196\n",
       "1      1.0  1.635033e+07  ...          0.547812         0.015343\n",
       "2      2.0  1.921248e+07  ...          0.509015         0.042583\n",
       "3      3.0  1.646562e+07  ...          0.496051         0.034215\n",
       "4      4.0  1.603135e+07  ...          0.496697         0.056204\n",
       "..     ...           ...  ...               ...              ...\n",
       "634  634.0  2.281660e+06  ...          0.577570         0.060486\n",
       "635  635.0  2.224441e+06  ...          0.560362         0.053120\n",
       "636  636.0  5.103141e+06  ...          0.514717         0.058853\n",
       "637  637.0  7.428728e+06  ...          0.458477         0.061269\n",
       "638  638.0  1.549534e+07  ...          0.493830         0.105554\n",
       "\n",
       "[639 rows x 12 columns]"
      ]
     },
     "execution_count": 23,
     "metadata": {},
     "output_type": "execute_result"
    }
   ],
   "source": [
    "from paradigma.config import SignalQualityFeatureExtractionConfig, SignalQualityFeatureExtractionAccConfig\n",
    "from paradigma.heart_rate.heart_rate_analysis import extract_signal_quality_features\n",
    "\n",
    "ppg_config = SignalQualityFeatureExtractionConfig()\n",
    "acc_config = SignalQualityFeatureExtractionAccConfig()\n",
    "df_features = extract_signal_quality_features(ppg_config, df_ppg_proc, acc_config, df_acc_proc)\n",
    "df_features\n"
   ]
  },
  {
   "cell_type": "markdown",
   "metadata": {},
   "source": [
    "## Step 3: Signal quality classification"
   ]
  },
  {
   "cell_type": "markdown",
   "metadata": {},
   "source": [
    "A trained logistic classifier is used to classify PPG signal quality and returns the `pred_sqa_proba`, which is the posterior probability of a PPG window to look like the typical PPG morphology (higher probability indicates toward the typical PPG morphology). The relative power feature from the accelerometer is compared to a threshold for periodic artifacts and therefore `pred_sqa_acc_label` returns a label indicating probably periodic motion artifacts (label 0) or no periodic motion artifacts (label 1). "
   ]
  },
  {
   "cell_type": "code",
   "execution_count": null,
   "metadata": {},
   "outputs": [
    {
     "data": {
      "text/html": [
       "<div>\n",
       "<style scoped>\n",
       "    .dataframe tbody tr th:only-of-type {\n",
       "        vertical-align: middle;\n",
       "    }\n",
       "\n",
       "    .dataframe tbody tr th {\n",
       "        vertical-align: top;\n",
       "    }\n",
       "\n",
       "    .dataframe thead th {\n",
       "        text-align: right;\n",
       "    }\n",
       "</style>\n",
       "<table border=\"1\" class=\"dataframe\">\n",
       "  <thead>\n",
       "    <tr style=\"text-align: right;\">\n",
       "      <th></th>\n",
       "      <th>pred_sqa_proba</th>\n",
       "      <th>pred_sqa_acc_label</th>\n",
       "    </tr>\n",
       "  </thead>\n",
       "  <tbody>\n",
       "    <tr>\n",
       "      <th>0</th>\n",
       "      <td>0.006031</td>\n",
       "      <td>1</td>\n",
       "    </tr>\n",
       "    <tr>\n",
       "      <th>1</th>\n",
       "      <td>0.011725</td>\n",
       "      <td>1</td>\n",
       "    </tr>\n",
       "    <tr>\n",
       "      <th>2</th>\n",
       "      <td>0.068063</td>\n",
       "      <td>1</td>\n",
       "    </tr>\n",
       "    <tr>\n",
       "      <th>3</th>\n",
       "      <td>0.080808</td>\n",
       "      <td>1</td>\n",
       "    </tr>\n",
       "    <tr>\n",
       "      <th>4</th>\n",
       "      <td>0.074591</td>\n",
       "      <td>1</td>\n",
       "    </tr>\n",
       "    <tr>\n",
       "      <th>...</th>\n",
       "      <td>...</td>\n",
       "      <td>...</td>\n",
       "    </tr>\n",
       "    <tr>\n",
       "      <th>634</th>\n",
       "      <td>0.001387</td>\n",
       "      <td>1</td>\n",
       "    </tr>\n",
       "    <tr>\n",
       "      <th>635</th>\n",
       "      <td>0.001570</td>\n",
       "      <td>1</td>\n",
       "    </tr>\n",
       "    <tr>\n",
       "      <th>636</th>\n",
       "      <td>0.000380</td>\n",
       "      <td>1</td>\n",
       "    </tr>\n",
       "    <tr>\n",
       "      <th>637</th>\n",
       "      <td>0.000406</td>\n",
       "      <td>1</td>\n",
       "    </tr>\n",
       "    <tr>\n",
       "      <th>638</th>\n",
       "      <td>0.000004</td>\n",
       "      <td>1</td>\n",
       "    </tr>\n",
       "  </tbody>\n",
       "</table>\n",
       "<p>639 rows × 2 columns</p>\n",
       "</div>"
      ],
      "text/plain": [
       "     pred_sqa_proba  pred_sqa_acc_label\n",
       "0          0.006031                   1\n",
       "1          0.011725                   1\n",
       "2          0.068063                   1\n",
       "3          0.080808                   1\n",
       "4          0.074591                   1\n",
       "..              ...                 ...\n",
       "634        0.001387                   1\n",
       "635        0.001570                   1\n",
       "636        0.000380                   1\n",
       "637        0.000406                   1\n",
       "638        0.000004                   1\n",
       "\n",
       "[639 rows x 2 columns]"
      ]
     },
     "execution_count": 26,
     "metadata": {},
     "output_type": "execute_result"
    }
   ],
   "source": [
    "from paradigma.config import SignalQualityClassificationConfig\n",
    "from paradigma.heart_rate.heart_rate_analysis import signal_quality_classification\n",
    "\n",
    "path_to_classifier = Path('../../tests/data/0.Classification/ppg')\n",
    "config = SignalQualityClassificationConfig()\n",
    "df_sqa = signal_quality_classification(df_features, config, path_to_classifier)\n",
    "df_sqa"
   ]
  },
  {
   "cell_type": "markdown",
   "metadata": {},
   "source": [
    "## Step 4: Heart rate estimation"
   ]
  },
  {
   "cell_type": "markdown",
   "metadata": {},
   "source": [
    "For heart rate estimation, we extract segments of `config.tfd_length`. Using a 2-step approach, we calculate the smoothed-pseudo Wigner-Ville Distribution to obtain the frequency content of the PPG signal over time. For every 2-second window, we identified the frequency with the highest power for each data point and assigned the average of these frequency as the heart rate in that 2-second window. "
   ]
  },
  {
   "cell_type": "code",
   "execution_count": null,
   "metadata": {},
   "outputs": [
    {
     "data": {
      "text/html": [
       "<div>\n",
       "<style scoped>\n",
       "    .dataframe tbody tr th:only-of-type {\n",
       "        vertical-align: middle;\n",
       "    }\n",
       "\n",
       "    .dataframe tbody tr th {\n",
       "        vertical-align: top;\n",
       "    }\n",
       "\n",
       "    .dataframe thead th {\n",
       "        text-align: right;\n",
       "    }\n",
       "</style>\n",
       "<table border=\"1\" class=\"dataframe\">\n",
       "  <thead>\n",
       "    <tr style=\"text-align: right;\">\n",
       "      <th></th>\n",
       "      <th>rel_time</th>\n",
       "      <th>heart_rate</th>\n",
       "    </tr>\n",
       "  </thead>\n",
       "  <tbody>\n",
       "    <tr>\n",
       "      <th>0</th>\n",
       "      <td>56.0</td>\n",
       "      <td>86.404715</td>\n",
       "    </tr>\n",
       "    <tr>\n",
       "      <th>1</th>\n",
       "      <td>58.0</td>\n",
       "      <td>86.640472</td>\n",
       "    </tr>\n",
       "    <tr>\n",
       "      <th>2</th>\n",
       "      <td>60.0</td>\n",
       "      <td>86.345776</td>\n",
       "    </tr>\n",
       "    <tr>\n",
       "      <th>3</th>\n",
       "      <td>62.0</td>\n",
       "      <td>84.872299</td>\n",
       "    </tr>\n",
       "    <tr>\n",
       "      <th>4</th>\n",
       "      <td>64.0</td>\n",
       "      <td>84.872299</td>\n",
       "    </tr>\n",
       "    <tr>\n",
       "      <th>5</th>\n",
       "      <td>66.0</td>\n",
       "      <td>84.194499</td>\n",
       "    </tr>\n",
       "  </tbody>\n",
       "</table>\n",
       "</div>"
      ],
      "text/plain": [
       "   rel_time  heart_rate\n",
       "0      56.0   86.404715\n",
       "1      58.0   86.640472\n",
       "2      60.0   86.345776\n",
       "3      62.0   84.872299\n",
       "4      64.0   84.872299\n",
       "5      66.0   84.194499"
      ]
     },
     "execution_count": 36,
     "metadata": {},
     "output_type": "execute_result"
    }
   ],
   "source": [
    "from paradigma.config import HeartRateExtractionConfig\n",
    "from paradigma.heart_rate.heart_rate_analysis import estimate_heart_rate\n",
    "\n",
    "config = HeartRateExtractionConfig()\n",
    "df_hr = estimate_heart_rate(df_sqa, df_ppg_proc, config)\n",
    "df_hr"
   ]
  },
  {
   "cell_type": "markdown",
   "metadata": {},
   "source": [
    "## Step 5: Heart rate aggregation"
   ]
  },
  {
   "cell_type": "markdown",
   "metadata": {},
   "source": [
    "The final step is to aggregate all 2-second heart rate estimates. In the current example, the mode and 99th percentile are calculated. The mode represent the resting heart rate while the 99th percentile indicates the maximum heart rate. In Parkinson's disease, we expect that these two measures could reflect autonomic (dys)functioning."
   ]
  },
  {
   "cell_type": "code",
   "execution_count": null,
   "metadata": {},
   "outputs": [
    {
     "name": "stdout",
     "output_type": "stream",
     "text": [
      "{'hr_aggregates': {'99p_heart_rate': 86.62868369351669,\n",
      "                   'mode_heart_rate': 84.8722986247544},\n",
      " 'metadata': {'nr_hr_est': 6}}\n"
     ]
    }
   ],
   "source": [
    "import pprint\n",
    "from paradigma.heart_rate.heart_rate_analysis import aggregate_heart_rate\n",
    "hr_values = df_hr['heart_rate'].values\n",
    "df_hr_agg = aggregate_heart_rate(hr_values, aggregates = ['mode', '99p'])\n",
    "\n",
    "pprint.pprint(df_hr_agg)"
   ]
  }
 ],
 "metadata": {
  "kernelspec": {
   "display_name": "paradigma-8ps1bg0Z-py3.12",
   "language": "python",
   "name": "python3"
  },
  "language_info": {
   "codemirror_mode": {
    "name": "ipython",
    "version": 3
   },
   "file_extension": ".py",
   "mimetype": "text/x-python",
   "name": "python",
   "nbconvert_exporter": "python",
   "pygments_lexer": "ipython3",
   "version": "3.12.6"
  }
 },
 "nbformat": 4,
 "nbformat_minor": 2
}

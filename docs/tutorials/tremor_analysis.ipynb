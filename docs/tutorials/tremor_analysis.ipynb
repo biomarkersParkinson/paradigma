{
 "cells": [
  {
   "cell_type": "markdown",
   "metadata": {},
   "source": [
    "# Tremor analysis"
   ]
  },
  {
   "cell_type": "markdown",
   "metadata": {},
   "source": [
    "This tutorial shows how to run the tremor pipeline on prepared IMU or gyroscope data to obtain aggregated tremor measures."
   ]
  },
  {
   "cell_type": "markdown",
   "metadata": {},
   "source": [
    "## Load example data"
   ]
  },
  {
   "cell_type": "markdown",
   "metadata": {},
   "source": [
    "Example IMU data (8 minutes) from a participant of the Personalized Parkinson Project is loaded. The data was prepared as explained in [data_preparation.ipynb](https://github.com/biomarkersParkinson/paradigma/blob/main/docs/tutorials/data_preparation.ipynb). The prepared data contains both accelerometer and gyroscope data, but only gyroscope data is necessary for running the tremor pipeline."
   ]
  },
  {
   "cell_type": "code",
   "execution_count": null,
   "metadata": {},
   "outputs": [],
   "source": [
    "from pathlib import Path\n",
    "from paradigma.util import load_tsdf_dataframe\n",
    "\n",
    "# Set the path to where the prepared data is saved and load the data (the test data is stored in TSDF, but you can load your data in your own way )\n",
    "path_to_data =  Path('../../tests/data')\n",
    "path_to_prepared_data = path_to_data / '1.prepared_data' / 'imu'\n",
    "df_data, metadata_time, metadata_values = load_tsdf_dataframe(path_to_prepared_data, prefix='IMU') \n",
    "\n",
    "df_data"
   ]
  },
  {
   "cell_type": "markdown",
   "metadata": {},
   "source": [
    "## Step 1: Preprocess data"
   ]
  },
  {
   "cell_type": "markdown",
   "metadata": {},
   "source": [
    "IMU sensors collect data at a fixed sampling frequency, but the sampling rate is not uniform, causing variation in time differences between timestamps. The [preprocess_imu_data](https://github.com/biomarkersParkinson/paradigma/blob/main/src/paradigma/preprocessing.py#:~:text=preprocess_imu_data) function therefore resamples the timestamps to be uniformly distributed, and then interpolates IMU values at these new timestamps using the original timestamps and corresponding IMU values. By setting `sensor` to 'gyroscope', only gyroscope data is preprocessed and the accelerometer data is removed from the dataframe."
   ]
  },
  {
   "cell_type": "code",
   "execution_count": null,
   "metadata": {},
   "outputs": [],
   "source": [
    "from paradigma.config import IMUConfig\n",
    "from paradigma.preprocessing import preprocess_imu_data\n",
    "\n",
    "config = IMUConfig()\n",
    "print(f'The data is resampled to {config.sampling_frequency} Hz.')\n",
    "\n",
    "df_preprocessed_data = preprocess_imu_data(df_data, config, sensor='gyroscope')\n",
    "\n",
    "df_preprocessed_data"
   ]
  },
  {
   "cell_type": "markdown",
   "metadata": {},
   "source": [
    "## Step 2: Extract tremor features"
   ]
  },
  {
   "cell_type": "markdown",
   "metadata": {},
   "source": [
    "The function [extract_tremor_features](https://github.com/biomarkersParkinson/paradigma/blob/main/src/paradigma/tremor/tremor_analysis.py#:~:text=extract_tremor_features) extracts windows from the preprocessed gyroscope data using non-overlapping windows of length `config.window_length_s`. Next, from these windows the tremor features are extracted: 12 mel-frequency cepstral coefficients (MFCCs), frequency of the peak in the power spectral density, power in lower frequencies (0.5 -- 3 Hz), and power around the tremor peak. The latter is not used for tremor detection, but to compute aggregate measures of tremor power in Step 4."
   ]
  },
  {
   "cell_type": "code",
   "execution_count": null,
   "metadata": {},
   "outputs": [],
   "source": [
    "from paradigma.config import TremorConfig\n",
    "from paradigma.tremor.tremor_analysis import extract_tremor_features\n",
    "\n",
    "config = TremorConfig()\n",
    "print(f'The window length is {config.window_length_s} seconds')\n",
    "\n",
    "df_features = extract_tremor_features(df_preprocessed_data, config)\n",
    "\n",
    "df_features"
   ]
  },
  {
   "cell_type": "markdown",
   "metadata": {},
   "source": [
    "## Step 3: Detect tremor"
   ]
  },
  {
   "cell_type": "markdown",
   "metadata": {},
   "source": [
    "The function [detect_tremor](https://github.com/biomarkersParkinson/paradigma/blob/main/src/paradigma/tremor/tremor_analysis.py#:~:text=detect_tremor) uses a pretrained logistic regression classifier to predict the tremor probability (`pred_tremor_proba`) for each window, based on the MFCCs. Using the prespecified threshold, a tremor label of 0 (no tremor) or 1 (tremor) is assigned (`pred_tremor_logreg`). Furthermore, the detected tremor windows are checked for rest tremor in two ways. First, the frequency of the peak should be between 3-7 Hz. Second, we want to exclude windows with significant arm movements. We consider a window to have significant arm movement if `below_tremor_power` exceeds `config.movement_threshold`. The final tremor label is saved in `pred_tremor_checked`. A label for predicted arm at rest (`pred_arm_at_rest`, which is 1 when at rest and 0 when not at rest) was also saved, to control for the amount of arm movement during the observed time period when aggregating the amount of tremor time in Step 4 (if a person is moving their arm, they cannot have rest tremor)."
   ]
  },
  {
   "cell_type": "code",
   "execution_count": null,
   "metadata": {},
   "outputs": [],
   "source": [
    "from paradigma.tremor.tremor_analysis import detect_tremor\n",
    "\n",
    "print(f'A threshold of {config.movement_threshold} deg\\u00b2/s\\u00b2 is used to determine whether the arm is at rest or in stable posture.')\n",
    "\n",
    "# Load the pre-trained logistic regression classifier\n",
    "path_to_assets = Path('../../src/paradigma/assets') \n",
    "tremor_detection_classifier_package_filename = 'tremor_detection_clf_package.pkl'\n",
    "full_path_to_classifier_package = path_to_assets / tremor_detection_classifier_package_filename\n",
    "\n",
    "# Use the logistic regression classifier to detect tremor and check for rest tremor\n",
    "df_predictions = detect_tremor(df_features, config, full_path_to_classifier_package)\n",
    "\n",
    "df_predictions[['time','pred_tremor_proba','pred_tremor_logreg','pred_arm_at_rest','pred_tremor_checked']]"
   ]
  },
  {
   "cell_type": "code",
   "execution_count": null,
   "metadata": {},
   "outputs": [],
   "source": [
    "print('a')"
   ]
  },
  {
   "cell_type": "markdown",
   "metadata": {},
   "source": [
    "## Step 4: Compute aggregated tremor measures"
   ]
  },
  {
   "cell_type": "markdown",
   "metadata": {},
   "source": [
    "The final step is to compute the amount of tremor time and tremor power with the function [aggregate_tremor](https://github.com/biomarkersParkinson/paradigma/blob/main/src/paradigma/tremor/tremor_analysis.py#:~:text=aggregate_tremor), which aggregates over all windows in the input dataframe.\n",
    "Tremor time is calculated as the number of detected tremor windows, as percentage of the number of windows \n",
    "while the arm is at rest or in stable posture (when the low frequency power is below `config.movement_threshold`). This way the tremor time is controlled for the amount of time the arm is at rest or in stable posture, when rest tremor and re-emergent tremor could occur. For tremor power the following aggregates are derived: the mode, median and 90th percentile of tremor power (specified in `config.aggregates_tremor_power`). The median and modal tremor power reflect the typical tremor severity, whereas the 90th percentile reflects the maximal tremor severity within the observed timeframe. The aggregated tremor measures and metadata are stored in a json file."
   ]
  },
  {
   "cell_type": "code",
   "execution_count": null,
   "metadata": {},
   "outputs": [],
   "source": [
    "import pprint\n",
    "from paradigma.tremor.tremor_analysis import aggregate_tremor\n",
    "\n",
    "print(f'Besides the modal tremor power the following tremor power aggregates are derived: {config.aggregates_tremor_power}.')\n",
    "\n",
    "d_tremor_aggregates = aggregate_tremor(df_predictions, config)\n",
    "\n",
    "pprint.pprint(d_tremor_aggregates)"
   ]
  }
 ],
 "metadata": {
  "kernelspec": {
   "display_name": "paradigma-Fn6RLG4_-py3.11",
   "language": "python",
   "name": "python3"
  },
  "language_info": {
   "codemirror_mode": {
    "name": "ipython",
    "version": 3
   },
   "file_extension": ".py",
   "mimetype": "text/x-python",
   "name": "python",
   "nbconvert_exporter": "python",
   "pygments_lexer": "ipython3",
   "version": "3.11.5"
  }
 },
 "nbformat": 4,
 "nbformat_minor": 2
}

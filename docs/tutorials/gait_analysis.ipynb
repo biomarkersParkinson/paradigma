{
 "cells": [
  {
   "cell_type": "markdown",
   "metadata": {},
   "source": [
    "# Gait analysis\n",
    "This tutorial showcases the high-level functions composing the gait pipeline. Before following along, make sure all data preparation steps have been followed in the [data preparation tutorial](data_preparation.ipynb). \n",
    "\n",
    "To run the complete gait pipeline, a prerequisite is to have both accelerometer and gyroscope data, although a small part of the pipeline requires only accelerometer data. Roughly, the pipeline can be split into seven segments:\n",
    "1. Data preprocessing\n",
    "2. Gait feature extraction\n",
    "3. Gait detection\n",
    "4. Arm activity feature extraction\n",
    "5. Filtering gait\n",
    "6. Arm swing quantification\n",
    "7. Aggregation\n",
    "\n",
    "Using only accelerometer data, the first three steps can be completed. "
   ]
  },
  {
   "cell_type": "markdown",
   "metadata": {},
   "source": [
    "[!WARNING] The gait pipeline has been developed on data of the Gait Up Physilog 4, and is currently being validated on the Verily Study Watch. Different sensors and positions on the wrist may affect outcomes."
   ]
  },
  {
   "cell_type": "markdown",
   "metadata": {},
   "source": [
    "Throughout the tutorial, a small segment of data from a participant of the Personalized Parkinson Project is used to demonstrate the functionalities."
   ]
  },
  {
   "cell_type": "markdown",
   "metadata": {},
   "source": [
    "## Load data\n",
    "Load the prepared data into memory. For example, the following functions can be used depending on the file extension of the data:\n",
    "- _.csv_: `pandas.read_csv()` ([documentation](https://pandas.pydata.org/pandas-docs/stable/reference/api/pandas.read_csv.html))\n",
    "- _.json_: `json.load()` ([documentation](https://docs.python.org/3/library/json.html#json.load))\n",
    "\n",
    "We use the interally developed `TSDF` ([documentation](https://biomarkersparkinson.github.io/tsdf/)) to load and store data [[1](https://arxiv.org/abs/2211.11294)]. "
   ]
  },
  {
   "cell_type": "code",
   "execution_count": null,
   "metadata": {},
   "outputs": [],
   "source": [
    "from pathlib import Path\n",
    "from paradigma.util import load_tsdf_dataframe\n",
    "\n",
    "# Set the path to the data file location\n",
    "path_to_prepared_data =  Path('../../tests/data/1.prepared_data/imu')\n",
    "\n",
    "# Load the data from the file\n",
    "df_imu, _, _ = load_tsdf_dataframe(path_to_prepared_data, prefix='IMU')\n",
    "\n",
    "df_imu"
   ]
  },
  {
   "cell_type": "markdown",
   "metadata": {},
   "source": [
    "## Step 1: Preprocess data\n",
    "The single function `preprocess_imu_data` in the cell below runs all necessary preprocessing steps. It requires the loaded dataframe, a configuration object `config` specifying parameters used for preprocessing, and a selection of sensors. For the sensors, options include `'accelerometer'`, `'gyroscope'`, or `'both'`.\n",
    "\n",
    "The function `preprocess_imu_data` processes the data as follows:\n",
    "1. Resample the data to ensure uniformly distributed sampling rate\n",
    "2. Apply filtering to separate the gravity component from the accelerometer"
   ]
  },
  {
   "cell_type": "code",
   "execution_count": null,
   "metadata": {},
   "outputs": [],
   "source": [
    "from paradigma.config import IMUConfig\n",
    "from paradigma.preprocessing import preprocess_imu_data\n",
    "\n",
    "config = IMUConfig()\n",
    "\n",
    "df_preprocessed = preprocess_imu_data(\n",
    "    df=df_imu, \n",
    "    config=config,\n",
    "    sensor='both'\n",
    ")\n",
    "\n",
    "print(f\"The dataset is automatically resampled to {config.sampling_frequency} Hz.\")\n",
    "df_preprocessed"
   ]
  },
  {
   "cell_type": "markdown",
   "metadata": {},
   "source": [
    "The resulting dataframe shown above contains uniformly distributed timestamps with corresponding accelerometer and gyroscope values. Note the for accelerometer values, the following notation is used: \n",
    "- `accelerometer_x`: the accelerometer signal after filtering out the gravitational component\n",
    "- `accelerometer_x_grav`: the gravitational component of the accelerometer signal\n",
    "\n",
    "The accelerometer data is retained and used to compute gravity-related features for the classification tasks, because the gravity is informative of the position of the arm."
   ]
  },
  {
   "cell_type": "markdown",
   "metadata": {},
   "source": [
    "## Step 2: Extract gait features\n",
    "With the data uniformly resampled and the gravitional component separated from the accelerometer signal, features can be extracted from the time series data. This step does not require gyroscope data. To extract the features, the pipeline executes the following steps:\n",
    "- Use overlapping windows to group timestamps;\n",
    "- Extract temporal features;\n",
    "- Use Fast Fourier Transform the transform the windowed data into the spectral domain;\n",
    "- Extract spectral features;\n",
    "- Combine both temporal and spectral features into a final dataframe\n",
    "\n",
    "These steps are encapsulated in `extract_gait_features` (documentation can be found [here](https://github.com/biomarkersParkinson/paradigma/blob/main/src/paradigma/gait/gait_analysis.py))."
   ]
  },
  {
   "cell_type": "code",
   "execution_count": null,
   "metadata": {},
   "outputs": [],
   "source": [
    "from paradigma.config import GaitConfig\n",
    "from paradigma.gait.gait_analysis import extract_gait_features\n",
    "\n",
    "config = GaitConfig(step='gait')\n",
    "\n",
    "df_gait_features = extract_gait_features(\n",
    "    df=df_preprocessed, \n",
    "    config=config\n",
    ")\n",
    "\n",
    "print(f\"A total of {df_gait_features.shape[1]-1} features have been extracted from {config.window_length_s}-second windows with {config.window_length_s-config.window_step_length_s} seconds overlap.\")\n",
    "df_gait_features"
   ]
  },
  {
   "cell_type": "markdown",
   "metadata": {},
   "source": [
    "Each row in this dataframe corresponds to a single window, with the window length and overlap set in the `config` object. Note that the `time` column has a 1-second interval instead of the 10-millisecond interval before, as it now represents the starting time of the window relative to the first data point of the dataframe."
   ]
  },
  {
   "cell_type": "markdown",
   "metadata": {},
   "source": [
    "## Step 3: Gait detection"
   ]
  },
  {
   "cell_type": "markdown",
   "metadata": {},
   "source": [
    "## Step 4: Arm activity feature extraction"
   ]
  },
  {
   "cell_type": "markdown",
   "metadata": {},
   "source": [
    "## Step 5: Filtering gait"
   ]
  },
  {
   "cell_type": "markdown",
   "metadata": {},
   "source": [
    "## Step 6: Arm swing quantification"
   ]
  },
  {
   "cell_type": "markdown",
   "metadata": {},
   "source": [
    "## Step 7: Aggregation"
   ]
  }
 ],
 "metadata": {
  "kernelspec": {
   "display_name": "paradigma-Fn6RLG4_-py3.11",
   "language": "python",
   "name": "python3"
  },
  "language_info": {
   "codemirror_mode": {
    "name": "ipython",
    "version": 3
   },
   "file_extension": ".py",
   "mimetype": "text/x-python",
   "name": "python",
   "nbconvert_exporter": "python",
   "pygments_lexer": "ipython3",
   "version": "3.11.5"
  }
 },
 "nbformat": 4,
 "nbformat_minor": 2
}

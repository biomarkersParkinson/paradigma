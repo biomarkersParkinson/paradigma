{
 "cells": [
  {
   "cell_type": "markdown",
   "metadata": {},
   "source": [
    "# Data Preparation\n",
    "ParaDigMa requires the data to be of a specific format. This tutorial provides examples of how to prepare your input data for analysis."
   ]
  },
  {
   "cell_type": "markdown",
   "metadata": {},
   "source": [
    "## Load data\n",
    "This example uses data of the Personalized Parkinson Project, which is stored in Time Series Data Format (TSDF). IMU and PPG data are sampled at a different sampling frequency and hence stored separately. "
   ]
  },
  {
   "cell_type": "code",
   "execution_count": null,
   "metadata": {},
   "outputs": [],
   "source": [
    "import os\n",
    "from paradigma.util import load_tsdf_dataframe\n",
    "\n",
    "path_to_raw_data = os.path.join('../../tests/data/0.raw_data')\n",
    "path_to_imu_data = os.path.join(path_to_raw_data, 'imu')\n",
    "\n",
    "df_imu, imu_time, imu_values = load_tsdf_dataframe(\n",
    "    path_to_data=path_to_imu_data, \n",
    "    prefix='IMU'\n",
    ")\n",
    "df_imu.head(5)"
   ]
  },
  {
   "cell_type": "code",
   "execution_count": null,
   "metadata": {},
   "outputs": [],
   "source": [
    "import os\n",
    "from paradigma.util import load_tsdf_dataframe\n",
    "\n",
    "path_to_raw_data = os.path.join('../../tests/data/0.raw_data')\n",
    "path_to_ppg_data = os.path.join(path_to_raw_data, 'ppg')\n",
    "\n",
    "df_ppg, ppg_time, ppg_values = load_tsdf_dataframe(\n",
    "    path_to_data=path_to_ppg_data, \n",
    "    prefix='PPG'\n",
    ")\n",
    "df_ppg.head(5)"
   ]
  },
  {
   "cell_type": "markdown",
   "metadata": {},
   "source": [
    "## Prepare dataframe\n",
    "\n",
    "#### Change column names\n",
    "To safeguard robustness of the pipeline, ParaDigMa fixes column names to a predefined standard."
   ]
  },
  {
   "cell_type": "code",
   "execution_count": null,
   "metadata": {},
   "outputs": [],
   "source": [
    "from paradigma.constants import DataColumns\n",
    "\n",
    "accelerometer_columns = [DataColumns.ACCELEROMETER_X, DataColumns.ACCELEROMETER_Y, DataColumns.ACCELEROMETER_Z]\n",
    "gyroscope_columns = [DataColumns.GYROSCOPE_X, DataColumns.GYROSCOPE_Y, DataColumns.GYROSCOPE_Z]\n",
    "\n",
    "# Rename dataframe columns\n",
    "df_imu = df_imu.rename(columns={\n",
    "    'time': DataColumns.TIME,\n",
    "    'acceleration_x': DataColumns.ACCELEROMETER_X,\n",
    "    'acceleration_y': DataColumns.ACCELEROMETER_Y,\n",
    "    'acceleration_z': DataColumns.ACCELEROMETER_Z,\n",
    "    'rotation_x': DataColumns.GYROSCOPE_X,\n",
    "    'rotation_y': DataColumns.GYROSCOPE_Y,\n",
    "    'rotation_z': DataColumns.GYROSCOPE_Z,\n",
    "})\n",
    "\n",
    "# Set columns to a fixed order\n",
    "df_imu = df_imu[[DataColumns.TIME] + accelerometer_columns + gyroscope_columns]\n",
    "df_imu.head(5)"
   ]
  },
  {
   "cell_type": "code",
   "execution_count": null,
   "metadata": {},
   "outputs": [],
   "source": [
    "from paradigma.constants import DataColumns\n",
    "\n",
    "ppg_columns = [DataColumns.PPG]\n",
    "\n",
    "# Rename dataframe columns\n",
    "df_ppg = df_ppg.rename(columns={\n",
    "    'time': DataColumns.TIME,\n",
    "    'ppg': DataColumns.PPG,\n",
    "})\n",
    "\n",
    "# Set columns to a fixed order\n",
    "df_ppg = df_ppg[[DataColumns.TIME] + ppg_columns]\n",
    "df_ppg.head(5)"
   ]
  },
  {
   "cell_type": "markdown",
   "metadata": {},
   "source": [
    "#### Set sensor values to the correct units\n",
    "First, TSDF stores the data efficiently using scaling factors. We should therefore convert the sensor values back to the true values. "
   ]
  },
  {
   "cell_type": "code",
   "execution_count": null,
   "metadata": {},
   "outputs": [],
   "source": [
    "df_imu[accelerometer_columns + gyroscope_columns] *= imu_values.scale_factors\n",
    "df_imu.head(5)"
   ]
  },
  {
   "cell_type": "code",
   "execution_count": null,
   "metadata": {},
   "outputs": [],
   "source": [
    "df_ppg[ppg_columns] *= ppg_values.scale_factors\n",
    "df_ppg.head(5)"
   ]
  },
  {
   "cell_type": "markdown",
   "metadata": {},
   "source": [
    "ParaDigMa expects acceleration to be measured in g, and rotation in deg/s. Units can be converted conveniently using ParaDigMa functionalities."
   ]
  },
  {
   "cell_type": "code",
   "execution_count": null,
   "metadata": {},
   "outputs": [],
   "source": [
    "from paradigma.util import convert_units_accelerometer, convert_units_gyroscope\n",
    "\n",
    "accelerometer_units = 'm/s^2'\n",
    "gyroscope_units = 'deg/s'\n",
    "\n",
    "accelerometer_data = df_imu[accelerometer_columns].values\n",
    "gyroscope_data = df_imu[gyroscope_columns].values\n",
    "\n",
    "df_imu[accelerometer_columns] = convert_units_accelerometer(accelerometer_data, accelerometer_units)\n",
    "df_imu[gyroscope_columns] = convert_units_gyroscope(gyroscope_data, gyroscope_units)\n",
    "df_imu.head(5)"
   ]
  },
  {
   "cell_type": "markdown",
   "metadata": {},
   "source": [
    "#### Account for watch side\n",
    "For the Gait & Arm Swing pipeline, it is essential to ensure correct sensor axes orientation. For more information please read [X]. If the sensors are not correctly aligned, you can use `invert_watch_side` to ensure consistency between sensors worn on the left or right wrist."
   ]
  },
  {
   "cell_type": "code",
   "execution_count": null,
   "metadata": {},
   "outputs": [],
   "source": [
    "from paradigma.util import invert_watch_side\n",
    "\n",
    "watch_side = 'right'\n",
    "\n",
    "df_imu = invert_watch_side(df_imu, watch_side)\n",
    "df_imu.head(5)"
   ]
  },
  {
   "cell_type": "markdown",
   "metadata": {},
   "source": [
    "#### Change time column\n",
    "ParaDigMa expects the data to be in seconds relative to the first row. The toolbox has the built-in function `transform_time_array` to help users transform their time column to the correct format."
   ]
  },
  {
   "cell_type": "code",
   "execution_count": null,
   "metadata": {},
   "outputs": [],
   "source": [
    "from paradigma.constants import TimeUnit\n",
    "from paradigma.util import transform_time_array\n",
    "\n",
    "df_imu[DataColumns.TIME] = transform_time_array(\n",
    "    time_array=df_imu[DataColumns.TIME], \n",
    "    input_unit_type=TimeUnit.DIFFERENCE_MS, \n",
    "    output_unit_type=TimeUnit.RELATIVE_S,\n",
    ")\n",
    "df_imu.head(5)"
   ]
  },
  {
   "cell_type": "code",
   "execution_count": null,
   "metadata": {},
   "outputs": [],
   "source": [
    "from paradigma.constants import TimeUnit\n",
    "from paradigma.util import transform_time_array\n",
    "\n",
    "df_ppg[DataColumns.TIME] = transform_time_array(\n",
    "    time_array=df_ppg[DataColumns.TIME], \n",
    "    input_unit_type=TimeUnit.DIFFERENCE_MS, \n",
    "    output_unit_type=TimeUnit.RELATIVE_S,\n",
    ")\n",
    "df_ppg.head(5)"
   ]
  },
  {
   "cell_type": "markdown",
   "metadata": {},
   "source": [
    "These dataframes are ready to be processed by ParaDigMa."
   ]
  }
 ],
 "metadata": {
  "kernelspec": {
   "display_name": "paradigma-Fn6RLG4_-py3.11",
   "language": "python",
   "name": "python3"
  },
  "language_info": {
   "codemirror_mode": {
    "name": "ipython",
    "version": 3
   },
   "file_extension": ".py",
   "mimetype": "text/x-python",
   "name": "python",
   "nbconvert_exporter": "python",
   "pygments_lexer": "ipython3",
   "version": "3.11.5"
  }
 },
 "nbformat": 4,
 "nbformat_minor": 2
}

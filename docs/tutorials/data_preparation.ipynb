{
 "cells": [
  {
   "cell_type": "markdown",
   "metadata": {},
   "source": [
    "# Data preparation\n",
    "ParaDigMa requires the sensor data to be of a specific format. This tutorial provides examples of how to prepare your input data for subsequent analysis. In the end, the input for ParaDigMa is a dataframe consisting of:\n",
    "* A time column representing the seconds relative to the first row of the dataframe;\n",
    "* One or multiple of the following sensor column categories:\n",
    "  * Triaxial accelerometer (x, y, z) in _g_\n",
    "  * Triaxial gyroscope (x, y, z) in _deg/s_\n",
    "  * Photoplethysmography (PPG) \n",
    "\n",
    "The final dataframe should be resampled to 100 Hz, have the correct units for the sensor columns, and the correct format for the time column. Also note that the _gait_ pipeline expects a specific orientation of sensor axes, as explained in [Coordinate system](../guides/coordinate_system.md)."
   ]
  },
  {
   "cell_type": "markdown",
   "metadata": {},
   "source": [
    "## Load data\n",
    "This example uses data of the [Personalized Parkinson Project](https://pubmed.ncbi.nlm.nih.gov/31315608/), which is stored in Time Series Data Format (TSDF). Inertial Measurements Units (IMU) and photoplethysmography (PPG) data are sampled at a different sampling frequency and therefore stored separately. Note that ParaDigMa works independent of data storage format; it only requires a `pandas` dataframe as input."
   ]
  },
  {
   "cell_type": "code",
   "execution_count": null,
   "metadata": {},
   "outputs": [],
   "source": [
    "from pathlib import Path\n",
    "from paradigma.util import load_tsdf_dataframe\n",
    "\n",
    "path_to_raw_data = Path('../../tests/data/data_preparation_tutorial')\n",
    "path_to_imu_data = path_to_raw_data / 'imu'\n",
    "\n",
    "df_imu, imu_time, imu_values = load_tsdf_dataframe(\n",
    "    path_to_data=path_to_imu_data, \n",
    "    prefix='IMU'\n",
    ")\n",
    "\n",
    "df_imu.head()"
   ]
  },
  {
   "cell_type": "code",
   "execution_count": null,
   "metadata": {},
   "outputs": [],
   "source": [
    "import os\n",
    "from paradigma.util import load_tsdf_dataframe\n",
    "\n",
    "path_to_ppg_data = os.path.join(path_to_raw_data, 'ppg')\n",
    "\n",
    "df_ppg, ppg_time, ppg_values = load_tsdf_dataframe(\n",
    "    path_to_data=path_to_ppg_data, \n",
    "    prefix='PPG'\n",
    ")\n",
    "\n",
    "df_ppg.head()"
   ]
  },
  {
   "cell_type": "markdown",
   "metadata": {},
   "source": [
    "The timestamps in this dataset correspond to delta milliseconds, and the data is not uniformly distributed as can be observed."
   ]
  },
  {
   "cell_type": "markdown",
   "metadata": {},
   "source": [
    "## Prepare dataframe"
   ]
  },
  {
   "cell_type": "markdown",
   "metadata": {},
   "source": [
    "#### Set column names\n",
    "You are free to choose column names, although we recommend using the column names set in ParaDigMa for convenience in subsequent data processing steps. These are accessible through the class `DataColumns`, which can be imported from `paradigma.constants`. For example, we recommend setting `acc_x_colname` to `DataColumns.ACCELEROMETER_X`. Again, this is not strictly necessary for future steps."
   ]
  },
  {
   "cell_type": "code",
   "execution_count": null,
   "metadata": {},
   "outputs": [],
   "source": [
    "time_colname = 'time'  # DataColumns.TIME\n",
    "\n",
    "acc_x_colname = 'accelerometer_x'  # DataColumns.ACCELEROMETER_X\n",
    "acc_y_colname = 'accelerometer_y'  # DataColumns.ACCELEROMETER_Y\n",
    "acc_z_colname = 'accelerometer_z'  # DataColumns.ACCELEROMETER_Z\n",
    "gyr_x_colname = 'gyroscope_x'  # DataColumns.GYROSCOPE_X\n",
    "gyr_y_colname = 'gyroscope_y'  # DataColumns.GYROSCOPE_Y\n",
    "gyr_z_colname = 'gyroscope_z'  # DataColumns.GYROSCOPE_Z\n",
    "\n",
    "ppg_colname = 'green'  # DataColumns.PPG"
   ]
  },
  {
   "cell_type": "markdown",
   "metadata": {},
   "source": [
    "#### Change units\n",
    "ParaDigMa expects acceleration to be measured in g, and rotation in deg/s. Units can be converted conveniently using ParaDigMa functionalities."
   ]
  },
  {
   "cell_type": "code",
   "execution_count": null,
   "metadata": {},
   "outputs": [],
   "source": [
    "from paradigma.util import convert_units_accelerometer, convert_units_gyroscope\n",
    "\n",
    "# Set to units of the sampled data\n",
    "accelerometer_units = 'm/s^2'\n",
    "gyroscope_units = 'deg/s'\n",
    "\n",
    "# State the column names\n",
    "accelerometer_columns = [acc_x_colname, acc_y_colname, acc_z_colname]\n",
    "gyroscope_columns = [gyr_x_colname, gyr_y_colname, gyr_z_colname]\n",
    "\n",
    "accelerometer_data = df_imu[accelerometer_columns].values\n",
    "gyroscope_data = df_imu[gyroscope_columns].values\n",
    "\n",
    "# Convert units to expected format\n",
    "df_imu[accelerometer_columns] = convert_units_accelerometer(accelerometer_data, accelerometer_units)\n",
    "df_imu[gyroscope_columns] = convert_units_gyroscope(gyroscope_data, gyroscope_units)\n",
    "\n",
    "df_imu.head()"
   ]
  },
  {
   "cell_type": "markdown",
   "metadata": {},
   "source": [
    "#### Account for watch side\n",
    "For the Gait & Arm Swing pipeline, it is essential to ensure correct sensor axes orientation. For more information please read [Coordinate System](../guides/coordinate_system.md) and set the axes of the data accordingly."
   ]
  },
  {
   "cell_type": "code",
   "execution_count": null,
   "metadata": {},
   "outputs": [],
   "source": [
    "# Change the orientation of the sensor according to the documented coordinate system. The following\n",
    "# changes are specific to the used sensor and its orientation relative to predefined coordinate system.\n",
    "df_imu[acc_y_colname] *= -1\n",
    "df_imu[acc_z_colname] *= -1\n",
    "df_imu[gyr_y_colname] *= -1\n",
    "df_imu[gyr_z_colname] *= -1\n",
    "\n",
    "df_imu.head()"
   ]
  },
  {
   "cell_type": "markdown",
   "metadata": {},
   "source": [
    "#### Change time column\n",
    "ParaDigMa expects the data to be in seconds relative to the first row, which should be equal to 0. The toolbox has the built-in function `transform_time_array` to help users transform their time column to the correct format if the timestamps have been sampled in delta time between timestamps. In the near future, the functionalities for transforming other types (e.g., datetime format) shall be provided."
   ]
  },
  {
   "cell_type": "code",
   "execution_count": null,
   "metadata": {},
   "outputs": [],
   "source": [
    "from paradigma.constants import TimeUnit\n",
    "from paradigma.util import transform_time_array\n",
    "\n",
    "df_imu[time_colname] = transform_time_array(\n",
    "    time_array=df_imu[time_colname], \n",
    "    input_unit_type=TimeUnit.DIFFERENCE_MS, \n",
    "    output_unit_type=TimeUnit.RELATIVE_S,\n",
    ")\n",
    "\n",
    "df_imu.head()"
   ]
  },
  {
   "cell_type": "code",
   "execution_count": null,
   "metadata": {},
   "outputs": [],
   "source": [
    "from paradigma.constants import TimeUnit\n",
    "from paradigma.util import transform_time_array\n",
    "\n",
    "df_ppg[time_colname] = transform_time_array(\n",
    "    time_array=df_ppg[time_colname], \n",
    "    input_unit_type=TimeUnit.DIFFERENCE_MS, \n",
    "    output_unit_type=TimeUnit.RELATIVE_S,\n",
    ")\n",
    "\n",
    "df_ppg.head()"
   ]
  },
  {
   "cell_type": "markdown",
   "metadata": {},
   "source": [
    "These dataframes are ready to be processed by ParaDigMa."
   ]
  }
 ],
 "metadata": {
  "kernelspec": {
   "display_name": "Python 3",
   "language": "python",
   "name": "paradigma"
  },
  "language_info": {
   "codemirror_mode": {
    "name": "ipython",
    "version": 3
   },
   "file_extension": ".py",
   "mimetype": "text/x-python",
   "name": "python",
   "nbconvert_exporter": "python",
   "pygments_lexer": "ipython3"
  }
 },
 "nbformat": 4,
 "nbformat_minor": 2
}

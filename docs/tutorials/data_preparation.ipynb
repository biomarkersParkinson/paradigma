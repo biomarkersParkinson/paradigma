{
 "cells": [
  {
   "cell_type": "markdown",
   "metadata": {},
   "source": [
    "# Data preparation\n",
    "ParaDigMa requires the sensor data to be of a specific format. This tutorial provides examples of how to prepare your input data for subsequent analysis. In the end, the input for ParaDigMa is a dataframe consisting of:\n",
    "* A column `time`, representing the seconds relative to the first row of the dataframe;\n",
    "* One or multiple of the following sensor column categories:\n",
    "  * Accelerometer: `accelerometer_x`, `accelerometer_y` and `accelerometer_z` in _g_\n",
    "  * Gyroscope: `gyroscope_x`, `gyroscope_y` and `gyroscope_z` in _deg/s_\n",
    "  * PPG: `green` \n",
    "\n",
    "The final dataframe should be resampled to 100 Hz, have the correct units for the sensor columns, and the correct format for the `time` column. Also note that the _gait_ pipeline expects a specific orientation of sensor axes, as explained in [Coordinate system](../guides/coordinate_system.md)."
   ]
  },
  {
   "cell_type": "markdown",
   "metadata": {},
   "source": [
    "## Load data\n",
    "This example uses data of the [Personalized Parkinson Project](https://pubmed.ncbi.nlm.nih.gov/31315608/), which is stored in Time Series Data Format (TSDF). Inertial Measurements Units (IMU) and photoplethysmography (PPG) data are sampled at a different sampling frequency and therefore stored separately. Note that ParaDigMa works independent of data storage format; it only requires a `pandas` dataframe as input."
   ]
  },
  {
   "cell_type": "code",
   "execution_count": null,
   "metadata": {},
   "outputs": [],
   "source": [
    "from pathlib import Path\n",
    "from paradigma.util import load_tsdf_dataframe\n",
    "\n",
    "path_to_raw_data = Path('../../tests/data/data_preparation_tutorial')\n",
    "path_to_imu_data = path_to_raw_data / 'imu'\n",
    "\n",
    "df_imu, imu_time, imu_values = load_tsdf_dataframe(\n",
    "    path_to_data=path_to_imu_data, \n",
    "    prefix='IMU'\n",
    ")\n",
    "\n",
    "df_imu.head()"
   ]
  },
  {
   "cell_type": "code",
   "execution_count": null,
   "metadata": {},
   "outputs": [],
   "source": [
    "import os\n",
    "from paradigma.util import load_tsdf_dataframe\n",
    "\n",
    "path_to_ppg_data = os.path.join(path_to_raw_data, 'ppg')\n",
    "\n",
    "df_ppg, ppg_time, ppg_values = load_tsdf_dataframe(\n",
    "    path_to_data=path_to_ppg_data, \n",
    "    prefix='PPG'\n",
    ")\n",
    "\n",
    "df_ppg.head()"
   ]
  },
  {
   "cell_type": "markdown",
   "metadata": {},
   "source": [
    "The timestamps in this dataset correspond to delta milliseconds, and the data is not uniformly distributed as can be observed."
   ]
  },
  {
   "cell_type": "markdown",
   "metadata": {},
   "source": [
    "## Prepare dataframe\n",
    "\n",
    "#### Change column names\n",
    "To safeguard robustness of the pipeline, ParaDigMa fixes column names to a predefined standard."
   ]
  },
  {
   "cell_type": "code",
   "execution_count": null,
   "metadata": {},
   "outputs": [],
   "source": [
    "from paradigma.constants import DataColumns\n",
    "\n",
    "accelerometer_columns = [DataColumns.ACCELEROMETER_X, DataColumns.ACCELEROMETER_Y, DataColumns.ACCELEROMETER_Z]\n",
    "gyroscope_columns = [DataColumns.GYROSCOPE_X, DataColumns.GYROSCOPE_Y, DataColumns.GYROSCOPE_Z]\n",
    "\n",
    "# Rename dataframe columns\n",
    "df_imu = df_imu.rename(columns={\n",
    "    'time': DataColumns.TIME,\n",
    "    'acceleration_x': DataColumns.ACCELEROMETER_X,\n",
    "    'acceleration_y': DataColumns.ACCELEROMETER_Y,\n",
    "    'acceleration_z': DataColumns.ACCELEROMETER_Z,\n",
    "    'rotation_x': DataColumns.GYROSCOPE_X,\n",
    "    'rotation_y': DataColumns.GYROSCOPE_Y,\n",
    "    'rotation_z': DataColumns.GYROSCOPE_Z,\n",
    "})\n",
    "\n",
    "# Set columns to a fixed order\n",
    "df_imu = df_imu[[DataColumns.TIME] + accelerometer_columns + gyroscope_columns]\n",
    "\n",
    "df_imu.head()"
   ]
  },
  {
   "cell_type": "code",
   "execution_count": null,
   "metadata": {},
   "outputs": [],
   "source": [
    "from paradigma.constants import DataColumns\n",
    "\n",
    "ppg_columns = [DataColumns.PPG]\n",
    "\n",
    "# Rename dataframe columns\n",
    "df_ppg = df_ppg.rename(columns={\n",
    "    'time': DataColumns.TIME,\n",
    "    'ppg': DataColumns.PPG,\n",
    "})\n",
    "\n",
    "# Set columns to a fixed order\n",
    "df_ppg = df_ppg[[DataColumns.TIME] + ppg_columns]\n",
    "\n",
    "df_ppg.head()"
   ]
  },
  {
   "cell_type": "markdown",
   "metadata": {},
   "source": [
    "#### Change units\n",
    "ParaDigMa expects acceleration to be measured in g, and rotation in deg/s. Units can be converted conveniently using ParaDigMa functionalities."
   ]
  },
  {
   "cell_type": "code",
   "execution_count": null,
   "metadata": {},
   "outputs": [],
   "source": [
    "from paradigma.util import convert_units_accelerometer, convert_units_gyroscope\n",
    "\n",
    "accelerometer_units = 'm/s^2'\n",
    "gyroscope_units = 'deg/s'\n",
    "\n",
    "accelerometer_data = df_imu[accelerometer_columns].values\n",
    "gyroscope_data = df_imu[gyroscope_columns].values\n",
    "\n",
    "# Convert units to expected format\n",
    "df_imu[accelerometer_columns] = convert_units_accelerometer(accelerometer_data, accelerometer_units)\n",
    "df_imu[gyroscope_columns] = convert_units_gyroscope(gyroscope_data, gyroscope_units)\n",
    "\n",
    "df_imu.head()"
   ]
  },
  {
   "cell_type": "markdown",
   "metadata": {},
   "source": [
    "#### Account for watch side\n",
    "For the Gait & Arm Swing pipeline, it is essential to ensure correct sensor axes orientation. For more information please read [Coordinate System](../guides/coordinate_system.md) and set the axes of the data accordingly."
   ]
  },
  {
   "cell_type": "code",
   "execution_count": null,
   "metadata": {},
   "outputs": [],
   "source": [
    "# Change the orientation of the sensor according to the documented coordinate system\n",
    "df_imu[DataColumns.ACCELEROMETER_Y] *= -1\n",
    "df_imu[DataColumns.ACCELEROMETER_Z] *= -1\n",
    "df_imu[DataColumns.GYROSCOPE_Y] *= -1\n",
    "df_imu[DataColumns.GYROSCOPE_Z] *= -1\n",
    "\n",
    "df_imu.head()"
   ]
  },
  {
   "cell_type": "markdown",
   "metadata": {},
   "source": [
    "#### Change time column\n",
    "ParaDigMa expects the data to be in seconds relative to the first row, which should be equal to 0. The toolbox has the built-in function `transform_time_array` to help users transform their time column to the correct format if the timestamps have been sampled in delta time between timestamps. In the near future, the functionalities for transforming other types (e.g., datetime format) shall be provided."
   ]
  },
  {
   "cell_type": "code",
   "execution_count": null,
   "metadata": {},
   "outputs": [],
   "source": [
    "from paradigma.constants import TimeUnit\n",
    "from paradigma.util import transform_time_array\n",
    "\n",
    "df_imu[DataColumns.TIME] = transform_time_array(\n",
    "    time_array=df_imu[DataColumns.TIME], \n",
    "    input_unit_type=TimeUnit.DIFFERENCE_MS, \n",
    "    output_unit_type=TimeUnit.RELATIVE_S,\n",
    ")\n",
    "\n",
    "df_imu.head()"
   ]
  },
  {
   "cell_type": "code",
   "execution_count": null,
   "metadata": {},
   "outputs": [],
   "source": [
    "from paradigma.constants import TimeUnit\n",
    "from paradigma.util import transform_time_array\n",
    "\n",
    "df_ppg[DataColumns.TIME] = transform_time_array(\n",
    "    time_array=df_ppg[DataColumns.TIME], \n",
    "    input_unit_type=TimeUnit.DIFFERENCE_MS, \n",
    "    output_unit_type=TimeUnit.RELATIVE_S,\n",
    ")\n",
    "\n",
    "df_ppg.head()"
   ]
  },
  {
   "cell_type": "markdown",
   "metadata": {},
   "source": [
    "These dataframes are ready to be processed by ParaDigMa."
   ]
  }
 ],
 "metadata": {
  "kernelspec": {
   "display_name": "paradigma (Poetry)",
   "language": "python",
   "name": "paradigma"
  },
  "language_info": {
   "codemirror_mode": {
    "name": "ipython",
    "version": 3
   },
   "file_extension": ".py",
   "mimetype": "text/x-python",
   "name": "python",
   "nbconvert_exporter": "python",
   "pygments_lexer": "ipython3",
   "version": "3.13.7"
  }
 },
 "nbformat": 4,
 "nbformat_minor": 2
}

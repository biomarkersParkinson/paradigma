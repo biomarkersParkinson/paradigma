{
 "cells": [
  {
   "cell_type": "markdown",
   "metadata": {},
   "source": [
    "# Detection of other arm activities\n",
    "This notebook shows how to predict the probability of other arm activities during gait using extracted features from windowed accelerometer and gyroscope data as input."
   ]
  },
  {
   "cell_type": "markdown",
   "metadata": {},
   "source": [
    "## Modules"
   ]
  },
  {
   "cell_type": "code",
   "execution_count": 1,
   "metadata": {},
   "outputs": [],
   "source": [
    "import numpy as np\n",
    "import os\n",
    "import pandas as pd\n",
    "import tsdf\n",
    "\n",
    "from dbpd import DataColumns"
   ]
  },
  {
   "cell_type": "markdown",
   "metadata": {},
   "source": [
    "## Constants"
   ]
  },
  {
   "cell_type": "code",
   "execution_count": 2,
   "metadata": {},
   "outputs": [],
   "source": [
    "path_to_data_folder = '../../../tests/data'\n",
    "path_to_classifier_input = os.path.join(path_to_data_folder, '0.classifiers', 'gait')\n",
    "path_to_input_data = os.path.join(path_to_data_folder, '3.extracted_features', 'gait')\n",
    "path_output = os.path.join(path_to_data_folder, '4.predictions', 'gait')\n",
    "\n",
    "classifier_file_name = 'asd_classifier.pkl'\n",
    "\n",
    "meta_filename = 'arm_swing_meta.json'\n",
    "time_filename = 'arm_swing_time.bin'\n",
    "values_filename = 'arm_swing_values.bin'\n",
    "\n",
    "l_accel_cols = [DataColumns.ACCELERATION_X, DataColumns.ACCELERATION_Y, DataColumns.ACCELERATION_Z]\n",
    "l_gyro_cols = [DataColumns.ROTATION_X, DataColumns.ROTATION_Y, DataColumns.ROTATION_Z]"
   ]
  },
  {
   "cell_type": "markdown",
   "metadata": {},
   "source": [
    "## Load data"
   ]
  },
  {
   "cell_type": "markdown",
   "metadata": {},
   "source": [
    "#### Features"
   ]
  },
  {
   "cell_type": "code",
   "execution_count": 3,
   "metadata": {},
   "outputs": [
    {
     "data": {
      "text/html": [
       "<div>\n",
       "<style scoped>\n",
       "    .dataframe tbody tr th:only-of-type {\n",
       "        vertical-align: middle;\n",
       "    }\n",
       "\n",
       "    .dataframe tbody tr th {\n",
       "        vertical-align: top;\n",
       "    }\n",
       "\n",
       "    .dataframe thead th {\n",
       "        text-align: right;\n",
       "    }\n",
       "</style>\n",
       "<table border=\"1\" class=\"dataframe\">\n",
       "  <thead>\n",
       "    <tr style=\"text-align: right;\">\n",
       "      <th></th>\n",
       "      <th>time</th>\n",
       "      <th>angle_perc_power</th>\n",
       "      <th>range_of_motion</th>\n",
       "      <th>forward_peak_ang_vel_mean</th>\n",
       "      <th>forward_peak_ang_vel_std</th>\n",
       "      <th>backward_peak_ang_vel_mean</th>\n",
       "      <th>backward_peak_ang_vel_std</th>\n",
       "      <th>std_norm_acc</th>\n",
       "      <th>grav_acceleration_x_mean</th>\n",
       "      <th>grav_acceleration_x_std</th>\n",
       "      <th>...</th>\n",
       "      <th>cc_7_rotation</th>\n",
       "      <th>cc_8_rotation</th>\n",
       "      <th>cc_9_rotation</th>\n",
       "      <th>cc_10_rotation</th>\n",
       "      <th>cc_11_rotation</th>\n",
       "      <th>cc_12_rotation</th>\n",
       "      <th>cc_13_rotation</th>\n",
       "      <th>cc_14_rotation</th>\n",
       "      <th>cc_15_rotation</th>\n",
       "      <th>cc_16_rotation</th>\n",
       "    </tr>\n",
       "  </thead>\n",
       "  <tbody>\n",
       "    <tr>\n",
       "      <th>0</th>\n",
       "      <td>0.00</td>\n",
       "      <td>0.933953</td>\n",
       "      <td>2.875672</td>\n",
       "      <td>8.193249</td>\n",
       "      <td>3.292503</td>\n",
       "      <td>4.938885</td>\n",
       "      <td>0.0</td>\n",
       "      <td>0.154163</td>\n",
       "      <td>-0.254277</td>\n",
       "      <td>0.201148</td>\n",
       "      <td>...</td>\n",
       "      <td>0.911306</td>\n",
       "      <td>3.910365</td>\n",
       "      <td>2.699518</td>\n",
       "      <td>2.580446</td>\n",
       "      <td>1.602991</td>\n",
       "      <td>0.556265</td>\n",
       "      <td>-1.046647</td>\n",
       "      <td>0.541998</td>\n",
       "      <td>-0.346748</td>\n",
       "      <td>0.365782</td>\n",
       "    </tr>\n",
       "    <tr>\n",
       "      <th>1</th>\n",
       "      <td>0.75</td>\n",
       "      <td>0.992147</td>\n",
       "      <td>4.295439</td>\n",
       "      <td>3.288568</td>\n",
       "      <td>1.612178</td>\n",
       "      <td>4.401343</td>\n",
       "      <td>0.0</td>\n",
       "      <td>0.160148</td>\n",
       "      <td>-0.395660</td>\n",
       "      <td>0.176619</td>\n",
       "      <td>...</td>\n",
       "      <td>2.608440</td>\n",
       "      <td>4.632687</td>\n",
       "      <td>2.083540</td>\n",
       "      <td>2.834911</td>\n",
       "      <td>1.474186</td>\n",
       "      <td>-0.073377</td>\n",
       "      <td>-2.122460</td>\n",
       "      <td>0.373824</td>\n",
       "      <td>1.433426</td>\n",
       "      <td>1.711163</td>\n",
       "    </tr>\n",
       "  </tbody>\n",
       "</table>\n",
       "<p>2 rows × 64 columns</p>\n",
       "</div>"
      ],
      "text/plain": [
       "   time  angle_perc_power  range_of_motion  forward_peak_ang_vel_mean  \\\n",
       "0  0.00          0.933953         2.875672                   8.193249   \n",
       "1  0.75          0.992147         4.295439                   3.288568   \n",
       "\n",
       "   forward_peak_ang_vel_std  backward_peak_ang_vel_mean  \\\n",
       "0                  3.292503                    4.938885   \n",
       "1                  1.612178                    4.401343   \n",
       "\n",
       "   backward_peak_ang_vel_std  std_norm_acc  grav_acceleration_x_mean  \\\n",
       "0                        0.0      0.154163                 -0.254277   \n",
       "1                        0.0      0.160148                 -0.395660   \n",
       "\n",
       "   grav_acceleration_x_std  ...  cc_7_rotation  cc_8_rotation  cc_9_rotation  \\\n",
       "0                 0.201148  ...       0.911306       3.910365       2.699518   \n",
       "1                 0.176619  ...       2.608440       4.632687       2.083540   \n",
       "\n",
       "   cc_10_rotation  cc_11_rotation  cc_12_rotation  cc_13_rotation  \\\n",
       "0        2.580446        1.602991        0.556265       -1.046647   \n",
       "1        2.834911        1.474186       -0.073377       -2.122460   \n",
       "\n",
       "   cc_14_rotation  cc_15_rotation  cc_16_rotation  \n",
       "0        0.541998       -0.346748        0.365782  \n",
       "1        0.373824        1.433426        1.711163  \n",
       "\n",
       "[2 rows x 64 columns]"
      ]
     },
     "execution_count": 3,
     "metadata": {},
     "output_type": "execute_result"
    }
   ],
   "source": [
    "metadata_dict = tsdf.load_metadata_from_path(os.path.join(path_to_input_data, meta_filename))\n",
    "metadata_time = metadata_dict[time_filename]\n",
    "metadata_samples = metadata_dict[values_filename]\n",
    "\n",
    "df = tsdf.load_dataframe_from_binaries([metadata_time, metadata_samples], tsdf.constants.ConcatenationType.columns)\n",
    "\n",
    "df.head(2)"
   ]
  },
  {
   "cell_type": "markdown",
   "metadata": {},
   "source": [
    "#### Classifier"
   ]
  },
  {
   "cell_type": "code",
   "execution_count": 4,
   "metadata": {},
   "outputs": [],
   "source": [
    "clf = pd.read_pickle(os.path.join(path_to_classifier_input, classifier_file_name))"
   ]
  },
  {
   "cell_type": "markdown",
   "metadata": {},
   "source": [
    "## Prepare data"
   ]
  },
  {
   "cell_type": "code",
   "execution_count": 5,
   "metadata": {},
   "outputs": [],
   "source": [
    "clf.feature_names_in_ = [f'{x}_power_below_gait' for x in l_accel_cols] + \\\n",
    "                        [f'{x}_power_gait' for x in l_accel_cols] + \\\n",
    "                        [f'{x}_power_tremor' for x in l_accel_cols] + \\\n",
    "                        [f'{x}_power_above_tremor' for x in l_accel_cols] + \\\n",
    "                        [f'grav_{x}_{y}' for x in l_accel_cols for y in ['mean', 'std']] + \\\n",
    "                        ['std_norm_acc'] + [f'cc_{i}_acceleration' for i in range(1, 17)] + \\\n",
    "                        [f'{x}_dominant_frequency' for x in l_accel_cols] + \\\n",
    "                        [f'cc_{i}_rotation' for i in range(1, 17)] + \\\n",
    "                        [f'{x}_dominant_frequency' for x in l_gyro_cols] + \\\n",
    "                        ['range_of_motion', 'forward_peak_ang_vel_mean',\n",
    "                         'forward_peak_ang_vel_std', 'backward_peak_ang_vel_mean',\n",
    "                         'backward_peak_ang_vel_std', 'angle_perc_power']\n",
    "\n",
    "X = df.loc[:, clf.feature_names_in_]"
   ]
  },
  {
   "cell_type": "markdown",
   "metadata": {},
   "source": [
    "## Predict "
   ]
  },
  {
   "cell_type": "code",
   "execution_count": 6,
   "metadata": {},
   "outputs": [],
   "source": [
    "# df['pred_arm_swing_proba'] = clf.predict_proba(X)[:, 1]\n",
    "df['pred_arm_swing'] = clf.predict(X)"
   ]
  },
  {
   "cell_type": "markdown",
   "metadata": {},
   "source": [
    "## Store predictions"
   ]
  },
  {
   "cell_type": "code",
   "execution_count": 7,
   "metadata": {},
   "outputs": [],
   "source": [
    "metadata_samples.__setattr__('file_name', 'arm_swing_values.bin')\n",
    "metadata_samples.__setattr__('file_dir_path', path_output)\n",
    "metadata_time.__setattr__('file_name', 'arm_swing_time.bin')\n",
    "metadata_time.__setattr__('file_dir_path', path_output)\n",
    "\n",
    "metadata_samples.__setattr__('channels', ['pred_arm_swing'])\n",
    "metadata_samples.__setattr__('units', ['boolean'])\n",
    "metadata_samples.__setattr__('data_type', np.int8)\n",
    "metadata_samples.__setattr__('bits', 8)\n",
    "\n",
    "metadata_time.__setattr__('channels', ['time'])\n",
    "metadata_time.__setattr__('units', ['relative_time_ms'])\n",
    "metadata_time.__setattr__('data_type', np.int32)\n",
    "metadata_time.__setattr__('bits', 32)"
   ]
  },
  {
   "cell_type": "code",
   "execution_count": 8,
   "metadata": {},
   "outputs": [],
   "source": [
    "if not os.path.exists(path_output):\n",
    "    os.makedirs(path_output)\n",
    "\n",
    "# store binaries and metadata\n",
    "tsdf.write_dataframe_to_binaries(path_output, df, [metadata_time, metadata_samples])\n",
    "tsdf.write_metadata([metadata_time, metadata_samples], 'arm_swing_meta.json')"
   ]
  }
 ],
 "metadata": {
  "kernelspec": {
   "display_name": ".venv",
   "language": "python",
   "name": "python3"
  },
  "language_info": {
   "codemirror_mode": {
    "name": "ipython",
    "version": 3
   },
   "file_extension": ".py",
   "mimetype": "text/x-python",
   "name": "python",
   "nbconvert_exporter": "python",
   "pygments_lexer": "ipython3",
   "version": "3.9.12"
  }
 },
 "nbformat": 4,
 "nbformat_minor": 2
}

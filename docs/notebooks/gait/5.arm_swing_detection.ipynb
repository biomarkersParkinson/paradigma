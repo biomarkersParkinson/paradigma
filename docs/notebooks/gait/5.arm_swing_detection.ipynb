{
 "cells": [
  {
   "cell_type": "markdown",
   "metadata": {},
   "source": [
    "# Detection of other arm activities\n",
    "This notebook shows how to predict the probability of other arm activities during gait using extracted features from windowed accelerometer and gyroscope data as input."
   ]
  },
  {
   "cell_type": "markdown",
   "metadata": {},
   "source": [
    "## Modules"
   ]
  },
  {
   "cell_type": "code",
   "execution_count": 1,
   "metadata": {},
   "outputs": [],
   "source": [
    "# Automatically reload modules\n",
    "%load_ext autoreload\n",
    "%autoreload 2\n",
    "\n",
    "import numpy as np\n",
    "import os\n",
    "import pandas as pd\n",
    "import tsdf\n",
    "\n",
    "from dbpd import DataColumns"
   ]
  },
  {
   "cell_type": "markdown",
   "metadata": {},
   "source": [
    "## Constants"
   ]
  },
  {
   "cell_type": "code",
   "execution_count": null,
   "metadata": {
    "tags": [
     "parameters"
    ]
   },
   "outputs": [],
   "source": [
    "# Cell has the tag 'parameters'\n",
    "\n",
    "path_to_data = '../../../tests/data'\n",
    "input_path = os.path.join(path_to_data, '3.extracted_features', 'gait')\n",
    "path_output = os.path.join(path_to_data, '4.predictions', 'gait')"
   ]
  },
  {
   "cell_type": "code",
   "execution_count": 2,
   "metadata": {},
   "outputs": [
    {
     "ename": "AttributeError",
     "evalue": "type object 'DataColumns' has no attribute 'ACCELERATION_X'",
     "output_type": "error",
     "traceback": [
      "\u001b[0;31m---------------------------------------------------------------------------\u001b[0m",
      "\u001b[0;31mAttributeError\u001b[0m                            Traceback (most recent call last)",
      "Cell \u001b[0;32mIn[2], line 14\u001b[0m\n\u001b[1;32m     11\u001b[0m time_filename \u001b[38;5;241m=\u001b[39m \u001b[38;5;124m'\u001b[39m\u001b[38;5;124marm_swing_time.bin\u001b[39m\u001b[38;5;124m'\u001b[39m\n\u001b[1;32m     12\u001b[0m values_filename \u001b[38;5;241m=\u001b[39m \u001b[38;5;124m'\u001b[39m\u001b[38;5;124marm_swing_values.bin\u001b[39m\u001b[38;5;124m'\u001b[39m\n\u001b[0;32m---> 14\u001b[0m l_accel_cols \u001b[38;5;241m=\u001b[39m [\u001b[43mDataColumns\u001b[49m\u001b[38;5;241;43m.\u001b[39;49m\u001b[43mACCELERATION_X\u001b[49m, DataColumns\u001b[38;5;241m.\u001b[39mACCELERATION_Y, DataColumns\u001b[38;5;241m.\u001b[39mACCELERATION_Z]\n\u001b[1;32m     15\u001b[0m l_gyro_cols \u001b[38;5;241m=\u001b[39m [DataColumns\u001b[38;5;241m.\u001b[39mROTATION_X, DataColumns\u001b[38;5;241m.\u001b[39mROTATION_Y, DataColumns\u001b[38;5;241m.\u001b[39mROTATION_Z]\n",
      "\u001b[0;31mAttributeError\u001b[0m: type object 'DataColumns' has no attribute 'ACCELERATION_X'"
     ]
    }
   ],
   "source": [
    "# paths and files\n",
    "path_to_classifier_input = os.path.join(path_to_data, '0.classifiers', 'gait')\n",
    "\n",
    "classifier_file_name = 'asd_classifier.pkl'\n",
    "\n",
    "meta_filename = 'arm_swing_meta.json'\n",
    "time_filename = 'arm_swing_time.bin'\n",
    "values_filename = 'arm_swing_values.bin'\n",
    "\n",
    "l_accel_cols = [DataColumns.ACCELERATION_X, DataColumns.ACCELERATION_Y, DataColumns.ACCELERATION_Z]\n",
    "l_gyro_cols = [DataColumns.ROTATION_X, DataColumns.ROTATION_Y, DataColumns.ROTATION_Z]"
   ]
  },
  {
   "cell_type": "markdown",
   "metadata": {},
   "source": [
    "## Load data"
   ]
  },
  {
   "cell_type": "markdown",
   "metadata": {},
   "source": [
    "#### Features"
   ]
  },
  {
   "cell_type": "code",
   "execution_count": null,
   "metadata": {},
   "outputs": [
    {
     "data": {
      "text/html": [
       "<div>\n",
       "<style scoped>\n",
       "    .dataframe tbody tr th:only-of-type {\n",
       "        vertical-align: middle;\n",
       "    }\n",
       "\n",
       "    .dataframe tbody tr th {\n",
       "        vertical-align: top;\n",
       "    }\n",
       "\n",
       "    .dataframe thead th {\n",
       "        text-align: right;\n",
       "    }\n",
       "</style>\n",
       "<table border=\"1\" class=\"dataframe\">\n",
       "  <thead>\n",
       "    <tr style=\"text-align: right;\">\n",
       "      <th></th>\n",
       "      <th>time</th>\n",
       "      <th>angle_perc_power</th>\n",
       "      <th>range_of_motion</th>\n",
       "      <th>forward_peak_ang_vel_mean</th>\n",
       "      <th>forward_peak_ang_vel_std</th>\n",
       "      <th>backward_peak_ang_vel_mean</th>\n",
       "      <th>backward_peak_ang_vel_std</th>\n",
       "      <th>std_norm_acc</th>\n",
       "      <th>grav_accelerometer_x_mean</th>\n",
       "      <th>grav_accelerometer_x_std</th>\n",
       "      <th>...</th>\n",
       "      <th>cc_7_gyroscope</th>\n",
       "      <th>cc_8_gyroscope</th>\n",
       "      <th>cc_9_gyroscope</th>\n",
       "      <th>cc_10_gyroscope</th>\n",
       "      <th>cc_11_gyroscope</th>\n",
       "      <th>cc_12_gyroscope</th>\n",
       "      <th>cc_13_gyroscope</th>\n",
       "      <th>cc_14_gyroscope</th>\n",
       "      <th>cc_15_gyroscope</th>\n",
       "      <th>cc_16_gyroscope</th>\n",
       "    </tr>\n",
       "  </thead>\n",
       "  <tbody>\n",
       "    <tr>\n",
       "      <th>0</th>\n",
       "      <td>0.00</td>\n",
       "      <td>0.933953</td>\n",
       "      <td>2.875672</td>\n",
       "      <td>8.193249</td>\n",
       "      <td>3.292503</td>\n",
       "      <td>4.938885</td>\n",
       "      <td>0.0</td>\n",
       "      <td>0.154163</td>\n",
       "      <td>-0.254277</td>\n",
       "      <td>0.201148</td>\n",
       "      <td>...</td>\n",
       "      <td>0.911306</td>\n",
       "      <td>3.910365</td>\n",
       "      <td>2.699518</td>\n",
       "      <td>2.580446</td>\n",
       "      <td>1.602991</td>\n",
       "      <td>0.556265</td>\n",
       "      <td>-1.046647</td>\n",
       "      <td>0.541998</td>\n",
       "      <td>-0.346748</td>\n",
       "      <td>0.365782</td>\n",
       "    </tr>\n",
       "    <tr>\n",
       "      <th>1</th>\n",
       "      <td>0.75</td>\n",
       "      <td>0.992147</td>\n",
       "      <td>4.295439</td>\n",
       "      <td>3.288568</td>\n",
       "      <td>1.612178</td>\n",
       "      <td>4.401343</td>\n",
       "      <td>0.0</td>\n",
       "      <td>0.160148</td>\n",
       "      <td>-0.395660</td>\n",
       "      <td>0.176619</td>\n",
       "      <td>...</td>\n",
       "      <td>2.608440</td>\n",
       "      <td>4.632687</td>\n",
       "      <td>2.083540</td>\n",
       "      <td>2.834911</td>\n",
       "      <td>1.474186</td>\n",
       "      <td>-0.073377</td>\n",
       "      <td>-2.122460</td>\n",
       "      <td>0.373824</td>\n",
       "      <td>1.433426</td>\n",
       "      <td>1.711163</td>\n",
       "    </tr>\n",
       "  </tbody>\n",
       "</table>\n",
       "<p>2 rows × 64 columns</p>\n",
       "</div>"
      ],
      "text/plain": [
       "   time  angle_perc_power  range_of_motion  forward_peak_ang_vel_mean  \\\n",
       "0  0.00          0.933953         2.875672                   8.193249   \n",
       "1  0.75          0.992147         4.295439                   3.288568   \n",
       "\n",
       "   forward_peak_ang_vel_std  backward_peak_ang_vel_mean  \\\n",
       "0                  3.292503                    4.938885   \n",
       "1                  1.612178                    4.401343   \n",
       "\n",
       "   backward_peak_ang_vel_std  std_norm_acc  grav_accelerometer_x_mean  \\\n",
       "0                        0.0      0.154163                  -0.254277   \n",
       "1                        0.0      0.160148                  -0.395660   \n",
       "\n",
       "   grav_accelerometer_x_std  ...  cc_7_gyroscope  cc_8_gyroscope  \\\n",
       "0                  0.201148  ...        0.911306        3.910365   \n",
       "1                  0.176619  ...        2.608440        4.632687   \n",
       "\n",
       "   cc_9_gyroscope  cc_10_gyroscope  cc_11_gyroscope  cc_12_gyroscope  \\\n",
       "0        2.699518         2.580446         1.602991         0.556265   \n",
       "1        2.083540         2.834911         1.474186        -0.073377   \n",
       "\n",
       "   cc_13_gyroscope  cc_14_gyroscope  cc_15_gyroscope  cc_16_gyroscope  \n",
       "0        -1.046647         0.541998        -0.346748         0.365782  \n",
       "1        -2.122460         0.373824         1.433426         1.711163  \n",
       "\n",
       "[2 rows x 64 columns]"
      ]
     },
     "execution_count": 11,
     "metadata": {},
     "output_type": "execute_result"
    }
   ],
   "source": [
    "metadata_dict = tsdf.load_metadata_from_path(os.path.join(input_path, meta_filename))\n",
    "metadata_time = metadata_dict[time_filename]\n",
    "metadata_samples = metadata_dict[values_filename]\n",
    "\n",
    "df = tsdf.load_dataframe_from_binaries([metadata_time, metadata_samples], tsdf.constants.ConcatenationType.columns)\n",
    "\n",
    "df.head(2)"
   ]
  },
  {
   "cell_type": "markdown",
   "metadata": {},
   "source": [
    "#### Classifier"
   ]
  },
  {
   "cell_type": "code",
   "execution_count": null,
   "metadata": {},
   "outputs": [],
   "source": [
    "clf = pd.read_pickle(os.path.join(path_to_classifier_input, classifier_file_name))"
   ]
  },
  {
   "cell_type": "markdown",
   "metadata": {},
   "source": [
    "## Prepare data"
   ]
  },
  {
   "cell_type": "code",
   "execution_count": null,
   "metadata": {},
   "outputs": [
    {
     "ename": "KeyError",
     "evalue": "\"['acceleration_x_power_below_gait', 'acceleration_y_power_below_gait', 'acceleration_z_power_below_gait', 'acceleration_x_power_gait', 'acceleration_y_power_gait', 'acceleration_z_power_gait', 'acceleration_x_power_tremor', 'acceleration_y_power_tremor', 'acceleration_z_power_tremor', 'acceleration_x_power_above_tremor', 'acceleration_y_power_above_tremor', 'acceleration_z_power_above_tremor', 'grav_acceleration_x_mean', 'grav_acceleration_x_std', 'grav_acceleration_y_mean', 'grav_acceleration_y_std', 'grav_acceleration_z_mean', 'grav_acceleration_z_std', 'cc_1_acceleration', 'cc_2_acceleration', 'cc_3_acceleration', 'cc_4_acceleration', 'cc_5_acceleration', 'cc_6_acceleration', 'cc_7_acceleration', 'cc_8_acceleration', 'cc_9_acceleration', 'cc_10_acceleration', 'cc_11_acceleration', 'cc_12_acceleration', 'cc_13_acceleration', 'cc_14_acceleration', 'cc_15_acceleration', 'cc_16_acceleration', 'acceleration_x_dominant_frequency', 'acceleration_y_dominant_frequency', 'acceleration_z_dominant_frequency', 'cc_1_rotation', 'cc_2_rotation', 'cc_3_rotation', 'cc_4_rotation', 'cc_5_rotation', 'cc_6_rotation', 'cc_7_rotation', 'cc_8_rotation', 'cc_9_rotation', 'cc_10_rotation', 'cc_11_rotation', 'cc_12_rotation', 'cc_13_rotation', 'cc_14_rotation', 'cc_15_rotation', 'cc_16_rotation', 'rotation_x_dominant_frequency', 'rotation_y_dominant_frequency', 'rotation_z_dominant_frequency'] not in index\"",
     "output_type": "error",
     "traceback": [
      "\u001b[0;31m---------------------------------------------------------------------------\u001b[0m",
      "\u001b[0;31mKeyError\u001b[0m                                  Traceback (most recent call last)",
      "Cell \u001b[0;32mIn[13], line 14\u001b[0m\n\u001b[1;32m      1\u001b[0m clf\u001b[38;5;241m.\u001b[39mfeature_names_in_ \u001b[38;5;241m=\u001b[39m [\u001b[38;5;124mf\u001b[39m\u001b[38;5;124m'\u001b[39m\u001b[38;5;132;01m{\u001b[39;00mx\u001b[38;5;132;01m}\u001b[39;00m\u001b[38;5;124m_power_below_gait\u001b[39m\u001b[38;5;124m'\u001b[39m \u001b[38;5;28;01mfor\u001b[39;00m x \u001b[38;5;129;01min\u001b[39;00m l_accel_cols] \u001b[38;5;241m+\u001b[39m \\\n\u001b[1;32m      2\u001b[0m                         [\u001b[38;5;124mf\u001b[39m\u001b[38;5;124m'\u001b[39m\u001b[38;5;132;01m{\u001b[39;00mx\u001b[38;5;132;01m}\u001b[39;00m\u001b[38;5;124m_power_gait\u001b[39m\u001b[38;5;124m'\u001b[39m \u001b[38;5;28;01mfor\u001b[39;00m x \u001b[38;5;129;01min\u001b[39;00m l_accel_cols] \u001b[38;5;241m+\u001b[39m \\\n\u001b[1;32m      3\u001b[0m                         [\u001b[38;5;124mf\u001b[39m\u001b[38;5;124m'\u001b[39m\u001b[38;5;132;01m{\u001b[39;00mx\u001b[38;5;132;01m}\u001b[39;00m\u001b[38;5;124m_power_tremor\u001b[39m\u001b[38;5;124m'\u001b[39m \u001b[38;5;28;01mfor\u001b[39;00m x \u001b[38;5;129;01min\u001b[39;00m l_accel_cols] \u001b[38;5;241m+\u001b[39m \\\n\u001b[0;32m   (...)\u001b[0m\n\u001b[1;32m     11\u001b[0m                          \u001b[38;5;124m'\u001b[39m\u001b[38;5;124mforward_peak_ang_vel_std\u001b[39m\u001b[38;5;124m'\u001b[39m, \u001b[38;5;124m'\u001b[39m\u001b[38;5;124mbackward_peak_ang_vel_mean\u001b[39m\u001b[38;5;124m'\u001b[39m,\n\u001b[1;32m     12\u001b[0m                          \u001b[38;5;124m'\u001b[39m\u001b[38;5;124mbackward_peak_ang_vel_std\u001b[39m\u001b[38;5;124m'\u001b[39m, \u001b[38;5;124m'\u001b[39m\u001b[38;5;124mangle_perc_power\u001b[39m\u001b[38;5;124m'\u001b[39m]\n\u001b[0;32m---> 14\u001b[0m X \u001b[38;5;241m=\u001b[39m \u001b[43mdf\u001b[49m\u001b[38;5;241;43m.\u001b[39;49m\u001b[43mloc\u001b[49m\u001b[43m[\u001b[49m\u001b[43m:\u001b[49m\u001b[43m,\u001b[49m\u001b[43m \u001b[49m\u001b[43mclf\u001b[49m\u001b[38;5;241;43m.\u001b[39;49m\u001b[43mfeature_names_in_\u001b[49m\u001b[43m]\u001b[49m\n",
      "File \u001b[0;32m~/git/biomarkers_repo/dbpd-toolbox/.venv/lib/python3.11/site-packages/pandas/core/indexing.py:1184\u001b[0m, in \u001b[0;36m_LocationIndexer.__getitem__\u001b[0;34m(self, key)\u001b[0m\n\u001b[1;32m   1182\u001b[0m     \u001b[38;5;28;01mif\u001b[39;00m \u001b[38;5;28mself\u001b[39m\u001b[38;5;241m.\u001b[39m_is_scalar_access(key):\n\u001b[1;32m   1183\u001b[0m         \u001b[38;5;28;01mreturn\u001b[39;00m \u001b[38;5;28mself\u001b[39m\u001b[38;5;241m.\u001b[39mobj\u001b[38;5;241m.\u001b[39m_get_value(\u001b[38;5;241m*\u001b[39mkey, takeable\u001b[38;5;241m=\u001b[39m\u001b[38;5;28mself\u001b[39m\u001b[38;5;241m.\u001b[39m_takeable)\n\u001b[0;32m-> 1184\u001b[0m     \u001b[38;5;28;01mreturn\u001b[39;00m \u001b[38;5;28;43mself\u001b[39;49m\u001b[38;5;241;43m.\u001b[39;49m\u001b[43m_getitem_tuple\u001b[49m\u001b[43m(\u001b[49m\u001b[43mkey\u001b[49m\u001b[43m)\u001b[49m\n\u001b[1;32m   1185\u001b[0m \u001b[38;5;28;01melse\u001b[39;00m:\n\u001b[1;32m   1186\u001b[0m     \u001b[38;5;66;03m# we by definition only have the 0th axis\u001b[39;00m\n\u001b[1;32m   1187\u001b[0m     axis \u001b[38;5;241m=\u001b[39m \u001b[38;5;28mself\u001b[39m\u001b[38;5;241m.\u001b[39maxis \u001b[38;5;129;01mor\u001b[39;00m \u001b[38;5;241m0\u001b[39m\n",
      "File \u001b[0;32m~/git/biomarkers_repo/dbpd-toolbox/.venv/lib/python3.11/site-packages/pandas/core/indexing.py:1377\u001b[0m, in \u001b[0;36m_LocIndexer._getitem_tuple\u001b[0;34m(self, tup)\u001b[0m\n\u001b[1;32m   1374\u001b[0m \u001b[38;5;28;01mif\u001b[39;00m \u001b[38;5;28mself\u001b[39m\u001b[38;5;241m.\u001b[39m_multi_take_opportunity(tup):\n\u001b[1;32m   1375\u001b[0m     \u001b[38;5;28;01mreturn\u001b[39;00m \u001b[38;5;28mself\u001b[39m\u001b[38;5;241m.\u001b[39m_multi_take(tup)\n\u001b[0;32m-> 1377\u001b[0m \u001b[38;5;28;01mreturn\u001b[39;00m \u001b[38;5;28;43mself\u001b[39;49m\u001b[38;5;241;43m.\u001b[39;49m\u001b[43m_getitem_tuple_same_dim\u001b[49m\u001b[43m(\u001b[49m\u001b[43mtup\u001b[49m\u001b[43m)\u001b[49m\n",
      "File \u001b[0;32m~/git/biomarkers_repo/dbpd-toolbox/.venv/lib/python3.11/site-packages/pandas/core/indexing.py:1020\u001b[0m, in \u001b[0;36m_LocationIndexer._getitem_tuple_same_dim\u001b[0;34m(self, tup)\u001b[0m\n\u001b[1;32m   1017\u001b[0m \u001b[38;5;28;01mif\u001b[39;00m com\u001b[38;5;241m.\u001b[39mis_null_slice(key):\n\u001b[1;32m   1018\u001b[0m     \u001b[38;5;28;01mcontinue\u001b[39;00m\n\u001b[0;32m-> 1020\u001b[0m retval \u001b[38;5;241m=\u001b[39m \u001b[38;5;28;43mgetattr\u001b[39;49m\u001b[43m(\u001b[49m\u001b[43mretval\u001b[49m\u001b[43m,\u001b[49m\u001b[43m \u001b[49m\u001b[38;5;28;43mself\u001b[39;49m\u001b[38;5;241;43m.\u001b[39;49m\u001b[43mname\u001b[49m\u001b[43m)\u001b[49m\u001b[38;5;241;43m.\u001b[39;49m\u001b[43m_getitem_axis\u001b[49m\u001b[43m(\u001b[49m\u001b[43mkey\u001b[49m\u001b[43m,\u001b[49m\u001b[43m \u001b[49m\u001b[43maxis\u001b[49m\u001b[38;5;241;43m=\u001b[39;49m\u001b[43mi\u001b[49m\u001b[43m)\u001b[49m\n\u001b[1;32m   1021\u001b[0m \u001b[38;5;66;03m# We should never have retval.ndim < self.ndim, as that should\u001b[39;00m\n\u001b[1;32m   1022\u001b[0m \u001b[38;5;66;03m#  be handled by the _getitem_lowerdim call above.\u001b[39;00m\n\u001b[1;32m   1023\u001b[0m \u001b[38;5;28;01massert\u001b[39;00m retval\u001b[38;5;241m.\u001b[39mndim \u001b[38;5;241m==\u001b[39m \u001b[38;5;28mself\u001b[39m\u001b[38;5;241m.\u001b[39mndim\n",
      "File \u001b[0;32m~/git/biomarkers_repo/dbpd-toolbox/.venv/lib/python3.11/site-packages/pandas/core/indexing.py:1420\u001b[0m, in \u001b[0;36m_LocIndexer._getitem_axis\u001b[0;34m(self, key, axis)\u001b[0m\n\u001b[1;32m   1417\u001b[0m     \u001b[38;5;28;01mif\u001b[39;00m \u001b[38;5;28mhasattr\u001b[39m(key, \u001b[38;5;124m\"\u001b[39m\u001b[38;5;124mndim\u001b[39m\u001b[38;5;124m\"\u001b[39m) \u001b[38;5;129;01mand\u001b[39;00m key\u001b[38;5;241m.\u001b[39mndim \u001b[38;5;241m>\u001b[39m \u001b[38;5;241m1\u001b[39m:\n\u001b[1;32m   1418\u001b[0m         \u001b[38;5;28;01mraise\u001b[39;00m \u001b[38;5;167;01mValueError\u001b[39;00m(\u001b[38;5;124m\"\u001b[39m\u001b[38;5;124mCannot index with multidimensional key\u001b[39m\u001b[38;5;124m\"\u001b[39m)\n\u001b[0;32m-> 1420\u001b[0m     \u001b[38;5;28;01mreturn\u001b[39;00m \u001b[38;5;28;43mself\u001b[39;49m\u001b[38;5;241;43m.\u001b[39;49m\u001b[43m_getitem_iterable\u001b[49m\u001b[43m(\u001b[49m\u001b[43mkey\u001b[49m\u001b[43m,\u001b[49m\u001b[43m \u001b[49m\u001b[43maxis\u001b[49m\u001b[38;5;241;43m=\u001b[39;49m\u001b[43maxis\u001b[49m\u001b[43m)\u001b[49m\n\u001b[1;32m   1422\u001b[0m \u001b[38;5;66;03m# nested tuple slicing\u001b[39;00m\n\u001b[1;32m   1423\u001b[0m \u001b[38;5;28;01mif\u001b[39;00m is_nested_tuple(key, labels):\n",
      "File \u001b[0;32m~/git/biomarkers_repo/dbpd-toolbox/.venv/lib/python3.11/site-packages/pandas/core/indexing.py:1360\u001b[0m, in \u001b[0;36m_LocIndexer._getitem_iterable\u001b[0;34m(self, key, axis)\u001b[0m\n\u001b[1;32m   1357\u001b[0m \u001b[38;5;28mself\u001b[39m\u001b[38;5;241m.\u001b[39m_validate_key(key, axis)\n\u001b[1;32m   1359\u001b[0m \u001b[38;5;66;03m# A collection of keys\u001b[39;00m\n\u001b[0;32m-> 1360\u001b[0m keyarr, indexer \u001b[38;5;241m=\u001b[39m \u001b[38;5;28;43mself\u001b[39;49m\u001b[38;5;241;43m.\u001b[39;49m\u001b[43m_get_listlike_indexer\u001b[49m\u001b[43m(\u001b[49m\u001b[43mkey\u001b[49m\u001b[43m,\u001b[49m\u001b[43m \u001b[49m\u001b[43maxis\u001b[49m\u001b[43m)\u001b[49m\n\u001b[1;32m   1361\u001b[0m \u001b[38;5;28;01mreturn\u001b[39;00m \u001b[38;5;28mself\u001b[39m\u001b[38;5;241m.\u001b[39mobj\u001b[38;5;241m.\u001b[39m_reindex_with_indexers(\n\u001b[1;32m   1362\u001b[0m     {axis: [keyarr, indexer]}, copy\u001b[38;5;241m=\u001b[39m\u001b[38;5;28;01mTrue\u001b[39;00m, allow_dups\u001b[38;5;241m=\u001b[39m\u001b[38;5;28;01mTrue\u001b[39;00m\n\u001b[1;32m   1363\u001b[0m )\n",
      "File \u001b[0;32m~/git/biomarkers_repo/dbpd-toolbox/.venv/lib/python3.11/site-packages/pandas/core/indexing.py:1558\u001b[0m, in \u001b[0;36m_LocIndexer._get_listlike_indexer\u001b[0;34m(self, key, axis)\u001b[0m\n\u001b[1;32m   1555\u001b[0m ax \u001b[38;5;241m=\u001b[39m \u001b[38;5;28mself\u001b[39m\u001b[38;5;241m.\u001b[39mobj\u001b[38;5;241m.\u001b[39m_get_axis(axis)\n\u001b[1;32m   1556\u001b[0m axis_name \u001b[38;5;241m=\u001b[39m \u001b[38;5;28mself\u001b[39m\u001b[38;5;241m.\u001b[39mobj\u001b[38;5;241m.\u001b[39m_get_axis_name(axis)\n\u001b[0;32m-> 1558\u001b[0m keyarr, indexer \u001b[38;5;241m=\u001b[39m \u001b[43max\u001b[49m\u001b[38;5;241;43m.\u001b[39;49m\u001b[43m_get_indexer_strict\u001b[49m\u001b[43m(\u001b[49m\u001b[43mkey\u001b[49m\u001b[43m,\u001b[49m\u001b[43m \u001b[49m\u001b[43maxis_name\u001b[49m\u001b[43m)\u001b[49m\n\u001b[1;32m   1560\u001b[0m \u001b[38;5;28;01mreturn\u001b[39;00m keyarr, indexer\n",
      "File \u001b[0;32m~/git/biomarkers_repo/dbpd-toolbox/.venv/lib/python3.11/site-packages/pandas/core/indexes/base.py:6200\u001b[0m, in \u001b[0;36mIndex._get_indexer_strict\u001b[0;34m(self, key, axis_name)\u001b[0m\n\u001b[1;32m   6197\u001b[0m \u001b[38;5;28;01melse\u001b[39;00m:\n\u001b[1;32m   6198\u001b[0m     keyarr, indexer, new_indexer \u001b[38;5;241m=\u001b[39m \u001b[38;5;28mself\u001b[39m\u001b[38;5;241m.\u001b[39m_reindex_non_unique(keyarr)\n\u001b[0;32m-> 6200\u001b[0m \u001b[38;5;28;43mself\u001b[39;49m\u001b[38;5;241;43m.\u001b[39;49m\u001b[43m_raise_if_missing\u001b[49m\u001b[43m(\u001b[49m\u001b[43mkeyarr\u001b[49m\u001b[43m,\u001b[49m\u001b[43m \u001b[49m\u001b[43mindexer\u001b[49m\u001b[43m,\u001b[49m\u001b[43m \u001b[49m\u001b[43maxis_name\u001b[49m\u001b[43m)\u001b[49m\n\u001b[1;32m   6202\u001b[0m keyarr \u001b[38;5;241m=\u001b[39m \u001b[38;5;28mself\u001b[39m\u001b[38;5;241m.\u001b[39mtake(indexer)\n\u001b[1;32m   6203\u001b[0m \u001b[38;5;28;01mif\u001b[39;00m \u001b[38;5;28misinstance\u001b[39m(key, Index):\n\u001b[1;32m   6204\u001b[0m     \u001b[38;5;66;03m# GH 42790 - Preserve name from an Index\u001b[39;00m\n",
      "File \u001b[0;32m~/git/biomarkers_repo/dbpd-toolbox/.venv/lib/python3.11/site-packages/pandas/core/indexes/base.py:6252\u001b[0m, in \u001b[0;36mIndex._raise_if_missing\u001b[0;34m(self, key, indexer, axis_name)\u001b[0m\n\u001b[1;32m   6249\u001b[0m     \u001b[38;5;28;01mraise\u001b[39;00m \u001b[38;5;167;01mKeyError\u001b[39;00m(\u001b[38;5;124mf\u001b[39m\u001b[38;5;124m\"\u001b[39m\u001b[38;5;124mNone of [\u001b[39m\u001b[38;5;132;01m{\u001b[39;00mkey\u001b[38;5;132;01m}\u001b[39;00m\u001b[38;5;124m] are in the [\u001b[39m\u001b[38;5;132;01m{\u001b[39;00maxis_name\u001b[38;5;132;01m}\u001b[39;00m\u001b[38;5;124m]\u001b[39m\u001b[38;5;124m\"\u001b[39m)\n\u001b[1;32m   6251\u001b[0m not_found \u001b[38;5;241m=\u001b[39m \u001b[38;5;28mlist\u001b[39m(ensure_index(key)[missing_mask\u001b[38;5;241m.\u001b[39mnonzero()[\u001b[38;5;241m0\u001b[39m]]\u001b[38;5;241m.\u001b[39munique())\n\u001b[0;32m-> 6252\u001b[0m \u001b[38;5;28;01mraise\u001b[39;00m \u001b[38;5;167;01mKeyError\u001b[39;00m(\u001b[38;5;124mf\u001b[39m\u001b[38;5;124m\"\u001b[39m\u001b[38;5;132;01m{\u001b[39;00mnot_found\u001b[38;5;132;01m}\u001b[39;00m\u001b[38;5;124m not in index\u001b[39m\u001b[38;5;124m\"\u001b[39m)\n",
      "\u001b[0;31mKeyError\u001b[0m: \"['acceleration_x_power_below_gait', 'acceleration_y_power_below_gait', 'acceleration_z_power_below_gait', 'acceleration_x_power_gait', 'acceleration_y_power_gait', 'acceleration_z_power_gait', 'acceleration_x_power_tremor', 'acceleration_y_power_tremor', 'acceleration_z_power_tremor', 'acceleration_x_power_above_tremor', 'acceleration_y_power_above_tremor', 'acceleration_z_power_above_tremor', 'grav_acceleration_x_mean', 'grav_acceleration_x_std', 'grav_acceleration_y_mean', 'grav_acceleration_y_std', 'grav_acceleration_z_mean', 'grav_acceleration_z_std', 'cc_1_acceleration', 'cc_2_acceleration', 'cc_3_acceleration', 'cc_4_acceleration', 'cc_5_acceleration', 'cc_6_acceleration', 'cc_7_acceleration', 'cc_8_acceleration', 'cc_9_acceleration', 'cc_10_acceleration', 'cc_11_acceleration', 'cc_12_acceleration', 'cc_13_acceleration', 'cc_14_acceleration', 'cc_15_acceleration', 'cc_16_acceleration', 'acceleration_x_dominant_frequency', 'acceleration_y_dominant_frequency', 'acceleration_z_dominant_frequency', 'cc_1_rotation', 'cc_2_rotation', 'cc_3_rotation', 'cc_4_rotation', 'cc_5_rotation', 'cc_6_rotation', 'cc_7_rotation', 'cc_8_rotation', 'cc_9_rotation', 'cc_10_rotation', 'cc_11_rotation', 'cc_12_rotation', 'cc_13_rotation', 'cc_14_rotation', 'cc_15_rotation', 'cc_16_rotation', 'rotation_x_dominant_frequency', 'rotation_y_dominant_frequency', 'rotation_z_dominant_frequency'] not in index\""
     ]
    }
   ],
   "source": [
    "clf.feature_names_in_ = [f'{x}_power_below_gait' for x in l_accel_cols] + \\\n",
    "                        [f'{x}_power_gait' for x in l_accel_cols] + \\\n",
    "                        [f'{x}_power_tremor' for x in l_accel_cols] + \\\n",
    "                        [f'{x}_power_above_tremor' for x in l_accel_cols] + \\\n",
    "                        [f'grav_{x}_{y}' for x in l_accel_cols for y in ['mean', 'std']] + \\\n",
    "                        ['std_norm_acc'] + [f'cc_{i}_acceleration' for i in range(1, 17)] + \\\n",
    "                        [f'{x}_dominant_frequency' for x in l_accel_cols] + \\\n",
    "                        [f'cc_{i}_rotation' for i in range(1, 17)] + \\\n",
    "                        [f'{x}_dominant_frequency' for x in l_gyro_cols] + \\\n",
    "                        ['range_of_motion', 'forward_peak_ang_vel_mean',\n",
    "                         'forward_peak_ang_vel_std', 'backward_peak_ang_vel_mean',\n",
    "                         'backward_peak_ang_vel_std', 'angle_perc_power']\n",
    "\n",
    "X = df.loc[:, clf.feature_names_in_]"
   ]
  },
  {
   "cell_type": "markdown",
   "metadata": {},
   "source": [
    "## Predict "
   ]
  },
  {
   "cell_type": "code",
   "execution_count": null,
   "metadata": {},
   "outputs": [],
   "source": [
    "# df['pred_arm_swing_proba'] = clf.predict_proba(X)[:, 1]\n",
    "df['pred_arm_swing'] = clf.predict(X)"
   ]
  },
  {
   "cell_type": "markdown",
   "metadata": {},
   "source": [
    "## Store predictions"
   ]
  },
  {
   "cell_type": "code",
   "execution_count": null,
   "metadata": {},
   "outputs": [],
   "source": [
    "metadata_samples.__setattr__('file_name', 'arm_swing_values.bin')\n",
    "metadata_samples.__setattr__('file_dir_path', path_output)\n",
    "metadata_time.__setattr__('file_name', 'arm_swing_time.bin')\n",
    "metadata_time.__setattr__('file_dir_path', path_output)\n",
    "\n",
    "metadata_samples.__setattr__('channels', ['pred_arm_swing'])\n",
    "metadata_samples.__setattr__('units', ['boolean'])\n",
    "metadata_samples.__setattr__('data_type', np.int8)\n",
    "metadata_samples.__setattr__('bits', 8)\n",
    "\n",
    "metadata_time.__setattr__('channels', ['time'])\n",
    "metadata_time.__setattr__('units', ['relative_time_ms'])\n",
    "metadata_time.__setattr__('data_type', np.int32)\n",
    "metadata_time.__setattr__('bits', 32)"
   ]
  },
  {
   "cell_type": "code",
   "execution_count": null,
   "metadata": {},
   "outputs": [],
   "source": [
    "if not os.path.exists(path_output):\n",
    "    os.makedirs(path_output)\n",
    "\n",
    "# store binaries and metadata\n",
    "tsdf.write_dataframe_to_binaries(path_output, df, [metadata_time, metadata_samples])\n",
    "tsdf.write_metadata([metadata_time, metadata_samples], 'arm_swing_meta.json')"
   ]
  }
 ],
 "metadata": {
  "kernelspec": {
   "display_name": ".venv",
   "language": "python",
   "name": "python3"
  },
  "language_info": {
   "codemirror_mode": {
    "name": "ipython",
    "version": 3
   },
   "file_extension": ".py",
   "mimetype": "text/x-python",
   "name": "python",
   "nbconvert_exporter": "python",
   "pygments_lexer": "ipython3",
   "version": "3.11.2"
  }
 },
 "nbformat": 4,
 "nbformat_minor": 2
}

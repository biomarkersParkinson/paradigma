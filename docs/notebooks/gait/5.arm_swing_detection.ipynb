{
 "cells": [
  {
   "cell_type": "markdown",
   "metadata": {},
   "source": [
    "# Detection of other arm activities\n",
    "This notebook shows how to predict the probability of other arm activities during gait using extracted features from windowed accelerometer and gyroscope data as input."
   ]
  },
  {
   "cell_type": "markdown",
   "metadata": {},
   "source": [
    "## Modules"
   ]
  },
  {
   "cell_type": "code",
   "execution_count": 16,
   "metadata": {},
   "outputs": [],
   "source": [
    "import numpy as np\n",
    "import os\n",
    "import pandas as pd\n",
    "import tsdf\n",
    "\n",
    "from dbpd import DataColumns"
   ]
  },
  {
   "cell_type": "markdown",
   "metadata": {},
   "source": [
    "## Constants"
   ]
  },
  {
   "cell_type": "code",
   "execution_count": 17,
   "metadata": {},
   "outputs": [],
   "source": [
    "path_to_data_folder = '../../../tests/data'\n",
    "path_to_classifier_input = os.path.join(path_to_data_folder, '0.classifiers')\n",
    "path_to_input_data = os.path.join(path_to_data_folder, '3.extracted_features')\n",
    "path_output = os.path.join(path_to_data_folder, '4.predictions')\n",
    "\n",
    "classifier_file_name = 'asd_classifier.pkl'\n",
    "\n",
    "meta_filename = 'arm_swing_meta.json'\n",
    "time_filename = 'arm_swing_time.bin'\n",
    "values_filename = 'arm_swing_values.bin'\n",
    "\n",
    "l_accel_cols = [DataColumns.ACCELERATION_X, DataColumns.ACCELERATION_Y, DataColumns.ACCELERATION_Z]\n",
    "l_gyro_cols = [DataColumns.ROTATION_X, DataColumns.ROTATION_Y, DataColumns.ROTATION_Z]"
   ]
  },
  {
   "cell_type": "markdown",
   "metadata": {},
   "source": [
    "## Load data"
   ]
  },
  {
   "cell_type": "markdown",
   "metadata": {},
   "source": [
    "#### Features"
   ]
  },
  {
   "cell_type": "code",
   "execution_count": 18,
   "metadata": {},
   "outputs": [
    {
     "data": {
      "text/html": [
       "<div>\n",
       "<style scoped>\n",
       "    .dataframe tbody tr th:only-of-type {\n",
       "        vertical-align: middle;\n",
       "    }\n",
       "\n",
       "    .dataframe tbody tr th {\n",
       "        vertical-align: top;\n",
       "    }\n",
       "\n",
       "    .dataframe thead th {\n",
       "        text-align: right;\n",
       "    }\n",
       "</style>\n",
       "<table border=\"1\" class=\"dataframe\">\n",
       "  <thead>\n",
       "    <tr style=\"text-align: right;\">\n",
       "      <th></th>\n",
       "      <th>time</th>\n",
       "      <th>angle_perc_power</th>\n",
       "      <th>range_of_motion</th>\n",
       "      <th>forward_peak_ang_vel_mean</th>\n",
       "      <th>forward_peak_ang_vel_std</th>\n",
       "      <th>backward_peak_ang_vel_mean</th>\n",
       "      <th>backward_peak_ang_vel_std</th>\n",
       "      <th>std_norm_acc</th>\n",
       "      <th>grav_acceleration_x_mean</th>\n",
       "      <th>grav_acceleration_x_std</th>\n",
       "      <th>...</th>\n",
       "      <th>cc_7_rotation</th>\n",
       "      <th>cc_8_rotation</th>\n",
       "      <th>cc_9_rotation</th>\n",
       "      <th>cc_10_rotation</th>\n",
       "      <th>cc_11_rotation</th>\n",
       "      <th>cc_12_rotation</th>\n",
       "      <th>cc_13_rotation</th>\n",
       "      <th>cc_14_rotation</th>\n",
       "      <th>cc_15_rotation</th>\n",
       "      <th>cc_16_rotation</th>\n",
       "    </tr>\n",
       "  </thead>\n",
       "  <tbody>\n",
       "    <tr>\n",
       "      <th>0</th>\n",
       "      <td>0.00</td>\n",
       "      <td>0.937852</td>\n",
       "      <td>2.875672</td>\n",
       "      <td>8.193249</td>\n",
       "      <td>3.292503</td>\n",
       "      <td>4.938885</td>\n",
       "      <td>0.0</td>\n",
       "      <td>0.154038</td>\n",
       "      <td>-0.255275</td>\n",
       "      <td>0.201556</td>\n",
       "      <td>...</td>\n",
       "      <td>0.914803</td>\n",
       "      <td>3.981584</td>\n",
       "      <td>2.594423</td>\n",
       "      <td>2.683692</td>\n",
       "      <td>1.498986</td>\n",
       "      <td>0.654959</td>\n",
       "      <td>-1.101154</td>\n",
       "      <td>0.551201</td>\n",
       "      <td>-0.356018</td>\n",
       "      <td>0.606395</td>\n",
       "    </tr>\n",
       "    <tr>\n",
       "      <th>1</th>\n",
       "      <td>0.75</td>\n",
       "      <td>0.992215</td>\n",
       "      <td>4.295439</td>\n",
       "      <td>3.288568</td>\n",
       "      <td>1.612178</td>\n",
       "      <td>4.401343</td>\n",
       "      <td>0.0</td>\n",
       "      <td>0.160067</td>\n",
       "      <td>-0.396332</td>\n",
       "      <td>0.176710</td>\n",
       "      <td>...</td>\n",
       "      <td>2.565799</td>\n",
       "      <td>4.660158</td>\n",
       "      <td>1.949670</td>\n",
       "      <td>2.904717</td>\n",
       "      <td>1.364006</td>\n",
       "      <td>-0.064123</td>\n",
       "      <td>-2.094619</td>\n",
       "      <td>0.494000</td>\n",
       "      <td>1.354037</td>\n",
       "      <td>1.760634</td>\n",
       "    </tr>\n",
       "  </tbody>\n",
       "</table>\n",
       "<p>2 rows × 64 columns</p>\n",
       "</div>"
      ],
      "text/plain": [
       "   time  angle_perc_power  range_of_motion  forward_peak_ang_vel_mean  \\\n",
       "0  0.00          0.937852         2.875672                   8.193249   \n",
       "1  0.75          0.992215         4.295439                   3.288568   \n",
       "\n",
       "   forward_peak_ang_vel_std  backward_peak_ang_vel_mean  \\\n",
       "0                  3.292503                    4.938885   \n",
       "1                  1.612178                    4.401343   \n",
       "\n",
       "   backward_peak_ang_vel_std  std_norm_acc  grav_acceleration_x_mean  \\\n",
       "0                        0.0      0.154038                 -0.255275   \n",
       "1                        0.0      0.160067                 -0.396332   \n",
       "\n",
       "   grav_acceleration_x_std  ...  cc_7_rotation  cc_8_rotation  cc_9_rotation  \\\n",
       "0                 0.201556  ...       0.914803       3.981584       2.594423   \n",
       "1                 0.176710  ...       2.565799       4.660158       1.949670   \n",
       "\n",
       "   cc_10_rotation  cc_11_rotation  cc_12_rotation  cc_13_rotation  \\\n",
       "0        2.683692        1.498986        0.654959       -1.101154   \n",
       "1        2.904717        1.364006       -0.064123       -2.094619   \n",
       "\n",
       "   cc_14_rotation  cc_15_rotation  cc_16_rotation  \n",
       "0        0.551201       -0.356018        0.606395  \n",
       "1        0.494000        1.354037        1.760634  \n",
       "\n",
       "[2 rows x 64 columns]"
      ]
     },
     "execution_count": 18,
     "metadata": {},
     "output_type": "execute_result"
    }
   ],
   "source": [
    "metadata_dict = tsdf.load_metadata_from_path(os.path.join(path_to_input_data, meta_filename))\n",
    "metadata_time = metadata_dict[time_filename]\n",
    "metadata_samples = metadata_dict[values_filename]\n",
    "\n",
    "df = tsdf.load_dataframe_from_binaries([metadata_time, metadata_samples], tsdf.constants.ConcatenationType.columns)\n",
    "\n",
    "df.head(2)"
   ]
  },
  {
   "cell_type": "markdown",
   "metadata": {},
   "source": [
    "#### Classifier"
   ]
  },
  {
   "cell_type": "code",
   "execution_count": 19,
   "metadata": {},
   "outputs": [],
   "source": [
    "clf = pd.read_pickle(os.path.join(path_to_classifier_input, classifier_file_name))"
   ]
  },
  {
   "cell_type": "markdown",
   "metadata": {},
   "source": [
    "## Prepare data"
   ]
  },
  {
   "cell_type": "code",
   "execution_count": 20,
   "metadata": {},
   "outputs": [],
   "source": [
    "clf.feature_names_in_ = [f'{x}_power_below_gait' for x in l_accel_cols] + \\\n",
    "                        [f'{x}_power_gait' for x in l_accel_cols] + \\\n",
    "                        [f'{x}_power_tremor' for x in l_accel_cols] + \\\n",
    "                        [f'{x}_power_above_tremor' for x in l_accel_cols] + \\\n",
    "                        [f'grav_{x}_{y}' for x in l_accel_cols for y in ['mean', 'std']] + \\\n",
    "                        ['std_norm_acc'] + [f'cc_{i}_acceleration' for i in range(1, 17)] + \\\n",
    "                        [f'{x}_dominant_frequency' for x in l_accel_cols] + \\\n",
    "                        [f'cc_{i}_rotation' for i in range(1, 17)] + \\\n",
    "                        [f'{x}_dominant_frequency' for x in l_gyro_cols] + \\\n",
    "                        ['range_of_motion', 'forward_peak_ang_vel_mean',\n",
    "                         'forward_peak_ang_vel_std', 'backward_peak_ang_vel_mean',\n",
    "                         'backward_peak_ang_vel_std', 'angle_perc_power']\n",
    "\n",
    "X = df.loc[:, clf.feature_names_in_]"
   ]
  },
  {
   "cell_type": "markdown",
   "metadata": {},
   "source": [
    "## Predict "
   ]
  },
  {
   "cell_type": "code",
   "execution_count": 21,
   "metadata": {},
   "outputs": [],
   "source": [
    "df['pred_arm_swing_proba'] = clf.predict_proba(X)[:, 1]\n",
    "df['pred_arm_swing'] = clf.predict(X)"
   ]
  },
  {
   "cell_type": "markdown",
   "metadata": {},
   "source": [
    "## Store predictions"
   ]
  },
  {
   "cell_type": "code",
   "execution_count": 22,
   "metadata": {},
   "outputs": [],
   "source": [
    "metadata_samples.__setattr__('file_name', 'arm_swing_values.bin')\n",
    "metadata_samples.__setattr__('file_dir_path', path_output)\n",
    "metadata_time.__setattr__('file_name', 'arm_swing_time.bin')\n",
    "metadata_time.__setattr__('file_dir_path', path_output)\n",
    "\n",
    "metadata_samples.__setattr__('channels', ['pred_arm_swing_proba'])\n",
    "metadata_samples.__setattr__('units', ['probability'])\n",
    "\n",
    "metadata_time.__setattr__('channels', ['time'])\n",
    "metadata_time.__setattr__('units', ['s'])\n",
    "metadata_time.__setattr__('data_type', np.int64)"
   ]
  },
  {
   "cell_type": "code",
   "execution_count": 23,
   "metadata": {},
   "outputs": [],
   "source": [
    "if not os.path.exists(path_output):\n",
    "    os.makedirs(path_output)\n",
    "\n",
    "# store binaries and metadata\n",
    "tsdf.write_dataframe_to_binaries(path_output, df, [metadata_time, metadata_samples])\n",
    "tsdf.write_metadata([metadata_time, metadata_samples], 'arm_swing_meta.json')"
   ]
  }
 ],
 "metadata": {
  "kernelspec": {
   "display_name": ".venv",
   "language": "python",
   "name": "python3"
  },
  "language_info": {
   "codemirror_mode": {
    "name": "ipython",
    "version": 3
   },
   "file_extension": ".py",
   "mimetype": "text/x-python",
   "name": "python",
   "nbconvert_exporter": "python",
   "pygments_lexer": "ipython3",
   "version": "3.9.12"
  }
 },
 "nbformat": 4,
 "nbformat_minor": 2
}

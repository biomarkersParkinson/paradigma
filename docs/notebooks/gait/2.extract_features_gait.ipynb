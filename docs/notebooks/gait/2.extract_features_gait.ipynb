{
 "cells": [
  {
   "cell_type": "markdown",
   "metadata": {},
   "source": [
    "# Extracting gait features\n",
    "Here we use the preprocessed accelerometer data as input, create time windows and extract relevant features for the subsequent task of gait detection. "
   ]
  },
  {
   "cell_type": "markdown",
   "metadata": {},
   "source": [
    "## Modules"
   ]
  },
  {
   "cell_type": "code",
   "execution_count": 1,
   "metadata": {},
   "outputs": [],
   "source": [
    "# Automatically reload modules\n",
    "%load_ext autoreload\n",
    "%autoreload 2\n",
    "\n",
    "import numpy as np\n",
    "import os\n",
    "import pandas as pd\n",
    "import tsdf\n",
    "\n",
    "from dbpd.feature_extraction import *\n",
    "from dbpd.windowing import *\n",
    "from dbpd.gait_analysis_config import *\n",
    "from dbpd import DataColumns"
   ]
  },
  {
   "cell_type": "markdown",
   "metadata": {},
   "source": [
    "## Constants"
   ]
  },
  {
   "cell_type": "code",
   "execution_count": 2,
   "metadata": {
    "tags": [
     "parameters"
    ]
   },
   "outputs": [],
   "source": [
    "# Cell has the tag 'parameters'\n",
    "path_to_data =  '../../../tests/data'\n",
    "\n",
    "input_path = os.path.join(path_to_data, '2.preprocessed_data', 'gait')\n",
    "output_path = os.path.join(path_to_data, '3.extracted_features', 'gait')"
   ]
  },
  {
   "cell_type": "code",
   "execution_count": 3,
   "metadata": {},
   "outputs": [],
   "source": [
    "config = GaitFeatureExtractionConfig()"
   ]
  },
  {
   "cell_type": "markdown",
   "metadata": {},
   "source": [
    "## Load data"
   ]
  },
  {
   "cell_type": "code",
   "execution_count": 4,
   "metadata": {},
   "outputs": [
    {
     "data": {
      "text/html": [
       "<div>\n",
       "<style scoped>\n",
       "    .dataframe tbody tr th:only-of-type {\n",
       "        vertical-align: middle;\n",
       "    }\n",
       "\n",
       "    .dataframe tbody tr th {\n",
       "        vertical-align: top;\n",
       "    }\n",
       "\n",
       "    .dataframe thead th {\n",
       "        text-align: right;\n",
       "    }\n",
       "</style>\n",
       "<table border=\"1\" class=\"dataframe\">\n",
       "  <thead>\n",
       "    <tr style=\"text-align: right;\">\n",
       "      <th></th>\n",
       "      <th>time</th>\n",
       "      <th>accelerometer_x</th>\n",
       "      <th>grav_accelerometer_x</th>\n",
       "      <th>accelerometer_y</th>\n",
       "      <th>grav_accelerometer_y</th>\n",
       "      <th>accelerometer_z</th>\n",
       "      <th>grav_accelerometer_z</th>\n",
       "    </tr>\n",
       "  </thead>\n",
       "  <tbody>\n",
       "    <tr>\n",
       "      <th>0</th>\n",
       "      <td>0.00</td>\n",
       "      <td>-0.537320</td>\n",
       "      <td>-4.240030e-09</td>\n",
       "      <td>0.560195</td>\n",
       "      <td>4.420535e-09</td>\n",
       "      <td>0.267026</td>\n",
       "      <td>2.107122e-09</td>\n",
       "    </tr>\n",
       "    <tr>\n",
       "      <th>1</th>\n",
       "      <td>0.01</td>\n",
       "      <td>-0.496498</td>\n",
       "      <td>-3.783814e-08</td>\n",
       "      <td>0.580556</td>\n",
       "      <td>3.994549e-08</td>\n",
       "      <td>0.235247</td>\n",
       "      <td>1.871333e-08</td>\n",
       "    </tr>\n",
       "  </tbody>\n",
       "</table>\n",
       "</div>"
      ],
      "text/plain": [
       "   time  accelerometer_x  grav_accelerometer_x  accelerometer_y  \\\n",
       "0  0.00        -0.537320         -4.240030e-09         0.560195   \n",
       "1  0.01        -0.496498         -3.783814e-08         0.580556   \n",
       "\n",
       "   grav_accelerometer_y  accelerometer_z  grav_accelerometer_z  \n",
       "0          4.420535e-09         0.267026          2.107122e-09  \n",
       "1          3.994549e-08         0.235247          1.871333e-08  "
      ]
     },
     "execution_count": 4,
     "metadata": {},
     "output_type": "execute_result"
    }
   ],
   "source": [
    "metadata_dict = tsdf.load_metadata_from_path(os.path.join(input_path, config.meta_filename))\n",
    "metadata_time = metadata_dict[config.time_filename]\n",
    "metadata_samples = metadata_dict[config.values_filename]\n",
    "\n",
    "df = tsdf.load_dataframe_from_binaries([metadata_time, metadata_samples], tsdf.constants.ConcatenationType.columns)\n",
    "\n",
    "df.head(2)"
   ]
  },
  {
   "cell_type": "markdown",
   "metadata": {},
   "source": [
    "## Preprocess data"
   ]
  },
  {
   "cell_type": "code",
   "execution_count": 5,
   "metadata": {},
   "outputs": [
    {
     "name": "stdout",
     "output_type": "stream",
     "text": [
      "(725, 9)\n"
     ]
    }
   ],
   "source": [
    "df_windowed = tabulate_windows(\n",
    "    df=df,\n",
    "    time_column_name='time',\n",
    "    data_point_level_cols=config.l_data_point_level_cols,\n",
    "    window_length_s=config.window_length_s,\n",
    "    window_step_size_s=config.window_step_size_s,\n",
    "    sampling_frequency=config.sampling_frequency\n",
    "    )\n",
    "\n",
    "print(df_windowed.shape)"
   ]
  },
  {
   "cell_type": "code",
   "execution_count": 6,
   "metadata": {},
   "outputs": [],
   "source": [
    "# extract mean and std of gravity acceleration\n",
    "for col in config.l_gravity_cols:\n",
    "    for stat in ['mean', 'std']:\n",
    "        df_windowed[f'{col}_{stat}'] = generate_statistics(\n",
    "            sensor_col=df_windowed[col],\n",
    "            statistic=stat\n",
    "            )"
   ]
  },
  {
   "cell_type": "code",
   "execution_count": 7,
   "metadata": {},
   "outputs": [],
   "source": [
    "# extract standard deviation of the Euclidean norm of the three axes\n",
    "df_windowed['std_norm_acc'] = generate_std_norm(\n",
    "    df=df_windowed,\n",
    "    cols=config.l_accelerometer_cols\n",
    "    )"
   ]
  },
  {
   "cell_type": "code",
   "execution_count": 8,
   "metadata": {},
   "outputs": [],
   "source": [
    "for col in config.l_accelerometer_cols:\n",
    "\n",
    "    # fast fourier transforms\n",
    "    df_windowed[f'{col}_freqs'], df_windowed[f'{col}_fft'] = signal_to_ffts(\n",
    "        sensor_col=df_windowed[col],\n",
    "        window_type=config.window_type,\n",
    "        sampling_frequency=config.sampling_frequency\n",
    "        )\n",
    "\n",
    "    # compute power in distinct frequency bandwidths\n",
    "    for bandwidth in config.d_frequency_bandwidths.keys():\n",
    "        df_windowed[col+'_'+bandwidth] = df_windowed.apply(lambda x: compute_power_in_bandwidth(\n",
    "            sensor_col=x[col],\n",
    "            fmin=config.d_frequency_bandwidths[bandwidth][0],\n",
    "            fmax=config.d_frequency_bandwidths[bandwidth][1],\n",
    "            sampling_frequency=config.sampling_frequency,\n",
    "            window_type=config.window_type,\n",
    "            ), axis=1\n",
    "        )\n",
    "\n",
    "    # extract dominant frequency\n",
    "    df_windowed[col+'_dominant_frequency'] = df_windowed.apply(lambda x: get_dominant_frequency(\n",
    "        signal_ffts=x[col+'_fft'], \n",
    "        signal_freqs=x[col+'_freqs'],\n",
    "        fmin=config.d_frequency_bandwidths[bandwidth][0],\n",
    "        fmax=config.d_frequency_bandwidths[bandwidth][1]\n",
    "        ), axis=1\n",
    "    )"
   ]
  },
  {
   "cell_type": "code",
   "execution_count": 9,
   "metadata": {},
   "outputs": [],
   "source": [
    "for bandwidth in config.d_frequency_bandwidths.keys():\n",
    "    df_windowed['total_acc_'+bandwidth] = df_windowed.apply(lambda x: sum(x[y+'_'+bandwidth] for y in config.l_accelerometer_cols), axis=1)\n",
    "\n",
    "df_windowed['total_accel_power'] = compute_power(\n",
    "    df=df_windowed,\n",
    "    fft_cols=[f'{col}_fft' for col in config.l_accelerometer_cols])\n",
    "\n",
    "cc_cols = generate_cepstral_coefficients(\n",
    "    total_power_col=df_windowed['total_accel_power'],\n",
    "    window_length_s=config.window_length_s,\n",
    "    sampling_frequency=config.sampling_frequency,\n",
    "    low_frequency=config.low_frequency,\n",
    "    high_frequency=config.high_frequency,\n",
    "    filter_length=config.filter_length,\n",
    "    n_dct_filters=config.n_dct_filters\n",
    "    )\n",
    "\n",
    "df_windowed = pd.concat([df_windowed, cc_cols], axis=1)      "
   ]
  },
  {
   "cell_type": "code",
   "execution_count": 10,
   "metadata": {},
   "outputs": [],
   "source": [
    "df_windowed = df_windowed.rename(columns={f'cc_{cc_nr}': f'cc_{cc_nr}_acc' for cc_nr in range(1,17)}).rename(columns={'window_start': 'time'})\n",
    "\n",
    "df_windowed = df_windowed.drop(columns=[f'{col}{x}' for x in ['', '_freqs', '_fft', '_fft_power'] for col in config.l_accelerometer_cols] + ['total_accel_power', 'window_nr', 'window_end'] + config.l_gravity_cols + config.l_accelerometer_cols)"
   ]
  },
  {
   "cell_type": "markdown",
   "metadata": {},
   "source": [
    "## Store data"
   ]
  },
  {
   "cell_type": "code",
   "execution_count": 11,
   "metadata": {},
   "outputs": [],
   "source": [
    "from dateutil import parser\n",
    "import datetime\n",
    "\n",
    "end_iso8601 = (parser.parse(metadata_samples.start_iso8601) + datetime.timedelta(seconds=int(df_windowed['time'][-1:].values[0] + config.window_length_s))).strftime('%d-%b-%Y %H:%M:%S') + ' UTC'\n",
    "\n",
    "metadata_samples.__setattr__('end_iso8601', end_iso8601)\n",
    "metadata_samples.__setattr__('file_name', 'gait_values.bin')\n",
    "metadata_samples.__setattr__('file_dir_path', output_path)\n",
    "metadata_time.__setattr__('end_iso8601', end_iso8601)\n",
    "metadata_time.__setattr__('file_name', 'gait_time.bin')\n",
    "metadata_time.__setattr__('file_dir_path', output_path)\n",
    "\n",
    "metadata_samples.__setattr__('channels', list(config.d_channels_values.keys()))\n",
    "metadata_samples.__setattr__('units', list(config.d_channels_values.values()))\n",
    "\n",
    "metadata_time.__setattr__('channels', ['time'])\n",
    "metadata_time.__setattr__('units', ['relative_time_ms'])\n",
    "metadata_time.__setattr__('data_type', np.int64)"
   ]
  },
  {
   "cell_type": "code",
   "execution_count": 12,
   "metadata": {},
   "outputs": [],
   "source": [
    "if not os.path.exists(output_path):\n",
    "    os.makedirs(output_path)\n",
    "\n",
    "# store binaries and metadata\n",
    "tsdf.write_dataframe_to_binaries(output_path, df_windowed, [metadata_time, metadata_samples])\n",
    "tsdf.write_metadata([metadata_time, metadata_samples], 'gait_meta.json')"
   ]
  }
 ],
 "metadata": {
  "kernelspec": {
   "display_name": "gait",
   "language": "python",
   "name": "python3"
  },
  "language_info": {
   "codemirror_mode": {
    "name": "ipython",
    "version": 3
   },
   "file_extension": ".py",
   "mimetype": "text/x-python",
   "name": "python",
   "nbconvert_exporter": "python",
   "pygments_lexer": "ipython3",
   "version": "3.9.13"
  }
 },
 "nbformat": 4,
 "nbformat_minor": 2
}

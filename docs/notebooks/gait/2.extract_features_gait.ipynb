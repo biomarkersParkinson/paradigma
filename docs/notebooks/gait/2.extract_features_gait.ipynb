{
 "cells": [
  {
   "cell_type": "markdown",
   "metadata": {},
   "source": [
    "# Extracting gait features\n",
    "Here we use the preprocessed accelerometer data as input, create time windows and extract relevant features for the subsequent task of gait detection. "
   ]
  },
  {
   "cell_type": "markdown",
   "metadata": {},
   "source": [
    "## Modules"
   ]
  },
  {
   "cell_type": "code",
   "execution_count": 1,
   "metadata": {},
   "outputs": [],
   "source": [
    "# Automatically reload modules\n",
    "%load_ext autoreload\n",
    "%autoreload 2\n",
    "\n",
    "import numpy as np\n",
    "import os\n",
    "import pandas as pd\n",
    "import tsdf\n",
    "\n",
    "from dbpd.feature_extraction import *\n",
    "from dbpd.windowing import *\n",
    "from dbpd import DataColumns"
   ]
  },
  {
   "cell_type": "markdown",
   "metadata": {},
   "source": [
    "## Constants"
   ]
  },
  {
   "cell_type": "code",
   "execution_count": 2,
   "metadata": {
    "tags": [
     "parameters"
    ]
   },
   "outputs": [],
   "source": [
    "# Cell has the tag 'parameters'\n",
    "path_to_data =  '../../../tests/data'\n",
    "\n",
    "input_path = os.path.join(path_to_data, '2.preprocessed_data', 'gait')\n",
    "output_path = os.path.join(path_to_data, '3.extracted_features', 'gait')"
   ]
  },
  {
   "cell_type": "code",
   "execution_count": 3,
   "metadata": {},
   "outputs": [],
   "source": [
    "# tsdf files\n",
    "sensor = 'accelerometer'\n",
    "\n",
    "meta_filename = f'{sensor}_meta.json'\n",
    "values_filename = f'{sensor}_samples.bin'\n",
    "time_filename = f'{sensor}_time.bin'\n",
    "\n",
    "# windowing and feature engineering\n",
    "window_type = 'hann'\n",
    "verbose = 0\n",
    "\n",
    "sampling_frequency = 100 # Hz\n",
    "window_length_s = 6\n",
    "window_step_size_s = 1\n",
    "\n",
    "# cepstral coefficients\n",
    "low_frequency = 0 # Hz\n",
    "high_frequency = int(sampling_frequency / 2) # Hz\n",
    "filter_length = high_frequency - 1 # here we assume a 1 Hz gait common frequency with equally-spaced harmonics\n",
    "n_dct_filters = 16 # number of cepstral coefficients\n",
    "filter_lenth = 16 # length of the filter\n",
    "\n",
    "d_frequency_bandwidths = {\n",
    "    'power_below_gait': [0.3, 0.7],\n",
    "    'power_gait': [0.7, 3.5],\n",
    "    'power_tremor': [3.5, 8],\n",
    "    'power_above_tremor': [8, sampling_frequency]\n",
    "}\n",
    "\n",
    "l_accelerometer_cols = [DataColumns.ACCELEROMETER_X, DataColumns.ACCELEROMETER_Y, DataColumns.ACCELEROMETER_Z]\n",
    "l_gravity_cols = [f'grav_{x}' for x in l_accelerometer_cols]\n",
    "l_window_level_cols = ['id', 'window_nr', 'window_start', 'window_end']\n",
    "l_data_point_level_cols = l_accelerometer_cols + l_gravity_cols\n",
    "\n",
    "# store data\n",
    "d_channels_values = {\n",
    "    'grav_accelerometer_x_mean': 'g',\n",
    "    'grav_accelerometer_y_mean': 'g',\n",
    "    'grav_accelerometer_z_mean': 'g',\n",
    "    'grav_accelerometer_x_std': 'g',\n",
    "    'grav_accelerometer_y_std': 'g',\n",
    "    'grav_accelerometer_z_std': 'g',\n",
    "    'accelerometer_x_power_below_gait': 'X',\n",
    "    'accelerometer_y_power_below_gait': 'X',\n",
    "    'accelerometer_z_power_below_gait': 'X',\n",
    "    'accelerometer_x_power_gait': 'X',\n",
    "    'accelerometer_y_power_gait': 'X',\n",
    "    'accelerometer_z_power_gait': 'X',\n",
    "    'accelerometer_x_power_tremor': 'X',\n",
    "    'accelerometer_y_power_tremor': 'X',\n",
    "    'accelerometer_z_power_tremor': 'X',\n",
    "    'accelerometer_x_power_above_tremor': 'X',\n",
    "    'accelerometer_y_power_above_tremor': 'X',\n",
    "    'accelerometer_z_power_above_tremor': 'X',\n",
    "    'accelerometer_x_dominant_frequency': 'Hz',\n",
    "    'accelerometer_y_dominant_frequency': 'Hz',\n",
    "    'accelerometer_z_dominant_frequency': 'Hz',\n",
    "    'std_norm_acc': 'X',\n",
    "    'cc_1_acc': 'X',\n",
    "    'cc_2_acc': 'X',\n",
    "    'cc_3_acc': 'X',\n",
    "    'cc_4_acc': 'X',\n",
    "    'cc_5_acc': 'X',\n",
    "    'cc_6_acc': 'X',\n",
    "    'cc_7_acc': 'X',\n",
    "    'cc_8_acc': 'X',\n",
    "    'cc_9_acc': 'X',\n",
    "    'cc_10_acc': 'X',\n",
    "    'cc_11_acc': 'X',\n",
    "    'cc_12_acc': 'X',\n",
    "    'cc_13_acc': 'X',\n",
    "    'cc_14_acc': 'X',\n",
    "    'cc_15_acc': 'X',\n",
    "    'cc_16_acc': 'X'\n",
    "}"
   ]
  },
  {
   "cell_type": "markdown",
   "metadata": {},
   "source": [
    "## Load data"
   ]
  },
  {
   "cell_type": "code",
   "execution_count": 4,
   "metadata": {},
   "outputs": [
    {
     "data": {
      "text/html": [
       "<div>\n",
       "<style scoped>\n",
       "    .dataframe tbody tr th:only-of-type {\n",
       "        vertical-align: middle;\n",
       "    }\n",
       "\n",
       "    .dataframe tbody tr th {\n",
       "        vertical-align: top;\n",
       "    }\n",
       "\n",
       "    .dataframe thead th {\n",
       "        text-align: right;\n",
       "    }\n",
       "</style>\n",
       "<table border=\"1\" class=\"dataframe\">\n",
       "  <thead>\n",
       "    <tr style=\"text-align: right;\">\n",
       "      <th></th>\n",
       "      <th>time</th>\n",
       "      <th>accelerometer_x</th>\n",
       "      <th>grav_accelerometer_x</th>\n",
       "      <th>accelerometer_y</th>\n",
       "      <th>grav_accelerometer_y</th>\n",
       "      <th>accelerometer_z</th>\n",
       "      <th>grav_accelerometer_z</th>\n",
       "    </tr>\n",
       "  </thead>\n",
       "  <tbody>\n",
       "    <tr>\n",
       "      <th>0</th>\n",
       "      <td>0.00</td>\n",
       "      <td>-0.537320</td>\n",
       "      <td>-4.240030e-09</td>\n",
       "      <td>0.560195</td>\n",
       "      <td>4.420535e-09</td>\n",
       "      <td>0.267026</td>\n",
       "      <td>2.107122e-09</td>\n",
       "    </tr>\n",
       "    <tr>\n",
       "      <th>1</th>\n",
       "      <td>0.01</td>\n",
       "      <td>-0.496498</td>\n",
       "      <td>-3.783814e-08</td>\n",
       "      <td>0.580556</td>\n",
       "      <td>3.994549e-08</td>\n",
       "      <td>0.235247</td>\n",
       "      <td>1.871333e-08</td>\n",
       "    </tr>\n",
       "  </tbody>\n",
       "</table>\n",
       "</div>"
      ],
      "text/plain": [
       "   time  accelerometer_x  ...  accelerometer_z  grav_accelerometer_z\n",
       "0  0.00        -0.537320  ...         0.267026          2.107122e-09\n",
       "1  0.01        -0.496498  ...         0.235247          1.871333e-08\n",
       "\n",
       "[2 rows x 7 columns]"
      ]
     },
     "execution_count": 4,
     "metadata": {},
     "output_type": "execute_result"
    }
   ],
   "source": [
    "metadata_dict = tsdf.load_metadata_from_path(os.path.join(input_path, meta_filename))\n",
    "metadata_time = metadata_dict[time_filename]\n",
    "metadata_samples = metadata_dict[values_filename]\n",
    "\n",
    "df = tsdf.load_dataframe_from_binaries([metadata_time, metadata_samples], tsdf.constants.ConcatenationType.columns)\n",
    "\n",
    "df.head(2)"
   ]
  },
  {
   "cell_type": "markdown",
   "metadata": {},
   "source": [
    "## Preprocess data"
   ]
  },
  {
   "cell_type": "code",
   "execution_count": 5,
   "metadata": {},
   "outputs": [
    {
     "name": "stdout",
     "output_type": "stream",
     "text": [
      "(725, 9)\n"
     ]
    }
   ],
   "source": [
    "df_windowed = tabulate_windows(\n",
    "    df=df,\n",
    "    time_column_name='time',\n",
    "    data_point_level_cols=l_data_point_level_cols,\n",
    "    window_length_s=window_length_s,\n",
    "    window_step_size_s=window_step_size_s,\n",
    "    sampling_frequency=sampling_frequency\n",
    "    )\n",
    "\n",
    "print(df_windowed.shape)"
   ]
  },
  {
   "cell_type": "code",
   "execution_count": 6,
   "metadata": {},
   "outputs": [],
   "source": [
    "# extract mean and std of gravity acceleration\n",
    "for col in l_gravity_cols:\n",
    "    for stat in ['mean', 'std']:\n",
    "        df_windowed[f'{col}_{stat}'] = generate_statistics(\n",
    "            sensor_col=df_windowed[col],\n",
    "            statistic=stat\n",
    "            )"
   ]
  },
  {
   "cell_type": "code",
   "execution_count": 7,
   "metadata": {},
   "outputs": [],
   "source": [
    "# extract standard deviation of the Euclidean norm of the three axes\n",
    "df_windowed['std_norm_acc'] = generate_std_norm(\n",
    "    df=df_windowed,\n",
    "    cols=l_accelerometer_cols\n",
    "    )"
   ]
  },
  {
   "cell_type": "code",
   "execution_count": 8,
   "metadata": {},
   "outputs": [],
   "source": [
    "for col in l_accelerometer_cols:\n",
    "\n",
    "    # fast fourier transforms\n",
    "    df_windowed[f'{col}_freqs'], df_windowed[f'{col}_fft'] = signal_to_ffts(\n",
    "        sensor_col=df_windowed[col],\n",
    "        window_type=window_type,\n",
    "        sampling_frequency=sampling_frequency\n",
    "        )\n",
    "\n",
    "    # compute power in distinct frequency bandwidths\n",
    "    for bandwidth in d_frequency_bandwidths.keys():\n",
    "        df_windowed[col+'_'+bandwidth] = df_windowed.apply(lambda x: compute_power_in_bandwidth(\n",
    "            sensor_col=x[col],\n",
    "            fmin=d_frequency_bandwidths[bandwidth][0],\n",
    "            fmax=d_frequency_bandwidths[bandwidth][1],\n",
    "            sampling_frequency=sampling_frequency,\n",
    "            window_type=window_type,\n",
    "            ), axis=1\n",
    "        )\n",
    "\n",
    "    # extract dominant frequency\n",
    "    df_windowed[col+'_dominant_frequency'] = df_windowed.apply(lambda x: get_dominant_frequency(\n",
    "        signal_ffts=x[col+'_fft'], \n",
    "        signal_freqs=x[col+'_freqs'],\n",
    "        fmin=d_frequency_bandwidths[bandwidth][0],\n",
    "        fmax=d_frequency_bandwidths[bandwidth][1]\n",
    "        ), axis=1\n",
    "    )"
   ]
  },
  {
   "cell_type": "code",
   "execution_count": 9,
   "metadata": {},
   "outputs": [],
   "source": [
    "for bandwidth in d_frequency_bandwidths.keys():\n",
    "    df_windowed['total_acc_'+bandwidth] = df_windowed.apply(lambda x: sum(x[y+'_'+bandwidth] for y in l_accelerometer_cols), axis=1)\n",
    "\n",
    "df_windowed['total_accel_power'] = compute_power(\n",
    "    df=df_windowed,\n",
    "    fft_cols=[f'{col}_fft' for col in l_accelerometer_cols])\n",
    "\n",
    "cc_cols = generate_cepstral_coefficients(\n",
    "    total_power_col=df_windowed['total_accel_power'],\n",
    "    window_length_s=window_length_s,\n",
    "    sampling_frequency=sampling_frequency,\n",
    "    low_frequency=low_frequency,\n",
    "    high_frequency=high_frequency,\n",
    "    filter_length=filter_length,\n",
    "    n_dct_filters=n_dct_filters\n",
    "    )\n",
    "\n",
    "df_windowed = pd.concat([df_windowed, cc_cols], axis=1)      "
   ]
  },
  {
   "cell_type": "code",
   "execution_count": 10,
   "metadata": {},
   "outputs": [],
   "source": [
    "df_windowed = df_windowed.rename(columns={f'cc_{cc_nr}': f'cc_{cc_nr}_acc' for cc_nr in range(1,17)}).rename(columns={'window_start': 'time'})\n",
    "\n",
    "df_windowed = df_windowed.drop(columns=[f'{col}{x}' for x in ['', '_freqs', '_fft', '_fft_power'] for col in l_accelerometer_cols] + ['total_accel_power', 'window_nr', 'window_end'] + l_gravity_cols + l_accelerometer_cols)"
   ]
  },
  {
   "cell_type": "markdown",
   "metadata": {},
   "source": [
    "## Store data"
   ]
  },
  {
   "cell_type": "code",
   "execution_count": 11,
   "metadata": {},
   "outputs": [],
   "source": [
    "from dateutil import parser\n",
    "import datetime\n",
    "\n",
    "end_iso8601 = (parser.parse(metadata_samples.start_iso8601) + datetime.timedelta(seconds=int(df_windowed['time'][-1:].values[0] + window_length_s))).strftime('%d-%b-%Y %H:%M:%S') + ' UTC'\n",
    "\n",
    "metadata_samples.__setattr__('end_iso8601', end_iso8601)\n",
    "metadata_samples.__setattr__('file_name', 'gait_values.bin')\n",
    "metadata_samples.__setattr__('file_dir_path', output_path)\n",
    "metadata_time.__setattr__('end_iso8601', end_iso8601)\n",
    "metadata_time.__setattr__('file_name', 'gait_time.bin')\n",
    "metadata_time.__setattr__('file_dir_path', output_path)\n",
    "\n",
    "metadata_samples.__setattr__('channels', list(d_channels_values.keys()))\n",
    "metadata_samples.__setattr__('units', list(d_channels_values.values()))\n",
    "\n",
    "metadata_time.__setattr__('channels', ['time'])\n",
    "metadata_time.__setattr__('units', ['relative_time_ms'])\n",
    "metadata_time.__setattr__('data_type', np.int64)"
   ]
  },
  {
   "cell_type": "code",
   "execution_count": 12,
   "metadata": {},
   "outputs": [],
   "source": [
    "if not os.path.exists(output_path):\n",
    "    os.makedirs(output_path)\n",
    "\n",
    "# store binaries and metadata\n",
    "tsdf.write_dataframe_to_binaries(output_path, df_windowed, [metadata_time, metadata_samples])\n",
    "tsdf.write_metadata([metadata_time, metadata_samples], 'gait_meta.json')"
   ]
  }
 ],
 "metadata": {
  "kernelspec": {
   "display_name": "gait",
   "language": "python",
   "name": "python3"
  },
  "language_info": {
   "codemirror_mode": {
    "name": "ipython",
    "version": 3
   },
   "file_extension": ".py",
   "mimetype": "text/x-python",
   "name": "python",
   "nbconvert_exporter": "python",
   "pygments_lexer": "ipython3",
   "version": "3.9.13"
  }
 },
 "nbformat": 4,
 "nbformat_minor": 2
}

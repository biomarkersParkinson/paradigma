{
 "cells": [
  {
   "cell_type": "markdown",
   "metadata": {},
   "source": [
    "# Extracting gait features\n",
    "Here we use the preprocessed accelerometer data as input, create time windows and extract relevant features for the subsequent task of gait detection. "
   ]
  },
  {
   "cell_type": "markdown",
   "metadata": {},
   "source": [
    "## Modules"
   ]
  },
  {
   "cell_type": "code",
   "execution_count": 9,
   "metadata": {},
   "outputs": [
    {
     "name": "stdout",
     "output_type": "stream",
     "text": [
      "The autoreload extension is already loaded. To reload it, use:\n",
      "  %reload_ext autoreload\n"
     ]
    }
   ],
   "source": [
    "# Automatically reload modules\n",
    "%load_ext autoreload\n",
    "%autoreload 2\n",
    "\n",
    "import numpy as np\n",
    "import os\n",
    "import pandas as pd\n",
    "import tsdf\n",
    "\n",
    "from dbpd.extracting_features import *"
   ]
  },
  {
   "cell_type": "markdown",
   "metadata": {},
   "source": [
    "## Constants"
   ]
  },
  {
   "cell_type": "code",
   "execution_count": 10,
   "metadata": {},
   "outputs": [],
   "source": [
    "# tsdf files\n",
    "sensor = 'acceleration'\n",
    "path_to_test_data =  '../../../tests/data'\n",
    "\n",
    "input_path = os.path.join(path_to_test_data, '2.preprocessed_data')\n",
    "output_path = os.path.join(path_to_test_data, '3.extracted_features')\n",
    "\n",
    "meta_filename = f'{sensor}_meta.json'\n",
    "values_filename = f'{sensor}_samples.bin'\n",
    "time_filename = f'{sensor}_time.bin'\n",
    "\n",
    "# windowing and feature engineering\n",
    "window_type = 'hann'\n",
    "verbose = 0\n",
    "\n",
    "sampling_frequency = 100 # Hz\n",
    "window_length_s = 6\n",
    "window_step_size_s = 1\n",
    "\n",
    "# cepstral coefficients\n",
    "low_frequency = 0 # Hz\n",
    "high_frequency = int(sampling_frequency / 2) # Hz\n",
    "filter_length = high_frequency - 1 # here we assume a 1 Hz gait common frequency with equally-spaced harmonics\n",
    "n_dct_filters = 16 # number of cepstral coefficients\n",
    "filter_lenth = 16 # length of the filter\n",
    "\n",
    "d_frequency_bandwidths = {\n",
    "    'power_below_gait': [0.3, 0.7],\n",
    "    'power_gait': [0.7, 3.5],\n",
    "    'power_tremor': [3.5, 8],\n",
    "    'power_above_tremor': [8, sampling_frequency]\n",
    "}\n",
    "\n",
    "l_acceleration_cols = ['acceleration_x', 'acceleration_y', 'acceleration_z']\n",
    "l_gravity_cols = ['grav_acceleration_x', 'grav_acceleration_y', 'grav_acceleration_z']\n",
    "l_window_level_cols = ['id', 'window_nr', 'window_start', 'window_end']\n",
    "l_data_point_level_cols = l_acceleration_cols + l_gravity_cols\n",
    "\n",
    "# store data\n",
    "l_channels = ([f'{x}_{y}' for x in l_gravity_cols for y in ['mean', 'std']] + \n",
    "              [f'{x}_{y}' for x in l_acceleration_cols for y in ['power_below_gait', 'power_gait', 'power_tremor', 'power_above_tremor']] + \n",
    "              ['std_norm_acc']\n",
    ")"
   ]
  },
  {
   "cell_type": "markdown",
   "metadata": {},
   "source": [
    "# Functions"
   ]
  },
  {
   "cell_type": "markdown",
   "metadata": {},
   "source": [
    "## Load data"
   ]
  },
  {
   "cell_type": "code",
   "execution_count": 11,
   "metadata": {},
   "outputs": [
    {
     "data": {
      "text/html": [
       "<div>\n",
       "<style scoped>\n",
       "    .dataframe tbody tr th:only-of-type {\n",
       "        vertical-align: middle;\n",
       "    }\n",
       "\n",
       "    .dataframe tbody tr th {\n",
       "        vertical-align: top;\n",
       "    }\n",
       "\n",
       "    .dataframe thead th {\n",
       "        text-align: right;\n",
       "    }\n",
       "</style>\n",
       "<table border=\"1\" class=\"dataframe\">\n",
       "  <thead>\n",
       "    <tr style=\"text-align: right;\">\n",
       "      <th></th>\n",
       "      <th>time</th>\n",
       "      <th>acceleration_x</th>\n",
       "      <th>grav_acceleration_x</th>\n",
       "      <th>acceleration_y</th>\n",
       "      <th>grav_acceleration_y</th>\n",
       "      <th>acceleration_z</th>\n",
       "      <th>grav_acceleration_z</th>\n",
       "    </tr>\n",
       "  </thead>\n",
       "  <tbody>\n",
       "    <tr>\n",
       "      <th>0</th>\n",
       "      <td>0.00</td>\n",
       "      <td>-4.159470e-08</td>\n",
       "      <td>-5.271109</td>\n",
       "      <td>4.336545e-08</td>\n",
       "      <td>5.495509</td>\n",
       "      <td>-2.067087e-08</td>\n",
       "      <td>-2.619526</td>\n",
       "    </tr>\n",
       "    <tr>\n",
       "      <th>1</th>\n",
       "      <td>0.01</td>\n",
       "      <td>-3.711922e-07</td>\n",
       "      <td>-4.870643</td>\n",
       "      <td>3.918652e-07</td>\n",
       "      <td>5.695250</td>\n",
       "      <td>-1.835777e-07</td>\n",
       "      <td>-2.307776</td>\n",
       "    </tr>\n",
       "  </tbody>\n",
       "</table>\n",
       "</div>"
      ],
      "text/plain": [
       "   time  acceleration_x  grav_acceleration_x  acceleration_y  \\\n",
       "0  0.00   -4.159470e-08            -5.271109    4.336545e-08   \n",
       "1  0.01   -3.711922e-07            -4.870643    3.918652e-07   \n",
       "\n",
       "   grav_acceleration_y  acceleration_z  grav_acceleration_z  \n",
       "0             5.495509   -2.067087e-08            -2.619526  \n",
       "1             5.695250   -1.835777e-07            -2.307776  "
      ]
     },
     "execution_count": 11,
     "metadata": {},
     "output_type": "execute_result"
    }
   ],
   "source": [
    "metadata_dict = tsdf.load_metadata_from_path(os.path.join(input_path, meta_filename))\n",
    "metadata_time = metadata_dict[time_filename]\n",
    "metadata_samples = metadata_dict[values_filename]\n",
    "\n",
    "df = tsdf.load_dataframe_from_binaries([metadata_time, metadata_samples], tsdf.constants.ConcatenationType.columns)\n",
    "\n",
    "df.head(2)"
   ]
  },
  {
   "cell_type": "markdown",
   "metadata": {},
   "source": [
    "## Preprocess data"
   ]
  },
  {
   "cell_type": "code",
   "execution_count": 34,
   "metadata": {},
   "outputs": [
    {
     "name": "stdout",
     "output_type": "stream",
     "text": [
      "(725, 9)\n"
     ]
    }
   ],
   "source": [
    "df_windowed = tabulate_windows(\n",
    "    df=df,\n",
    "    data_point_level_cols=l_data_point_level_cols,\n",
    "    window_length_s=window_length_s,\n",
    "    window_step_size_s=window_step_size_s,\n",
    "    sampling_frequency=sampling_frequency\n",
    "    )\n",
    "\n",
    "print(df_windowed.shape)"
   ]
  },
  {
   "cell_type": "code",
   "execution_count": 35,
   "metadata": {},
   "outputs": [],
   "source": [
    "# extract mean and std of gravity acceleration\n",
    "for col in [f'grav_acceleration_{x}' for x in ['x', 'y', 'z']]:\n",
    "    for stat in ['mean', 'std']:\n",
    "        df_windowed[f'{col}_{stat}'] = generate_statistics(\n",
    "            sensor_col=df_windowed[col],\n",
    "            statistic=stat\n",
    "            )"
   ]
  },
  {
   "cell_type": "code",
   "execution_count": 36,
   "metadata": {},
   "outputs": [],
   "source": [
    "# extract standard deviation of the Euclidean norm of the three axes\n",
    "df_windowed['std_norm_acc'] = generate_std_norm(\n",
    "    df=df_windowed,\n",
    "    cols=[f'acceleration_{x}' for x in ['x', 'y', 'z']]\n",
    "    )"
   ]
  },
  {
   "cell_type": "code",
   "execution_count": 37,
   "metadata": {},
   "outputs": [],
   "source": [
    "for col in ['acceleration_x', 'acceleration_y', 'acceleration_z']:\n",
    "\n",
    "    # fast fourier transforms\n",
    "    df_windowed[f'{col}_freqs'], df_windowed[f'{col}_fft'] = signal_to_ffts(\n",
    "        sensor_col=df_windowed[col],\n",
    "        window_type=window_type,\n",
    "        sampling_frequency=sampling_frequency\n",
    "        )\n",
    "\n",
    "    # compute power in distinct frequency bandwidths\n",
    "    for bandwidth in d_frequency_bandwidths.keys():\n",
    "        df_windowed[col+'_'+bandwidth] = df_windowed.apply(lambda x: compute_power_in_bandwidth(\n",
    "            sensor_col=x[col],\n",
    "            fmin=d_frequency_bandwidths[bandwidth][0],\n",
    "            fmax=d_frequency_bandwidths[bandwidth][1],\n",
    "            sampling_frequency=sampling_frequency,\n",
    "            window_type=window_type,\n",
    "            ), axis=1\n",
    "        )\n",
    "\n",
    "    # extract dominant frequency\n",
    "    df_windowed[col+'_dominant_frequency'] = df_windowed.apply(lambda x: get_dominant_frequency(\n",
    "        signal_ffts=x[col+'_fft'], \n",
    "        signal_freqs=x[col+'_freqs'],\n",
    "        fmin=d_frequency_bandwidths[bandwidth][0],\n",
    "        fmax=d_frequency_bandwidths[bandwidth][1]\n",
    "        ), axis=1\n",
    "    )"
   ]
  },
  {
   "cell_type": "code",
   "execution_count": 38,
   "metadata": {},
   "outputs": [],
   "source": [
    "for bandwidth in d_frequency_bandwidths.keys():\n",
    "    df_windowed['total_acc_'+bandwidth] = df_windowed.apply(lambda x: sum(x[y+'_'+bandwidth] for y in l_acceleration_cols), axis=1)\n",
    "\n",
    "df_windowed['total_accel_power'] = compute_power(\n",
    "    df=df_windowed,\n",
    "    fft_cols=[f'{col}_fft' for col in l_acceleration_cols])\n",
    "\n",
    "cc_cols = generate_cepstral_coefficients(\n",
    "    total_power_col=df_windowed['total_accel_power'],\n",
    "    window_length_s=window_length_s,\n",
    "    sampling_frequency=sampling_frequency,\n",
    "    low_frequency=low_frequency,\n",
    "    high_frequency=high_frequency,\n",
    "    filter_length=filter_length,\n",
    "    n_dct_filters=n_dct_filters\n",
    "    )\n",
    "\n",
    "df_windowed = pd.concat([df_windowed, cc_cols], axis=1)      "
   ]
  },
  {
   "cell_type": "code",
   "execution_count": 39,
   "metadata": {},
   "outputs": [],
   "source": [
    "df_windowed = df_windowed.rename(columns={f'cc_{cc_nr}': f'cc_{cc_nr}_acc' for cc_nr in range(1,17)}).rename(columns={'window_start': 'time'})\n",
    "\n",
    "df_windowed = df_windowed.drop(columns=[f'{col}{x}' for x in ['', '_freqs', '_fft', '_fft_power'] for col in l_acceleration_cols] + ['total_accel_power', 'window_nr', 'window_end'] + l_gravity_cols + l_acceleration_cols)"
   ]
  },
  {
   "cell_type": "markdown",
   "metadata": {},
   "source": [
    "# Store data"
   ]
  },
  {
   "cell_type": "code",
   "execution_count": 85,
   "metadata": {},
   "outputs": [],
   "source": [
    "from dateutil import parser\n",
    "import datetime\n",
    "\n",
    "end_iso8601 = (parser.parse(metadata_samples.start_iso8601) + datetime.timedelta(seconds=int(df_windowed['time'][-1:].values[0] + window_length_s))).strftime('%d-%b-%Y %H:%M:%S') + ' UTC'\n",
    "\n",
    "metadata_samples.__setattr__('end_iso8601', end_iso8601)\n",
    "metadata_samples.__setattr__('file_name', 'values.bin')\n",
    "metadata_samples.__setattr__('file_dir_path', output_path)\n",
    "metadata_time.__setattr__('end_iso8601', end_iso8601)\n",
    "metadata_time.__setattr__('file_name', 'time.bin')\n",
    "metadata_time.__setattr__('file_dir_path', output_path)\n",
    "\n",
    "metadata_samples.__setattr__('channels', [x for x in df_windowed.columns if x != 'time'])\n",
    "metadata_samples.__setattr__('units', np.concatenate([np.repeat('m/s^2', 7), np.repeat([np.repeat('X', 4).tolist() + ['Hz']], 3), np.repeat('X', 16)]).tolist())\n",
    "\n",
    "metadata_time.__setattr__('channels', ['time'])\n",
    "metadata_time.__setattr__('units', ['s'])\n",
    "metadata_time.__setattr__('data_type', np.int64)"
   ]
  },
  {
   "cell_type": "code",
   "execution_count": 87,
   "metadata": {},
   "outputs": [],
   "source": [
    "if not os.path.exists(output_path):\n",
    "    os.makedirs(output_path)\n",
    "\n",
    "# store binaries and metadata\n",
    "tsdf.write_dataframe_to_binaries(output_path, df_windowed, [metadata_time, metadata_samples])\n",
    "tsdf.write_metadata([metadata_time, metadata_samples], 'meta.json')"
   ]
  }
 ],
 "metadata": {
  "kernelspec": {
   "display_name": "gait",
   "language": "python",
   "name": "python3"
  },
  "language_info": {
   "codemirror_mode": {
    "name": "ipython",
    "version": 3
   },
   "file_extension": ".py",
   "mimetype": "text/x-python",
   "name": "python",
   "nbconvert_exporter": "python",
   "pygments_lexer": "ipython3",
   "version": "3.9.12"
  }
 },
 "nbformat": 4,
 "nbformat_minor": 2
}

{
 "cells": [
  {
   "cell_type": "markdown",
   "metadata": {},
   "source": [
    "# Extracting gait features\n",
    "Here we use the preprocessed accelerometer data as input, create time windows and extract relevant features for the subsequent task of gait detection. "
   ]
  },
  {
   "cell_type": "markdown",
   "metadata": {},
   "source": [
    "## Modules"
   ]
  },
  {
   "cell_type": "code",
   "execution_count": 33,
   "metadata": {},
   "outputs": [],
   "source": [
    "import math\n",
    "import os\n",
    "import pandas as pd\n",
    "import tsdf"
   ]
  },
  {
   "cell_type": "markdown",
   "metadata": {},
   "source": [
    "## Constants"
   ]
  },
  {
   "cell_type": "code",
   "execution_count": 36,
   "metadata": {},
   "outputs": [],
   "source": [
    "# tsdf files\n",
    "subject = '0A0B82C94960D6DCABC1F597EC0BA657F4B0EDC320702BCEE3B6955CE924DE05'\n",
    "sensor = 'IMU'\n",
    "week_nr = '104'\n",
    "segment_nr = '0001'\n",
    "\n",
    "input_path = os.path.join(r'C:\\Users\\erik_\\Documents\\PhD\\data\\ppp\\preprocessed\\test_data\\1.input', subject, sensor)\n",
    "\n",
    "base_filename = f'WatchData.{sensor}.Week{week_nr}.raw_segment{segment_nr}'\n",
    "meta_filename = f'{base_filename}_meta.json'\n",
    "values_filename = f'{base_filename}_samples.bin'\n",
    "time_filename = f'{base_filename}_time.bin'\n",
    "quality_filename = f'{base_filename}_quality.bin'\n",
    "\n",
    "# windowing and feature engineering\n",
    "window_type = 'hann'\n",
    "verbose = 0\n",
    "\n",
    "downsampled_frequency = 100 # Hz\n",
    "window_length = 6 * downsampled_frequency # 6 seconds\n",
    "window_step_size = 1 * downsampled_frequency # 1 second\n",
    "\n",
    "# cepstral coefficients\n",
    "low_frequency = 0 # Hz\n",
    "high_frequency = int(downsampled_frequency / 2) # Hz\n",
    "filter_length = high_frequency - 1 # here we assume a 1 Hz gait common frequency with equally-spaced harmonics\n",
    "n_dct_filters = 16 # number of cepstral coefficients\n",
    "filter_lenth = 16 # length of the filter\n",
    "\n",
    "d_frequency_bandwidths = {\n",
    "    'power_below_gait': [0.3, 0.7],\n",
    "    'power_gait': [0.7, 3.5],\n",
    "    'power_tremor': [3.5, 8],\n",
    "    'power_above_tremor': [8, downsampled_frequency]\n",
    "}\n",
    "\n",
    "l_window_level_cols = ['id', 'window_nr', 'window_start', 'window_end']"
   ]
  },
  {
   "cell_type": "markdown",
   "metadata": {},
   "source": [
    "# Functions"
   ]
  },
  {
   "cell_type": "code",
   "execution_count": 37,
   "metadata": {},
   "outputs": [],
   "source": [
    "def create_window(df: pd.DataFrame,\n",
    "                  window_nr: int,\n",
    "                  lower_index: int,\n",
    "                  upper_index: int,\n",
    "                  data_point_level_cols: list\n",
    "                  ):\n",
    "    \"\"\"Transforms (a subset of) a dataframe into a single row\n",
    "\n",
    "    Parameters\n",
    "    ----------\n",
    "    df: pd.DataFrame\n",
    "        The original dataframe to be windowed\n",
    "    window_nr: int\n",
    "        The identification of the window\n",
    "    lower_index: int\n",
    "        The dataframe index of the first sample to be windowed\n",
    "    upper_index: int\n",
    "        The dataframe index of the final sample to be windowed\n",
    "    data_point_level_cols: list\n",
    "        The columns in sensor_df that are to be kept as individual datapoints in a list instead of aggregates\n",
    "\n",
    "    Returns\n",
    "    -------\n",
    "    l_subset_squeezed: list\n",
    "        Rows corresponding to single windows\n",
    "    \"\"\"\n",
    "    df_subset = df.loc[lower_index:upper_index, data_point_level_cols].copy()\n",
    "    l_subset_squeezed = [window_nr+1, lower_index, upper_index] + df_subset.values.T.tolist()\n",
    "\n",
    "    return l_subset_squeezed\n",
    "\n",
    "\n",
    "def tabulate_windows(df: pd.DataFrame,\n",
    "                     window_length: int,\n",
    "                     window_step_size: int,\n",
    "                     data_point_level_cols: list,\n",
    "                    ):\n",
    "    \"\"\"Compiles multiple windows into a single dataframe\n",
    "\n",
    "    Parameters\n",
    "    ----------\n",
    "    df: pd.DataFrame\n",
    "        The original dataframe to be windowed\n",
    "    window_length: int\n",
    "        The number of samples a window constitutes\n",
    "    window_step_size: int\n",
    "        The number of samples between the start of the previous and the start of the next window\n",
    "    data_point_level_cols: list\n",
    "        The columns in sensor_df that are to be kept as individual datapoints in a list instead of aggregates\n",
    "\n",
    "    Returns\n",
    "    -------\n",
    "    df_windows: pd.DataFrame\n",
    "        Dataframe with each row corresponding to an individual window\n",
    "    \"\"\"\n",
    "\n",
    "    df = df.reset_index(drop=True)\n",
    "\n",
    "    if window_step_size <= 0:\n",
    "        raise Exception(\"Step size should be larger than 0.\")\n",
    "    if window_length > df.shape[0]:\n",
    "        return \n",
    "\n",
    "    l_windows = []\n",
    "    n_windows = math.floor(\n",
    "        (df.shape[0] - window_length) / \n",
    "         window_step_size\n",
    "        ) + 1\n",
    "\n",
    "    for window_nr in range(n_windows):\n",
    "        lower = window_nr * window_step_size\n",
    "        upper = window_nr * window_step_size + window_length - 1\n",
    "        l_windows.append(create_window(df, window_nr, lower, upper, data_point_level_cols))\n",
    "\n",
    "    df_windows = pd.DataFrame(l_windows, columns=['window_nr', 'window_start', 'window_end'] + data_point_level_cols)\n",
    "            \n",
    "    return df_windows.reset_index(drop=True)"
   ]
  },
  {
   "cell_type": "markdown",
   "metadata": {},
   "source": [
    "## Load data"
   ]
  },
  {
   "cell_type": "code",
   "execution_count": 38,
   "metadata": {},
   "outputs": [
    {
     "data": {
      "text/html": [
       "<div>\n",
       "<style scoped>\n",
       "    .dataframe tbody tr th:only-of-type {\n",
       "        vertical-align: middle;\n",
       "    }\n",
       "\n",
       "    .dataframe tbody tr th {\n",
       "        vertical-align: top;\n",
       "    }\n",
       "\n",
       "    .dataframe thead th {\n",
       "        text-align: right;\n",
       "    }\n",
       "</style>\n",
       "<table border=\"1\" class=\"dataframe\">\n",
       "  <thead>\n",
       "    <tr style=\"text-align: right;\">\n",
       "      <th></th>\n",
       "      <th>time</th>\n",
       "      <th>acceleration_x</th>\n",
       "      <th>acceleration_y</th>\n",
       "      <th>acceleration_z</th>\n",
       "      <th>rotation_x</th>\n",
       "      <th>rotation_y</th>\n",
       "      <th>rotation_z</th>\n",
       "    </tr>\n",
       "  </thead>\n",
       "  <tbody>\n",
       "    <tr>\n",
       "      <th>32759</th>\n",
       "      <td>10.000000</td>\n",
       "      <td>297</td>\n",
       "      <td>1189</td>\n",
       "      <td>-1531</td>\n",
       "      <td>1</td>\n",
       "      <td>-27</td>\n",
       "      <td>-19</td>\n",
       "    </tr>\n",
       "    <tr>\n",
       "      <th>71801</th>\n",
       "      <td>10.040039</td>\n",
       "      <td>-509</td>\n",
       "      <td>-1052</td>\n",
       "      <td>-1698</td>\n",
       "      <td>-6</td>\n",
       "      <td>-12</td>\n",
       "      <td>-26</td>\n",
       "    </tr>\n",
       "  </tbody>\n",
       "</table>\n",
       "</div>"
      ],
      "text/plain": [
       "            time  acceleration_x  acceleration_y  acceleration_z  rotation_x  \\\n",
       "32759  10.000000             297            1189           -1531           1   \n",
       "71801  10.040039            -509           -1052           -1698          -6   \n",
       "\n",
       "       rotation_y  rotation_z  \n",
       "32759         -27         -19  \n",
       "71801         -12         -26  "
      ]
     },
     "execution_count": 38,
     "metadata": {},
     "output_type": "execute_result"
    }
   ],
   "source": [
    "metadata_dict = tsdf.load_metadata_from_path(os.path.join(input_path, meta_filename))\n",
    "metadata_time = metadata_dict[time_filename]\n",
    "metadata_samples = metadata_dict[values_filename]\n",
    "\n",
    "df = tsdf.load_dataframe_from_binaries([metadata_time, metadata_samples], tsdf.constants.ConcatenationType.columns)\n",
    "\n",
    "df.sample(2)"
   ]
  },
  {
   "cell_type": "markdown",
   "metadata": {},
   "source": [
    "## Preprocess accelerometer data"
   ]
  },
  {
   "cell_type": "code",
   "execution_count": null,
   "metadata": {},
   "outputs": [],
   "source": []
  }
 ],
 "metadata": {
  "kernelspec": {
   "display_name": "gait",
   "language": "python",
   "name": "python3"
  },
  "language_info": {
   "codemirror_mode": {
    "name": "ipython",
    "version": 3
   },
   "file_extension": ".py",
   "mimetype": "text/x-python",
   "name": "python",
   "nbconvert_exporter": "python",
   "pygments_lexer": "ipython3",
   "version": "3.9.16"
  }
 },
 "nbformat": 4,
 "nbformat_minor": 2
}

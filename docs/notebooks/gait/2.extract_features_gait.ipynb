{
 "cells": [
  {
   "cell_type": "markdown",
   "metadata": {},
   "source": [
    "# Extracting gait features\n",
    "Here we use the preprocessed accelerometer data as input, create time windows and extract relevant features for the subsequent task of gait detection. "
   ]
  },
  {
   "cell_type": "markdown",
   "metadata": {},
   "source": [
    "## Modules"
   ]
  },
  {
   "cell_type": "code",
   "execution_count": 50,
   "metadata": {},
   "outputs": [
    {
     "name": "stdout",
     "output_type": "stream",
     "text": [
      "The autoreload extension is already loaded. To reload it, use:\n",
      "  %reload_ext autoreload\n"
     ]
    }
   ],
   "source": [
    "# Automatically reload modules\n",
    "%load_ext autoreload\n",
    "%autoreload 2\n",
    "\n",
    "import numpy as np\n",
    "import os\n",
    "import pandas as pd\n",
    "import tsdf\n",
    "\n",
    "import dbpd"
   ]
  },
  {
   "cell_type": "markdown",
   "metadata": {},
   "source": [
    "## Constants"
   ]
  },
  {
   "cell_type": "code",
   "execution_count": 47,
   "metadata": {},
   "outputs": [],
   "source": [
    "# tsdf files\n",
    "subject = '0A0B82C94960D6DCABC1F597EC0BA657F4B0EDC320702BCEE3B6955CE924DE05'\n",
    "sensor = 'IMU'\n",
    "week_nr = '104'\n",
    "segment_nr = '0001'\n",
    "\n",
    "path_to_test_data = r'C:\\Users\\erik_\\Documents\\PhD\\data\\ppp\\preprocessed\\test_data'\n",
    "\n",
    "input_path = os.path.join(path_to_test_data, '2.filtered', subject, sensor)\n",
    "output_path = os.path.join(path_to_test_data, '3.windowed', subject, sensor)\n",
    "\n",
    "base_filename = f'WatchData.{sensor}.Week{week_nr}.raw_segment{segment_nr}'\n",
    "meta_filename = f'{base_filename}_meta.json'\n",
    "values_filename = f'{base_filename}_samples.bin'\n",
    "time_filename = f'{base_filename}_time.bin'\n",
    "quality_filename = f'{base_filename}_quality.bin'\n",
    "\n",
    "# windowing and feature engineering\n",
    "window_type = 'hann'\n",
    "verbose = 0\n",
    "\n",
    "downsampled_frequency = 100 # Hz\n",
    "window_length = 6 * downsampled_frequency # 6 seconds\n",
    "window_step_size = 1 * downsampled_frequency # 1 second\n",
    "\n",
    "# cepstral coefficients\n",
    "low_frequency = 0 # Hz\n",
    "high_frequency = int(downsampled_frequency / 2) # Hz\n",
    "filter_length = high_frequency - 1 # here we assume a 1 Hz gait common frequency with equally-spaced harmonics\n",
    "n_dct_filters = 16 # number of cepstral coefficients\n",
    "filter_lenth = 16 # length of the filter\n",
    "\n",
    "d_frequency_bandwidths = {\n",
    "    'power_below_gait': [0.3, 0.7],\n",
    "    'power_gait': [0.7, 3.5],\n",
    "    'power_tremor': [3.5, 8],\n",
    "    'power_above_tremor': [8, downsampled_frequency]\n",
    "}\n",
    "\n",
    "l_acceleration_cols = ['acceleration_x', 'acceleration_y', 'acceleration_z']\n",
    "l_gravity_cols = ['grav_acceleration_x', 'grav_acceleration_y', 'grav_acceleration_z']\n",
    "l_window_level_cols = ['id', 'window_nr', 'window_start', 'window_end']\n",
    "l_data_point_level_cols = l_acceleration_cols + l_gravity_cols\n",
    "\n",
    "# store data\n",
    "l_channels = ([f'{x}_{y}' for x in l_gravity_cols for y in ['mean', 'std']] + \n",
    "              [f'{x}_{y}' for x in l_acceleration_cols for y in ['power_below_gait', 'power_gait', 'power_tremor', 'power_above_tremor']] + \n",
    "              ['std_norm_acc']\n",
    ")"
   ]
  },
  {
   "cell_type": "markdown",
   "metadata": {},
   "source": [
    "# Functions"
   ]
  },
  {
   "cell_type": "markdown",
   "metadata": {},
   "source": [
    "## Load data"
   ]
  },
  {
   "cell_type": "code",
   "execution_count": 35,
   "metadata": {},
   "outputs": [
    {
     "data": {
      "text/html": [
       "<div>\n",
       "<style scoped>\n",
       "    .dataframe tbody tr th:only-of-type {\n",
       "        vertical-align: middle;\n",
       "    }\n",
       "\n",
       "    .dataframe tbody tr th {\n",
       "        vertical-align: top;\n",
       "    }\n",
       "\n",
       "    .dataframe thead th {\n",
       "        text-align: right;\n",
       "    }\n",
       "</style>\n",
       "<table border=\"1\" class=\"dataframe\">\n",
       "  <thead>\n",
       "    <tr style=\"text-align: right;\">\n",
       "      <th></th>\n",
       "      <th>time</th>\n",
       "      <th>rotation_x</th>\n",
       "      <th>rotation_y</th>\n",
       "      <th>rotation_z</th>\n",
       "      <th>acceleration_x</th>\n",
       "      <th>acceleration_y</th>\n",
       "      <th>acceleration_z</th>\n",
       "      <th>grav_acceleration_x</th>\n",
       "      <th>grav_acceleration_y</th>\n",
       "      <th>grav_acceleration_z</th>\n",
       "    </tr>\n",
       "  </thead>\n",
       "  <tbody>\n",
       "    <tr>\n",
       "      <th>0</th>\n",
       "      <td>0.00</td>\n",
       "      <td>-115.670732</td>\n",
       "      <td>-32.012195</td>\n",
       "      <td>26.097561</td>\n",
       "      <td>-4.159470e-08</td>\n",
       "      <td>4.336545e-08</td>\n",
       "      <td>-2.067087e-08</td>\n",
       "      <td>-5.271109</td>\n",
       "      <td>5.495509</td>\n",
       "      <td>-2.619526</td>\n",
       "    </tr>\n",
       "    <tr>\n",
       "      <th>1</th>\n",
       "      <td>0.01</td>\n",
       "      <td>-110.636301</td>\n",
       "      <td>-34.624710</td>\n",
       "      <td>24.701537</td>\n",
       "      <td>-3.711922e-07</td>\n",
       "      <td>3.918652e-07</td>\n",
       "      <td>-1.835777e-07</td>\n",
       "      <td>-4.870643</td>\n",
       "      <td>5.695250</td>\n",
       "      <td>-2.307776</td>\n",
       "    </tr>\n",
       "  </tbody>\n",
       "</table>\n",
       "</div>"
      ],
      "text/plain": [
       "   time  rotation_x  rotation_y  rotation_z  acceleration_x  acceleration_y  \\\n",
       "0  0.00 -115.670732  -32.012195   26.097561   -4.159470e-08    4.336545e-08   \n",
       "1  0.01 -110.636301  -34.624710   24.701537   -3.711922e-07    3.918652e-07   \n",
       "\n",
       "   acceleration_z  grav_acceleration_x  grav_acceleration_y  \\\n",
       "0   -2.067087e-08            -5.271109             5.495509   \n",
       "1   -1.835777e-07            -4.870643             5.695250   \n",
       "\n",
       "   grav_acceleration_z  \n",
       "0            -2.619526  \n",
       "1            -2.307776  "
      ]
     },
     "execution_count": 35,
     "metadata": {},
     "output_type": "execute_result"
    }
   ],
   "source": [
    "metadata_dict = tsdf.load_metadata_from_path(os.path.join(input_path, meta_filename))\n",
    "metadata_time = metadata_dict[time_filename]\n",
    "metadata_samples = metadata_dict[values_filename]\n",
    "\n",
    "df = tsdf.load_dataframe_from_binaries([metadata_time, metadata_samples], tsdf.constants.ConcatenationType.columns)\n",
    "\n",
    "df.head(2)"
   ]
  },
  {
   "cell_type": "markdown",
   "metadata": {},
   "source": [
    "## Preprocess data"
   ]
  },
  {
   "cell_type": "code",
   "execution_count": 36,
   "metadata": {},
   "outputs": [
    {
     "name": "stdout",
     "output_type": "stream",
     "text": [
      "(725, 9)\n"
     ]
    }
   ],
   "source": [
    "ppp = dbpd.PreprocessingPipeline(df, 'time', 100, 100, 0)\n",
    "ppp.df_windows = ppp.tabulate_windows(window_step_size, window_length, l_data_point_level_cols)\n",
    "\n",
    "print(ppp.df_windows.shape)"
   ]
  },
  {
   "cell_type": "code",
   "execution_count": 37,
   "metadata": {},
   "outputs": [],
   "source": [
    "# extract mean and std of gravity acceleration\n",
    "for col in [f'grav_acceleration_{x}' for x in ['x', 'y', 'z']]:\n",
    "    for stat in ['mean', 'std']:\n",
    "        ppp.df_windows[f'{col}_{stat}'] = ppp.generate_statistics(col, stat)"
   ]
  },
  {
   "cell_type": "code",
   "execution_count": 38,
   "metadata": {},
   "outputs": [],
   "source": [
    "# extract standard deviation of the Euclidean norm of the three axes\n",
    "ppp.df_windows['std_norm_acc'] = ppp.generate_std_norm([f'acceleration_{x}' for x in ['x', 'y', 'z']])"
   ]
  },
  {
   "cell_type": "code",
   "execution_count": 39,
   "metadata": {},
   "outputs": [],
   "source": [
    "for col in ['acceleration_x', 'acceleration_y', 'acceleration_z']:\n",
    "\n",
    "    # fast fourier transforms\n",
    "    ppp.df_windows[f'{col}_freqs'], ppp.df_windows[f'{col}_fft'] = ppp.signal_to_ffts(window_type=window_type, sensor_col=col)\n",
    "\n",
    "    # compute power in distinct frequency bandwidths\n",
    "    for bandwidth in d_frequency_bandwidths.keys():\n",
    "        ppp.df_windows[col+'_'+bandwidth] = ppp.df_windows.apply(lambda x: ppp.compute_power_in_bandwidth(\n",
    "            sensor_col=x[col],\n",
    "            window_type=window_type,\n",
    "            fmin=d_frequency_bandwidths[bandwidth][0],\n",
    "            fmax=d_frequency_bandwidths[bandwidth][1]\n",
    "            ), axis=1\n",
    "        )\n",
    "\n",
    "    # extract dominant frequency\n",
    "    ppp.df_windows[col+'_dominant_frequency'] = ppp.df_windows.apply(lambda x: ppp.get_dominant_frequency(\n",
    "        signal_ffts=x[col+'_fft'], signal_freqs=x[col+'_freqs'],\n",
    "        fmin=d_frequency_bandwidths[bandwidth][0],\n",
    "        fmax=d_frequency_bandwidths[bandwidth][1]\n",
    "        ), axis=1\n",
    "    )"
   ]
  },
  {
   "cell_type": "code",
   "execution_count": 40,
   "metadata": {},
   "outputs": [],
   "source": [
    "for bandwidth in d_frequency_bandwidths.keys():\n",
    "    ppp.df_windows['total_acc_'+bandwidth] = ppp.df_windows.apply(lambda x: sum(x[y+'_'+bandwidth] for y in l_acceleration_cols), axis=1)\n",
    "\n",
    "ppp.df_windows['total_accel_power'] = ppp.compute_power(fft_cols=[f'{col}_fft' for col in l_acceleration_cols])\n",
    "\n",
    "cc_cols = ppp.generate_cepstral_coefficients(window_length=window_length, total_power_col='total_accel_power',\n",
    "                                            low_frequency=low_frequency, high_frequency=high_frequency,\n",
    "                                            filter_length=filter_length, n_dct_filters=n_dct_filters)\n",
    "\n",
    "ppp.df_windows = pd.concat([ppp.df_windows, cc_cols], axis=1)      "
   ]
  },
  {
   "cell_type": "code",
   "execution_count": 42,
   "metadata": {},
   "outputs": [],
   "source": [
    "ppp.df_windows = ppp.df_windows.rename(columns={f'cc_{cc_nr}': f'cc_{cc_nr}_acc' for cc_nr in range(1,17)})\n",
    "\n",
    "ppp.df_windows = ppp.df_windows.drop(columns=[f'{col}{x}' for x in ['', '_freqs', '_fft'] for col in l_acceleration_cols] + ['total_accel_power'] + l_gravity_cols)"
   ]
  },
  {
   "cell_type": "code",
   "execution_count": 45,
   "metadata": {},
   "outputs": [
    {
     "data": {
      "text/html": [
       "<div>\n",
       "<style scoped>\n",
       "    .dataframe tbody tr th:only-of-type {\n",
       "        vertical-align: middle;\n",
       "    }\n",
       "\n",
       "    .dataframe tbody tr th {\n",
       "        vertical-align: top;\n",
       "    }\n",
       "\n",
       "    .dataframe thead th {\n",
       "        text-align: right;\n",
       "    }\n",
       "</style>\n",
       "<table border=\"1\" class=\"dataframe\">\n",
       "  <thead>\n",
       "    <tr style=\"text-align: right;\">\n",
       "      <th></th>\n",
       "      <th>window_nr</th>\n",
       "      <th>window_start</th>\n",
       "      <th>window_end</th>\n",
       "      <th>grav_acceleration_x_mean</th>\n",
       "      <th>grav_acceleration_x_std</th>\n",
       "      <th>grav_acceleration_y_mean</th>\n",
       "      <th>grav_acceleration_y_std</th>\n",
       "      <th>grav_acceleration_z_mean</th>\n",
       "      <th>grav_acceleration_z_std</th>\n",
       "      <th>std_norm_acc</th>\n",
       "      <th>...</th>\n",
       "      <th>cc_7_acc</th>\n",
       "      <th>cc_8_acc</th>\n",
       "      <th>cc_9_acc</th>\n",
       "      <th>cc_10_acc</th>\n",
       "      <th>cc_11_acc</th>\n",
       "      <th>cc_12_acc</th>\n",
       "      <th>cc_13_acc</th>\n",
       "      <th>cc_14_acc</th>\n",
       "      <th>cc_15_acc</th>\n",
       "      <th>cc_16_acc</th>\n",
       "    </tr>\n",
       "  </thead>\n",
       "  <tbody>\n",
       "    <tr>\n",
       "      <th>0</th>\n",
       "      <td>1</td>\n",
       "      <td>0</td>\n",
       "      <td>599</td>\n",
       "      <td>-0.046566</td>\n",
       "      <td>1.314864</td>\n",
       "      <td>0.050722</td>\n",
       "      <td>2.365911</td>\n",
       "      <td>0.058997</td>\n",
       "      <td>2.398061</td>\n",
       "      <td>3.419243</td>\n",
       "      <td>...</td>\n",
       "      <td>20.145499</td>\n",
       "      <td>25.941516</td>\n",
       "      <td>16.447771</td>\n",
       "      <td>20.761303</td>\n",
       "      <td>14.108550</td>\n",
       "      <td>17.410565</td>\n",
       "      <td>12.438634</td>\n",
       "      <td>15.023873</td>\n",
       "      <td>11.144310</td>\n",
       "      <td>13.202205</td>\n",
       "    </tr>\n",
       "    <tr>\n",
       "      <th>1</th>\n",
       "      <td>2</td>\n",
       "      <td>100</td>\n",
       "      <td>699</td>\n",
       "      <td>-0.099502</td>\n",
       "      <td>1.074430</td>\n",
       "      <td>0.091392</td>\n",
       "      <td>2.104480</td>\n",
       "      <td>-0.033973</td>\n",
       "      <td>2.285541</td>\n",
       "      <td>1.922233</td>\n",
       "      <td>...</td>\n",
       "      <td>20.397449</td>\n",
       "      <td>26.176959</td>\n",
       "      <td>16.682316</td>\n",
       "      <td>20.980846</td>\n",
       "      <td>14.324956</td>\n",
       "      <td>17.612769</td>\n",
       "      <td>12.636400</td>\n",
       "      <td>15.208219</td>\n",
       "      <td>11.323629</td>\n",
       "      <td>13.368846</td>\n",
       "    </tr>\n",
       "  </tbody>\n",
       "</table>\n",
       "<p>2 rows × 45 columns</p>\n",
       "</div>"
      ],
      "text/plain": [
       "   window_nr  window_start  window_end  grav_acceleration_x_mean  \\\n",
       "0          1             0         599                 -0.046566   \n",
       "1          2           100         699                 -0.099502   \n",
       "\n",
       "   grav_acceleration_x_std  grav_acceleration_y_mean  grav_acceleration_y_std  \\\n",
       "0                 1.314864                  0.050722                 2.365911   \n",
       "1                 1.074430                  0.091392                 2.104480   \n",
       "\n",
       "   grav_acceleration_z_mean  grav_acceleration_z_std  std_norm_acc  ...  \\\n",
       "0                  0.058997                 2.398061      3.419243  ...   \n",
       "1                 -0.033973                 2.285541      1.922233  ...   \n",
       "\n",
       "    cc_7_acc   cc_8_acc   cc_9_acc  cc_10_acc  cc_11_acc  cc_12_acc  \\\n",
       "0  20.145499  25.941516  16.447771  20.761303  14.108550  17.410565   \n",
       "1  20.397449  26.176959  16.682316  20.980846  14.324956  17.612769   \n",
       "\n",
       "   cc_13_acc  cc_14_acc  cc_15_acc  cc_16_acc  \n",
       "0  12.438634  15.023873  11.144310  13.202205  \n",
       "1  12.636400  15.208219  11.323629  13.368846  \n",
       "\n",
       "[2 rows x 45 columns]"
      ]
     },
     "execution_count": 45,
     "metadata": {},
     "output_type": "execute_result"
    }
   ],
   "source": [
    "ppp.df_windows.head(2)"
   ]
  },
  {
   "cell_type": "markdown",
   "metadata": {},
   "source": [
    "# Store data"
   ]
  },
  {
   "cell_type": "code",
   "execution_count": 58,
   "metadata": {},
   "outputs": [],
   "source": [
    "# drop window indicators\n",
    "ppp.df_windows = ppp.df_windows.drop(columns=['window_nr', 'window_end']).rename(columns={'window_start': 'time'})"
   ]
  },
  {
   "cell_type": "code",
   "execution_count": 76,
   "metadata": {},
   "outputs": [],
   "source": [
    "# change channels and units accordingly\n",
    "metadata_samples.__setattr__('channels', l_channels)\n",
    "metadata_samples.__setattr__('units', list(np.repeat('m/s^2', len(l_channels))))\n",
    "\n",
    "# change output path\n",
    "metadata_samples.__setattr__('file_dir_path', output_path)  \n",
    "metadata_time.__setattr__('file_dir_path', output_path)"
   ]
  },
  {
   "cell_type": "code",
   "execution_count": 78,
   "metadata": {},
   "outputs": [],
   "source": [
    "if not os.path.exists(output_path):\n",
    "    os.makedirs(output_path)\n",
    "\n",
    "# store binaries and metadata\n",
    "tsdf.write_dataframe_to_binaries(output_path, ppp.df_windows, [metadata_time, metadata_samples])\n",
    "tsdf.write_metadata([metadata_time, metadata_samples], meta_filename)"
   ]
  }
 ],
 "metadata": {
  "kernelspec": {
   "display_name": "gait",
   "language": "python",
   "name": "python3"
  },
  "language_info": {
   "codemirror_mode": {
    "name": "ipython",
    "version": 3
   },
   "file_extension": ".py",
   "mimetype": "text/x-python",
   "name": "python",
   "nbconvert_exporter": "python",
   "pygments_lexer": "ipython3",
   "version": "3.9.12"
  }
 },
 "nbformat": 4,
 "nbformat_minor": 2
}

{
 "cells": [
  {
   "cell_type": "markdown",
   "metadata": {},
   "source": [
    "# Arm swing quantification\n",
    "This notebook shows the process of segmenting and quantifying the arm swing of predicted gait without other arm activities. The inputs are arm swing features (output from 4.extract_features_arm_swing.ipynb) and arm swing predictions (output from 5.arm_swing_detection.ipynb), and the output is a dataframe of arm swing features aggregated per segment (i.e., contiguous samples of predicted arm swing)."
   ]
  },
  {
   "cell_type": "markdown",
   "metadata": {},
   "source": [
    "## Modules"
   ]
  },
  {
   "cell_type": "code",
   "execution_count": 1,
   "metadata": {},
   "outputs": [],
   "source": [
    "# Automatically reload modules\n",
    "%load_ext autoreload\n",
    "%autoreload 2\n",
    "\n",
    "import numpy as np\n",
    "import os\n",
    "import pandas as pd\n",
    "import tsdf\n",
    "\n",
    "from dbpd.feature_extraction import *\n",
    "from dbpd.windowing import *\n",
    "from dbpd.quantification import aggregate_segments"
   ]
  },
  {
   "cell_type": "markdown",
   "metadata": {},
   "source": [
    "## Constants"
   ]
  },
  {
   "cell_type": "code",
   "execution_count": 2,
   "metadata": {
    "tags": [
     "parameters"
    ]
   },
   "outputs": [],
   "source": [
    "# Cell has the tag 'parameters'\n",
    "path_to_data = '../../../tests/data'\n",
    "\n",
    "output_path = os.path.join(path_to_data, '5.quantification', 'gait')"
   ]
  },
  {
   "cell_type": "code",
   "execution_count": 3,
   "metadata": {},
   "outputs": [],
   "source": [
    "# paths and files\n",
    "path_to_feature_input = os.path.join(path_to_data, '3.extracted_features', 'gait')\n",
    "path_to_prediction_input = os.path.join(path_to_data, '4.predictions', 'gait')\n",
    "\n",
    "\n",
    "meta_filename = 'arm_swing_meta.json'\n",
    "time_filename = 'arm_swing_time.bin'\n",
    "values_filename = 'arm_swing_values.bin'\n",
    "\n",
    "pred_arm_swing_colname = 'pred_arm_swing'\n",
    "\n",
    "window_length_s = 3\n",
    "window_step_size = 0.75\n",
    "segment_gap_s = 3\n",
    "min_segment_length_s = 3"
   ]
  },
  {
   "cell_type": "markdown",
   "metadata": {},
   "source": [
    "## Load data"
   ]
  },
  {
   "cell_type": "markdown",
   "metadata": {},
   "source": [
    "### Features"
   ]
  },
  {
   "cell_type": "code",
   "execution_count": 4,
   "metadata": {},
   "outputs": [
    {
     "data": {
      "text/html": [
       "<div>\n",
       "<style scoped>\n",
       "    .dataframe tbody tr th:only-of-type {\n",
       "        vertical-align: middle;\n",
       "    }\n",
       "\n",
       "    .dataframe tbody tr th {\n",
       "        vertical-align: top;\n",
       "    }\n",
       "\n",
       "    .dataframe thead th {\n",
       "        text-align: right;\n",
       "    }\n",
       "</style>\n",
       "<table border=\"1\" class=\"dataframe\">\n",
       "  <thead>\n",
       "    <tr style=\"text-align: right;\">\n",
       "      <th></th>\n",
       "      <th>time</th>\n",
       "      <th>angle_perc_power</th>\n",
       "      <th>range_of_motion</th>\n",
       "      <th>forward_peak_ang_vel_mean</th>\n",
       "      <th>forward_peak_ang_vel_std</th>\n",
       "      <th>backward_peak_ang_vel_mean</th>\n",
       "      <th>backward_peak_ang_vel_std</th>\n",
       "      <th>std_norm_acc</th>\n",
       "      <th>grav_accelerometer_x_mean</th>\n",
       "      <th>grav_accelerometer_x_std</th>\n",
       "      <th>...</th>\n",
       "      <th>cc_7_gyroscope</th>\n",
       "      <th>cc_8_gyroscope</th>\n",
       "      <th>cc_9_gyroscope</th>\n",
       "      <th>cc_10_gyroscope</th>\n",
       "      <th>cc_11_gyroscope</th>\n",
       "      <th>cc_12_gyroscope</th>\n",
       "      <th>cc_13_gyroscope</th>\n",
       "      <th>cc_14_gyroscope</th>\n",
       "      <th>cc_15_gyroscope</th>\n",
       "      <th>cc_16_gyroscope</th>\n",
       "    </tr>\n",
       "  </thead>\n",
       "  <tbody>\n",
       "    <tr>\n",
       "      <th>0</th>\n",
       "      <td>0.00</td>\n",
       "      <td>0.933953</td>\n",
       "      <td>2.875672</td>\n",
       "      <td>8.193249</td>\n",
       "      <td>3.292503</td>\n",
       "      <td>4.938885</td>\n",
       "      <td>0.0</td>\n",
       "      <td>0.154163</td>\n",
       "      <td>-0.254277</td>\n",
       "      <td>0.201148</td>\n",
       "      <td>...</td>\n",
       "      <td>0.911306</td>\n",
       "      <td>3.910365</td>\n",
       "      <td>2.699518</td>\n",
       "      <td>2.580446</td>\n",
       "      <td>1.602991</td>\n",
       "      <td>0.556265</td>\n",
       "      <td>-1.046647</td>\n",
       "      <td>0.541998</td>\n",
       "      <td>-0.346748</td>\n",
       "      <td>0.365782</td>\n",
       "    </tr>\n",
       "    <tr>\n",
       "      <th>1</th>\n",
       "      <td>0.75</td>\n",
       "      <td>0.992147</td>\n",
       "      <td>4.295439</td>\n",
       "      <td>3.288568</td>\n",
       "      <td>1.612178</td>\n",
       "      <td>4.401343</td>\n",
       "      <td>0.0</td>\n",
       "      <td>0.160148</td>\n",
       "      <td>-0.395660</td>\n",
       "      <td>0.176619</td>\n",
       "      <td>...</td>\n",
       "      <td>2.608440</td>\n",
       "      <td>4.632687</td>\n",
       "      <td>2.083540</td>\n",
       "      <td>2.834911</td>\n",
       "      <td>1.474186</td>\n",
       "      <td>-0.073377</td>\n",
       "      <td>-2.122460</td>\n",
       "      <td>0.373824</td>\n",
       "      <td>1.433426</td>\n",
       "      <td>1.711163</td>\n",
       "    </tr>\n",
       "  </tbody>\n",
       "</table>\n",
       "<p>2 rows × 64 columns</p>\n",
       "</div>"
      ],
      "text/plain": [
       "   time  angle_perc_power  range_of_motion  forward_peak_ang_vel_mean  \\\n",
       "0  0.00          0.933953         2.875672                   8.193249   \n",
       "1  0.75          0.992147         4.295439                   3.288568   \n",
       "\n",
       "   forward_peak_ang_vel_std  backward_peak_ang_vel_mean  \\\n",
       "0                  3.292503                    4.938885   \n",
       "1                  1.612178                    4.401343   \n",
       "\n",
       "   backward_peak_ang_vel_std  std_norm_acc  grav_accelerometer_x_mean  \\\n",
       "0                        0.0      0.154163                  -0.254277   \n",
       "1                        0.0      0.160148                  -0.395660   \n",
       "\n",
       "   grav_accelerometer_x_std  ...  cc_7_gyroscope  cc_8_gyroscope  \\\n",
       "0                  0.201148  ...        0.911306        3.910365   \n",
       "1                  0.176619  ...        2.608440        4.632687   \n",
       "\n",
       "   cc_9_gyroscope  cc_10_gyroscope  cc_11_gyroscope  cc_12_gyroscope  \\\n",
       "0        2.699518         2.580446         1.602991         0.556265   \n",
       "1        2.083540         2.834911         1.474186        -0.073377   \n",
       "\n",
       "   cc_13_gyroscope  cc_14_gyroscope  cc_15_gyroscope  cc_16_gyroscope  \n",
       "0        -1.046647         0.541998        -0.346748         0.365782  \n",
       "1        -2.122460         0.373824         1.433426         1.711163  \n",
       "\n",
       "[2 rows x 64 columns]"
      ]
     },
     "execution_count": 4,
     "metadata": {},
     "output_type": "execute_result"
    }
   ],
   "source": [
    "metadata_dict = tsdf.load_metadata_from_path(os.path.join(path_to_feature_input, meta_filename))\n",
    "metadata_time = metadata_dict[time_filename]\n",
    "metadata_samples = metadata_dict[values_filename]\n",
    "\n",
    "df_features = tsdf.load_dataframe_from_binaries([metadata_time, metadata_samples], tsdf.constants.ConcatenationType.columns)\n",
    "\n",
    "df_features.head(2)"
   ]
  },
  {
   "cell_type": "markdown",
   "metadata": {},
   "source": [
    "### Predictions"
   ]
  },
  {
   "cell_type": "code",
   "execution_count": 5,
   "metadata": {},
   "outputs": [
    {
     "data": {
      "text/html": [
       "<div>\n",
       "<style scoped>\n",
       "    .dataframe tbody tr th:only-of-type {\n",
       "        vertical-align: middle;\n",
       "    }\n",
       "\n",
       "    .dataframe tbody tr th {\n",
       "        vertical-align: top;\n",
       "    }\n",
       "\n",
       "    .dataframe thead th {\n",
       "        text-align: right;\n",
       "    }\n",
       "</style>\n",
       "<table border=\"1\" class=\"dataframe\">\n",
       "  <thead>\n",
       "    <tr style=\"text-align: right;\">\n",
       "      <th></th>\n",
       "      <th>time</th>\n",
       "      <th>pred_arm_swing</th>\n",
       "    </tr>\n",
       "  </thead>\n",
       "  <tbody>\n",
       "    <tr>\n",
       "      <th>0</th>\n",
       "      <td>0.00</td>\n",
       "      <td>1</td>\n",
       "    </tr>\n",
       "    <tr>\n",
       "      <th>1</th>\n",
       "      <td>0.75</td>\n",
       "      <td>1</td>\n",
       "    </tr>\n",
       "  </tbody>\n",
       "</table>\n",
       "</div>"
      ],
      "text/plain": [
       "   time  pred_arm_swing\n",
       "0  0.00               1\n",
       "1  0.75               1"
      ]
     },
     "execution_count": 5,
     "metadata": {},
     "output_type": "execute_result"
    }
   ],
   "source": [
    "metadata_dict = tsdf.load_metadata_from_path(os.path.join(path_to_prediction_input, meta_filename))\n",
    "metadata_time = metadata_dict[time_filename]\n",
    "metadata_samples = metadata_dict[values_filename]\n",
    "\n",
    "df_predictions = tsdf.load_dataframe_from_binaries([metadata_time, metadata_samples], tsdf.constants.ConcatenationType.columns)\n",
    "\n",
    "df_predictions.head(2)"
   ]
  },
  {
   "cell_type": "markdown",
   "metadata": {},
   "source": [
    "### Validate"
   ]
  },
  {
   "cell_type": "code",
   "execution_count": 6,
   "metadata": {},
   "outputs": [],
   "source": [
    "# dataframes have same length\n",
    "assert df_features.shape[0] == df_predictions.shape[0]\n",
    "\n",
    "# dataframes have same time column\n",
    "assert df_features['time'].equals(df_predictions['time'])"
   ]
  },
  {
   "cell_type": "markdown",
   "metadata": {},
   "source": [
    "## Prepare data"
   ]
  },
  {
   "cell_type": "code",
   "execution_count": 7,
   "metadata": {},
   "outputs": [],
   "source": [
    "# subset features\n",
    "l_feature_cols = ['time', 'range_of_motion', 'forward_peak_ang_vel_mean', 'backward_peak_ang_vel_mean']\n",
    "df_features = df_features[l_feature_cols]\n",
    "\n",
    "# concatenate features and predictions\n",
    "df = pd.concat([df_features, df_predictions[pred_arm_swing_colname]], axis=1)\n",
    "\n",
    "# temporarily for testing: manually determine predictions\n",
    "df[pred_arm_swing_colname] = np.concatenate([np.repeat([1], df.shape[0]//3), np.repeat([0], df.shape[0]//3), np.repeat([1], df.shape[0] - 2*df.shape[0]//3)], axis=0)\n",
    "\n",
    "# keep only predicted arm swing\n",
    "df_arm_swing = df.loc[df[pred_arm_swing_colname]==1].copy().reset_index(drop=True)\n",
    "\n",
    "del df\n",
    "\n",
    "# create peak angular velocity\n",
    "df_arm_swing.loc[:, 'peak_ang_vel'] = df_arm_swing.loc[:, ['forward_peak_ang_vel_mean', 'backward_peak_ang_vel_mean']].mean(axis=1)\n",
    "df_arm_swing = df_arm_swing.drop(columns=['forward_peak_ang_vel_mean', 'backward_peak_ang_vel_mean'])"
   ]
  },
  {
   "cell_type": "markdown",
   "metadata": {},
   "source": [
    "### Segmenting"
   ]
  },
  {
   "cell_type": "code",
   "execution_count": 8,
   "metadata": {},
   "outputs": [],
   "source": [
    "df_arm_swing = create_segments(\n",
    "    df=df_arm_swing,\n",
    "    time_colname='time',\n",
    "    segment_nr_colname='segment_nr',\n",
    "    minimum_gap_s=segment_gap_s\n",
    ")\n",
    "\n",
    "df_arm_swing = discard_segments(\n",
    "    df=df_arm_swing,\n",
    "    time_colname='time',\n",
    "    segment_nr_colname='segment_nr',\n",
    "    minimum_segment_length_s=min_segment_length_s\n",
    ")"
   ]
  },
  {
   "cell_type": "markdown",
   "metadata": {},
   "source": [
    "## Quantify arm swing"
   ]
  },
  {
   "cell_type": "code",
   "execution_count": 9,
   "metadata": {},
   "outputs": [
    {
     "data": {
      "text/html": [
       "<div>\n",
       "<style scoped>\n",
       "    .dataframe tbody tr th:only-of-type {\n",
       "        vertical-align: middle;\n",
       "    }\n",
       "\n",
       "    .dataframe tbody tr th {\n",
       "        vertical-align: top;\n",
       "    }\n",
       "\n",
       "    .dataframe thead th {\n",
       "        text-align: right;\n",
       "    }\n",
       "</style>\n",
       "<table border=\"1\" class=\"dataframe\">\n",
       "  <thead>\n",
       "    <tr style=\"text-align: right;\">\n",
       "      <th></th>\n",
       "      <th>segment_nr</th>\n",
       "      <th>range_of_motion_median</th>\n",
       "      <th>range_of_motion_quantile_95</th>\n",
       "      <th>peak_ang_vel_median</th>\n",
       "      <th>peak_ang_vel_quantile_95</th>\n",
       "      <th>time</th>\n",
       "      <th>segment_duration_s</th>\n",
       "    </tr>\n",
       "  </thead>\n",
       "  <tbody>\n",
       "    <tr>\n",
       "      <th>0</th>\n",
       "      <td>1</td>\n",
       "      <td>0.000000</td>\n",
       "      <td>12.439385</td>\n",
       "      <td>0.000000</td>\n",
       "      <td>50.282076</td>\n",
       "      <td>0.00</td>\n",
       "      <td>160.5</td>\n",
       "    </tr>\n",
       "    <tr>\n",
       "      <th>1</th>\n",
       "      <td>2</td>\n",
       "      <td>4.657872</td>\n",
       "      <td>16.370933</td>\n",
       "      <td>10.375275</td>\n",
       "      <td>52.173041</td>\n",
       "      <td>567.43</td>\n",
       "      <td>160.5</td>\n",
       "    </tr>\n",
       "  </tbody>\n",
       "</table>\n",
       "</div>"
      ],
      "text/plain": [
       "   segment_nr  range_of_motion_median  range_of_motion_quantile_95  \\\n",
       "0           1                0.000000                    12.439385   \n",
       "1           2                4.657872                    16.370933   \n",
       "\n",
       "   peak_ang_vel_median  peak_ang_vel_quantile_95    time  segment_duration_s  \n",
       "0             0.000000                 50.282076    0.00               160.5  \n",
       "1            10.375275                 52.173041  567.43               160.5  "
      ]
     },
     "execution_count": 9,
     "metadata": {},
     "output_type": "execute_result"
    }
   ],
   "source": [
    "df_aggregates = aggregate_segments(\n",
    "    df=df_arm_swing,\n",
    "    time_colname='time',\n",
    "    segment_nr_colname='segment_nr',\n",
    "    window_step_size_s=window_step_size,\n",
    "    l_metrics=['range_of_motion', 'peak_ang_vel'],\n",
    "    l_aggregates=['median'],\n",
    "    l_quantiles=[0.95]\n",
    ")\n",
    "\n",
    "df_aggregates.head(2)"
   ]
  },
  {
   "cell_type": "code",
   "execution_count": 10,
   "metadata": {},
   "outputs": [],
   "source": [
    "df_aggregates['segment_duration_ms'] = df_aggregates['segment_duration_s'] * 1000"
   ]
  },
  {
   "cell_type": "markdown",
   "metadata": {},
   "source": [
    "## Store data"
   ]
  },
  {
   "cell_type": "code",
   "execution_count": 11,
   "metadata": {},
   "outputs": [],
   "source": [
    "df_aggregates = df_aggregates.drop(columns=['segment_nr'])"
   ]
  },
  {
   "cell_type": "code",
   "execution_count": 12,
   "metadata": {},
   "outputs": [],
   "source": [
    "metadata_samples.__setattr__('file_name', 'arm_swing_values.bin')\n",
    "metadata_samples.__setattr__('file_dir_path', output_path)\n",
    "metadata_time.__setattr__('file_name', 'arm_swing_time.bin')\n",
    "metadata_time.__setattr__('file_dir_path', output_path)\n",
    "\n",
    "metadata_samples.__setattr__('channels', ['range_of_motion_median', 'range_of_motion_quantile_95',\n",
    "                                          'peak_ang_vel_median', 'peak_ang_vel_quantile_95'])\n",
    "metadata_samples.__setattr__('units', ['deg', 'deg', 'deg/s', 'deg/s'])\n",
    "metadata_samples.__setattr__('data_type', np.float32)\n",
    "metadata_samples.__setattr__('bits', 32)\n",
    "\n",
    "metadata_time.__setattr__('channels', ['time', 'segment_duration_ms'])\n",
    "metadata_time.__setattr__('units', ['relative_time_ms', 'ms'])\n",
    "metadata_time.__setattr__('data_type', np.int32)\n",
    "metadata_time.__setattr__('bits', 32)"
   ]
  },
  {
   "cell_type": "code",
   "execution_count": 13,
   "metadata": {},
   "outputs": [],
   "source": [
    "if not os.path.exists(output_path):\n",
    "    os.makedirs(output_path)\n",
    "\n",
    "# store binaries and metadata\n",
    "tsdf.write_dataframe_to_binaries(output_path, df_aggregates, [metadata_time, metadata_samples])\n",
    "tsdf.write_metadata([metadata_time, metadata_samples], 'arm_swing_meta.json')"
   ]
  }
 ],
 "metadata": {
  "kernelspec": {
   "display_name": ".venv",
   "language": "python",
   "name": "python3"
  },
  "language_info": {
   "codemirror_mode": {
    "name": "ipython",
    "version": 3
   },
   "file_extension": ".py",
   "mimetype": "text/x-python",
   "name": "python",
   "nbconvert_exporter": "python",
   "pygments_lexer": "ipython3",
   "version": "3.9.13"
  }
 },
 "nbformat": 4,
 "nbformat_minor": 2
}

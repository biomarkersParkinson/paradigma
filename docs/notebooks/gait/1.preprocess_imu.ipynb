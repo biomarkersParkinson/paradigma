{
 "cells": [
  {
   "cell_type": "markdown",
   "metadata": {},
   "source": [
    "# Preprocess IMU"
   ]
  },
  {
   "cell_type": "markdown",
   "metadata": {},
   "source": [
    "## Modules"
   ]
  },
  {
   "cell_type": "code",
   "execution_count": 38,
   "metadata": {},
   "outputs": [
    {
     "name": "stdout",
     "output_type": "stream",
     "text": [
      "The autoreload extension is already loaded. To reload it, use:\n",
      "  %reload_ext autoreload\n"
     ]
    }
   ],
   "source": [
    "# Automatically reload modules\n",
    "%load_ext autoreload\n",
    "%autoreload 2\n",
    "\n",
    "import dbpd\n",
    "import numpy as np\n",
    "import os\n",
    "import tsdf\n",
    "\n",
    "from dbpd import DataColumns"
   ]
  },
  {
   "cell_type": "markdown",
   "metadata": {},
   "source": [
    "## Constants"
   ]
  },
  {
   "cell_type": "code",
   "execution_count": 23,
   "metadata": {},
   "outputs": [],
   "source": [
    "sensor = 'IMU'\n",
    "\n",
    "path_to_data = '../../../tests/data/'\n",
    "input_path = os.path.join(path_to_data, '1.sensor_data')\n",
    "output_path = os.path.join(path_to_data, '2.preprocessed_data')\n",
    "\n",
    "meta_filename = f'{sensor}_meta.json'\n",
    "values_filename = f'{sensor}_samples.bin'\n",
    "time_filename = f'{sensor}_time.bin'\n",
    "quality_filename = f'{sensor}_quality.bin'\n",
    "\n",
    "l_acceleration_cols = [\n",
    "    DataColumns.ACCELERATION_X,\n",
    "    DataColumns.ACCELERATION_Y,\n",
    "    DataColumns.ACCELERATION_Z\n",
    "]\n",
    "l_gyroscope_cols = [\n",
    "    DataColumns.ROTATION_X,\n",
    "    DataColumns.ROTATION_Y,\n",
    "    DataColumns.ROTATION_Z,\n",
    "]\n",
    "\n",
    "rotation_units = 'deg/s'\n",
    "acceleration_units = 'm/s^2'\n",
    "\n",
    "# filtering\n",
    "fs = 100\n",
    "lower_cutoff_frequency = 0.3\n",
    "filter_order = 4\n",
    "\n",
    "# store metadata\n",
    "d_channels = {\n",
    "    DataColumns.ROTATION_X: rotation_units,\n",
    "    DataColumns.ROTATION_Y: rotation_units,\n",
    "    DataColumns.ROTATION_Z: rotation_units,\n",
    "    DataColumns.ACCELERATION_X: acceleration_units,\n",
    "    DataColumns.ACCELERATION_Y: acceleration_units,\n",
    "    DataColumns.ACCELERATION_Z: acceleration_units,\n",
    "    f'grav_{DataColumns.ACCELERATION_X}': acceleration_units,\n",
    "    f'grav_{DataColumns.ACCELERATION_Y}': acceleration_units,\n",
    "    f'grav_{DataColumns.ACCELERATION_Z}': acceleration_units,\n",
    "}"
   ]
  },
  {
   "cell_type": "markdown",
   "metadata": {},
   "source": [
    "## Load data"
   ]
  },
  {
   "cell_type": "code",
   "execution_count": 49,
   "metadata": {},
   "outputs": [
    {
     "data": {
      "text/html": [
       "<div>\n",
       "<style scoped>\n",
       "    .dataframe tbody tr th:only-of-type {\n",
       "        vertical-align: middle;\n",
       "    }\n",
       "\n",
       "    .dataframe tbody tr th {\n",
       "        vertical-align: top;\n",
       "    }\n",
       "\n",
       "    .dataframe thead th {\n",
       "        text-align: right;\n",
       "    }\n",
       "</style>\n",
       "<table border=\"1\" class=\"dataframe\">\n",
       "  <thead>\n",
       "    <tr style=\"text-align: right;\">\n",
       "      <th></th>\n",
       "      <th>time</th>\n",
       "      <th>acceleration_x</th>\n",
       "      <th>acceleration_y</th>\n",
       "      <th>acceleration_z</th>\n",
       "      <th>rotation_x</th>\n",
       "      <th>rotation_y</th>\n",
       "      <th>rotation_z</th>\n",
       "    </tr>\n",
       "  </thead>\n",
       "  <tbody>\n",
       "    <tr>\n",
       "      <th>5109</th>\n",
       "      <td>10.040039</td>\n",
       "      <td>1261</td>\n",
       "      <td>-168</td>\n",
       "      <td>-1673</td>\n",
       "      <td>-774</td>\n",
       "      <td>-59</td>\n",
       "      <td>-255</td>\n",
       "    </tr>\n",
       "    <tr>\n",
       "      <th>63936</th>\n",
       "      <td>10.000000</td>\n",
       "      <td>-2130</td>\n",
       "      <td>807</td>\n",
       "      <td>-559</td>\n",
       "      <td>-2878</td>\n",
       "      <td>216</td>\n",
       "      <td>75</td>\n",
       "    </tr>\n",
       "  </tbody>\n",
       "</table>\n",
       "</div>"
      ],
      "text/plain": [
       "            time  acceleration_x  ...  rotation_y  rotation_z\n",
       "5109   10.040039            1261  ...         -59        -255\n",
       "63936  10.000000           -2130  ...         216          75\n",
       "\n",
       "[2 rows x 7 columns]"
      ]
     },
     "execution_count": 49,
     "metadata": {},
     "output_type": "execute_result"
    }
   ],
   "source": [
    "metadata_dict = tsdf.load_metadata_from_path(os.path.join(input_path, meta_filename))\n",
    "metadata_time = metadata_dict[time_filename]\n",
    "metadata_samples = metadata_dict[values_filename]\n",
    "\n",
    "df = tsdf.load_dataframe_from_binaries([metadata_time, metadata_samples], tsdf.constants.ConcatenationType.columns)\n",
    "\n",
    "df.sample(2)"
   ]
  },
  {
   "cell_type": "markdown",
   "metadata": {},
   "source": [
    "## Preprocess data"
   ]
  },
  {
   "cell_type": "code",
   "execution_count": 50,
   "metadata": {},
   "outputs": [],
   "source": [
    "ppp = dbpd.PreprocessingPipelineConfig(\n",
    "    time_column='time',\n",
    "    sampling_frequency=fs,\n",
    "    resampling_frequency=fs,\n",
    "    gyroscope_units=rotation_units\n",
    "    )\n",
    "\n",
    "df['time'] = dbpd.imu_preprocessing.transform_time_array(\n",
    "    time_array=df['time'],\n",
    "    scale_factor=1000, \n",
    "    data_in_delta_time=True)\n",
    "\n",
    "df = dbpd.imu_preprocessing.resample_data(\n",
    "    config=ppp,\n",
    "    time_abs_array=np.array(df['time']),\n",
    "    values_unscaled=np.array(df[l_acceleration_cols + l_gyroscope_cols]),\n",
    "    scale_factors=metadata_samples.scale_factors)\n",
    "\n",
    "for col in l_acceleration_cols:\n",
    "    for result, side_pass in zip(['filt', 'grav'], ['lp', 'hp']):\n",
    "        df[f'{result}_{col}'] = dbpd.imu_preprocessing.butterworth_filter(\n",
    "            config=ppp,\n",
    "            single_sensor_col=np.array(df[col]),\n",
    "            order=filter_order,\n",
    "            cutoff_frequency=lower_cutoff_frequency,\n",
    "            passband=side_pass\n",
    "            )\n",
    "        \n",
    "    df = df.drop(columns=[col])\n",
    "    df = df.rename(columns={f'filt_{col}': col})"
   ]
  },
  {
   "cell_type": "markdown",
   "metadata": {},
   "source": [
    "# Store data"
   ]
  },
  {
   "cell_type": "code",
   "execution_count": 52,
   "metadata": {},
   "outputs": [],
   "source": [
    "# change channels and units accordingly\n",
    "metadata_samples.__setattr__('channels', list(d_channels.keys()))\n",
    "metadata_samples.__setattr__('units', list(d_channels.values()))\n",
    "\n",
    "# change output path\n",
    "metadata_samples.__setattr__('file_dir_path', output_path)  \n",
    "metadata_time.__setattr__('file_dir_path', output_path)"
   ]
  },
  {
   "cell_type": "code",
   "execution_count": 53,
   "metadata": {},
   "outputs": [],
   "source": [
    "if not os.path.exists(output_path):\n",
    "    os.makedirs(output_path)\n",
    "\n",
    "# store binaries and metadata\n",
    "tsdf.write_dataframe_to_binaries(output_path, df, [metadata_time, metadata_samples])\n",
    "tsdf.write_metadata([metadata_time, metadata_samples], meta_filename)"
   ]
  }
 ],
 "metadata": {
  "kernelspec": {
   "display_name": "gait",
   "language": "python",
   "name": "python3"
  },
  "language_info": {
   "codemirror_mode": {
    "name": "ipython",
    "version": 3
   },
   "file_extension": ".py",
   "mimetype": "text/x-python",
   "name": "python",
   "nbconvert_exporter": "python",
   "pygments_lexer": "ipython3",
   "version": "3.9.12"
  }
 },
 "nbformat": 4,
 "nbformat_minor": 2
}

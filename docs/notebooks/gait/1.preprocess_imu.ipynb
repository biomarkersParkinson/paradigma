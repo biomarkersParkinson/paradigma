{
 "cells": [
  {
   "cell_type": "markdown",
   "metadata": {},
   "source": [
    "# Preprocess IMU"
   ]
  },
  {
   "cell_type": "markdown",
   "metadata": {},
   "source": [
    "## Modules"
   ]
  },
  {
   "cell_type": "code",
   "execution_count": 1,
   "metadata": {},
   "outputs": [],
   "source": [
    "# Automatically reload modules\n",
    "%load_ext autoreload\n",
    "%autoreload 2\n",
    "\n",
    "import dbpd\n",
    "import os\n",
    "import tsdf"
   ]
  },
  {
   "cell_type": "markdown",
   "metadata": {},
   "source": [
    "## Constants"
   ]
  },
  {
   "cell_type": "code",
   "execution_count": 2,
   "metadata": {},
   "outputs": [],
   "source": [
    "# tsdf files\n",
    "subject = '0A0B82C94960D6DCABC1F597EC0BA657F4B0EDC320702BCEE3B6955CE924DE05'\n",
    "sensor = 'IMU'\n",
    "week_nr = '104'\n",
    "segment_nr = '0001'\n",
    "\n",
    "path_to_data = r'C:\\Users\\erik_\\Documents\\PhD\\data\\ppp\\preprocessed\\test_data'\n",
    "\n",
    "input_path = os.path.join(path_to_data, '1.input', subject, sensor)\n",
    "output_path = os.path.join(path_to_data, '2.filtered', subject, sensor)\n",
    "\n",
    "base_filename = f'WatchData.{sensor}.Week{week_nr}.raw_segment{segment_nr}'\n",
    "meta_filename = f'{base_filename}_meta.json'\n",
    "values_filename = f'{base_filename}_samples.bin'\n",
    "time_filename = f'{base_filename}_time.bin'\n",
    "quality_filename = f'{base_filename}_quality.bin'\n",
    "\n",
    "l_acceleration_cols = ['acceleration_x', 'acceleration_y', 'acceleration_z']\n",
    "\n",
    "# filtering\n",
    "fs = 100\n",
    "lower_cutoff_frequency = 0.3\n",
    "filter_order = 4"
   ]
  },
  {
   "cell_type": "markdown",
   "metadata": {},
   "source": [
    "## Load data"
   ]
  },
  {
   "cell_type": "code",
   "execution_count": 6,
   "metadata": {},
   "outputs": [
    {
     "data": {
      "text/html": [
       "<div>\n",
       "<style scoped>\n",
       "    .dataframe tbody tr th:only-of-type {\n",
       "        vertical-align: middle;\n",
       "    }\n",
       "\n",
       "    .dataframe tbody tr th {\n",
       "        vertical-align: top;\n",
       "    }\n",
       "\n",
       "    .dataframe thead th {\n",
       "        text-align: right;\n",
       "    }\n",
       "</style>\n",
       "<table border=\"1\" class=\"dataframe\">\n",
       "  <thead>\n",
       "    <tr style=\"text-align: right;\">\n",
       "      <th></th>\n",
       "      <th>time</th>\n",
       "      <th>acceleration_x</th>\n",
       "      <th>acceleration_y</th>\n",
       "      <th>acceleration_z</th>\n",
       "      <th>rotation_x</th>\n",
       "      <th>rotation_y</th>\n",
       "      <th>rotation_z</th>\n",
       "    </tr>\n",
       "  </thead>\n",
       "  <tbody>\n",
       "    <tr>\n",
       "      <th>11633</th>\n",
       "      <td>10.0</td>\n",
       "      <td>1154</td>\n",
       "      <td>1392</td>\n",
       "      <td>-846</td>\n",
       "      <td>15</td>\n",
       "      <td>-31</td>\n",
       "      <td>-3</td>\n",
       "    </tr>\n",
       "    <tr>\n",
       "      <th>54130</th>\n",
       "      <td>10.0</td>\n",
       "      <td>-2489</td>\n",
       "      <td>331</td>\n",
       "      <td>421</td>\n",
       "      <td>69</td>\n",
       "      <td>800</td>\n",
       "      <td>-231</td>\n",
       "    </tr>\n",
       "  </tbody>\n",
       "</table>\n",
       "</div>"
      ],
      "text/plain": [
       "       time  acceleration_x  acceleration_y  acceleration_z  rotation_x  \\\n",
       "11633  10.0            1154            1392            -846          15   \n",
       "54130  10.0           -2489             331             421          69   \n",
       "\n",
       "       rotation_y  rotation_z  \n",
       "11633         -31          -3  \n",
       "54130         800        -231  "
      ]
     },
     "execution_count": 6,
     "metadata": {},
     "output_type": "execute_result"
    }
   ],
   "source": [
    "metadata_dict = tsdf.load_metadata_from_path(os.path.join(input_path, meta_filename))\n",
    "metadata_time = metadata_dict[time_filename]\n",
    "metadata_samples = metadata_dict[values_filename]\n",
    "\n",
    "df = tsdf.load_dataframe_from_binaries([metadata_time, metadata_samples], tsdf.constants.ConcatenationType.columns)\n",
    "\n",
    "df.sample(2)"
   ]
  },
  {
   "cell_type": "markdown",
   "metadata": {},
   "source": [
    "## Preprocess data"
   ]
  },
  {
   "cell_type": "code",
   "execution_count": 7,
   "metadata": {},
   "outputs": [],
   "source": [
    "ppp = dbpd.PreprocessingPipeline(df, 'time', fs, fs, True)\n",
    "\n",
    "ppp.df_sensors['time'] = ppp.transform_time_array(scale_factor=1000, do_convert_to_abs_time=True)\n",
    "\n",
    "ppp.df_sensors = ppp.resample_data(metadata_samples.scale_factors)\n",
    "\n",
    "for col in l_acceleration_cols:\n",
    "    for result, side_pass in zip(['filt', 'grav'], ['lp', 'hp']):\n",
    "        ppp.df_sensors[f'{result}_{col}'] = ppp.butterworth_filter(sensor_col=col, order=filter_order,\n",
    "                                                                   cutoff_frequency=lower_cutoff_frequency,\n",
    "                                                                   passband=side_pass)\n",
    "        \n",
    "    ppp.df_sensors = ppp.df_sensors.drop(columns=[col])\n",
    "    ppp.df_sensors = ppp.df_sensors.rename(columns={f'filt_{col}': col})"
   ]
  },
  {
   "cell_type": "markdown",
   "metadata": {},
   "source": [
    "# Store data"
   ]
  },
  {
   "cell_type": "code",
   "execution_count": 9,
   "metadata": {},
   "outputs": [],
   "source": [
    "metadata_time.file_dir_path = output_path\n",
    "metadata_samples.file_dir_path = output_path"
   ]
  },
  {
   "cell_type": "code",
   "execution_count": 10,
   "metadata": {},
   "outputs": [],
   "source": [
    "if not os.path.exists(output_path):\n",
    "    os.makedirs(output_path)\n",
    "\n",
    "tsdf.write_dataframe_to_binaries(output_path, ppp.df_sensors, [metadata_time, metadata_samples])\n",
    "tsdf.write_metadata([metadata_time, metadata_samples], meta_filename)"
   ]
  }
 ],
 "metadata": {
  "kernelspec": {
   "display_name": "gait",
   "language": "python",
   "name": "python3"
  },
  "language_info": {
   "codemirror_mode": {
    "name": "ipython",
    "version": 3
   },
   "file_extension": ".py",
   "mimetype": "text/x-python",
   "name": "python",
   "nbconvert_exporter": "python",
   "pygments_lexer": "ipython3",
   "version": "3.9.12"
  }
 },
 "nbformat": 4,
 "nbformat_minor": 2
}

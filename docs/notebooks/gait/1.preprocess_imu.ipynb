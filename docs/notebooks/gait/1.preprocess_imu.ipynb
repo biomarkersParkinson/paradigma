{
 "cells": [
  {
   "cell_type": "markdown",
   "metadata": {},
   "source": [
    "# Preprocess IMU"
   ]
  },
  {
   "cell_type": "markdown",
   "metadata": {},
   "source": [
    "## Modules"
   ]
  },
  {
   "cell_type": "code",
   "execution_count": 1,
   "metadata": {},
   "outputs": [],
   "source": [
    "# Automatically reload modules\n",
    "%load_ext autoreload\n",
    "%autoreload 2\n",
    "\n",
    "import dbpd\n",
    "import numpy as np\n",
    "import os\n",
    "import tsdf\n",
    "\n",
    "from dbpd import DataColumns"
   ]
  },
  {
   "cell_type": "markdown",
   "metadata": {},
   "source": [
    "## Constants"
   ]
  },
  {
   "cell_type": "code",
   "execution_count": 2,
   "metadata": {},
   "outputs": [],
   "source": [
    "sensor = 'IMU'\n",
    "\n",
    "path_to_data = '../../../tests/data/'\n",
    "input_path = os.path.join(path_to_data, '1.sensor_data')\n",
    "output_path = os.path.join(path_to_data, '2.preprocessed_data')\n",
    "\n",
    "meta_filename = f'{sensor}_meta.json'\n",
    "values_filename = f'{sensor}_samples.bin'\n",
    "time_filename = f'{sensor}_time.bin'\n",
    "\n",
    "rotation_units = 'deg/s'\n",
    "acceleration_units = 'm/s^2'\n",
    "\n",
    "d_channels_units = {\n",
    "    DataColumns.ACCELERATION_X: acceleration_units,\n",
    "    DataColumns.ACCELERATION_Y: acceleration_units,\n",
    "    DataColumns.ACCELERATION_Z: acceleration_units,\n",
    "    DataColumns.ROTATION_X: rotation_units,\n",
    "    DataColumns.ROTATION_Y: rotation_units,\n",
    "    DataColumns.ROTATION_Z: rotation_units,\n",
    "}\n",
    "\n",
    "# filtering\n",
    "fs = 100\n",
    "lower_cutoff_frequency = 0.3\n",
    "filter_order = 4\n"
   ]
  },
  {
   "cell_type": "markdown",
   "metadata": {},
   "source": [
    "## Load data"
   ]
  },
  {
   "cell_type": "code",
   "execution_count": 7,
   "metadata": {},
   "outputs": [
    {
     "data": {
      "text/html": [
       "<div>\n",
       "<style scoped>\n",
       "    .dataframe tbody tr th:only-of-type {\n",
       "        vertical-align: middle;\n",
       "    }\n",
       "\n",
       "    .dataframe tbody tr th {\n",
       "        vertical-align: top;\n",
       "    }\n",
       "\n",
       "    .dataframe thead th {\n",
       "        text-align: right;\n",
       "    }\n",
       "</style>\n",
       "<table border=\"1\" class=\"dataframe\">\n",
       "  <thead>\n",
       "    <tr style=\"text-align: right;\">\n",
       "      <th></th>\n",
       "      <th>time</th>\n",
       "      <th>acceleration_x</th>\n",
       "      <th>acceleration_y</th>\n",
       "      <th>acceleration_z</th>\n",
       "      <th>rotation_x</th>\n",
       "      <th>rotation_y</th>\n",
       "      <th>rotation_z</th>\n",
       "    </tr>\n",
       "  </thead>\n",
       "  <tbody>\n",
       "    <tr>\n",
       "      <th>32853</th>\n",
       "      <td>10.0</td>\n",
       "      <td>297</td>\n",
       "      <td>1210</td>\n",
       "      <td>-1510</td>\n",
       "      <td>15</td>\n",
       "      <td>-21</td>\n",
       "      <td>-1</td>\n",
       "    </tr>\n",
       "    <tr>\n",
       "      <th>17843</th>\n",
       "      <td>10.0</td>\n",
       "      <td>310</td>\n",
       "      <td>1542</td>\n",
       "      <td>-1133</td>\n",
       "      <td>16</td>\n",
       "      <td>-21</td>\n",
       "      <td>-3</td>\n",
       "    </tr>\n",
       "  </tbody>\n",
       "</table>\n",
       "</div>"
      ],
      "text/plain": [
       "       time  acceleration_x  acceleration_y  acceleration_z  rotation_x  \\\n",
       "32853  10.0             297            1210           -1510          15   \n",
       "17843  10.0             310            1542           -1133          16   \n",
       "\n",
       "       rotation_y  rotation_z  \n",
       "32853         -21          -1  \n",
       "17843         -21          -3  "
      ]
     },
     "execution_count": 7,
     "metadata": {},
     "output_type": "execute_result"
    }
   ],
   "source": [
    "metadata_dict = tsdf.load_metadata_from_path(os.path.join(input_path, meta_filename))\n",
    "metadata_time = metadata_dict[time_filename]\n",
    "metadata_samples = metadata_dict[values_filename]\n",
    "df = tsdf.load_dataframe_from_binaries([metadata_time, metadata_samples], tsdf.constants.ConcatenationType.columns)\n",
    "\n",
    "df.sample(2)"
   ]
  },
  {
   "cell_type": "markdown",
   "metadata": {},
   "source": [
    "## Preprocess data"
   ]
  },
  {
   "cell_type": "code",
   "execution_count": 8,
   "metadata": {},
   "outputs": [],
   "source": [
    "ppp = dbpd.PreprocessingPipelineConfig(\n",
    "    time_column='time',\n",
    "    sampling_frequency=fs,\n",
    "    resampling_frequency=fs,\n",
    "    gyroscope_units=rotation_units\n",
    "    )\n",
    "\n",
    "df['time'] = dbpd.imu_preprocessing.transform_time_array(\n",
    "    time_array=df['time'],\n",
    "    scale_factor=1, \n",
    "    data_in_delta_time=True)\n",
    "\n",
    "df = dbpd.imu_preprocessing.resample_data(\n",
    "    config=ppp,\n",
    "    time_abs_array=np.array(df['time']),\n",
    "    values_unscaled=np.array(df[list(d_channels_units.keys())]),\n",
    "    scale_factors=metadata_samples.scale_factors)\n",
    "\n",
    "for col in [x for x in d_channels_units.keys() if 'acceleration' in x]:\n",
    "    for result, side_pass in zip(['filt', 'grav'], ['lp', 'hp']):\n",
    "        df[f'{result}_{col}'] = dbpd.imu_preprocessing.butterworth_filter(\n",
    "            config=ppp,\n",
    "            single_sensor_col=np.array(df[col]),\n",
    "            order=filter_order,\n",
    "            cutoff_frequency=lower_cutoff_frequency,\n",
    "            passband=side_pass\n",
    "            )\n",
    "        \n",
    "    df = df.drop(columns=[col])\n",
    "    df = df.rename(columns={f'filt_{col}': col})"
   ]
  },
  {
   "cell_type": "markdown",
   "metadata": {},
   "source": [
    "# Store data"
   ]
  },
  {
   "cell_type": "code",
   "execution_count": 10,
   "metadata": {},
   "outputs": [],
   "source": [
    "if not os.path.exists(output_path):\n",
    "    os.makedirs(output_path)\n",
    "\n",
    "for sensor, units in zip(['acceleration', 'rotation'], [acceleration_units, rotation_units]):\n",
    "    meta_filename_store = f'{sensor}_meta.json'\n",
    "    df_sensor = df[['time'] + [x for x in df.columns if sensor in x]]\n",
    "\n",
    "    metadata_samples.__setattr__('channels', [x for x in df.columns if sensor in x])\n",
    "    metadata_samples.__setattr__('units', list(np.repeat(units, len(metadata_samples.channels))))\n",
    "    metadata_samples.__setattr__('meta_filename', meta_filename_store)\n",
    "    metadata_samples.__setattr__('file_name', meta_filename_store.replace('_meta.json', '_samples.bin'))\n",
    "    metadata_samples.__setattr__('file_dir_path', output_path)  \n",
    "\n",
    "    metadata_time.__setattr__('file_dir_path', output_path)\n",
    "    metadata_time.__setattr__('meta_filename', meta_filename_store)\n",
    "    metadata_time.__setattr__('file_name', meta_filename_store.replace('_meta.json', '_time.bin'))\n",
    "\n",
    "    tsdf.write_dataframe_to_binaries(output_path, df_sensor, [metadata_time, metadata_samples])\n",
    "    tsdf.write_metadata([metadata_time, metadata_samples], meta_filename_store)"
   ]
  }
 ],
 "metadata": {
  "kernelspec": {
   "display_name": "gait",
   "language": "python",
   "name": "python3"
  },
  "language_info": {
   "codemirror_mode": {
    "name": "ipython",
    "version": 3
   },
   "file_extension": ".py",
   "mimetype": "text/x-python",
   "name": "python",
   "nbconvert_exporter": "python",
   "pygments_lexer": "ipython3",
   "version": "3.9.12"
  }
 },
 "nbformat": 4,
 "nbformat_minor": 2
}

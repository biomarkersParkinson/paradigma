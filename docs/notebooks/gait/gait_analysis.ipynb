{
 "cells": [
  {
   "cell_type": "markdown",
   "metadata": {},
   "source": [
    "# Gait analysis"
   ]
  },
  {
   "cell_type": "code",
   "execution_count": null,
   "metadata": {},
   "outputs": [],
   "source": [
    "# Automatically reload modules\n",
    "%load_ext autoreload\n",
    "%autoreload 2\n",
    "\n",
    "import os\n",
    "from paradigma.preprocessing_config import IMUPreprocessingConfig\n",
    "from paradigma.gait.gait_analysis import extract_gait_features_io, detect_gait_io, extract_arm_swing_features_io, detect_arm_swing_io, quantify_arm_swing_io\n",
    "from paradigma.gait.gait_analysis_config import GaitFeatureExtractionConfig, GaitDetectionConfig, ArmSwingFeatureExtractionConfig, ArmSwingDetectionConfig, ArmSwingQuantificationConfig\n",
    "from paradigma.imu_preprocessing import preprocess_imu_data_io"
   ]
  },
  {
   "cell_type": "code",
   "execution_count": 5,
   "metadata": {
    "tags": [
     "parameters"
    ]
   },
   "outputs": [],
   "source": [
    "branch = 'gait'\n",
    "sensor = 'imu'\n",
    "\n",
    "path_to_data =  '../../../tests/data'\n",
    "path_to_classifier = os.path.join(path_to_data, '0.classifiers', branch)\n",
    "path_to_sensor_data = os.path.join(path_to_data, '1.sensor_data', sensor)\n",
    "path_to_preprocessed_data = os.path.join(path_to_data, '2.preprocessed_data', branch)\n",
    "path_to_extracted_features = os.path.join(path_to_data, '3.extracted_features', branch)\n",
    "path_to_predictions = os.path.join(path_to_data, '4.predictions', branch)\n",
    "path_to_quantification = os.path.join(path_to_data, '5.quantification', branch)\n",
    "\n",
    "# Cell has the tag 'parameters', so it won't overwrite the parameters when running the notebook in tests"
   ]
  },
  {
   "cell_type": "markdown",
   "metadata": {},
   "source": [
    "## Preprocessing"
   ]
  },
  {
   "cell_type": "code",
   "execution_count": 6,
   "metadata": {},
   "outputs": [],
   "source": [
    "config = IMUPreprocessingConfig()\n",
    "preprocess_imu_data_io(path_to_sensor_data, path_to_preprocessed_data, config)"
   ]
  },
  {
   "cell_type": "markdown",
   "metadata": {},
   "source": [
    "## Extract gait features"
   ]
  },
  {
   "cell_type": "code",
   "execution_count": 8,
   "metadata": {},
   "outputs": [],
   "source": [
    "config = GaitFeatureExtractionConfig()\n",
    "#config.set_sampling_frequency(50)\n",
    "extract_gait_features_io(path_to_preprocessed_data, path_to_extracted_features, config)"
   ]
  },
  {
   "cell_type": "markdown",
   "metadata": {},
   "source": [
    "## Detect gait"
   ]
  },
  {
   "cell_type": "code",
   "execution_count": 11,
   "metadata": {},
   "outputs": [],
   "source": [
    "config = GaitDetectionConfig()\n",
    "detect_gait_io(path_to_extracted_features, path_to_predictions, path_to_classifier, config)"
   ]
  },
  {
   "cell_type": "markdown",
   "metadata": {},
   "source": [
    "## Extract arm swing features"
   ]
  },
  {
   "cell_type": "code",
<<<<<<< HEAD
   "execution_count": 8,
=======
   "execution_count": 13,
>>>>>>> cbf031c055bfdd9cafef46a7bc3de22d15b0776d
   "metadata": {},
   "outputs": [],
   "source": [
    "config = ArmSwingFeatureExtractionConfig()\n",
    "extract_arm_swing_features_io(path_to_preprocessed_data, path_to_extracted_features, config)"
   ]
  },
  {
   "cell_type": "markdown",
   "metadata": {},
   "source": [
    "## Detect arm swing"
   ]
  },
  {
   "cell_type": "code",
<<<<<<< HEAD
   "execution_count": 9,
=======
   "execution_count": 14,
>>>>>>> cbf031c055bfdd9cafef46a7bc3de22d15b0776d
   "metadata": {},
   "outputs": [],
   "source": [
    "config = ArmSwingDetectionConfig()\n",
    "detect_arm_swing_io(path_to_extracted_features, path_to_predictions, path_to_classifier, config)"
   ]
  },
  {
   "cell_type": "markdown",
   "metadata": {},
   "source": [
    "## Quantify arm swing"
   ]
  },
  {
   "cell_type": "code",
<<<<<<< HEAD
   "execution_count": 11,
=======
   "execution_count": 16,
>>>>>>> cbf031c055bfdd9cafef46a7bc3de22d15b0776d
   "metadata": {},
   "outputs": [],
   "source": [
    "config = ArmSwingQuantificationConfig()\n",
    "quantify_arm_swing_io(path_to_extracted_features, path_to_predictions, path_to_quantification, config)"
   ]
  }
 ],
 "metadata": {
  "kernelspec": {
   "display_name": "paradigma-8ps1bg0Z-py3.12",
   "language": "python",
   "name": "python3"
  },
  "language_info": {
   "codemirror_mode": {
    "name": "ipython",
    "version": 3
   },
   "file_extension": ".py",
   "mimetype": "text/x-python",
   "name": "python",
   "nbconvert_exporter": "python",
   "pygments_lexer": "ipython3",
<<<<<<< HEAD
   "version": "3.11.5"
=======
   "version": "3.12.6"
>>>>>>> cbf031c055bfdd9cafef46a7bc3de22d15b0776d
  }
 },
 "nbformat": 4,
 "nbformat_minor": 2
}

{
 "cells": [
  {
   "cell_type": "code",
   "execution_count": 1,
   "metadata": {},
   "outputs": [],
   "source": [
    "# Automatically reload modules\n",
    "%load_ext autoreload\n",
    "%autoreload 2\n",
    "\n",
    "from dbpd.gait_analysis import *\n",
    "from dbpd.gait_analysis_config import *\n",
    "from dbpd.imu_preprocessing import *"
   ]
  },
  {
   "cell_type": "code",
   "execution_count": 2,
   "metadata": {},
   "outputs": [],
   "source": [
    "path_to_data =  '../../../tests/data'"
   ]
  },
  {
   "cell_type": "code",
   "execution_count": 3,
   "metadata": {},
   "outputs": [],
   "source": [
    "input_path = os.path.join(path_to_data, '1.sensor_data', 'imu')\n",
    "output_path = os.path.join(path_to_data, '2.preprocessed_data', 'gait')\n",
    "config = PreprocessingConfig()\n",
    "preprocess_imu_data(input_path, output_path, config)"
   ]
  },
  {
   "cell_type": "code",
   "execution_count": 4,
   "metadata": {},
   "outputs": [
    {
     "name": "stdout",
     "output_type": "stream",
     "text": [
      "(725, 9)\n"
     ]
    }
   ],
   "source": [
    "input_path = os.path.join(path_to_data, '2.preprocessed_data', 'gait')\n",
    "output_path = os.path.join(path_to_data, '3.extracted_features', 'gait')\n",
    "config = GaitFeatureExtractionConfig()\n",
    "#config.set_sampling_frequency(50)\n",
    "extract_gait_features(input_path, output_path, config)"
   ]
  },
  {
   "cell_type": "code",
   "execution_count": 5,
   "metadata": {},
   "outputs": [],
   "source": [
    "input_path = os.path.join(path_to_data, '3.extracted_features', 'gait')\n",
    "output_path = os.path.join(path_to_data, '4.predictions', 'gait')\n",
    "path_to_classifier_input = os.path.join(path_to_data, '0.classifiers', 'gait')\n",
    "config = GaitDetectionConfig()\n",
    "detect_gait(input_path, output_path, path_to_classifier_input, config)"
   ]
  },
  {
   "cell_type": "code",
   "execution_count": 6,
   "metadata": {},
   "outputs": [],
   "source": [
    "input_path = os.path.join(path_to_data, '2.preprocessed_data', 'gait')\n",
    "output_path = os.path.join(path_to_data, '3.extracted_features', 'gait')\n",
    "config = ArmSwingFeatureExtractionConfig()\n",
    "extract_arm_swing_features(input_path, output_path, config)"
   ]
  },
  {
   "cell_type": "code",
   "execution_count": 7,
   "metadata": {},
   "outputs": [],
   "source": [
    "input_path = os.path.join(path_to_data, '3.extracted_features', 'gait')\n",
    "output_path = os.path.join(path_to_data, '4.predictions', 'gait')\n",
    "path_to_classifier_input = os.path.join(path_to_data, '0.classifiers', 'gait')\n",
    "config = ArmSwingDetectionConfig()\n",
    "detect_arm_swing(input_path, output_path, path_to_classifier_input, config)"
   ]
  },
  {
   "cell_type": "code",
   "execution_count": 8,
   "metadata": {},
   "outputs": [],
   "source": [
    "path_to_feature_input = os.path.join(path_to_data, '3.extracted_features', 'gait')\n",
    "path_to_prediction_input = os.path.join(path_to_data, '4.predictions', 'gait')\n",
    "output_path = os.path.join(path_to_data, '5.quantification', 'gait')\n",
    "config = ArmSwingQuantificationConfig()\n",
    "quantify_arm_swing(path_to_feature_input, path_to_prediction_input, output_path, config)"
   ]
  }
 ],
 "metadata": {
  "kernelspec": {
   "display_name": "dbpd-ZysVbjC7-py3.9",
   "language": "python",
   "name": "python3"
  },
  "language_info": {
   "codemirror_mode": {
    "name": "ipython",
    "version": 3
   },
   "file_extension": ".py",
   "mimetype": "text/x-python",
   "name": "python",
   "nbconvert_exporter": "python",
   "pygments_lexer": "ipython3",
   "version": "3.9.13"
  }
 },
 "nbformat": 4,
 "nbformat_minor": 2
}

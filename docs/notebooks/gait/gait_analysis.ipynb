{
 "cells": [
  {
   "cell_type": "markdown",
   "metadata": {},
   "source": [
    "# Gait analysis"
   ]
  },
  {
   "cell_type": "code",
   "execution_count": 2,
   "metadata": {},
   "outputs": [
    {
     "name": "stdout",
     "output_type": "stream",
     "text": [
      "The autoreload extension is already loaded. To reload it, use:\n",
      "  %reload_ext autoreload\n"
     ]
    }
   ],
   "source": [
    "# Automatically reload modules\n",
    "%load_ext autoreload\n",
    "%autoreload 2\n",
    "\n",
    "import os\n",
    "from paradigma.preprocessing_config import IMUPreprocessingConfig\n",
    "from paradigma.gait_analysis import extract_gait_features, detect_gait, extract_arm_swing_features, detect_arm_swing, quantify_arm_swing\n",
    "from paradigma.gait_analysis_config import GaitFeatureExtractionConfig, GaitDetectionConfig, ArmSwingFeatureExtractionConfig, ArmSwingDetectionConfig, ArmSwingQuantificationConfig\n",
    "from paradigma.imu_preprocessing import preprocess_imu_data"
   ]
  },
  {
   "cell_type": "code",
   "execution_count": 3,
   "metadata": {
    "tags": [
     "parameters"
    ]
   },
   "outputs": [],
   "source": [
    "path_to_data =  '../../../tests/data'\n",
    "path_to_classifier = os.path.join(path_to_data, '0.classifiers', 'gait')\n",
    "path_to_sensor_data = os.path.join(path_to_data, '1.sensor_data', 'imu')\n",
    "path_to_preprocessed_data = os.path.join(path_to_data, '2.preprocessed_data', 'gait')\n",
    "path_to_extracted_features = os.path.join(path_to_data, '3.extracted_features', 'gait')\n",
    "path_to_predictions = os.path.join(path_to_data, '4.predictions', 'gait')\n",
    "path_to_quantification = os.path.join(path_to_data, '5.quantification', 'gait')\n",
    "\n",
    "# Cell has the tag 'parameters', so it won't overwrite the parameters when running the notebook in tests"
   ]
  },
  {
   "cell_type": "markdown",
   "metadata": {},
   "source": [
    "## Preprocessing"
   ]
  },
  {
   "cell_type": "code",
   "execution_count": 4,
   "metadata": {},
   "outputs": [],
   "source": [
    "config = IMUPreprocessingConfig()\n",
    "preprocess_imu_data(path_to_sensor_data, path_to_preprocessed_data, config)"
   ]
  },
  {
   "cell_type": "markdown",
   "metadata": {},
   "source": [
    "## Extract gait features"
   ]
  },
  {
   "cell_type": "code",
   "execution_count": 5,
   "metadata": {},
   "outputs": [],
   "source": [
    "config = GaitFeatureExtractionConfig()\n",
    "#config.set_sampling_frequency(50)\n",
    "extract_gait_features(path_to_preprocessed_data, path_to_extracted_features, config)"
   ]
  },
  {
   "cell_type": "markdown",
   "metadata": {},
   "source": [
    "## Detect gait"
   ]
  },
  {
   "cell_type": "code",
   "execution_count": 6,
   "metadata": {},
   "outputs": [],
   "source": [
    "config = GaitDetectionConfig()\n",
    "detect_gait(path_to_extracted_features, path_to_predictions, path_to_classifier, config)"
   ]
  },
  {
   "cell_type": "markdown",
   "metadata": {},
   "source": [
    "## Extract arm swing features"
   ]
  },
  {
   "cell_type": "code",
   "execution_count": 7,
   "metadata": {},
   "outputs": [],
   "source": [
    "config = ArmSwingFeatureExtractionConfig()\n",
    "extract_arm_swing_features(path_to_preprocessed_data, path_to_extracted_features, config)"
   ]
  },
  {
   "cell_type": "markdown",
   "metadata": {},
   "source": [
    "## Detect arm swing"
   ]
  },
  {
   "cell_type": "code",
   "execution_count": 8,
   "metadata": {},
   "outputs": [],
   "source": [
    "config = ArmSwingDetectionConfig()\n",
    "detect_arm_swing(path_to_extracted_features, path_to_predictions, path_to_classifier, config)"
   ]
  },
  {
   "cell_type": "markdown",
   "metadata": {},
   "source": [
    "## Quantify arm swing"
   ]
  },
  {
   "cell_type": "code",
   "execution_count": 9,
   "metadata": {},
   "outputs": [],
   "source": [
    "config = ArmSwingQuantificationConfig()\n",
    "quantify_arm_swing(path_to_extracted_features, path_to_predictions, path_to_quantification, config)"
   ]
  },
  {
   "cell_type": "code",
   "execution_count": 12,
   "metadata": {},
   "outputs": [],
   "source": [
    "input_path = path_to_extracted_features\n",
    "output_path = path_to_extracted_features\n",
    "config = GaitFeatureExtractionConfig()\n",
    "\n",
    "from paradigma.gait_analysis import resample_data\n",
    "\n",
    "resample_data(input_path, output_path)"
   ]
  },
  {
   "cell_type": "code",
   "execution_count": null,
   "metadata": {},
   "outputs": [],
   "source": []
  }
 ],
 "metadata": {
  "kernelspec": {
   "display_name": "paradigma-ZysVbjC7-py3.9",
   "language": "python",
   "name": "python3"
  },
  "language_info": {
   "codemirror_mode": {
    "name": "ipython",
    "version": 3
   },
   "file_extension": ".py",
   "mimetype": "text/x-python",
   "name": "python",
   "nbconvert_exporter": "python",
   "pygments_lexer": "ipython3",
   "version": "3.10.9"
  }
 },
 "nbformat": 4,
 "nbformat_minor": 2
}

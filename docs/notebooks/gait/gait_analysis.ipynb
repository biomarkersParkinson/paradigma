{
 "cells": [
  {
   "cell_type": "markdown",
   "metadata": {},
   "source": [
    "# Gait analysis"
   ]
  },
  {
   "cell_type": "code",
   "execution_count": null,
   "metadata": {},
   "outputs": [],
   "source": [
    "import os\n",
    "\n",
    "from paradigma.config import IMUConfig, GaitFeatureExtractionConfig, GaitDetectionConfig, \\\n",
    "    ArmActivityFeatureExtractionConfig, FilteringGaitConfig, ArmSwingQuantificationConfig\n",
    "from paradigma.gait.gait_analysis import extract_gait_features_io, detect_gait_io, \\\n",
    "    extract_arm_activity_features_io, filter_gait_io, quantify_arm_swing_io, aggregate_quantification_dict_io\n",
    "from paradigma.preprocessing import preprocess_imu_data_io"
   ]
  },
  {
   "cell_type": "code",
   "execution_count": null,
   "metadata": {
    "tags": [
     "parameters"
    ]
   },
   "outputs": [],
   "source": [
    "branch = 'gait'\n",
    "sensor = 'imu'\n",
    "\n",
    "gait_detection_classifier_filename = 'gait_detection_classifier.pkl'\n",
    "gait_detection_scaler_filename = 'gait_detection_scaler_params.json'\n",
    "gait_detection_threshold_filename = 'gait_detection_threshold.txt'\n",
    "\n",
    "gait_filtering_classifier_filename = 'gait_filtering_classifier.pkl'\n",
    "gait_filtering_scaler_filename = 'gait_filtering_scaler_params.json'\n",
    "gait_filtering_threshold_filename = 'gait_filtering_threshold.txt'\n",
    "\n",
    "path_to_data =  '../../../tests/data'\n",
    "\n",
    "path_to_classifier_input = os.path.join(path_to_data, '0.classification', branch)\n",
    "path_to_classifiers = os.path.join(path_to_classifier_input, 'classifiers')\n",
    "path_to_scalers = os.path.join(path_to_classifier_input, 'scalers')\n",
    "path_to_thresholds = os.path.join(path_to_classifier_input, 'thresholds')\n",
    "\n",
    "path_to_sensor_data = os.path.join(path_to_data, '1.prepared_data', sensor)\n",
    "path_to_preprocessed_data = os.path.join(path_to_data, '2.preprocessed_data', sensor)\n",
    "path_to_extracted_features = os.path.join(path_to_data, '3.extracted_features', branch)\n",
    "path_to_predictions = os.path.join(path_to_data, '4.predictions', branch)\n",
    "path_to_quantification = os.path.join(path_to_data, '5.quantification', branch)\n",
    "path_to_aggregation = os.path.join(path_to_data, '6.aggregation', branch)\n",
    "\n",
    "quantification_filename = 'arm_swing_quantification.json'\n",
    "aggregation_filename = 'arm_swing_aggregates.json'\n",
    "\n",
    "# Cell has the tag 'parameters', so it won't overwrite the parameters when running the notebook in tests"
   ]
  },
  {
   "cell_type": "markdown",
   "metadata": {},
   "source": [
    "## Preprocessing"
   ]
  },
  {
   "cell_type": "code",
   "execution_count": null,
   "metadata": {},
   "outputs": [],
   "source": [
    "config = IMUConfig()\n",
    "\n",
    "preprocess_imu_data_io(\n",
    "    path_to_input=path_to_sensor_data, \n",
    "    path_to_output=path_to_preprocessed_data, \n",
    "    config=config, \n",
    "    sensor='both'\n",
    ")"
   ]
  },
  {
   "cell_type": "markdown",
   "metadata": {},
   "source": [
    "## Extract gait features"
   ]
  },
  {
   "cell_type": "code",
   "execution_count": null,
   "metadata": {},
   "outputs": [],
   "source": [
    "config = GaitFeatureExtractionConfig()\n",
    "\n",
    "extract_gait_features_io(\n",
    "        config=config,\n",
    "        path_to_input=path_to_preprocessed_data, \n",
    "        path_to_output=path_to_extracted_features, \n",
    "    )"
   ]
  },
  {
   "cell_type": "markdown",
   "metadata": {},
   "source": [
    "## Detect gait"
   ]
  },
  {
   "cell_type": "code",
   "execution_count": null,
   "metadata": {},
   "outputs": [],
   "source": [
    "config = GaitDetectionConfig()\n",
    "\n",
    "full_path_to_classifier = os.path.join(path_to_classifiers, gait_detection_classifier_filename)\n",
    "full_path_to_scaler = os.path.join(path_to_scalers, gait_detection_scaler_filename)\n",
    "\n",
    "detect_gait_io(\n",
    "    config=config, \n",
    "    path_to_input=path_to_extracted_features, \n",
    "    path_to_output=path_to_predictions, \n",
    "    full_path_to_classifier=full_path_to_classifier, \n",
    "    full_path_to_scaler=full_path_to_scaler\n",
    ")"
   ]
  },
  {
   "cell_type": "markdown",
   "metadata": {},
   "source": [
    "## Extract arm actvitiy features"
   ]
  },
  {
   "cell_type": "code",
   "execution_count": null,
   "metadata": {},
   "outputs": [],
   "source": [
    "config = ArmActivityFeatureExtractionConfig()\n",
    "full_path_to_threshold = os.path.join(path_to_thresholds, gait_detection_threshold_filename)\n",
    "\n",
    "extract_arm_activity_features_io(\n",
    "        config=config,\n",
    "        path_to_timestamp_input=path_to_preprocessed_data, \n",
    "        path_to_prediction_input=path_to_predictions, \n",
    "        path_to_output=path_to_extracted_features,\n",
    "        full_path_to_threshold=full_path_to_threshold\n",
    "    )"
   ]
  },
  {
   "cell_type": "markdown",
   "metadata": {},
   "source": [
    "## Filter gait"
   ]
  },
  {
   "cell_type": "code",
   "execution_count": null,
   "metadata": {},
   "outputs": [],
   "source": [
    "config = FilteringGaitConfig()\n",
    "full_path_to_classifier = os.path.join(path_to_classifiers, gait_filtering_classifier_filename)\n",
    "full_path_to_scaler = os.path.join(path_to_scalers, gait_filtering_scaler_filename)\n",
    "\n",
    "filter_gait_io(\n",
    "    config=config,\n",
    "    path_to_input=path_to_extracted_features, \n",
    "    path_to_output=path_to_predictions,\n",
    "    full_path_to_classifier=full_path_to_classifier, \n",
    "    full_path_to_scaler=full_path_to_scaler\n",
    ")"
   ]
  },
  {
   "cell_type": "markdown",
   "metadata": {},
   "source": [
    "## Quantify arm swing"
   ]
  },
  {
   "cell_type": "code",
   "execution_count": null,
   "metadata": {},
   "outputs": [],
   "source": [
    "asq_config = ArmSwingQuantificationConfig()\n",
    "imu_config = IMUConfig()\n",
    "\n",
    "imu_config.set_sensor('gyroscope')\n",
    "\n",
    "full_path_to_output = os.path.join(path_to_quantification, quantification_filename)\n",
    "\n",
    "quantify_arm_swing_io(\n",
    "    imu_config=imu_config,\n",
    "    asq_config=asq_config,\n",
    "    path_to_timestamp_input=path_to_preprocessed_data, \n",
    "    path_to_prediction_input=path_to_predictions, \n",
    "    full_path_to_output=full_path_to_output, \n",
    "    full_path_to_threshold=full_path_to_threshold, \n",
    ")"
   ]
  },
  {
   "cell_type": "markdown",
   "metadata": {},
   "source": [
    "## Aggregate quantification"
   ]
  },
  {
   "cell_type": "code",
   "execution_count": null,
   "metadata": {},
   "outputs": [],
   "source": [
    "full_path_to_input = os.path.join(path_to_quantification, quantification_filename)\n",
    "full_path_to_output = os.path.join(path_to_aggregation, aggregation_filename)\n",
    "\n",
    "aggregate_quantification_dict_io(\n",
    "    full_path_to_input=full_path_to_input,\n",
    "    full_path_to_output=full_path_to_output,\n",
    "    aggregates=['median', '95p']\n",
    ")"
   ]
  }
 ],
 "metadata": {
  "kernelspec": {
   "display_name": "paradigma-Fn6RLG4_-py3.11",
   "language": "python",
   "name": "python3"
  },
  "language_info": {
   "codemirror_mode": {
    "name": "ipython",
    "version": 3
   },
   "file_extension": ".py",
   "mimetype": "text/x-python",
   "name": "python",
   "nbconvert_exporter": "python",
   "pygments_lexer": "ipython3",
   "version": "3.11.5"
  }
 },
 "nbformat": 4,
 "nbformat_minor": 2
}

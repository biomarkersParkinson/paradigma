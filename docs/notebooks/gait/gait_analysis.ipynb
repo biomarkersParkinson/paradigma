{
 "cells": [
  {
   "cell_type": "markdown",
   "metadata": {},
   "source": [
    "# Gait analysis"
   ]
  },
  {
   "cell_type": "code",
   "execution_count": null,
   "metadata": {},
   "outputs": [],
   "source": [
    "import importlib.resources \n",
    "import pickle\n",
    "from pathlib import Path\n",
    "\n",
    "from paradigma.constants import DataColumns\n",
    "from paradigma.config import IMUConfig, GaitConfig\n",
    "from paradigma.gait.gait_analysis import extract_gait_features, detect_gait, \\\n",
    "    extract_arm_activity_features, filter_gait, quantify_arm_swing, aggregate_arm_swing_params\n",
    "from paradigma.preprocessing import preprocess_imu_data\n",
    "from paradigma.util import load_tsdf_dataframe"
   ]
  },
  {
   "cell_type": "code",
   "execution_count": null,
   "metadata": {
    "tags": [
     "parameters"
    ]
   },
   "outputs": [],
   "source": [
    "branch = 'gait'\n",
    "sensor = 'imu'\n",
    "\n",
    "gait_detection_classifier_package_filename = 'gait_detection_clf_package.pkl'\n",
    "gait_filtering_classifier_package_filename = 'gait_filtering_clf_package.pkl'\n",
    "\n",
    "path_to_data =  Path('../../../tests/data')\n",
    "path_to_assets = Path('../../../src/paradigma/assets')\n",
    "\n",
    "path_to_sensor_data = path_to_data / '1.prepared_data' / sensor\n",
    "\n",
    "# Cell has the tag 'parameters', so it won't overwrite the parameters when running the notebook in tests"
   ]
  },
  {
   "cell_type": "markdown",
   "metadata": {},
   "source": [
    "# Load data"
   ]
  },
  {
   "cell_type": "code",
   "execution_count": null,
   "metadata": {},
   "outputs": [],
   "source": [
    "df, metadata_time, metadata_values = load_tsdf_dataframe(path_to_sensor_data, prefix='IMU')"
   ]
  },
  {
   "cell_type": "markdown",
   "metadata": {},
   "source": [
    "## Preprocessing"
   ]
  },
  {
   "cell_type": "code",
   "execution_count": null,
   "metadata": {},
   "outputs": [],
   "source": [
    "config = IMUConfig()\n",
    "\n",
    "df_preprocessed = preprocess_imu_data(\n",
    "    df=df,\n",
    "    config=config, \n",
    "    sensor='both'\n",
    ")"
   ]
  },
  {
   "cell_type": "markdown",
   "metadata": {},
   "source": [
    "## Extract gait features"
   ]
  },
  {
   "cell_type": "code",
   "execution_count": null,
   "metadata": {},
   "outputs": [],
   "source": [
    "config = GaitConfig(step='gait')\n",
    "\n",
    "df_gait = extract_gait_features(\n",
    "    df=df_preprocessed,\n",
    "    config=config\n",
    ")"
   ]
  },
  {
   "cell_type": "markdown",
   "metadata": {},
   "source": [
    "## Detect gait"
   ]
  },
  {
   "cell_type": "code",
   "execution_count": null,
   "metadata": {},
   "outputs": [],
   "source": [
    "full_path_to_classifier_package = path_to_assets / gait_detection_classifier_package_filename\n",
    "\n",
    "with importlib.resources.files('paradigma.assets').joinpath('gait_detection_clf_package.pkl').open('rb') as f:\n",
    "    clf_package = pickle.load(f)\n",
    " \n",
    "df_gait[DataColumns.PRED_GAIT_PROBA] = detect_gait(\n",
    "    df=df_gait,\n",
    "    clf_package=clf_package\n",
    ")"
   ]
  },
  {
   "cell_type": "markdown",
   "metadata": {},
   "source": [
    "## Extract arm actvity features"
   ]
  },
  {
   "cell_type": "code",
   "execution_count": null,
   "metadata": {},
   "outputs": [],
   "source": [
    "config = GaitConfig(step='arm_activity')\n",
    "\n",
    "df_arm_activity = extract_arm_activity_features(\n",
    "    config=config,\n",
    "    df_timestamps=df_preprocessed,\n",
    "    df_predictions=df_gait,\n",
    "    threshold=clf_package.threshold\n",
    ")"
   ]
  },
  {
   "cell_type": "markdown",
   "metadata": {},
   "source": [
    "## Filter gait"
   ]
  },
  {
   "cell_type": "code",
   "execution_count": null,
   "metadata": {},
   "outputs": [],
   "source": [
    "full_path_to_classifier_package = path_to_assets / gait_filtering_classifier_package_filename\n",
    "\n",
    "with importlib.resources.files('paradigma.assets').joinpath('gait_filtering_clf_package.pkl').open('rb') as f:\n",
    "    clf_package = pickle.load(f)\n",
    "\n",
    "df_arm_activity[DataColumns.PRED_NO_OTHER_ARM_ACTIVITY_PROBA] = filter_gait(\n",
    "    df=df_arm_activity,\n",
    "    clf_package=clf_package\n",
    ")"
   ]
  },
  {
   "cell_type": "markdown",
   "metadata": {},
   "source": [
    "## Quantify arm swing"
   ]
  },
  {
   "cell_type": "code",
   "execution_count": null,
   "metadata": {},
   "outputs": [],
   "source": [
    "config = GaitConfig(step='arm_activity')\n",
    "\n",
    "df_quantified_unfiltered, df_quantified_filtered, segment_meta = quantify_arm_swing(\n",
    "    df_timestamps=df_preprocessed,\n",
    "    df_predictions=df_arm_activity,\n",
    "    classification_threshold=clf_package.threshold,\n",
    "    window_length_s=config.window_length_s,\n",
    "    max_segment_gap_s=config.max_segment_gap_s,\n",
    "    min_segment_length_s=config.min_segment_length_s,\n",
    "    fs=config.sampling_frequency\n",
    ")"
   ]
  },
  {
   "cell_type": "markdown",
   "metadata": {},
   "source": [
    "## Aggregate quantification"
   ]
  },
  {
   "cell_type": "code",
   "execution_count": null,
   "metadata": {},
   "outputs": [],
   "source": [
    "arm_swing_params = aggregate_arm_swing_params(\n",
    "    df_arm_swing_params=df_quantified_filtered,\n",
    "    segment_meta=segment_meta,\n",
    "    aggregates=['median', '95p']\n",
    ")"
   ]
  }
 ],
 "metadata": {
  "kernelspec": {
   "display_name": "paradigma-Fn6RLG4_-py3.11",
   "language": "python",
   "name": "python3"
  },
  "language_info": {
   "codemirror_mode": {
    "name": "ipython",
    "version": 3
   },
   "file_extension": ".py",
   "mimetype": "text/x-python",
   "name": "python",
   "nbconvert_exporter": "python",
   "pygments_lexer": "ipython3",
   "version": "3.11.5"
  }
 },
 "nbformat": 4,
 "nbformat_minor": 2
}

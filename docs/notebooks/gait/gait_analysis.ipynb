{
 "cells": [
  {
   "cell_type": "markdown",
   "metadata": {},
   "source": [
    "# Gait analysis"
   ]
  },
  {
   "cell_type": "code",
   "execution_count": null,
   "metadata": {},
   "outputs": [],
   "source": [
    "import os\n",
    "from paradigma.gait.gait_analysis import extract_gait_features_io, detect_gait_io, extract_arm_activity_features_io, filter_gait_io\n",
    "from paradigma.config import IMUConfig, GaitFeatureExtractionConfig, GaitDetectionConfig, ArmActivityFeatureExtractionConfig, FilteringGaitConfig\n",
    "from paradigma.imu_preprocessing import preprocess_imu_data_io"
   ]
  },
  {
   "cell_type": "code",
   "execution_count": null,
   "metadata": {
    "tags": [
     "parameters"
    ]
   },
   "outputs": [],
   "source": [
    "branch = 'gait'\n",
    "sensor = 'imu'\n",
    "\n",
    "path_to_data =  '../../../tests/data'\n",
    "path_to_classifiers = os.path.join(path_to_data, '0.classification', branch)\n",
    "path_to_sensor_data = os.path.join(path_to_data, '1.prepared_data', sensor)\n",
    "path_to_preprocessed_data = os.path.join(path_to_data, '2.preprocessed_data', sensor)\n",
    "path_to_extracted_features = os.path.join(path_to_data, '3.extracted_features', branch)\n",
    "path_to_predictions = os.path.join(path_to_data, '4.predictions', branch)\n",
    "path_to_quantification = os.path.join(path_to_data, '5.quantification', branch)\n",
    "\n",
    "# Cell has the tag 'parameters', so it won't overwrite the parameters when running the notebook in tests"
   ]
  },
  {
   "cell_type": "markdown",
   "metadata": {},
   "source": [
    "## Preprocessing"
   ]
  },
  {
   "cell_type": "code",
   "execution_count": null,
   "metadata": {},
   "outputs": [],
   "source": [
    "config = IMUConfig()\n",
    "preprocess_imu_data_io(path_to_sensor_data, path_to_preprocessed_data, config, sensor='both')"
   ]
  },
  {
   "cell_type": "code",
   "execution_count": null,
   "metadata": {},
   "outputs": [],
   "source": [
    "from paradigma.imu_preprocessing import preprocess_imu_data\n",
    "from paradigma.util import read_metadata\n",
    "import tsdf\n",
    "\n",
    "# Load data\n",
    "config = IMUConfig()\n",
    "\n",
    "metadata_time, metadata_values = read_metadata(str(path_to_sensor_data), str(config.meta_filename),\n",
    "                                                str(config.time_filename), str(config.values_filename))\n",
    "df = tsdf.load_dataframe_from_binaries([metadata_time, metadata_values], tsdf.constants.ConcatenationType.columns)\n",
    "\n",
    "df = preprocess_imu_data(df, config, sensor='both')"
   ]
  },
  {
   "cell_type": "code",
   "execution_count": null,
   "metadata": {},
   "outputs": [],
   "source": [
    "df"
   ]
  },
  {
   "cell_type": "markdown",
   "metadata": {},
   "source": [
    "## Extract gait features"
   ]
  },
  {
   "cell_type": "code",
   "execution_count": null,
   "metadata": {},
   "outputs": [],
   "source": [
    "config = GaitFeatureExtractionConfig()\n",
    "extract_gait_features_io(path_to_preprocessed_data, path_to_extracted_features, config)"
   ]
  },
  {
   "cell_type": "markdown",
   "metadata": {},
   "source": [
    "## Detect gait"
   ]
  },
  {
   "cell_type": "code",
   "execution_count": null,
   "metadata": {},
   "outputs": [],
   "source": [
    "config = GaitDetectionConfig()\n",
    "detect_gait_io(path_to_extracted_features, path_to_predictions, path_to_classifiers, config)"
   ]
  },
  {
   "cell_type": "markdown",
   "metadata": {},
   "source": [
    "## Extract arm actvitiy features"
   ]
  },
  {
   "cell_type": "code",
   "execution_count": null,
   "metadata": {},
   "outputs": [],
   "source": [
    "config = ArmActivityFeatureExtractionConfig()\n",
    "extract_arm_activity_features_io(path_to_preprocessed_data, path_to_predictions, path_to_classifiers, path_to_extracted_features, config)"
   ]
  },
  {
   "cell_type": "markdown",
   "metadata": {},
   "source": [
    "## Filter gait"
   ]
  },
  {
   "cell_type": "code",
   "execution_count": null,
   "metadata": {},
   "outputs": [],
   "source": [
    "config = FilteringGaitConfig()\n",
    "filter_gait_io(path_to_extracted_features, path_to_classifiers, path_to_predictions, config)"
   ]
  },
  {
   "cell_type": "markdown",
   "metadata": {},
   "source": [
    "## Quantify arm swing"
   ]
  },
  {
   "cell_type": "code",
   "execution_count": null,
   "metadata": {},
   "outputs": [],
   "source": [
    "# config = ArmSwingQuantificationConfig()\n",
    "# quantify_arm_swing_io(path_to_extracted_features, path_to_predictions, path_to_classifiers, path_to_quantification, config)"
   ]
  }
 ],
 "metadata": {
  "kernelspec": {
   "display_name": "paradigma-Fn6RLG4_-py3.11",
   "language": "python",
   "name": "python3"
  },
  "language_info": {
   "codemirror_mode": {
    "name": "ipython",
    "version": 3
   },
   "file_extension": ".py",
   "mimetype": "text/x-python",
   "name": "python",
   "nbconvert_exporter": "python",
   "pygments_lexer": "ipython3",
   "version": "3.11.5"
  }
 },
 "nbformat": 4,
 "nbformat_minor": 2
}

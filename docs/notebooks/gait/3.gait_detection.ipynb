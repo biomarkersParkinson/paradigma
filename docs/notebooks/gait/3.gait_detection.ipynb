{
 "cells": [
  {
   "cell_type": "markdown",
   "metadata": {},
   "source": [
    "# Gait detection\n",
    "This notebook shows how to predict gait probability using extracted features from windowed accelerometry data as input."
   ]
  },
  {
   "cell_type": "markdown",
   "metadata": {},
   "source": [
    "## Modules"
   ]
  },
  {
   "cell_type": "code",
   "execution_count": 39,
   "metadata": {},
   "outputs": [],
   "source": [
    "import numpy as np\n",
    "import os\n",
    "import pandas as pd\n",
    "import tsdf\n",
    "\n",
    "from dbpd import DataColumns"
   ]
  },
  {
   "cell_type": "markdown",
   "metadata": {},
   "source": [
    "## Constants"
   ]
  },
  {
   "cell_type": "code",
   "execution_count": 40,
   "metadata": {
    "tags": [
     "parameters"
    ]
   },
   "outputs": [],
   "source": [
    "# Cell has the tag 'parameters'\n",
    "\n",
    "path_to_data_folder = '../../../tests/data'\n",
    "path_to_classifier_input = os.path.join(path_to_data_folder, '0.classifiers')\n",
    "path_to_input_data = os.path.join(path_to_data_folder, '3.extracted_features')\n",
    "path_output = os.path.join(path_to_data_folder, '4.predictions')\n",
    "\n",
    "classifier_file_name = 'gd_classifier.pkl'\n",
    "thresholds_file_name = 'gd_thresholds.txt'\n",
    "\n",
    "meta_filename = 'gait_meta.json'\n",
    "time_filename = 'gait_time.bin'\n",
    "values_filename = 'gait_values.bin'\n",
    "\n",
    "l_accel_cols = [DataColumns.ACCELERATION_X, DataColumns.ACCELERATION_Y, DataColumns.ACCELERATION_Z]"
   ]
  },
  {
   "cell_type": "markdown",
   "metadata": {},
   "source": [
    "## Load data"
   ]
  },
  {
   "cell_type": "markdown",
   "metadata": {},
   "source": [
    "#### Features"
   ]
  },
  {
   "cell_type": "code",
   "execution_count": 41,
   "metadata": {},
   "outputs": [
    {
     "data": {
      "text/html": [
       "<div>\n",
       "<style scoped>\n",
       "    .dataframe tbody tr th:only-of-type {\n",
       "        vertical-align: middle;\n",
       "    }\n",
       "\n",
       "    .dataframe tbody tr th {\n",
       "        vertical-align: top;\n",
       "    }\n",
       "\n",
       "    .dataframe thead th {\n",
       "        text-align: right;\n",
       "    }\n",
       "</style>\n",
       "<table border=\"1\" class=\"dataframe\">\n",
       "  <thead>\n",
       "    <tr style=\"text-align: right;\">\n",
       "      <th></th>\n",
       "      <th>time</th>\n",
       "      <th>grav_acceleration_x_mean</th>\n",
       "      <th>grav_acceleration_y_mean</th>\n",
       "      <th>grav_acceleration_z_mean</th>\n",
       "      <th>grav_acceleration_x_std</th>\n",
       "      <th>grav_acceleration_y_std</th>\n",
       "      <th>grav_acceleration_z_std</th>\n",
       "      <th>acceleration_x_power_below_gait</th>\n",
       "      <th>acceleration_y_power_below_gait</th>\n",
       "      <th>acceleration_z_power_below_gait</th>\n",
       "      <th>...</th>\n",
       "      <th>cc_7_acc</th>\n",
       "      <th>cc_8_acc</th>\n",
       "      <th>cc_9_acc</th>\n",
       "      <th>cc_10_acc</th>\n",
       "      <th>cc_11_acc</th>\n",
       "      <th>cc_12_acc</th>\n",
       "      <th>cc_13_acc</th>\n",
       "      <th>cc_14_acc</th>\n",
       "      <th>cc_15_acc</th>\n",
       "      <th>cc_16_acc</th>\n",
       "    </tr>\n",
       "  </thead>\n",
       "  <tbody>\n",
       "    <tr>\n",
       "      <th>0</th>\n",
       "      <td>0.0</td>\n",
       "      <td>-0.425107</td>\n",
       "      <td>0.374834</td>\n",
       "      <td>0.134392</td>\n",
       "      <td>0.223998</td>\n",
       "      <td>0.217670</td>\n",
       "      <td>0.395870</td>\n",
       "      <td>-2.687014</td>\n",
       "      <td>-1.576290</td>\n",
       "      <td>-1.272932</td>\n",
       "      <td>...</td>\n",
       "      <td>5.887320</td>\n",
       "      <td>7.577280</td>\n",
       "      <td>3.188775</td>\n",
       "      <td>2.399377</td>\n",
       "      <td>2.676200</td>\n",
       "      <td>1.820231</td>\n",
       "      <td>1.488211</td>\n",
       "      <td>3.372005</td>\n",
       "      <td>3.030807</td>\n",
       "      <td>2.305803</td>\n",
       "    </tr>\n",
       "    <tr>\n",
       "      <th>1</th>\n",
       "      <td>1.0</td>\n",
       "      <td>-0.488027</td>\n",
       "      <td>0.466546</td>\n",
       "      <td>0.228711</td>\n",
       "      <td>0.139895</td>\n",
       "      <td>0.162045</td>\n",
       "      <td>0.419399</td>\n",
       "      <td>-2.754152</td>\n",
       "      <td>-1.540268</td>\n",
       "      <td>-1.353925</td>\n",
       "      <td>...</td>\n",
       "      <td>8.533753</td>\n",
       "      <td>5.603583</td>\n",
       "      <td>1.312436</td>\n",
       "      <td>0.109606</td>\n",
       "      <td>2.583266</td>\n",
       "      <td>3.100000</td>\n",
       "      <td>3.168906</td>\n",
       "      <td>3.084722</td>\n",
       "      <td>1.585254</td>\n",
       "      <td>2.040236</td>\n",
       "    </tr>\n",
       "  </tbody>\n",
       "</table>\n",
       "<p>2 rows × 39 columns</p>\n",
       "</div>"
      ],
      "text/plain": [
       "   time  grav_acceleration_x_mean  grav_acceleration_y_mean  \\\n",
       "0   0.0                 -0.425107                  0.374834   \n",
       "1   1.0                 -0.488027                  0.466546   \n",
       "\n",
       "   grav_acceleration_z_mean  grav_acceleration_x_std  grav_acceleration_y_std  \\\n",
       "0                  0.134392                 0.223998                 0.217670   \n",
       "1                  0.228711                 0.139895                 0.162045   \n",
       "\n",
       "   grav_acceleration_z_std  acceleration_x_power_below_gait  \\\n",
       "0                 0.395870                        -2.687014   \n",
       "1                 0.419399                        -2.754152   \n",
       "\n",
       "   acceleration_y_power_below_gait  acceleration_z_power_below_gait  ...  \\\n",
       "0                        -1.576290                        -1.272932  ...   \n",
       "1                        -1.540268                        -1.353925  ...   \n",
       "\n",
       "   cc_7_acc  cc_8_acc  cc_9_acc  cc_10_acc  cc_11_acc  cc_12_acc  cc_13_acc  \\\n",
       "0  5.887320  7.577280  3.188775   2.399377   2.676200   1.820231   1.488211   \n",
       "1  8.533753  5.603583  1.312436   0.109606   2.583266   3.100000   3.168906   \n",
       "\n",
       "   cc_14_acc  cc_15_acc  cc_16_acc  \n",
       "0   3.372005   3.030807   2.305803  \n",
       "1   3.084722   1.585254   2.040236  \n",
       "\n",
       "[2 rows x 39 columns]"
      ]
     },
     "execution_count": 41,
     "metadata": {},
     "output_type": "execute_result"
    }
   ],
   "source": [
    "metadata_dict = tsdf.load_metadata_from_path(os.path.join(path_to_input_data, meta_filename))\n",
    "metadata_time = metadata_dict[time_filename]\n",
    "metadata_samples = metadata_dict[values_filename]\n",
    "\n",
    "df = tsdf.load_dataframe_from_binaries([metadata_time, metadata_samples], tsdf.constants.ConcatenationType.columns)\n",
    "\n",
    "df.head(2)"
   ]
  },
  {
   "cell_type": "markdown",
   "metadata": {},
   "source": [
    "#### Classifier"
   ]
  },
  {
   "cell_type": "code",
   "execution_count": 42,
   "metadata": {},
   "outputs": [],
   "source": [
    "clf = pd.read_pickle(os.path.join(path_to_classifier_input, classifier_file_name))\n",
    "\n",
    "with open(os.path.join(path_to_classifier_input, thresholds_file_name), 'r') as f:\n",
    "    thresholds_str = f.read()\n",
    "\n",
    "threshold = np.mean([float(x) for x in thresholds_str.split(' ')])"
   ]
  },
  {
   "cell_type": "markdown",
   "metadata": {},
   "source": [
    "## Prepare data"
   ]
  },
  {
   "cell_type": "code",
   "execution_count": 43,
   "metadata": {},
   "outputs": [],
   "source": [
    "clf.feature_names_in_ = [f'{x}_power_below_gait' for x in l_accel_cols] + \\\n",
    "                        [f'{x}_power_gait' for x in l_accel_cols] + \\\n",
    "                        [f'{x}_power_tremor' for x in l_accel_cols] + \\\n",
    "                        [f'{x}_power_above_tremor' for x in l_accel_cols] + \\\n",
    "                        ['std_norm_acc'] + [f'cc_{i}_acc' for i in range(1, 17)] + [f'grav_{x}_{y}' for x in l_accel_cols for y in ['mean', 'std']] + \\\n",
    "                        [f'{x}_dominant_frequency' for x in l_accel_cols]\n",
    "\n",
    "X = df.loc[:, clf.feature_names_in_]"
   ]
  },
  {
   "cell_type": "markdown",
   "metadata": {},
   "source": [
    "## Predict gait"
   ]
  },
  {
   "cell_type": "code",
   "execution_count": 44,
   "metadata": {},
   "outputs": [],
   "source": [
    "df['pred_gait_proba'] = clf.predict_proba(X)[:, 1]\n",
    "df['pred_gait'] = df['pred_gait_proba'] > threshold"
   ]
  },
  {
   "cell_type": "markdown",
   "metadata": {},
   "source": [
    "## Store predictions"
   ]
  },
  {
   "cell_type": "code",
   "execution_count": 50,
   "metadata": {},
   "outputs": [],
   "source": [
    "metadata_samples.__setattr__('file_name', 'gait_values.bin')\n",
    "metadata_samples.__setattr__('file_dir_path', path_output)\n",
    "metadata_time.__setattr__('file_name', 'gait_time.bin')\n",
    "metadata_time.__setattr__('file_dir_path', path_output)\n",
    "\n",
    "metadata_samples.__setattr__('channels', ['pred_gait_proba'])\n",
    "metadata_samples.__setattr__('units', ['probability'])\n",
    "\n",
    "metadata_time.__setattr__('channels', ['time'])\n",
    "metadata_time.__setattr__('units', ['s'])\n",
    "metadata_time.__setattr__('data_type', np.int64)"
   ]
  },
  {
   "cell_type": "code",
   "execution_count": 51,
   "metadata": {},
   "outputs": [],
   "source": [
    "if not os.path.exists(path_output):\n",
    "    os.makedirs(path_output)\n",
    "\n",
    "# store binaries and metadata\n",
    "tsdf.write_dataframe_to_binaries(path_output, df, [metadata_time, metadata_samples])\n",
    "tsdf.write_metadata([metadata_time, metadata_samples], 'gait_meta.json')"
   ]
  }
 ],
 "metadata": {
  "kernelspec": {
   "display_name": ".venv",
   "language": "python",
   "name": "python3"
  },
  "language_info": {
   "codemirror_mode": {
    "name": "ipython",
    "version": 3
   },
   "file_extension": ".py",
   "mimetype": "text/x-python",
   "name": "python",
   "nbconvert_exporter": "python",
   "pygments_lexer": "ipython3",
   "version": "3.9.12"
  }
 },
 "nbformat": 4,
 "nbformat_minor": 2
}

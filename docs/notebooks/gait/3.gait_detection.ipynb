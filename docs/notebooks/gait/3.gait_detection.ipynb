{
 "cells": [
  {
   "cell_type": "markdown",
   "metadata": {},
   "source": [
    "# Gait detection\n",
    "This notebook shows how to predict gait probability using extracted features from windowed accelerometry data as input."
   ]
  },
  {
   "cell_type": "markdown",
   "metadata": {},
   "source": [
    "## Modules"
   ]
  },
  {
   "cell_type": "code",
   "execution_count": 1,
   "metadata": {},
   "outputs": [],
   "source": [
    "# Automatically reload modules\n",
    "%load_ext autoreload\n",
    "%autoreload 2\n",
    "\n",
    "import numpy as np\n",
    "import os\n",
    "import pandas as pd\n",
    "import tsdf\n",
    "\n",
    "from dbpd import DataColumns\n",
    "from dbpd.gait_analysis_config import GaitDetectionConfig\n",
    "from dbpd.util import write_data"
   ]
  },
  {
   "cell_type": "markdown",
   "metadata": {},
   "source": [
    "## Constants"
   ]
  },
  {
   "cell_type": "code",
   "execution_count": 2,
   "metadata": {
    "tags": [
     "parameters"
    ]
   },
   "outputs": [],
   "source": [
    "# Cell has the tag 'parameters'\n",
    "path_to_data = '../../../tests/data'\n",
    "input_path = os.path.join(path_to_data, '3.extracted_features', 'gait')\n",
    "output_path = os.path.join(path_to_data, '4.predictions', 'gait')\n"
   ]
  },
  {
   "cell_type": "code",
   "execution_count": 3,
   "metadata": {},
   "outputs": [],
   "source": [
    "path_to_classifier_input = os.path.join(path_to_data, '0.classifiers', 'gait')\n",
    "\n",
    "config = GaitDetectionConfig()"
   ]
  },
  {
   "cell_type": "markdown",
   "metadata": {},
   "source": [
    "## Load data"
   ]
  },
  {
   "cell_type": "markdown",
   "metadata": {},
   "source": [
    "### Features"
   ]
  },
  {
   "cell_type": "code",
   "execution_count": 4,
   "metadata": {},
   "outputs": [
    {
     "name": "stdout",
     "output_type": "stream",
     "text": [
      "../../../tests/data/3.extracted_features/gait/gait_meta.json\n"
     ]
    },
    {
     "data": {
      "text/html": [
       "<div>\n",
       "<style scoped>\n",
       "    .dataframe tbody tr th:only-of-type {\n",
       "        vertical-align: middle;\n",
       "    }\n",
       "\n",
       "    .dataframe tbody tr th {\n",
       "        vertical-align: top;\n",
       "    }\n",
       "\n",
       "    .dataframe thead th {\n",
       "        text-align: right;\n",
       "    }\n",
       "</style>\n",
       "<table border=\"1\" class=\"dataframe\">\n",
       "  <thead>\n",
       "    <tr style=\"text-align: right;\">\n",
       "      <th></th>\n",
       "      <th>time</th>\n",
       "      <th>grav_accelerometer_x_mean</th>\n",
       "      <th>grav_accelerometer_y_mean</th>\n",
       "      <th>grav_accelerometer_z_mean</th>\n",
       "      <th>grav_accelerometer_x_std</th>\n",
       "      <th>grav_accelerometer_y_std</th>\n",
       "      <th>grav_accelerometer_z_std</th>\n",
       "      <th>accelerometer_x_power_below_gait</th>\n",
       "      <th>accelerometer_y_power_below_gait</th>\n",
       "      <th>accelerometer_z_power_below_gait</th>\n",
       "      <th>...</th>\n",
       "      <th>cc_7_acc</th>\n",
       "      <th>cc_8_acc</th>\n",
       "      <th>cc_9_acc</th>\n",
       "      <th>cc_10_acc</th>\n",
       "      <th>cc_11_acc</th>\n",
       "      <th>cc_12_acc</th>\n",
       "      <th>cc_13_acc</th>\n",
       "      <th>cc_14_acc</th>\n",
       "      <th>cc_15_acc</th>\n",
       "      <th>cc_16_acc</th>\n",
       "    </tr>\n",
       "  </thead>\n",
       "  <tbody>\n",
       "    <tr>\n",
       "      <th>0</th>\n",
       "      <td>0.0</td>\n",
       "      <td>-0.254277</td>\n",
       "      <td>0.349536</td>\n",
       "      <td>-0.185436</td>\n",
       "      <td>0.201148</td>\n",
       "      <td>0.274366</td>\n",
       "      <td>0.175218</td>\n",
       "      <td>-2.196878</td>\n",
       "      <td>-2.082702</td>\n",
       "      <td>-1.778631</td>\n",
       "      <td>...</td>\n",
       "      <td>1.185679</td>\n",
       "      <td>5.631833</td>\n",
       "      <td>2.841281</td>\n",
       "      <td>1.735134</td>\n",
       "      <td>2.460248</td>\n",
       "      <td>0.681239</td>\n",
       "      <td>0.487575</td>\n",
       "      <td>0.416049</td>\n",
       "      <td>-0.771643</td>\n",
       "      <td>0.682422</td>\n",
       "    </tr>\n",
       "    <tr>\n",
       "      <th>1</th>\n",
       "      <td>0.5</td>\n",
       "      <td>-0.348531</td>\n",
       "      <td>0.443408</td>\n",
       "      <td>-0.201595</td>\n",
       "      <td>0.193360</td>\n",
       "      <td>0.234389</td>\n",
       "      <td>0.168314</td>\n",
       "      <td>-2.418786</td>\n",
       "      <td>-1.910373</td>\n",
       "      <td>-1.542687</td>\n",
       "      <td>...</td>\n",
       "      <td>3.482165</td>\n",
       "      <td>6.691867</td>\n",
       "      <td>2.868117</td>\n",
       "      <td>3.237027</td>\n",
       "      <td>2.451687</td>\n",
       "      <td>1.132037</td>\n",
       "      <td>0.356253</td>\n",
       "      <td>1.128363</td>\n",
       "      <td>0.377243</td>\n",
       "      <td>0.320846</td>\n",
       "    </tr>\n",
       "  </tbody>\n",
       "</table>\n",
       "<p>2 rows × 39 columns</p>\n",
       "</div>"
      ],
      "text/plain": [
       "   time  grav_accelerometer_x_mean  grav_accelerometer_y_mean  \\\n",
       "0   0.0                  -0.254277                   0.349536   \n",
       "1   0.5                  -0.348531                   0.443408   \n",
       "\n",
       "   grav_accelerometer_z_mean  grav_accelerometer_x_std  \\\n",
       "0                  -0.185436                  0.201148   \n",
       "1                  -0.201595                  0.193360   \n",
       "\n",
       "   grav_accelerometer_y_std  grav_accelerometer_z_std  \\\n",
       "0                  0.274366                  0.175218   \n",
       "1                  0.234389                  0.168314   \n",
       "\n",
       "   accelerometer_x_power_below_gait  accelerometer_y_power_below_gait  \\\n",
       "0                         -2.196878                         -2.082702   \n",
       "1                         -2.418786                         -1.910373   \n",
       "\n",
       "   accelerometer_z_power_below_gait  ...  cc_7_acc  cc_8_acc  cc_9_acc  \\\n",
       "0                         -1.778631  ...  1.185679  5.631833  2.841281   \n",
       "1                         -1.542687  ...  3.482165  6.691867  2.868117   \n",
       "\n",
       "   cc_10_acc  cc_11_acc  cc_12_acc  cc_13_acc  cc_14_acc  cc_15_acc  cc_16_acc  \n",
       "0   1.735134   2.460248   0.681239   0.487575   0.416049  -0.771643   0.682422  \n",
       "1   3.237027   2.451687   1.132037   0.356253   1.128363   0.377243   0.320846  \n",
       "\n",
       "[2 rows x 39 columns]"
      ]
     },
     "execution_count": 4,
     "metadata": {},
     "output_type": "execute_result"
    }
   ],
   "source": [
    "classifier_path = os.path.join(input_path, config.meta_filename)\n",
    "print(classifier_path)\n",
    "metadata_dict = tsdf.load_metadata_from_path(classifier_path)\n",
    "metadata_time = metadata_dict[config.time_filename]\n",
    "metadata_samples = metadata_dict[config.values_filename]\n",
    "\n",
    "df = tsdf.load_dataframe_from_binaries([metadata_time, metadata_samples], tsdf.constants.ConcatenationType.columns)\n",
    "\n",
    "df.head(2)"
   ]
  },
  {
   "cell_type": "markdown",
   "metadata": {},
   "source": [
    "### Classifier"
   ]
  },
  {
   "cell_type": "code",
   "execution_count": 5,
   "metadata": {},
   "outputs": [],
   "source": [
    "clf = pd.read_pickle(os.path.join(path_to_classifier_input, config.classifier_file_name))\n",
    "\n",
    "with open(os.path.join(path_to_classifier_input, config.thresholds_file_name), 'r') as f:\n",
    "    thresholds_str = f.read()\n",
    "\n",
    "threshold = np.mean([float(x) for x in thresholds_str.split(' ')])"
   ]
  },
  {
   "cell_type": "markdown",
   "metadata": {},
   "source": [
    "## Prepare data"
   ]
  },
  {
   "cell_type": "code",
   "execution_count": 6,
   "metadata": {},
   "outputs": [],
   "source": [
    "clf.feature_names_in_ = [f'{x}_power_below_gait' for x in config.l_accel_cols] + \\\n",
    "                        [f'{x}_power_gait' for x in config.l_accel_cols] + \\\n",
    "                        [f'{x}_power_tremor' for x in config.l_accel_cols] + \\\n",
    "                        [f'{x}_power_above_tremor' for x in config.l_accel_cols] + \\\n",
    "                        ['std_norm_acc'] + [f'cc_{i}_acc' for i in range(1, 17)] + [f'grav_{x}_{y}' for x in config.l_accel_cols for y in ['mean', 'std']] + \\\n",
    "                        [f'{x}_dominant_frequency' for x in config.l_accel_cols]\n",
    "\n",
    "X = df.loc[:, clf.feature_names_in_]"
   ]
  },
  {
   "cell_type": "markdown",
   "metadata": {},
   "source": [
    "## Predict gait"
   ]
  },
  {
   "cell_type": "code",
   "execution_count": 7,
   "metadata": {},
   "outputs": [],
   "source": [
    "df['pred_gait_proba'] = clf.predict_proba(X)[:, 1]\n",
    "df['pred_gait'] = df['pred_gait_proba'] > threshold"
   ]
  },
  {
   "cell_type": "markdown",
   "metadata": {},
   "source": [
    "## Store predictions"
   ]
  },
  {
   "cell_type": "code",
   "execution_count": 8,
   "metadata": {},
   "outputs": [],
   "source": [
    "metadata_samples.__setattr__('file_name', 'gait_values.bin')\n",
    "metadata_samples.__setattr__('file_dir_path', output_path)\n",
    "metadata_time.__setattr__('file_name', 'gait_time.bin')\n",
    "metadata_time.__setattr__('file_dir_path', output_path)\n",
    "\n",
    "metadata_samples.__setattr__('channels', ['pred_gait_proba'])\n",
    "metadata_samples.__setattr__('units', ['probability'])\n",
    "metadata_samples.__setattr__('data_type', np.float32)\n",
    "metadata_samples.__setattr__('bits', 32)\n",
    "\n",
    "metadata_time.__setattr__('channels', ['time'])\n",
    "metadata_time.__setattr__('units', ['relative_time_ms'])\n",
    "metadata_time.__setattr__('data_type', np.int32)\n",
    "metadata_time.__setattr__('bits', 32)"
   ]
  },
  {
   "cell_type": "code",
   "execution_count": 9,
   "metadata": {},
   "outputs": [],
   "source": [
    "write_data(metadata_time, metadata_samples, output_path, 'gait_meta.json', df)"
   ]
  }
 ],
 "metadata": {
  "kernelspec": {
   "display_name": ".venv",
   "language": "python",
   "name": "python3"
  },
  "language_info": {
   "codemirror_mode": {
    "name": "ipython",
    "version": 3
   },
   "file_extension": ".py",
   "mimetype": "text/x-python",
   "name": "python",
   "nbconvert_exporter": "python",
   "pygments_lexer": "ipython3",
   "version": "3.9.13"
  }
 },
 "nbformat": 4,
 "nbformat_minor": 2
}

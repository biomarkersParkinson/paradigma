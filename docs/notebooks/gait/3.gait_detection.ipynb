{
 "cells": [
  {
   "cell_type": "markdown",
   "metadata": {},
   "source": [
    "# Gait detection\n",
    "This notebook shows how to predict gait probability using extracted features from windowed accelerometry data as input."
   ]
  },
  {
   "cell_type": "markdown",
   "metadata": {},
   "source": [
    "## Modules"
   ]
  },
  {
   "cell_type": "code",
   "execution_count": 1,
   "metadata": {},
   "outputs": [],
   "source": [
    "import numpy as np\n",
    "import os\n",
    "import pandas as pd\n",
    "import tsdf"
   ]
  },
  {
   "cell_type": "markdown",
   "metadata": {},
   "source": [
    "## Constans"
   ]
  },
  {
   "cell_type": "code",
   "execution_count": 9,
   "metadata": {},
   "outputs": [],
   "source": [
    "path_to_data_folder = '../../../tests/data'\n",
    "path_to_classifier_input = os.path.join(path_to_data_folder, '0.classifiers')\n",
    "path_to_input_data = os.path.join(path_to_data_folder, '3.extracted_features')\n",
    "\n",
    "classifier_file_name = 'gd_classifier.pkl'\n",
    "thresholds_file_name = 'gd_thresholds.txt'\n",
    "\n",
    "meta_filename = 'gait_meta.json'\n",
    "time_filename = 'gait_time.bin'\n",
    "values_filename = 'gait_values.bin'"
   ]
  },
  {
   "cell_type": "markdown",
   "metadata": {},
   "source": [
    "## Load data"
   ]
  },
  {
   "cell_type": "markdown",
   "metadata": {},
   "source": [
    "#### Features"
   ]
  },
  {
   "cell_type": "code",
   "execution_count": 10,
   "metadata": {},
   "outputs": [
    {
     "data": {
      "text/html": [
       "<div>\n",
       "<style scoped>\n",
       "    .dataframe tbody tr th:only-of-type {\n",
       "        vertical-align: middle;\n",
       "    }\n",
       "\n",
       "    .dataframe tbody tr th {\n",
       "        vertical-align: top;\n",
       "    }\n",
       "\n",
       "    .dataframe thead th {\n",
       "        text-align: right;\n",
       "    }\n",
       "</style>\n",
       "<table border=\"1\" class=\"dataframe\">\n",
       "  <thead>\n",
       "    <tr style=\"text-align: right;\">\n",
       "      <th></th>\n",
       "      <th>time</th>\n",
       "      <th>grav_acceleration_x_mean</th>\n",
       "      <th>grav_acceleration_y_mean</th>\n",
       "      <th>grav_acceleration_z_mean</th>\n",
       "      <th>grav_acceleration_x_std</th>\n",
       "      <th>grav_acceleration_y_std</th>\n",
       "      <th>grav_acceleration_z_std</th>\n",
       "      <th>acceleration_x_power_below_gait</th>\n",
       "      <th>acceleration_y_power_below_gait</th>\n",
       "      <th>acceleration_z_power_below_gait</th>\n",
       "      <th>...</th>\n",
       "      <th>cc_7_acc</th>\n",
       "      <th>cc_8_acc</th>\n",
       "      <th>cc_9_acc</th>\n",
       "      <th>cc_10_acc</th>\n",
       "      <th>cc_11_acc</th>\n",
       "      <th>cc_12_acc</th>\n",
       "      <th>cc_13_acc</th>\n",
       "      <th>cc_14_acc</th>\n",
       "      <th>cc_15_acc</th>\n",
       "      <th>cc_16_acc</th>\n",
       "    </tr>\n",
       "  </thead>\n",
       "  <tbody>\n",
       "    <tr>\n",
       "      <th>0</th>\n",
       "      <td>0.0</td>\n",
       "      <td>-0.047251</td>\n",
       "      <td>0.050201</td>\n",
       "      <td>0.060329</td>\n",
       "      <td>1.313877</td>\n",
       "      <td>2.363976</td>\n",
       "      <td>2.396287</td>\n",
       "      <td>-0.049527</td>\n",
       "      <td>0.487146</td>\n",
       "      <td>1.019625</td>\n",
       "      <td>...</td>\n",
       "      <td>20.289018</td>\n",
       "      <td>25.820366</td>\n",
       "      <td>16.562895</td>\n",
       "      <td>20.663271</td>\n",
       "      <td>14.203158</td>\n",
       "      <td>17.329451</td>\n",
       "      <td>12.517624</td>\n",
       "      <td>14.955473</td>\n",
       "      <td>11.21085</td>\n",
       "      <td>13.143715</td>\n",
       "    </tr>\n",
       "    <tr>\n",
       "      <th>1</th>\n",
       "      <td>1.0</td>\n",
       "      <td>-0.101392</td>\n",
       "      <td>0.092064</td>\n",
       "      <td>-0.033868</td>\n",
       "      <td>1.074532</td>\n",
       "      <td>2.102793</td>\n",
       "      <td>2.283641</td>\n",
       "      <td>-0.335474</td>\n",
       "      <td>0.347401</td>\n",
       "      <td>0.982570</td>\n",
       "      <td>...</td>\n",
       "      <td>20.538983</td>\n",
       "      <td>26.053625</td>\n",
       "      <td>16.795331</td>\n",
       "      <td>20.880823</td>\n",
       "      <td>14.417529</td>\n",
       "      <td>17.529895</td>\n",
       "      <td>12.713595</td>\n",
       "      <td>15.138320</td>\n",
       "      <td>11.38847</td>\n",
       "      <td>13.308815</td>\n",
       "    </tr>\n",
       "  </tbody>\n",
       "</table>\n",
       "<p>2 rows × 39 columns</p>\n",
       "</div>"
      ],
      "text/plain": [
       "   time  grav_acceleration_x_mean  grav_acceleration_y_mean  \\\n",
       "0   0.0                 -0.047251                  0.050201   \n",
       "1   1.0                 -0.101392                  0.092064   \n",
       "\n",
       "   grav_acceleration_z_mean  grav_acceleration_x_std  grav_acceleration_y_std  \\\n",
       "0                  0.060329                 1.313877                 2.363976   \n",
       "1                 -0.033868                 1.074532                 2.102793   \n",
       "\n",
       "   grav_acceleration_z_std  acceleration_x_power_below_gait  \\\n",
       "0                 2.396287                        -0.049527   \n",
       "1                 2.283641                        -0.335474   \n",
       "\n",
       "   acceleration_y_power_below_gait  acceleration_z_power_below_gait  ...  \\\n",
       "0                         0.487146                         1.019625  ...   \n",
       "1                         0.347401                         0.982570  ...   \n",
       "\n",
       "    cc_7_acc   cc_8_acc   cc_9_acc  cc_10_acc  cc_11_acc  cc_12_acc  \\\n",
       "0  20.289018  25.820366  16.562895  20.663271  14.203158  17.329451   \n",
       "1  20.538983  26.053625  16.795331  20.880823  14.417529  17.529895   \n",
       "\n",
       "   cc_13_acc  cc_14_acc  cc_15_acc  cc_16_acc  \n",
       "0  12.517624  14.955473   11.21085  13.143715  \n",
       "1  12.713595  15.138320   11.38847  13.308815  \n",
       "\n",
       "[2 rows x 39 columns]"
      ]
     },
     "execution_count": 10,
     "metadata": {},
     "output_type": "execute_result"
    }
   ],
   "source": [
    "metadata_dict = tsdf.load_metadata_from_path(os.path.join(path_to_input_data, meta_filename))\n",
    "metadata_time = metadata_dict[time_filename]\n",
    "metadata_samples = metadata_dict[values_filename]\n",
    "\n",
    "df = tsdf.load_dataframe_from_binaries([metadata_time, metadata_samples], tsdf.constants.ConcatenationType.columns)\n",
    "\n",
    "df.head(2)"
   ]
  },
  {
   "cell_type": "markdown",
   "metadata": {},
   "source": [
    "#### Classifier"
   ]
  },
  {
   "cell_type": "code",
   "execution_count": null,
   "metadata": {},
   "outputs": [],
   "source": [
    "clf = pd.read_pickle(os.path.join(path_to_classifier_input, classifier_file_name))\n",
    "\n",
    "with open(os.path.join(path_to_classifier_input, thresholds_file_name), 'r') as f:\n",
    "    thresholds_str = f.read()\n",
    "\n",
    "l_thresholds = [float(x) for x in thresholds_str.split(' ')]"
   ]
  }
 ],
 "metadata": {
  "kernelspec": {
   "display_name": ".venv",
   "language": "python",
   "name": "python3"
  },
  "language_info": {
   "codemirror_mode": {
    "name": "ipython",
    "version": 3
   },
   "file_extension": ".py",
   "mimetype": "text/x-python",
   "name": "python",
   "nbconvert_exporter": "python",
   "pygments_lexer": "ipython3",
   "version": "3.9.12"
  }
 },
 "nbformat": 4,
 "nbformat_minor": 2
}

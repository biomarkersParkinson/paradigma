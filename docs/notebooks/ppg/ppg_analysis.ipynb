{
 "cells": [
  {
   "cell_type": "code",
   "execution_count": 59,
   "metadata": {},
   "outputs": [
    {
     "name": "stdout",
     "output_type": "stream",
     "text": [
      "The autoreload extension is already loaded. To reload it, use:\n",
      "  %reload_ext autoreload\n"
     ]
    }
   ],
   "source": [
    "# Automatically reload modules\n",
    "%load_ext autoreload\n",
    "%autoreload 2\n",
    "\n",
    "import os\n",
    "from dbpd.preprocessing_config import PPGPreprocessingConfig, IMUPreprocessingConfig\n",
    "from dbpd.ppg_preprocessing import scan_and_sync_segments, preprocess_ppg_data\n",
    "from dbpd.heart_rate_analysis_config import HeartRateFeatureExtractionConfig\n",
    "from dbpd.heart_rate_analysis import extract_signal_quality_features"
   ]
  },
  {
   "cell_type": "code",
   "execution_count": 60,
   "metadata": {
    "tags": [
     "parameters"
    ]
   },
   "outputs": [],
   "source": [
    "# Cell has the tag 'parameters'\n",
    "path_to_data =  '../../../tests/data'\n",
    "\n",
    "quality_classifier_path = \"/Users/peter/repos/dbpd/dbpd-toolbox2/src/dbpd/ppg/classifier/LR_PPG_quality.pkl\"\n",
    "path_to_sensor_data = os.path.join(path_to_data, '1.sensor_data')\n",
    "path_to_preprocessed_data = os.path.join(path_to_data, '2.preprocessed_data', 'ppg')\n",
    "path_to_quality_features = os.path.join(path_to_data, '3.extracted_features', 'ppg')"
   ]
  },
  {
   "cell_type": "code",
   "execution_count": 61,
   "metadata": {},
   "outputs": [
    {
     "name": "stdout",
     "output_type": "stream",
     "text": [
      "Shape of the original data: (64775, 2) (72947, 4)\n",
      "Shape of the overlapping segments: (64775, 2) (64361, 4)\n"
     ]
    }
   ],
   "source": [
    "ppg_config = PPGPreprocessingConfig()\n",
    "imu_config = IMUPreprocessingConfig()\n",
    "metadatas_ppg, metadatas_imu = scan_and_sync_segments(os.path.join(path_to_sensor_data, 'ppg'),\n",
    "                                                       os.path.join(path_to_sensor_data, 'imu'))\n",
    "preprocess_ppg_data(metadatas_ppg[0], metadatas_imu[0],\n",
    "                    os.path.join(path_to_preprocessed_data, 'ppg'),\n",
    "                    ppg_config, imu_config)"
   ]
  },
  {
   "cell_type": "code",
   "execution_count": 65,
   "metadata": {},
   "outputs": [
    {
     "name": "stdout",
     "output_type": "stream",
     "text": [
      "[[ 0.51444303 82.        ]]\n",
      "300 150 1000\n",
      "(501,) (151,)\n"
     ]
    },
    {
     "name": "stderr",
     "output_type": "stream",
     "text": [
      "/Users/peter/Library/Caches/pypoetry/virtualenvs/dbpd-ZysVbjC7-py3.9/lib/python3.9/site-packages/scipy/signal/_spectral_py.py:600: UserWarning: nperseg = 300 is greater than input length  = 3, using nperseg = 3\n",
      "  freqs, _, Pxy = _spectral_helper(x, y, fs, window, nperseg, noverlap,\n"
     ]
    },
    {
     "ename": "ValueError",
     "evalue": "operands could not be broadcast together with shapes (500,) (599,) ",
     "output_type": "error",
     "traceback": [
      "\u001b[0;31m---------------------------------------------------------------------------\u001b[0m",
      "\u001b[0;31mValueError\u001b[0m                                Traceback (most recent call last)",
      "File \u001b[0;32m~/Library/Caches/pypoetry/virtualenvs/dbpd-ZysVbjC7-py3.9/lib/python3.9/site-packages/numpy/lib/function_base.py:4979\u001b[0m, in \u001b[0;36mtrapz\u001b[0;34m(y, x, dx, axis)\u001b[0m\n\u001b[1;32m   4978\u001b[0m \u001b[38;5;28;01mtry\u001b[39;00m:\n\u001b[0;32m-> 4979\u001b[0m     ret \u001b[38;5;241m=\u001b[39m (\u001b[43md\u001b[49m\u001b[43m \u001b[49m\u001b[38;5;241;43m*\u001b[39;49m\u001b[43m \u001b[49m\u001b[43m(\u001b[49m\u001b[43my\u001b[49m\u001b[43m[\u001b[49m\u001b[38;5;28;43mtuple\u001b[39;49m\u001b[43m(\u001b[49m\u001b[43mslice1\u001b[49m\u001b[43m)\u001b[49m\u001b[43m]\u001b[49m\u001b[43m \u001b[49m\u001b[38;5;241;43m+\u001b[39;49m\u001b[43m \u001b[49m\u001b[43my\u001b[49m\u001b[43m[\u001b[49m\u001b[38;5;28;43mtuple\u001b[39;49m\u001b[43m(\u001b[49m\u001b[43mslice2\u001b[49m\u001b[43m)\u001b[49m\u001b[43m]\u001b[49m\u001b[43m)\u001b[49m \u001b[38;5;241m/\u001b[39m \u001b[38;5;241m2.0\u001b[39m)\u001b[38;5;241m.\u001b[39msum(axis)\n\u001b[1;32m   4980\u001b[0m \u001b[38;5;28;01mexcept\u001b[39;00m \u001b[38;5;167;01mValueError\u001b[39;00m:\n\u001b[1;32m   4981\u001b[0m     \u001b[38;5;66;03m# Operations didn't work, cast to ndarray\u001b[39;00m\n",
      "\u001b[0;31mValueError\u001b[0m: operands could not be broadcast together with shapes (500,) (599,) ",
      "\nDuring handling of the above exception, another exception occurred:\n",
      "\u001b[0;31mValueError\u001b[0m                                Traceback (most recent call last)",
      "Cell \u001b[0;32mIn[65], line 2\u001b[0m\n\u001b[1;32m      1\u001b[0m config \u001b[38;5;241m=\u001b[39m HeartRateFeatureExtractionConfig()\n\u001b[0;32m----> 2\u001b[0m \u001b[43mextract_signal_quality_features\u001b[49m\u001b[43m(\u001b[49m\u001b[43mpath_to_preprocessed_data\u001b[49m\u001b[43m,\u001b[49m\u001b[43m \u001b[49m\u001b[43mquality_classifier_path\u001b[49m\u001b[43m,\u001b[49m\u001b[43m \u001b[49m\u001b[43mpath_to_quality_features\u001b[49m\u001b[43m,\u001b[49m\u001b[43m \u001b[49m\u001b[43mconfig\u001b[49m\u001b[43m)\u001b[49m\n",
      "File \u001b[0;32m~/repos/dbpd/dbpd-toolbox2/src/dbpd/heart_rate_analysis.py:96\u001b[0m, in \u001b[0;36mextract_signal_quality_features\u001b[0;34m(input_path, classifier_path, output_path, config)\u001b[0m\n\u001b[1;32m     94\u001b[0m \u001b[38;5;66;03m# IMU feature extraction\u001b[39;00m\n\u001b[1;32m     95\u001b[0m \u001b[38;5;28mprint\u001b[39m(f1\u001b[38;5;241m.\u001b[39mshape, f2\u001b[38;5;241m.\u001b[39mshape)\n\u001b[0;32m---> 96\u001b[0m feature_acc\u001b[38;5;241m.\u001b[39mappend(\u001b[43mcalculate_power_ratio\u001b[49m\u001b[43m(\u001b[49m\u001b[43mf1\u001b[49m\u001b[43m,\u001b[49m\u001b[43m \u001b[49m\u001b[43mPSD_imu\u001b[49m\u001b[43m,\u001b[49m\u001b[43m \u001b[49m\u001b[43mf2\u001b[49m\u001b[43m,\u001b[49m\u001b[43m \u001b[49m\u001b[43mPSD_ppg\u001b[49m\u001b[43m)\u001b[49m)  \u001b[38;5;66;03m# Calculate the power ratio of the accelerometer signal in the PPG frequency range\u001b[39;00m\n\u001b[1;32m     98\u001b[0m \u001b[38;5;66;03m# time channel\u001b[39;00m\n\u001b[1;32m     99\u001b[0m t_unix_feat_total\u001b[38;5;241m.\u001b[39mappend((relative_time_ppg[i] \u001b[38;5;241m+\u001b[39m ppg_start_time) \u001b[38;5;241m*\u001b[39m UNIX_TICKS_MS)  \u001b[38;5;66;03m# Save in absolute unix time ms\u001b[39;00m\n",
      "File \u001b[0;32m~/repos/dbpd/dbpd-toolbox2/src/dbpd/heart_rate_util.py:142\u001b[0m, in \u001b[0;36mcalculate_power_ratio\u001b[0;34m(f1, PSD_acc, f2, PSD_ppg)\u001b[0m\n\u001b[1;32m    140\u001b[0m \u001b[38;5;66;03m# Calculate the power ratio\u001b[39;00m\n\u001b[1;32m    141\u001b[0m acc_power_PPG_range \u001b[38;5;241m=\u001b[39m np\u001b[38;5;241m.\u001b[39mtrapz(PSD_acc[df_idx], f1[df_idx]) \u001b[38;5;241m+\u001b[39m np\u001b[38;5;241m.\u001b[39mtrapz(PSD_acc[fh_idx], f1[fh_idx])\n\u001b[0;32m--> 142\u001b[0m acc_power_total \u001b[38;5;241m=\u001b[39m \u001b[43mnp\u001b[49m\u001b[38;5;241;43m.\u001b[39;49m\u001b[43mtrapz\u001b[49m\u001b[43m(\u001b[49m\u001b[43mPSD_acc\u001b[49m\u001b[43m,\u001b[49m\u001b[43m \u001b[49m\u001b[43mf1\u001b[49m\u001b[43m)\u001b[49m\n\u001b[1;32m    144\u001b[0m acc_power_ratio \u001b[38;5;241m=\u001b[39m acc_power_PPG_range \u001b[38;5;241m/\u001b[39m acc_power_total\n\u001b[1;32m    146\u001b[0m \u001b[38;5;28;01mreturn\u001b[39;00m acc_power_ratio\n",
      "File \u001b[0;32m~/Library/Caches/pypoetry/virtualenvs/dbpd-ZysVbjC7-py3.9/lib/python3.9/site-packages/numpy/lib/function_base.py:4984\u001b[0m, in \u001b[0;36mtrapz\u001b[0;34m(y, x, dx, axis)\u001b[0m\n\u001b[1;32m   4982\u001b[0m     d \u001b[38;5;241m=\u001b[39m np\u001b[38;5;241m.\u001b[39masarray(d)\n\u001b[1;32m   4983\u001b[0m     y \u001b[38;5;241m=\u001b[39m np\u001b[38;5;241m.\u001b[39masarray(y)\n\u001b[0;32m-> 4984\u001b[0m     ret \u001b[38;5;241m=\u001b[39m add\u001b[38;5;241m.\u001b[39mreduce(\u001b[43md\u001b[49m\u001b[43m \u001b[49m\u001b[38;5;241;43m*\u001b[39;49m\u001b[43m \u001b[49m\u001b[43m(\u001b[49m\u001b[43my\u001b[49m\u001b[43m[\u001b[49m\u001b[38;5;28;43mtuple\u001b[39;49m\u001b[43m(\u001b[49m\u001b[43mslice1\u001b[49m\u001b[43m)\u001b[49m\u001b[43m]\u001b[49m\u001b[38;5;241;43m+\u001b[39;49m\u001b[43my\u001b[49m\u001b[43m[\u001b[49m\u001b[38;5;28;43mtuple\u001b[39;49m\u001b[43m(\u001b[49m\u001b[43mslice2\u001b[49m\u001b[43m)\u001b[49m\u001b[43m]\u001b[49m\u001b[43m)\u001b[49m\u001b[38;5;241m/\u001b[39m\u001b[38;5;241m2.0\u001b[39m, axis)\n\u001b[1;32m   4985\u001b[0m \u001b[38;5;28;01mreturn\u001b[39;00m ret\n",
      "\u001b[0;31mValueError\u001b[0m: operands could not be broadcast together with shapes (500,) (599,) "
     ]
    }
   ],
   "source": [
    "config = HeartRateFeatureExtractionConfig()\n",
    "extract_signal_quality_features(path_to_preprocessed_data, quality_classifier_path, path_to_quality_features, config)"
   ]
  },
  {
   "cell_type": "code",
   "execution_count": 11,
   "metadata": {},
   "outputs": [
    {
     "name": "stdout",
     "output_type": "stream",
     "text": [
      "Comparing datasets: tested vs reference\n",
      "Shapes: (19338, 2) (19338, 2)\n",
      "             Tested                   Reference              \n",
      "               time         green          time         green\n",
      "count  1.933800e+04  19338.000000  19338.000000  19338.000000\n",
      "mean   1.624813e+09   3326.260086    322.283333      3.820214\n",
      "std    1.860846e+02    390.998313    186.084803   5919.183045\n",
      "min    1.624813e+09   2534.790484      0.000000 -47001.363761\n",
      "25%    1.624813e+09   3045.056516    161.141667  -1099.888350\n",
      "50%    1.624813e+09   3181.907103    322.283333    -24.494001\n",
      "75%    1.624813e+09   3717.021484    483.425000   1159.509095\n",
      "max    1.624813e+09   4323.557541    644.566667  48981.992338\n",
      "           time        green\n",
      "0  1.624813e+09  3048.661742\n",
      "1  1.624813e+09  3027.368811\n",
      "2  1.624813e+09  3014.800278\n",
      "3  1.624813e+09  2992.760882\n",
      "4  1.624813e+09  2975.891149\n",
      "       time        green\n",
      "0  0.000000 -1112.606896\n",
      "1  0.033333 -3082.665426\n",
      "2  0.066667 -4732.866602\n",
      "3  0.100000 -5833.747274\n",
      "4  0.133333 -6292.595877\n"
     ]
    }
   ],
   "source": [
    "import tsdf\n",
    "import pandas as pd\n",
    "\n",
    "metadata_dict = tsdf.load_metadata_from_path(os.path.join(output_path, 'PPG_meta.json'))\n",
    "metadata_time = metadata_dict[\"PPG_time.bin\"]\n",
    "metadata_samples = metadata_dict[\"PPG_samples.bin\"]\n",
    "tested_data = tsdf.load_dataframe_from_binaries([metadata_time, metadata_samples], tsdf.constants.ConcatenationType.columns)\n",
    "\n",
    "metadata_dict = tsdf.load_metadata_from_path(os.path.join(output_path, 'ref', 'PPG_meta.json'))\n",
    "metadata_time = metadata_dict[\"PPG_time.bin\"]\n",
    "metadata_samples = metadata_dict[\"PPG_samples.bin\"]\n",
    "ref_data = tsdf.load_dataframe_from_binaries([metadata_time, metadata_samples], tsdf.constants.ConcatenationType.columns)\n",
    "\n",
    "print(\"Comparing datasets: tested vs reference\")\n",
    "print(\"Shapes:\", tested_data.shape, ref_data.shape)\n",
    "desc_tested = tested_data.describe()\n",
    "desc_ref = ref_data.describe()\n",
    "summary = pd.concat([desc_tested, desc_ref], axis=1, keys=['Tested', 'Reference'])\n",
    "print(summary)\n",
    "print(tested_data.head())\n",
    "print(ref_data.head())"
   ]
  },
  {
   "cell_type": "code",
   "execution_count": null,
   "metadata": {},
   "outputs": [],
   "source": []
  }
 ],
 "metadata": {
  "kernelspec": {
   "display_name": "dbpd-ZysVbjC7-py3.9",
   "language": "python",
   "name": "python3"
  },
  "language_info": {
   "codemirror_mode": {
    "name": "ipython",
    "version": 3
   },
   "file_extension": ".py",
   "mimetype": "text/x-python",
   "name": "python",
   "nbconvert_exporter": "python",
   "pygments_lexer": "ipython3",
   "version": "3.9.13"
  }
 },
 "nbformat": 4,
 "nbformat_minor": 2
}

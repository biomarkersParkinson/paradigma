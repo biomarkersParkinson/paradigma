{
 "cells": [
  {
   "cell_type": "code",
   "execution_count": 1,
   "metadata": {},
   "outputs": [],
   "source": [
    "# Automatically reload modules\n",
    "%load_ext autoreload\n",
    "%autoreload 2\n",
    "\n",
    "import os\n",
    "\n",
    "from paradigma.preprocessing_config import PPGPreprocessingConfig, IMUPreprocessingConfig\n",
    "from paradigma.ppg_preprocessing import scan_and_sync_segments, preprocess_ppg_data\n",
    "from paradigma.heart_rate_analysis_config import HeartRateFeatureExtractionConfig\n",
    "from paradigma.heart_rate_analysis import extract_signal_quality_features"
   ]
  },
  {
   "cell_type": "code",
   "execution_count": 2,
   "metadata": {
    "tags": [
     "parameters"
    ]
   },
   "outputs": [],
   "source": [
    "# Cell has the tag 'parameters'\n",
    "path_to_data =  '../../../tests/data'\n",
    "path_to_classifier = '../../../src/paradigma/ppg/classifier'\n",
    "\n",
    "quality_classifier_path = os.path.join(path_to_classifier, \"LR_PPG_quality.pkl\")\n",
    "path_to_sensor_data = os.path.join(path_to_data, '1.sensor_data')\n",
    "path_to_preprocessed_data = os.path.join(path_to_data, '2.preprocessed_data', 'ppg')\n",
    "path_to_quality_features = os.path.join(path_to_data, '3.extracted_features', 'ppg')"
   ]
  },
  {
   "cell_type": "code",
   "execution_count": 3,
   "metadata": {},
   "outputs": [
    {
     "name": "stdout",
     "output_type": "stream",
     "text": [
      "Shape of the original data: (64775, 2) (72947, 4)\n",
      "Shape of the overlapping segments: (64775, 2) (64361, 4)\n"
     ]
    }
   ],
   "source": [
    "ppg_config = PPGPreprocessingConfig()\n",
    "imu_config = IMUPreprocessingConfig()\n",
    "metadatas_ppg, metadatas_imu = scan_and_sync_segments(os.path.join(path_to_sensor_data, 'ppg'),\n",
    "                                                       os.path.join(path_to_sensor_data, 'imu'))\n",
    "preprocess_ppg_data(metadatas_ppg[0], metadatas_imu[0],\n",
    "                    os.path.join(path_to_preprocessed_data, 'ppg'),\n",
    "                    ppg_config, imu_config)"
   ]
  },
  {
   "cell_type": "code",
   "execution_count": 4,
   "metadata": {},
   "outputs": [
    {
     "ename": "FileNotFoundError",
     "evalue": "[Errno 2] No such file or directory: '../../../tests/data/2.preprocessed_data/ppg/PPG_meta.json'",
     "output_type": "error",
     "traceback": [
      "\u001b[0;31m---------------------------------------------------------------------------\u001b[0m",
      "\u001b[0;31mFileNotFoundError\u001b[0m                         Traceback (most recent call last)",
      "Cell \u001b[0;32mIn[4], line 2\u001b[0m\n\u001b[1;32m      1\u001b[0m config \u001b[38;5;241m=\u001b[39m HeartRateFeatureExtractionConfig()\n\u001b[0;32m----> 2\u001b[0m \u001b[43mextract_signal_quality_features\u001b[49m\u001b[43m(\u001b[49m\u001b[43mpath_to_preprocessed_data\u001b[49m\u001b[43m,\u001b[49m\u001b[43m \u001b[49m\u001b[43mquality_classifier_path\u001b[49m\u001b[43m,\u001b[49m\u001b[43m \u001b[49m\u001b[43mpath_to_quality_features\u001b[49m\u001b[43m,\u001b[49m\u001b[43m \u001b[49m\u001b[43mconfig\u001b[49m\u001b[43m)\u001b[49m\n",
      "File \u001b[0;32m~/repos/dbpd/dbpd-toolbox2/src/paradigma/heart_rate_analysis.py:18\u001b[0m, in \u001b[0;36mextract_signal_quality_features\u001b[0;34m(input_path, classifier_path, output_path, config)\u001b[0m\n\u001b[1;32m     16\u001b[0m \u001b[38;5;28;01mdef\u001b[39;00m \u001b[38;5;21mextract_signal_quality_features\u001b[39m(input_path: \u001b[38;5;28mstr\u001b[39m, classifier_path: \u001b[38;5;28mstr\u001b[39m, output_path: \u001b[38;5;28mstr\u001b[39m, config: HeartRateFeatureExtractionConfig) \u001b[38;5;241m-\u001b[39m\u001b[38;5;241m>\u001b[39m \u001b[38;5;28;01mNone\u001b[39;00m:\n\u001b[1;32m     17\u001b[0m     \u001b[38;5;66;03m# load data\u001b[39;00m\n\u001b[0;32m---> 18\u001b[0m     metadata_time_ppg, metadata_samples_ppg \u001b[38;5;241m=\u001b[39m \u001b[43mread_metadata\u001b[49m\u001b[43m(\u001b[49m\u001b[43minput_path\u001b[49m\u001b[43m,\u001b[49m\u001b[43m \u001b[49m\u001b[38;5;124;43m\"\u001b[39;49m\u001b[38;5;124;43mPPG_meta.json\u001b[39;49m\u001b[38;5;124;43m\"\u001b[39;49m\u001b[43m,\u001b[49m\u001b[43m \u001b[49m\u001b[38;5;124;43m\"\u001b[39;49m\u001b[38;5;124;43mPPG_time.bin\u001b[39;49m\u001b[38;5;124;43m\"\u001b[39;49m\u001b[43m,\u001b[49m\u001b[43m \u001b[49m\u001b[38;5;124;43m\"\u001b[39;49m\u001b[38;5;124;43mPPG_samples.bin\u001b[39;49m\u001b[38;5;124;43m\"\u001b[39;49m\u001b[43m)\u001b[49m\n\u001b[1;32m     19\u001b[0m     df_ppg \u001b[38;5;241m=\u001b[39m tsdf\u001b[38;5;241m.\u001b[39mload_dataframe_from_binaries([metadata_time_ppg, metadata_samples_ppg], tsdf\u001b[38;5;241m.\u001b[39mconstants\u001b[38;5;241m.\u001b[39mConcatenationType\u001b[38;5;241m.\u001b[39mcolumns)\n\u001b[1;32m     20\u001b[0m     arr_ppg \u001b[38;5;241m=\u001b[39m df_ppg[DataColumns\u001b[38;5;241m.\u001b[39mPPG]\u001b[38;5;241m.\u001b[39mto_numpy()\n",
      "File \u001b[0;32m~/repos/dbpd/dbpd-toolbox2/src/paradigma/util.py:47\u001b[0m, in \u001b[0;36mread_metadata\u001b[0;34m(input_path, meta_filename, time_filename, values_filename)\u001b[0m\n\u001b[1;32m     46\u001b[0m \u001b[38;5;28;01mdef\u001b[39;00m \u001b[38;5;21mread_metadata\u001b[39m(input_path: \u001b[38;5;28mstr\u001b[39m, meta_filename: \u001b[38;5;28mstr\u001b[39m, time_filename: \u001b[38;5;28mstr\u001b[39m, values_filename: \u001b[38;5;28mstr\u001b[39m) \u001b[38;5;241m-\u001b[39m\u001b[38;5;241m>\u001b[39m Tuple[TSDFMetadata, TSDFMetadata]:\n\u001b[0;32m---> 47\u001b[0m     metadata_dict \u001b[38;5;241m=\u001b[39m \u001b[43mtsdf\u001b[49m\u001b[38;5;241;43m.\u001b[39;49m\u001b[43mload_metadata_from_path\u001b[49m\u001b[43m(\u001b[49m\u001b[43mos\u001b[49m\u001b[38;5;241;43m.\u001b[39;49m\u001b[43mpath\u001b[49m\u001b[38;5;241;43m.\u001b[39;49m\u001b[43mjoin\u001b[49m\u001b[43m(\u001b[49m\u001b[43minput_path\u001b[49m\u001b[43m,\u001b[49m\u001b[43m \u001b[49m\u001b[43mmeta_filename\u001b[49m\u001b[43m)\u001b[49m\u001b[43m)\u001b[49m\n\u001b[1;32m     48\u001b[0m     metadata_time \u001b[38;5;241m=\u001b[39m metadata_dict[time_filename]\n\u001b[1;32m     49\u001b[0m     metadata_samples \u001b[38;5;241m=\u001b[39m metadata_dict[values_filename]\n",
      "File \u001b[0;32m~/Library/Caches/pypoetry/virtualenvs/paradigma-ZysVbjC7-py3.9/lib/python3.9/site-packages/tsdf/read_tsdf.py:83\u001b[0m, in \u001b[0;36mload_metadata_from_path\u001b[0;34m(path)\u001b[0m\n\u001b[1;32m     75\u001b[0m \u001b[38;5;250m\u001b[39m\u001b[38;5;124;03m\"\"\"\u001b[39;00m\n\u001b[1;32m     76\u001b[0m \u001b[38;5;124;03mLoads a TSDF metadata file, returns a dictionary\u001b[39;00m\n\u001b[1;32m     77\u001b[0m \n\u001b[0;32m   (...)\u001b[0m\n\u001b[1;32m     80\u001b[0m \u001b[38;5;124;03m:return: dictionary of TSDFMetadata objects.\u001b[39;00m\n\u001b[1;32m     81\u001b[0m \u001b[38;5;124;03m\"\"\"\u001b[39;00m\n\u001b[1;32m     82\u001b[0m \u001b[38;5;66;03m# The data is isomorphic to a JSON\u001b[39;00m\n\u001b[0;32m---> 83\u001b[0m \u001b[38;5;28;01mwith\u001b[39;00m \u001b[38;5;28;43mopen\u001b[39;49m\u001b[43m(\u001b[49m\u001b[43mpath\u001b[49m\u001b[43m,\u001b[49m\u001b[43m \u001b[49m\u001b[38;5;124;43m\"\u001b[39;49m\u001b[38;5;124;43mr\u001b[39;49m\u001b[38;5;124;43m\"\u001b[39;49m\u001b[43m)\u001b[49m \u001b[38;5;28;01mas\u001b[39;00m file:\n\u001b[1;32m     84\u001b[0m     data \u001b[38;5;241m=\u001b[39m json\u001b[38;5;241m.\u001b[39mload(file)\n\u001b[1;32m     86\u001b[0m abs_path \u001b[38;5;241m=\u001b[39m os\u001b[38;5;241m.\u001b[39mpath\u001b[38;5;241m.\u001b[39mrealpath(path)\n",
      "\u001b[0;31mFileNotFoundError\u001b[0m: [Errno 2] No such file or directory: '../../../tests/data/2.preprocessed_data/ppg/PPG_meta.json'"
     ]
    }
   ],
   "source": [
    "config = HeartRateFeatureExtractionConfig()\n",
    "extract_signal_quality_features(path_to_preprocessed_data, quality_classifier_path, path_to_quality_features, config)"
   ]
  },
  {
   "cell_type": "code",
   "execution_count": null,
   "metadata": {},
   "outputs": [],
   "source": []
  }
 ],
 "metadata": {
  "kernelspec": {
   "display_name": "paradigma-ZysVbjC7-py3.9",
   "language": "python",
   "name": "python3"
  },
  "language_info": {
   "codemirror_mode": {
    "name": "ipython",
    "version": 3
   },
   "file_extension": ".py",
   "mimetype": "text/x-python",
   "name": "python",
   "nbconvert_exporter": "python",
   "pygments_lexer": "ipython3",
   "version": "3.9.13"
  }
 },
 "nbformat": 4,
 "nbformat_minor": 2
}

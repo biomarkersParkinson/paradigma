{
 "cells": [
  {
   "cell_type": "markdown",
   "metadata": {},
   "source": [
    "# PPG analysis"
   ]
  },
  {
   "cell_type": "code",
   "execution_count": null,
   "metadata": {},
   "outputs": [],
   "source": [
    "# Automatically reload modules\n",
    "# %load_ext autoreload\n",
    "# %autoreload 2\n",
    "\n",
    "import os\n",
    "from paradigma.config import PPGConfig, IMUConfig, SignalQualityFeatureExtractionConfig, SignalQualityClassificationConfig, HeartRateExtractionConfig\n",
    "from paradigma.ppg_preprocessing import scan_and_sync_segments, preprocess_ppg_data\n",
    "from paradigma.heart_rate.heart_rate_analysis import extract_signal_quality_features, signal_quality_classification"
   ]
  },
  {
   "cell_type": "code",
   "execution_count": null,
   "metadata": {
    "tags": [
     "parameters"
    ]
   },
   "outputs": [],
   "source": [
    "# Cell has the tag 'parameters'\n",
    "branch = 'heart_rate'\n",
    "sensor = 'ppg'\n",
    "\n",
    "path_to_data =  '../../../tests/data'\n",
    "path_to_classifier = os.path.join(path_to_data, '0.classification', sensor)\n",
    "path_to_sensor_data = os.path.join(path_to_data, '1.sensor_data')\n",
    "path_to_preprocessed_data = os.path.join(path_to_data, '2.preprocessed_data', sensor)\n",
    "path_to_quality_features = os.path.join(path_to_data, '3.extracted_features', sensor)\n",
    "path_to_signal_quality = os.path.join(path_to_data, '4.predictions', sensor)\n",
    "path_to_hr_estimate = os.path.join(path_to_data, '5.quantification', sensor)"
   ]
  },
  {
   "cell_type": "code",
   "execution_count": null,
   "metadata": {},
   "outputs": [],
   "source": [
    "ppg_config = PPGConfig()\n",
    "imu_config = IMUConfig()\n",
    "\n",
    "metadatas_ppg, metadatas_imu = scan_and_sync_segments(\n",
    "    os.path.join(path_to_sensor_data, 'ppg'),\n",
    "    os.path.join(path_to_sensor_data, 'imu')\n",
    ")\n",
    "\n",
    "df_ppg_proc, df_imu_proc = preprocess_ppg_data(\n",
    "    metadatas_ppg[0], \n",
    "    metadatas_imu[0],\n",
    "    path_to_preprocessed_data,\n",
    "    ppg_config, \n",
    "    imu_config\n",
    ")"
   ]
  },
  {
   "cell_type": "code",
   "execution_count": null,
   "metadata": {},
   "outputs": [],
   "source": [
    "from paradigma.heart_rate.heart_rate_analysis import extract_signal_quality_features\n",
    "\n",
    "config = SignalQualityFeatureExtractionConfig()\n",
    "df_features = extract_signal_quality_features(df_ppg_proc, config)\n",
    "\n",
    "print(df_features.shape)\n",
    "df_features.head()"
   ]
  },
  {
   "cell_type": "code",
   "execution_count": null,
   "metadata": {},
   "outputs": [],
   "source": [
    "# NUMPY\n",
    "from paradigma.heart_rate.heart_rate_analysis import extract_signal_quality_features_numpy\n",
    "\n",
    "config = SignalQualityFeatureExtractionConfig()\n",
    "df_features_numpy = extract_signal_quality_features_numpy(df_ppg_proc, config)\n",
    "\n",
    "print(df_features_numpy.shape)\n",
    "df_features_numpy.head()"
   ]
  },
  {
   "cell_type": "code",
   "execution_count": null,
   "metadata": {},
   "outputs": [],
   "source": [
    "config = SignalQualityFeatureExtractionConfig()\n",
    "df_windowed = extract_signal_quality_features(df_ppg_proc, config)"
   ]
  },
  {
   "cell_type": "code",
   "execution_count": null,
   "metadata": {},
   "outputs": [],
   "source": [
    "config = SignalQualityClassificationConfig()\n",
    "df = signal_quality_classification(df_windowed, config, path_to_classifier)"
   ]
  }
 ],
 "metadata": {
  "kernelspec": {
   "display_name": "paradigma-Fn6RLG4_-py3.11",
   "language": "python",
   "name": "python3"
  },
  "language_info": {
   "codemirror_mode": {
    "name": "ipython",
    "version": 3
   },
   "file_extension": ".py",
   "mimetype": "text/x-python",
   "name": "python",
   "nbconvert_exporter": "python",
   "pygments_lexer": "ipython3",
   "version": "3.11.5"
  }
 },
 "nbformat": 4,
 "nbformat_minor": 2
}

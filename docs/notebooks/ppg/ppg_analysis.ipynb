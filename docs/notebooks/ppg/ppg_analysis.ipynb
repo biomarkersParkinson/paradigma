{
 "cells": [
  {
   "cell_type": "markdown",
   "metadata": {},
   "source": [
    "# PPG analysis"
   ]
  },
  {
   "cell_type": "code",
   "execution_count": 1,
   "metadata": {},
   "outputs": [],
   "source": [
    "# Automatically reload modules\n",
    "#%load_ext autoreload\n",
    "#%autoreload 2\n",
    "\n",
    "import os\n",
    "from paradigma.preprocessing_config import PPGPreprocessingConfig, IMUPreprocessingConfig\n",
    "from paradigma.ppg_preprocessing import scan_and_sync_segments, preprocess_ppg_data\n",
    "from paradigma.heart_rate.heart_rate_analysis_config import HeartRateFeatureExtractionConfig, HeartRateClassificationConfig\n",
    "from paradigma.heart_rate.heart_rate_analysis import extract_signal_quality_features"
   ]
  },
  {
   "cell_type": "code",
   "execution_count": 2,
   "metadata": {
    "tags": [
     "parameters"
    ]
   },
   "outputs": [],
   "source": [
    "# Cell has the tag 'parameters'\n",
    "path_to_data =  '../../../tests/data'\n",
    "path_to_classifier = '../../../src/paradigma/ppg/classifier'\n",
    "\n",
    "quality_classifier_path = os.path.join(path_to_classifier, \"LR_PPG_quality.pkl\")\n",
    "path_to_sensor_data = os.path.join(path_to_data, '1.sensor_data')\n",
    "path_to_preprocessed_data = os.path.join(path_to_data, '2.preprocessed_data', 'ppg')\n",
    "path_to_quality_features = os.path.join(path_to_data, '3.extracted_features', 'ppg')\n",
    "path_to_signal_quality = os.path.join(path_to_data, '4.predictions', 'ppg')\n",
    "path_to_hr_estimate = os.path.join(path_to_data, '5.quantification', 'ppg')"
   ]
  },
  {
   "cell_type": "code",
   "execution_count": null,
   "metadata": {},
   "outputs": [],
   "source": [
    "ppg_config = PPGPreprocessingConfig()\n",
    "imu_config = IMUPreprocessingConfig()\n",
    "metadatas_ppg, metadatas_imu = scan_and_sync_segments(os.path.join(path_to_sensor_data, 'ppg'),\n",
    "                                                       os.path.join(path_to_sensor_data, 'imu'))\n",
    "preprocess_ppg_data(metadatas_ppg[0], metadatas_imu[0],\n",
    "                    path_to_preprocessed_data,\n",
    "                    ppg_config, imu_config)"
   ]
  },
  {
   "cell_type": "code",
   "execution_count": null,
   "metadata": {},
   "outputs": [],
   "source": [
    "config = HeartRateFeatureExtractionConfig()\n",
    "extract_signal_quality_features(path_to_preprocessed_data, quality_classifier_path, path_to_quality_features, config)"
   ]
  },
  {
   "cell_type": "code",
   "execution_count": null,
   "metadata": {},
   "outputs": [],
   "source": [
    "#TODO: Not fully implemented\n",
    "# config = HeartRateClassificationConfig()\n",
    "# signal_quality_classification(path_to_quality_features, quality_classifier_path, path_to_signal_quality, config)"
   ]
  },
  {
   "cell_type": "code",
   "execution_count": null,
   "metadata": {},
   "outputs": [],
   "source": [
    "#TODO: Not implemented\n",
    "config = HeartRateEstimationConfig()\n",
    "estimate_heart_rate(path_to_signal_quality, path_to_hr_estimate, config)"
   ]
  }
 ],
 "metadata": {
  "kernelspec": {
   "display_name": "paradigma-8ps1bg0Z-py3.12",
   "language": "python",
   "name": "python3"
  },
  "language_info": {
   "codemirror_mode": {
    "name": "ipython",
    "version": 3
   },
   "file_extension": ".py",
   "mimetype": "text/x-python",
   "name": "python",
   "nbconvert_exporter": "python",
   "pygments_lexer": "ipython3",
   "version": "3.12.6"
  }
 },
 "nbformat": 4,
 "nbformat_minor": 2
}

{
 "cells": [
  {
   "cell_type": "markdown",
   "metadata": {},
   "source": [
    "# PPG analysis"
   ]
  },
  {
   "cell_type": "code",
   "execution_count": 1,
   "metadata": {},
   "outputs": [],
   "source": [
    "import os\n",
    "from paradigma.config import PPGConfig, IMUConfig, SignalQualityFeatureExtractionConfig, SignalQualityFeatureExtractionConfigAcc, SignalQualityClassificationConfig, HeartRateExtractionConfig\n",
    "from paradigma.preprocessing import scan_and_sync_segments, preprocess_ppg_data\n",
    "from paradigma.heart_rate.heart_rate_analysis import extract_signal_quality_features_io, extract_signal_quality_features, signal_quality_classification, estimate_heart_rate"
   ]
  },
  {
   "cell_type": "code",
   "execution_count": 2,
   "metadata": {
    "tags": [
     "parameters"
    ]
   },
   "outputs": [],
   "source": [
    "# Cell has the tag 'parameters'\n",
    "branch = 'heart_rate'\n",
    "sensor = 'ppg'\n",
    "\n",
    "path_to_data =  '../../../tests/data'\n",
    "path_to_classifier = os.path.join(path_to_data, '0.classification', sensor)\n",
    "path_to_sensor_data = os.path.join(path_to_data, '1.prepared_data')\n",
    "path_to_preprocessed_data = os.path.join(path_to_data, '2.preprocessed_data', sensor)\n",
    "path_to_quality_features = os.path.join(path_to_data, '3.extracted_features', sensor)\n",
    "path_to_signal_quality = os.path.join(path_to_data, '4.predictions', sensor)\n",
    "path_to_hr_estimate = os.path.join(path_to_data, '5.quantification', sensor)"
   ]
  },
  {
   "cell_type": "markdown",
   "metadata": {},
   "source": [
    "## Preprocessing"
   ]
  },
  {
   "cell_type": "code",
   "execution_count": 3,
   "metadata": {},
   "outputs": [
    {
     "name": "stdout",
     "output_type": "stream",
     "text": [
      "Shape of the original data: (64775, 2) (72947, 4)\n",
      "Shape of the overlapping segments: (64775, 2) (64361, 4)\n"
     ]
    }
   ],
   "source": [
    "ppg_config = PPGConfig()\n",
    "imu_config = IMUConfig()\n",
    "\n",
    "metadatas_ppg, metadatas_imu = scan_and_sync_segments(os.path.join(path_to_sensor_data, 'ppg'), os.path.join(path_to_sensor_data, 'imu'))\n",
    "df_ppg_proc, df_acc_proc = preprocess_ppg_data(metadatas_ppg[0], metadatas_imu[0], path_to_preprocessed_data, ppg_config, imu_config)"
   ]
  },
  {
   "cell_type": "markdown",
   "metadata": {},
   "source": [
    "## Extract signal quality features"
   ]
  },
  {
   "cell_type": "code",
   "execution_count": 4,
   "metadata": {},
   "outputs": [
    {
     "ename": "IndexError",
     "evalue": "index 3927 is out of bounds for axis 0 with size 301",
     "output_type": "error",
     "traceback": [
      "\u001b[1;31m---------------------------------------------------------------------------\u001b[0m",
      "\u001b[1;31mIndexError\u001b[0m                                Traceback (most recent call last)",
      "Cell \u001b[1;32mIn[4], line 4\u001b[0m\n\u001b[0;32m      2\u001b[0m config_ppg \u001b[38;5;241m=\u001b[39m SignalQualityFeatureExtractionConfig()\n\u001b[0;32m      3\u001b[0m config_acc \u001b[38;5;241m=\u001b[39m SignalQualityFeatureExtractionConfigAcc()\n\u001b[1;32m----> 4\u001b[0m \u001b[43mextract_signal_quality_features_io\u001b[49m\u001b[43m(\u001b[49m\u001b[43mpath_to_preprocessed_data\u001b[49m\u001b[43m,\u001b[49m\u001b[43m \u001b[49m\u001b[43mpath_to_quality_features\u001b[49m\u001b[43m,\u001b[49m\u001b[43m \u001b[49m\u001b[43mconfig_ppg\u001b[49m\u001b[43m,\u001b[49m\u001b[43m \u001b[49m\u001b[43mconfig_acc\u001b[49m\u001b[43m)\u001b[49m\n",
      "File \u001b[1;32m~\\Documents\\AI4P\\PPG\\GitHub\\paradigma\\src\\paradigma\\heart_rate\\heart_rate_analysis.py:107\u001b[0m, in \u001b[0;36mextract_signal_quality_features_io\u001b[1;34m(input_path, output_path, config_ppg, config_acc)\u001b[0m\n\u001b[0;32m    104\u001b[0m df_acc \u001b[38;5;241m=\u001b[39m tsdf\u001b[38;5;241m.\u001b[39mload_dataframe_from_binaries([metadata_time, metadata_values], tsdf\u001b[38;5;241m.\u001b[39mconstants\u001b[38;5;241m.\u001b[39mConcatenationType\u001b[38;5;241m.\u001b[39mcolumns)\n\u001b[0;32m    106\u001b[0m \u001b[38;5;66;03m# Extract signal quality features\u001b[39;00m\n\u001b[1;32m--> 107\u001b[0m df_windowed \u001b[38;5;241m=\u001b[39m \u001b[43mextract_signal_quality_features\u001b[49m\u001b[43m(\u001b[49m\u001b[43mdf_ppg\u001b[49m\u001b[43m,\u001b[49m\u001b[43m \u001b[49m\u001b[43mdf_acc\u001b[49m\u001b[43m,\u001b[49m\u001b[43m \u001b[49m\u001b[43mconfig_ppg\u001b[49m\u001b[43m,\u001b[49m\u001b[43m \u001b[49m\u001b[43mconfig_acc\u001b[49m\u001b[43m)\u001b[49m\n\u001b[0;32m    109\u001b[0m \u001b[38;5;66;03m# Save the extracted features\u001b[39;00m\n\u001b[0;32m    110\u001b[0m \u001b[38;5;66;03m#TO BE ADDED\u001b[39;00m\n\u001b[0;32m    111\u001b[0m \u001b[38;5;28;01mreturn\u001b[39;00m df_windowed\n",
      "File \u001b[1;32m~\\Documents\\AI4P\\PPG\\GitHub\\paradigma\\src\\paradigma\\heart_rate\\heart_rate_analysis.py:69\u001b[0m, in \u001b[0;36mextract_signal_quality_features\u001b[1;34m(df_ppg, df_acc, config_ppg, config_acc)\u001b[0m\n\u001b[0;32m     66\u001b[0m df_features \u001b[38;5;241m=\u001b[39m pd\u001b[38;5;241m.\u001b[39mconcat([df_features, df_spectral_features], axis\u001b[38;5;241m=\u001b[39m\u001b[38;5;241m1\u001b[39m)\n\u001b[0;32m     68\u001b[0m \u001b[38;5;66;03m# Compute periodicity feature of the accelerometer signal\u001b[39;00m\n\u001b[1;32m---> 69\u001b[0m df_accelerometer_feature \u001b[38;5;241m=\u001b[39m \u001b[43mextract_accelerometer_feature\u001b[49m\u001b[43m(\u001b[49m\u001b[43mconfig_acc\u001b[49m\u001b[43m,\u001b[49m\u001b[43m \u001b[49m\u001b[43macc_values_windowed\u001b[49m\u001b[43m,\u001b[49m\u001b[43m \u001b[49m\u001b[43mppg_windowed\u001b[49m\u001b[43m)\u001b[49m\n\u001b[0;32m     71\u001b[0m \u001b[38;5;66;03m# Combine the accelerometer feature with the previously computed features\u001b[39;00m\n\u001b[0;32m     72\u001b[0m df_features \u001b[38;5;241m=\u001b[39m pd\u001b[38;5;241m.\u001b[39mconcat([df_features, df_accelerometer_feature], axis\u001b[38;5;241m=\u001b[39m\u001b[38;5;241m1\u001b[39m)\n",
      "File \u001b[1;32m~\\Documents\\AI4P\\PPG\\GitHub\\paradigma\\src\\paradigma\\heart_rate\\feature_extraction.py:310\u001b[0m, in \u001b[0;36mextract_accelerometer_feature\u001b[1;34m(config, acc_windowed, ppg_windowed)\u001b[0m\n\u001b[0;32m    298\u001b[0m psd_acc \u001b[38;5;241m=\u001b[39m np\u001b[38;5;241m.\u001b[39msum(psd_acc, axis\u001b[38;5;241m=\u001b[39m\u001b[38;5;241m1\u001b[39m)\n\u001b[0;32m    300\u001b[0m freqs_ppg, psd_ppg \u001b[38;5;241m=\u001b[39m welch(\n\u001b[0;32m    301\u001b[0m     ppg_windowed,\n\u001b[0;32m    302\u001b[0m     fs\u001b[38;5;241m=\u001b[39mconfig\u001b[38;5;241m.\u001b[39msampling_frequency_ppg,\n\u001b[1;32m   (...)\u001b[0m\n\u001b[0;32m    307\u001b[0m     axis\u001b[38;5;241m=\u001b[39m\u001b[38;5;241m1\u001b[39m\n\u001b[0;32m    308\u001b[0m )\n\u001b[1;32m--> 310\u001b[0m acc_power_ratio \u001b[38;5;241m=\u001b[39m \u001b[43mextract_acc_power_feature\u001b[49m\u001b[43m(\u001b[49m\u001b[43mfreqs_acc\u001b[49m\u001b[43m,\u001b[49m\u001b[43m \u001b[49m\u001b[43mpsd_acc\u001b[49m\u001b[43m,\u001b[49m\u001b[43m \u001b[49m\u001b[43mfreqs_ppg\u001b[49m\u001b[43m,\u001b[49m\u001b[43m \u001b[49m\u001b[43mpsd_ppg\u001b[49m\u001b[43m)\u001b[49m\n\u001b[0;32m    312\u001b[0m \u001b[38;5;28;01mreturn\u001b[39;00m \u001b[38;5;28;01mNone\u001b[39;00m\n",
      "File \u001b[1;32m~\\Documents\\AI4P\\PPG\\GitHub\\paradigma\\src\\paradigma\\heart_rate\\feature_extraction.py:245\u001b[0m, in \u001b[0;36mextract_acc_power_feature\u001b[1;34m(f1, PSD_acc, f2, PSD_ppg)\u001b[0m\n\u001b[0;32m    243\u001b[0m \u001b[38;5;66;03m# Find the index of the maximum PSD value in the PPG signal\u001b[39;00m\n\u001b[0;32m    244\u001b[0m max_PPG_psd_idx \u001b[38;5;241m=\u001b[39m np\u001b[38;5;241m.\u001b[39margmax(PSD_ppg)\n\u001b[1;32m--> 245\u001b[0m max_PPG_freq_psd \u001b[38;5;241m=\u001b[39m \u001b[43mf2\u001b[49m\u001b[43m[\u001b[49m\u001b[43mmax_PPG_psd_idx\u001b[49m\u001b[43m]\u001b[49m\n\u001b[0;32m    247\u001b[0m \u001b[38;5;66;03m# Find the index of the closest frequency in the accelerometer signal to the dominant PPG frequency\u001b[39;00m\n\u001b[0;32m    248\u001b[0m corr_acc_psd_df_idx \u001b[38;5;241m=\u001b[39m np\u001b[38;5;241m.\u001b[39margmin(np\u001b[38;5;241m.\u001b[39mabs(max_PPG_freq_psd \u001b[38;5;241m-\u001b[39m f1))\n",
      "\u001b[1;31mIndexError\u001b[0m: index 3927 is out of bounds for axis 0 with size 301"
     ]
    }
   ],
   "source": [
    "## Using IO wrapper\n",
    "config_ppg = SignalQualityFeatureExtractionConfig()\n",
    "config_acc = SignalQualityFeatureExtractionConfigAcc()\n",
    "extract_signal_quality_features_io(path_to_preprocessed_data, path_to_quality_features, config_ppg, config_acc)"
   ]
  },
  {
   "cell_type": "code",
   "execution_count": 4,
   "metadata": {},
   "outputs": [],
   "source": [
    "## Using loaded dataframes\n",
    "config_ppg = SignalQualityFeatureExtractionConfig()\n",
    "config_acc = SignalQualityFeatureExtractionConfigAcc()\n",
    "df_features = extract_signal_quality_features(df_ppg_proc, config_ppg, df_acc_proc, config_acc)"
   ]
  },
  {
   "cell_type": "markdown",
   "metadata": {},
   "source": [
    "## Signal quality classification"
   ]
  },
  {
   "cell_type": "code",
   "execution_count": null,
   "metadata": {},
   "outputs": [],
   "source": [
    "config = SignalQualityClassificationConfig()\n",
    "df_sqa = signal_quality_classification(df_features, config, path_to_classifier)"
   ]
  },
  {
   "cell_type": "markdown",
   "metadata": {},
   "source": [
    "## Heart rate estimation"
   ]
  },
  {
   "cell_type": "code",
   "execution_count": null,
   "metadata": {},
   "outputs": [],
   "source": [
    "config = HeartRateExtractionConfig()\n",
    "df_hr = estimate_heart_rate(df_sqa, df_ppg_proc, config)"
   ]
  }
 ],
 "metadata": {
  "kernelspec": {
   "display_name": "paradigma-8ps1bg0Z-py3.12",
   "language": "python",
   "name": "python3"
  },
  "language_info": {
   "codemirror_mode": {
    "name": "ipython",
    "version": 3
   },
   "file_extension": ".py",
   "mimetype": "text/x-python",
   "name": "python",
   "nbconvert_exporter": "python",
   "pygments_lexer": "ipython3",
   "version": "3.12.6"
  }
 },
 "nbformat": 4,
 "nbformat_minor": 2
}

{
 "cells": [
  {
   "cell_type": "code",
   "execution_count": 1,
   "metadata": {},
   "outputs": [],
   "source": [
    "# Automatically reload modules\n",
    "%load_ext autoreload\n",
    "%autoreload 2\n",
    "\n",
    "import os\n",
    "from dbpd.preprocessing_config import PPGPreprocessingConfig, IMUPreprocessingConfig\n",
    "from dbpd.ppg_preprocessing import scan_and_sync_segments, preprocess_ppg_data"
   ]
  },
  {
   "cell_type": "code",
   "execution_count": 2,
   "metadata": {
    "tags": [
     "parameters"
    ]
   },
   "outputs": [],
   "source": [
    "# Cell has the tag 'parameters'\n",
    "path_to_data =  '../../../tests/data'\n",
    "\n",
    "input_path_imu = os.path.join(path_to_data, '1.sensor_data', 'imu')\n",
    "input_path_ppg = os.path.join(path_to_data, '1.sensor_data', 'ppg')\n",
    "output_path = os.path.join(path_to_data, '2.preprocessed_data', 'ppg')"
   ]
  },
  {
   "cell_type": "code",
   "execution_count": 3,
   "metadata": {},
   "outputs": [
    {
     "name": "stdout",
     "output_type": "stream",
     "text": [
      "Shape of the original data: (64775, 2) (72947, 4)\n",
      "Shape of the overlapping segments: (64775, 2) (64361, 4)\n"
     ]
    }
   ],
   "source": [
    "ppg_config = PPGPreprocessingConfig()\n",
    "imu_config = IMUPreprocessingConfig()\n",
    "metadatas_ppg, metadatas_imu = scan_and_sync_segments(input_path_ppg, input_path_imu)\n",
    "preprocess_ppg_data(metadatas_ppg[0], metadatas_imu[0], output_path, ppg_config, imu_config)"
   ]
  },
  {
   "cell_type": "code",
   "execution_count": null,
   "metadata": {},
   "outputs": [],
   "source": []
  }
 ],
 "metadata": {
  "kernelspec": {
   "display_name": "dbpd-ZysVbjC7-py3.9",
   "language": "python",
   "name": "python3"
  },
  "language_info": {
   "codemirror_mode": {
    "name": "ipython",
    "version": 3
   },
   "file_extension": ".py",
   "mimetype": "text/x-python",
   "name": "python",
   "nbconvert_exporter": "python",
   "pygments_lexer": "ipython3",
   "version": "3.9.13"
  }
 },
 "nbformat": 4,
 "nbformat_minor": 2
}

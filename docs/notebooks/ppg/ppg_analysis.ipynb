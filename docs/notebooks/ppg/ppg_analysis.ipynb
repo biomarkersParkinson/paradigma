{
 "cells": [
  {
   "cell_type": "markdown",
   "metadata": {},
   "source": [
    "# PPG analysis"
   ]
  },
  {
   "cell_type": "code",
   "execution_count": null,
   "metadata": {},
   "outputs": [],
   "source": [
    "import os\n",
    "from paradigma.config import PPGConfig, IMUConfig, SignalQualityFeatureExtractionConfig, SignalQualityClassificationConfig, HeartRateExtractionConfig\n",
<<<<<<< HEAD
    "from paradigma.preprocessing import scan_and_sync_segments, preprocess_ppg_data\n",
    "from paradigma.heart_rate.heart_rate_analysis import extract_signal_quality_features, signal_quality_classification"
=======
    "from paradigma.ppg_preprocessing import scan_and_sync_segments, preprocess_ppg_data\n",
    "from paradigma.heart_rate.heart_rate_analysis import extract_signal_quality_features, signal_quality_classification, estimate_heart_rate"
>>>>>>> 235b36b8af18f448a1e3e90064a84c1b62b67adc
   ]
  },
  {
   "cell_type": "code",
   "execution_count": null,
   "metadata": {
    "tags": [
     "parameters"
    ]
   },
   "outputs": [],
   "source": [
    "# Cell has the tag 'parameters'\n",
    "branch = 'heart_rate'\n",
    "sensor = 'ppg'\n",
    "\n",
    "path_to_data =  '../../../tests/data'\n",
    "path_to_classifier = os.path.join(path_to_data, '0.classification', sensor)\n",
    "path_to_sensor_data = os.path.join(path_to_data, '1.prepared_data')\n",
    "path_to_preprocessed_data = os.path.join(path_to_data, '2.preprocessed_data', sensor)\n",
    "path_to_quality_features = os.path.join(path_to_data, '3.extracted_features', sensor)\n",
    "path_to_signal_quality = os.path.join(path_to_data, '4.predictions', sensor)\n",
    "path_to_hr_estimate = os.path.join(path_to_data, '5.quantification', sensor)"
   ]
  },
  {
   "cell_type": "markdown",
   "metadata": {},
   "source": [
    "## Preprocessing"
   ]
  },
  {
   "cell_type": "code",
   "execution_count": null,
   "metadata": {},
   "outputs": [],
   "source": [
    "ppg_config = PPGConfig()\n",
    "imu_config = IMUConfig()\n",
    "\n",
    "metadatas_ppg, metadatas_imu = scan_and_sync_segments(os.path.join(path_to_sensor_data, 'ppg'), os.path.join(path_to_sensor_data, 'imu'))\n",
    "df_ppg_proc, df_acc_proc = preprocess_ppg_data(metadatas_ppg[0], metadatas_imu[0], path_to_preprocessed_data, ppg_config, imu_config)"
   ]
  },
  {
   "cell_type": "markdown",
   "metadata": {},
   "source": [
    "## Extract signal quality features"
   ]
  },
  {
   "cell_type": "code",
   "execution_count": null,
   "metadata": {},
   "outputs": [],
   "source": [
    "config = SignalQualityFeatureExtractionConfig()\n",
    "df_windowed = extract_signal_quality_features(df_ppg_proc, config)"
   ]
  },
  {
   "cell_type": "markdown",
   "metadata": {},
   "source": [
    "## Signal quality classification"
   ]
  },
  {
   "cell_type": "code",
   "execution_count": null,
   "metadata": {},
   "outputs": [],
   "source": [
    "config = SignalQualityClassificationConfig()\n",
    "df_sqa = signal_quality_classification(df_windowed, config, path_to_classifier)"
   ]
  },
  {
   "cell_type": "markdown",
   "metadata": {},
   "source": [
    "## Heart rate estimation"
   ]
  },
  {
   "cell_type": "code",
   "execution_count": null,
   "metadata": {},
   "outputs": [],
   "source": [
    "config = HeartRateExtractionConfig()\n",
    "df_hr = estimate_heart_rate(df_sqa, df_ppg_proc, config)"
   ]
  }
 ],
 "metadata": {
  "kernelspec": {
   "display_name": "paradigma-8ps1bg0Z-py3.12",
   "language": "python",
   "name": "python3"
  },
  "language_info": {
   "codemirror_mode": {
    "name": "ipython",
    "version": 3
   },
   "file_extension": ".py",
   "mimetype": "text/x-python",
   "name": "python",
   "nbconvert_exporter": "python",
   "pygments_lexer": "ipython3",
   "version": "3.12.6"
  }
 },
 "nbformat": 4,
 "nbformat_minor": 2
}

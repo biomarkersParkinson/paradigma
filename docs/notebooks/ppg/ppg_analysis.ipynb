{
 "cells": [
  {
   "cell_type": "markdown",
   "metadata": {},
   "source": [
    "# PPG analysis"
   ]
  },
  {
   "cell_type": "code",
   "execution_count": 1,
   "metadata": {},
   "outputs": [],
   "source": [
    "import importlib.resources\n",
    "import pickle\n",
    "from pathlib import Path\n",
    "\n",
    "from paradigma.config import PPGConfig, IMUConfig, HeartRateConfig\n",
    "from paradigma.preprocessing import preprocess_ppg_data\n",
    "from paradigma.heart_rate.heart_rate_analysis import extract_signal_quality_features, signal_quality_classification, signal_quality_classification_legacy, estimate_heart_rate, aggregate_heart_rate\n",
    "from paradigma.util import load_tsdf_dataframe"
   ]
  },
  {
   "cell_type": "code",
   "execution_count": 4,
   "metadata": {
    "tags": [
     "parameters"
    ]
   },
   "outputs": [],
   "source": [
    "# Cell has the tag 'parameters'\n",
    "branch = 'heart_rate'\n",
    "sensor = 'ppg'\n",
    "\n",
    "ppg_prefix = 'PPG'\n",
    "imu_prefix = 'IMU'\n",
    "\n",
    "ppg_classifier_package_filename = 'ppg_quality_classifier.pkl'\n",
    "\n",
    "path_to_data =  Path('../../../tests/data')\n",
    "path_to_assets = Path('../../../src/paradigma/assets')\n",
    "\n",
    "path_to_classifier = path_to_data / '0.Classification' / sensor\n",
    "path_to_prepared_data = path_to_data / '1.prepared_data'\n",
    "path_to_preprocessed_data = path_to_data / '2.preprocessed_data' / sensor\n",
    "path_to_extracted_features = path_to_data / '3.extracted_features' / branch\n",
    "path_to_predictions = path_to_data / '4.predictions' / branch\n",
    "path_to_quantification = path_to_data / '5.quantification' / branch\n",
    "path_to_aggregation = path_to_data / '6.aggregation' / branch\n",
    "\n",
    "aggregation_filename = 'heart_rate_aggregates.json'"
   ]
  },
  {
   "cell_type": "markdown",
   "metadata": {},
   "source": [
    "## Load the data"
   ]
  },
  {
   "cell_type": "code",
   "execution_count": 5,
   "metadata": {},
   "outputs": [],
   "source": [
    "df_ppg, _, _ = load_tsdf_dataframe(path_to_prepared_data / ppg_prefix, prefix = ppg_prefix)\n",
    "df_imu, _, _ = load_tsdf_dataframe(path_to_prepared_data / imu_prefix, prefix = imu_prefix)"
   ]
  },
  {
   "cell_type": "markdown",
   "metadata": {},
   "source": [
    "## Preprocessing"
   ]
  },
  {
   "cell_type": "code",
   "execution_count": 6,
   "metadata": {},
   "outputs": [
    {
     "name": "stdout",
     "output_type": "stream",
     "text": [
      "Original data shapes:\n",
      "- PPG data: (64775, 2)\n",
      "- Accelerometer data: (72947, 4)\n",
      "Overlapping data shapes:\n",
      "- PPG data: (64775, 2)\n",
      "- Accelerometer data: (64361, 4)\n"
     ]
    }
   ],
   "source": [
    "ppg_config = PPGConfig()\n",
    "imu_config = IMUConfig()\n",
    "\n",
    "df_ppg_proc, df_acc_proc = preprocess_ppg_data(df_ppg, df_imu, ppg_config, imu_config)"
   ]
  },
  {
   "cell_type": "markdown",
   "metadata": {},
   "source": [
    "## Extract signal quality features"
   ]
  },
  {
   "cell_type": "code",
   "execution_count": 7,
   "metadata": {},
   "outputs": [],
   "source": [
    "config_ppg = HeartRateConfig(sensor='ppg')\n",
    "config_acc = HeartRateConfig(sensor='imu')\n",
    "\n",
    "df_features = extract_signal_quality_features(config_ppg, df_ppg_proc, config_acc, df_acc_proc)"
   ]
  },
  {
   "cell_type": "markdown",
   "metadata": {},
   "source": [
    "## Signal quality classification"
   ]
  },
  {
   "cell_type": "code",
   "execution_count": null,
   "metadata": {},
   "outputs": [
    {
     "ename": "NameError",
     "evalue": "name 'path_to_classifier_input' is not defined",
     "output_type": "error",
     "traceback": [
      "\u001b[1;31m---------------------------------------------------------------------------\u001b[0m",
      "\u001b[1;31mNameError\u001b[0m                                 Traceback (most recent call last)",
      "Cell \u001b[1;32mIn[8], line 3\u001b[0m\n\u001b[0;32m      1\u001b[0m full_path_to_classifier_package \u001b[38;5;241m=\u001b[39m path_to_assets \u001b[38;5;241m/\u001b[39m ppg_classifier_package_filename\n\u001b[0;32m      2\u001b[0m config \u001b[38;5;241m=\u001b[39m HeartRateConfig()\n\u001b[1;32m----> 3\u001b[0m df_sqa \u001b[38;5;241m=\u001b[39m \u001b[43msignal_quality_classification\u001b[49m\u001b[43m(\u001b[49m\u001b[43mdf_features\u001b[49m\u001b[43m,\u001b[49m\u001b[43m \u001b[49m\u001b[43mconfig\u001b[49m\u001b[43m,\u001b[49m\u001b[43m \u001b[49m\u001b[43mfull_path_to_classifier_package\u001b[49m\u001b[43m)\u001b[49m\n",
      "File \u001b[1;32m~\\Documents\\AI4P\\PPG\\GitHub\\paradigma\\src\\paradigma\\heart_rate\\heart_rate_analysis.py:150\u001b[0m, in \u001b[0;36msignal_quality_classification\u001b[1;34m(df, config, full_path_to_classifier_package)\u001b[0m\n\u001b[0;32m    129\u001b[0m \u001b[38;5;250m\u001b[39m\u001b[38;5;124;03m\"\"\"\u001b[39;00m\n\u001b[0;32m    130\u001b[0m \u001b[38;5;124;03mClassify the signal quality of the PPG signal using a logistic regression classifier. A probability close to 1 indicates a high-quality signal, while a probability close to 0 indicates a low-quality signal.\u001b[39;00m\n\u001b[0;32m    131\u001b[0m \u001b[38;5;124;03mThe classifier is trained on features extracted from the PPG signal. The features are extracted using the extract_signal_quality_features function.\u001b[39;00m\n\u001b[1;32m   (...)\u001b[0m\n\u001b[0;32m    147\u001b[0m \u001b[38;5;124;03m    The DataFrame containing the PPG signal quality predictions (both probabilities of the PPG signal quality classification and the accelerometer label based on the threshold).\u001b[39;00m\n\u001b[0;32m    148\u001b[0m \u001b[38;5;124;03m\"\"\"\u001b[39;00m\n\u001b[0;32m    149\u001b[0m clf_package \u001b[38;5;241m=\u001b[39m ClassifierPackage\u001b[38;5;241m.\u001b[39mload(full_path_to_classifier_package)  \u001b[38;5;66;03m# Load the classifier package\u001b[39;00m\n\u001b[1;32m--> 150\u001b[0m clf \u001b[38;5;241m=\u001b[39m pd\u001b[38;5;241m.\u001b[39mread_pickle(os\u001b[38;5;241m.\u001b[39mpath\u001b[38;5;241m.\u001b[39mjoin(\u001b[43mpath_to_classifier_input\u001b[49m, \u001b[38;5;124m'\u001b[39m\u001b[38;5;124mclassifiers\u001b[39m\u001b[38;5;124m'\u001b[39m, config\u001b[38;5;241m.\u001b[39mclassifier_file_name))\n\u001b[0;32m    151\u001b[0m lr_clf \u001b[38;5;241m=\u001b[39m clf[\u001b[38;5;124m'\u001b[39m\u001b[38;5;124mmodel\u001b[39m\u001b[38;5;124m'\u001b[39m]  \u001b[38;5;66;03m# Load the logistic regression classifier\u001b[39;00m\n\u001b[0;32m    152\u001b[0m mu \u001b[38;5;241m=\u001b[39m clf[\u001b[38;5;124m'\u001b[39m\u001b[38;5;124mmu\u001b[39m\u001b[38;5;124m'\u001b[39m]  \u001b[38;5;66;03m# load the mean, 2D array\u001b[39;00m\n",
      "\u001b[1;31mNameError\u001b[0m: name 'path_to_classifier_input' is not defined"
     ]
    }
   ],
   "source": [
    "full_path_to_classifier_package = path_to_assets / ppg_classifier_package_filename\n",
    "config = HeartRateConfig()\n",
    "df_sqa = signal_quality_classification(df_features, config, full_path_to_classifier_package)\n",
    "df_sqa"
   ]
  },
  {
   "cell_type": "code",
   "execution_count": null,
   "metadata": {},
   "outputs": [],
   "source": [
    "# Legacy format\n",
    "config = HeartRateConfig()\n",
    "df_sqa = signal_quality_classification_legacy(df_features, config, path_to_classifier)\n",
    "df_sqa"
   ]
  },
  {
   "cell_type": "markdown",
   "metadata": {},
   "source": [
    "## Heart rate estimation"
   ]
  },
  {
   "cell_type": "code",
   "execution_count": null,
   "metadata": {},
   "outputs": [],
   "source": [
    "config = HeartRateConfig()\n",
    "df_hr = estimate_heart_rate(df_sqa, df_ppg_proc, config)"
   ]
  },
  {
   "cell_type": "markdown",
   "metadata": {},
   "source": [
    "## Heart rate aggregation"
   ]
  },
  {
   "cell_type": "code",
   "execution_count": null,
   "metadata": {},
   "outputs": [],
   "source": [
    "hr_values = df_hr['heart_rate'].values\n",
    "df_hr_agg = aggregate_heart_rate(hr_values, aggregates = ['mode', '99p'])"
   ]
  }
 ],
 "metadata": {
  "kernelspec": {
   "display_name": "paradigma-8ps1bg0Z-py3.12",
   "language": "python",
   "name": "python3"
  },
  "language_info": {
   "codemirror_mode": {
    "name": "ipython",
    "version": 3
   },
   "file_extension": ".py",
   "mimetype": "text/x-python",
   "name": "python",
   "nbconvert_exporter": "python",
   "pygments_lexer": "ipython3",
   "version": "3.12.6"
  }
 },
 "nbformat": 4,
 "nbformat_minor": 2
}

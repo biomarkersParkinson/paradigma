{
 "cells": [
  {
   "cell_type": "markdown",
   "metadata": {},
   "source": [
    "## Main script to perform heart rate estimation of wearable PPG\n",
    "\n",
    "This script uses both PPG and accelerometer and performs the following steps:\n",
    "1. Loading all metadata of PPG and IMU\n",
    "2. Query on data availability + synchronization\n",
    "3. Loading relevant segment sensor data using tsdf wrapper (start for loop over synchronized segment indices)\n",
    "4. Synchronize the data (correct indices etc)\n",
    "5. Data preprocessing\n",
    "6. Feature extraction\n",
    "7. Classification\n",
    "\n",
    "\n",
    "## Architecture overview\n",
    "The script implements the following steps:\n",
    " - Step 1: IMU and PPG preprocessing\n",
    " - Step 2: IMU and PPG feature extraction\n",
    " - Step 3: Signal quality assessment"
   ]
  },
  {
   "cell_type": "code",
   "execution_count": 93,
   "metadata": {},
   "outputs": [
    {
     "name": "stdout",
     "output_type": "stream",
     "text": [
      "The autoreload extension is already loaded. To reload it, use:\n",
      "  %reload_ext autoreload\n"
     ]
    }
   ],
   "source": [
    "# Automatically reload modules\n",
    "%load_ext autoreload\n",
    "%autoreload 2\n",
    "\n",
    "import numpy as np\n",
    "import pandas as pd\n",
    "from datetime import datetime\n",
    "from pathlib import Path\n",
    "import json\n",
    "import os\n",
    "from typing import List\n",
    "\n",
    "import tsdf\n",
    "import dbpd\n",
    "from dbpd.constants import DataColumns\n",
    "from dbpd.ppg_preprocessing import tsdf_scan_meta, synchronization, extract_overlapping_segments\n"
   ]
  },
  {
   "cell_type": "code",
   "execution_count": 94,
   "metadata": {},
   "outputs": [],
   "source": [
    "# Cell has the tag 'parameters'\n",
    "path_to_data =  '../../../tests/data'\n",
    "\n",
    "input_path_imu = os.path.join(path_to_data, '1.sensor_data', 'imu')\n",
    "input_path_ppg = os.path.join(path_to_data, '1.sensor_data', 'ppg')\n",
    "output_path = os.path.join(path_to_data, '2.preprocessed_data', 'ppg')"
   ]
  },
  {
   "cell_type": "code",
   "execution_count": 95,
   "metadata": {},
   "outputs": [],
   "source": [
    "# Constants\n",
    "sensor_imu = 'IMU'\n",
    "sensor_ppg = 'PPG'\n",
    "\n",
    "imu_meta_filename = f'{sensor_imu}_meta.json'\n",
    "imu_values_filename = f'{sensor_imu}_samples.bin'\n",
    "imu_time_filename = f'{sensor_imu}_time.bin'\n",
    "\n",
    "ppg_meta_filename = f'{sensor_ppg}_meta.json'\n",
    "ppg_values_filename = f'{sensor_ppg}_samples.bin'\n",
    "ppg_time_filename = f'{sensor_ppg}_time.bin'\n",
    "\n",
    "rotation_units = 'deg/s'\n",
    "acceleration_units = 'm/s^2'\n",
    "\n",
    "d_channels_units = {\n",
    "    DataColumns.ACCELEROMETER_X: acceleration_units,\n",
    "    DataColumns.ACCELEROMETER_Y: acceleration_units,\n",
    "    DataColumns.ACCELEROMETER_Z: acceleration_units,\n",
    "    DataColumns.GYROSCOPE_X: rotation_units,\n",
    "    DataColumns.GYROSCOPE_Y: rotation_units,\n",
    "    DataColumns.GYROSCOPE_Z: rotation_units,\n",
    "\n",
    "}\n",
    "\n",
    "# filtering\n",
    "sampling_frequency = 100\n",
    "lower_cutoff_frequency = 0.3\n",
    "filter_order = 4\n",
    "\n",
    "# Constants\n",
    "UNIX_TICKS_MS = 1000.0\n",
    "FS_PPG = 30  # Sampling rate for PPG\n",
    "FS_IMU = 100  # Sampling rate for IMU"
   ]
  },
  {
   "cell_type": "markdown",
   "metadata": {},
   "source": [
    "## 1. Loading all metadata of PPG and IMU"
   ]
  },
  {
   "cell_type": "code",
   "execution_count": 96,
   "metadata": {},
   "outputs": [],
   "source": [
    "meta_ppg = tsdf_scan_meta(input_path_ppg)\n",
    "meta_imu = tsdf_scan_meta(input_path_imu)"
   ]
  },
  {
   "cell_type": "markdown",
   "metadata": {},
   "source": [
    "## 2. Query on data availability + synchronization\n",
    "\n",
    "Calculate PPG and IMU segments that describe the same data"
   ]
  },
  {
   "cell_type": "code",
   "execution_count": 97,
   "metadata": {},
   "outputs": [],
   "source": [
    "segment_ppg, segment_imu = synchronization(meta_ppg, meta_imu)  # Define `synchronization`"
   ]
  },
  {
   "cell_type": "markdown",
   "metadata": {},
   "source": [
    "## 3. Loading relevant segment sensor data"
   ]
  },
  {
   "cell_type": "code",
   "execution_count": 98,
   "metadata": {},
   "outputs": [],
   "source": [
    "n = 0  # Assuming we're only looking at the first synchronized segment pair - the loop here should be over all segment pairs\n",
    "meta_path_ppg = meta_ppg[segment_ppg[n]]['tsdf_meta_fullpath']\n",
    "meta_path_imu = meta_imu[segment_imu[n]]['tsdf_meta_fullpath']\n",
    "\n",
    "metadata_list_ppg = tsdf.load_metadata_from_path(meta_path_ppg)\n",
    "metadata_list_imu = tsdf.load_metadata_from_path(meta_path_imu)"
   ]
  },
  {
   "cell_type": "code",
   "execution_count": 99,
   "metadata": {},
   "outputs": [],
   "source": [
    "# Load PPG data\n",
    "ppg_metadata_time = metadata_list_ppg[ppg_time_filename]\n",
    "ppg_metadata_samples = metadata_list_ppg[ppg_values_filename]\n",
    "df_ppg = tsdf.load_dataframe_from_binaries([ppg_metadata_time, ppg_metadata_samples], tsdf.constants.ConcatenationType.columns)\n",
    "\n",
    "# Load IMU data\n",
    "imu_metadata_time = metadata_list_imu[imu_time_filename]\n",
    "imu_metadata_samples = metadata_list_imu[imu_values_filename]\n",
    "df_imu = tsdf.load_dataframe_from_binaries([imu_metadata_time, imu_metadata_samples], tsdf.constants.ConcatenationType.columns)"
   ]
  },
  {
   "cell_type": "code",
   "execution_count": 100,
   "metadata": {},
   "outputs": [
    {
     "data": {
      "text/html": [
       "<div>\n",
       "<style scoped>\n",
       "    .dataframe tbody tr th:only-of-type {\n",
       "        vertical-align: middle;\n",
       "    }\n",
       "\n",
       "    .dataframe tbody tr th {\n",
       "        vertical-align: top;\n",
       "    }\n",
       "\n",
       "    .dataframe thead th {\n",
       "        text-align: right;\n",
       "    }\n",
       "</style>\n",
       "<table border=\"1\" class=\"dataframe\">\n",
       "  <thead>\n",
       "    <tr style=\"text-align: right;\">\n",
       "      <th></th>\n",
       "      <th>time</th>\n",
       "      <th>green</th>\n",
       "    </tr>\n",
       "  </thead>\n",
       "  <tbody>\n",
       "    <tr>\n",
       "      <th>0</th>\n",
       "      <td>0.000000</td>\n",
       "      <td>649511</td>\n",
       "    </tr>\n",
       "    <tr>\n",
       "      <th>1</th>\n",
       "      <td>9.959961</td>\n",
       "      <td>648214</td>\n",
       "    </tr>\n",
       "  </tbody>\n",
       "</table>\n",
       "</div>"
      ],
      "text/plain": [
       "       time   green\n",
       "0  0.000000  649511\n",
       "1  9.959961  648214"
      ]
     },
     "execution_count": 100,
     "metadata": {},
     "output_type": "execute_result"
    }
   ],
   "source": [
    "df_ppg.head(2)"
   ]
  },
  {
   "cell_type": "code",
   "execution_count": 101,
   "metadata": {},
   "outputs": [
    {
     "data": {
      "text/html": [
       "<div>\n",
       "<style scoped>\n",
       "    .dataframe tbody tr th:only-of-type {\n",
       "        vertical-align: middle;\n",
       "    }\n",
       "\n",
       "    .dataframe tbody tr th {\n",
       "        vertical-align: top;\n",
       "    }\n",
       "\n",
       "    .dataframe thead th {\n",
       "        text-align: right;\n",
       "    }\n",
       "</style>\n",
       "<table border=\"1\" class=\"dataframe\">\n",
       "  <thead>\n",
       "    <tr style=\"text-align: right;\">\n",
       "      <th></th>\n",
       "      <th>time</th>\n",
       "      <th>accelerometer_x</th>\n",
       "      <th>accelerometer_y</th>\n",
       "      <th>accelerometer_z</th>\n",
       "    </tr>\n",
       "  </thead>\n",
       "  <tbody>\n",
       "    <tr>\n",
       "      <th>0</th>\n",
       "      <td>0.000000</td>\n",
       "      <td>-1151</td>\n",
       "      <td>1200</td>\n",
       "      <td>-572</td>\n",
       "    </tr>\n",
       "    <tr>\n",
       "      <th>1</th>\n",
       "      <td>10.040039</td>\n",
       "      <td>-1120</td>\n",
       "      <td>1303</td>\n",
       "      <td>-532</td>\n",
       "    </tr>\n",
       "  </tbody>\n",
       "</table>\n",
       "</div>"
      ],
      "text/plain": [
       "        time  accelerometer_x  accelerometer_y  accelerometer_z\n",
       "0   0.000000            -1151             1200             -572\n",
       "1  10.040039            -1120             1303             -532"
      ]
     },
     "execution_count": 101,
     "metadata": {},
     "output_type": "execute_result"
    }
   ],
   "source": [
    "# Drop the gyroscope columns from the IMU data\n",
    "cols_to_drop = df_imu.filter(regex='^rotation_').columns\n",
    "df_imu.drop(cols_to_drop, axis=1, inplace=True)\n",
    "\n",
    "df_imu = df_imu.rename(columns={f'acceleration_{a}': f'accelerometer_{a}' for a in ['x', 'y', 'z']})\n",
    "\n",
    "df_imu.head(2)"
   ]
  },
  {
   "cell_type": "code",
   "execution_count": 106,
   "metadata": {},
   "outputs": [
    {
     "data": {
      "text/html": [
       "<div>\n",
       "<style scoped>\n",
       "    .dataframe tbody tr th:only-of-type {\n",
       "        vertical-align: middle;\n",
       "    }\n",
       "\n",
       "    .dataframe tbody tr th {\n",
       "        vertical-align: top;\n",
       "    }\n",
       "\n",
       "    .dataframe thead th {\n",
       "        text-align: right;\n",
       "    }\n",
       "</style>\n",
       "<table border=\"1\" class=\"dataframe\">\n",
       "  <thead>\n",
       "    <tr style=\"text-align: right;\">\n",
       "      <th></th>\n",
       "      <th>time</th>\n",
       "      <th>accelerometer_x</th>\n",
       "      <th>accelerometer_y</th>\n",
       "      <th>accelerometer_z</th>\n",
       "    </tr>\n",
       "  </thead>\n",
       "  <tbody>\n",
       "    <tr>\n",
       "      <th>72945</th>\n",
       "      <td>4.443100e+12</td>\n",
       "      <td>-502</td>\n",
       "      <td>-1075</td>\n",
       "      <td>-1689</td>\n",
       "    </tr>\n",
       "    <tr>\n",
       "      <th>72946</th>\n",
       "      <td>4.443220e+12</td>\n",
       "      <td>-509</td>\n",
       "      <td>-1068</td>\n",
       "      <td>-1689</td>\n",
       "    </tr>\n",
       "  </tbody>\n",
       "</table>\n",
       "</div>"
      ],
      "text/plain": [
       "               time  accelerometer_x  accelerometer_y  accelerometer_z\n",
       "72945  4.443100e+12             -502            -1075            -1689\n",
       "72946  4.443220e+12             -509            -1068            -1689"
      ]
     },
     "execution_count": 106,
     "metadata": {},
     "output_type": "execute_result"
    }
   ],
   "source": [
    "from dbpd.constants import DataColumns, TimeUnit\n",
    "\n",
    "# Extract indices for time and samples (TSDF should support extracting data based on the channel names)\n",
    "time_idx_ppg = metadata_list_ppg[\"PPG_time.bin\"]\n",
    "time_idx_imu = metadata_list_imu[\"IMU_time.bin\"]\n",
    "values_idx_ppg = metadata_list_ppg[\"PPG_samples.bin\"]\n",
    "values_idx_imu = metadata_list_imu[\"IMU_samples.bin\"]\n",
    "\n",
    "start_time_ppg = datetime.strptime(time_idx_ppg.start_iso8601, '%d-%b-%Y %H:%M:%S %Z').timestamp()\n",
    "df_imu['time'] = dbpd.imu_preprocessing.transform_time_array(\n",
    "    time_array=df_imu['time'],\n",
    "    scale_factor=1000, \n",
    "    input_unit_type = TimeUnit.difference_ms,\n",
    "    output_unit_type = TimeUnit.absolute_ms,\n",
    "    start_time = start_time_ppg)\n",
    "\n",
    "start_time_imu = datetime.strptime(time_idx_imu.start_iso8601, '%d-%b-%Y %H:%M:%S %Z').timestamp()\n",
    "df_ppg['time'] = dbpd.imu_preprocessing.transform_time_array(\n",
    "    time_array=df_ppg['time'],\n",
    "    scale_factor=1000, \n",
    "    input_unit_type = TimeUnit.difference_ms,\n",
    "    output_unit_type = TimeUnit.absolute_ms,\n",
    "    start_time = start_time_imu)\n",
    "\n",
    "\n",
    "df_imu.tail(2)\n",
    "# ts_ppg = int(datetime_ppg.timestamp() * UNIX_TICKS_MS)\n",
    "# ts_imu = int(datetime_imu.timestamp() * UNIX_TICKS_MS)\n",
    "\n",
    "# # Calculating continuous time vectors\n",
    "# t_ppg = np.cumsum(data_list_ppg[time_idx_ppg]) + ts_ppg\n",
    "# t_imu = np.cumsum(data_list_imu[time_idx_imu]) + ts_imu"
   ]
  },
  {
   "cell_type": "code",
   "execution_count": 108,
   "metadata": {},
   "outputs": [
    {
     "name": "stdout",
     "output_type": "stream",
     "text": [
      "Shape of the original data:\n",
      "(64775, 2) (72947, 4)\n",
      "Shape of the overlapping segments:\n",
      "(64775, 2) (64774, 4)\n"
     ]
    },
    {
     "data": {
      "text/html": [
       "<div>\n",
       "<style scoped>\n",
       "    .dataframe tbody tr th:only-of-type {\n",
       "        vertical-align: middle;\n",
       "    }\n",
       "\n",
       "    .dataframe tbody tr th {\n",
       "        vertical-align: top;\n",
       "    }\n",
       "\n",
       "    .dataframe thead th {\n",
       "        text-align: right;\n",
       "    }\n",
       "</style>\n",
       "<table border=\"1\" class=\"dataframe\">\n",
       "  <thead>\n",
       "    <tr style=\"text-align: right;\">\n",
       "      <th></th>\n",
       "      <th>time</th>\n",
       "      <th>accelerometer_x</th>\n",
       "      <th>accelerometer_y</th>\n",
       "      <th>accelerometer_z</th>\n",
       "    </tr>\n",
       "  </thead>\n",
       "  <tbody>\n",
       "    <tr>\n",
       "      <th>64769</th>\n",
       "      <td>3.515070e+12</td>\n",
       "      <td>-1485</td>\n",
       "      <td>31</td>\n",
       "      <td>-1026</td>\n",
       "    </tr>\n",
       "    <tr>\n",
       "      <th>64770</th>\n",
       "      <td>3.515177e+12</td>\n",
       "      <td>-1470</td>\n",
       "      <td>-32</td>\n",
       "      <td>-1016</td>\n",
       "    </tr>\n",
       "    <tr>\n",
       "      <th>64771</th>\n",
       "      <td>3.515284e+12</td>\n",
       "      <td>-1479</td>\n",
       "      <td>-64</td>\n",
       "      <td>-1050</td>\n",
       "    </tr>\n",
       "    <tr>\n",
       "      <th>64772</th>\n",
       "      <td>3.515391e+12</td>\n",
       "      <td>-1484</td>\n",
       "      <td>-75</td>\n",
       "      <td>-1095</td>\n",
       "    </tr>\n",
       "    <tr>\n",
       "      <th>64773</th>\n",
       "      <td>3.515498e+12</td>\n",
       "      <td>-1498</td>\n",
       "      <td>-53</td>\n",
       "      <td>-1131</td>\n",
       "    </tr>\n",
       "  </tbody>\n",
       "</table>\n",
       "</div>"
      ],
      "text/plain": [
       "               time  accelerometer_x  accelerometer_y  accelerometer_z\n",
       "64769  3.515070e+12            -1485               31            -1026\n",
       "64770  3.515177e+12            -1470              -32            -1016\n",
       "64771  3.515284e+12            -1479              -64            -1050\n",
       "64772  3.515391e+12            -1484              -75            -1095\n",
       "64773  3.515498e+12            -1498              -53            -1131"
      ]
     },
     "execution_count": 108,
     "metadata": {},
     "output_type": "execute_result"
    }
   ],
   "source": [
    "# 4. Data synchronization on right indices\n",
    "print(\"Shape of the original data:\")\n",
    "print(df_ppg.shape, df_imu.shape)\n",
    "df_ppg_overlapping, df_imu_overlapping = extract_overlapping_segments(df_ppg, df_imu)\n",
    "print(\"Shape of the overlapping segments:\")\n",
    "print(df_ppg_overlapping.shape, df_imu_overlapping.shape)\n",
    "\n",
    "df_imu_overlapping.tail(5)\n"
   ]
  },
  {
   "cell_type": "code",
   "execution_count": null,
   "metadata": {},
   "outputs": [
    {
     "ename": "NameError",
     "evalue": "name 'synchronization' is not defined",
     "output_type": "error",
     "traceback": [
      "\u001b[0;31m---------------------------------------------------------------------------\u001b[0m",
      "\u001b[0;31mNameError\u001b[0m                                 Traceback (most recent call last)",
      "Cell \u001b[0;32mIn[4], line 6\u001b[0m\n\u001b[1;32m      3\u001b[0m meta_imu \u001b[38;5;241m=\u001b[39m tsdf_scan_meta(ppp_data_path_imu)\n\u001b[1;32m      5\u001b[0m \u001b[38;5;66;03m# 2. Query on data availability + synchronization\u001b[39;00m\n\u001b[0;32m----> 6\u001b[0m segment_ppg, segment_imu \u001b[38;5;241m=\u001b[39m \u001b[43msynchronization\u001b[49m(meta_ppg, meta_imu)  \u001b[38;5;66;03m# Define `synchronization`\u001b[39;00m\n\u001b[1;32m      8\u001b[0m \u001b[38;5;66;03m# 3. Loading relevant segment sensor data\u001b[39;00m\n\u001b[1;32m      9\u001b[0m n \u001b[38;5;241m=\u001b[39m \u001b[38;5;241m1\u001b[39m  \u001b[38;5;66;03m# Assuming we're only looking at the first synchronized segment\u001b[39;00m\n",
      "\u001b[0;31mNameError\u001b[0m: name 'synchronization' is not defined"
     ]
    }
   ],
   "source": [
    "\n",
    "# 5. Data preprocessing\n",
    "# Implement `preprocessing_ppg` and `preprocessing_imu` to suit your data format\n",
    "v_ppg_pre, tr_ppg_pre = preprocessing_ppg(v_ppg, FS_PPG)\n",
    "v_imu_pre, tr_imu_pre = preprocessing_imu(v_imu, FS_IMU)\n",
    "\n",
    "# Save preprocessed data\n",
    "location = \"../../tests/data/2.preprocessed_data/ppg\"\n",
    "save_preprocessed_data(v_ppg_pre, tr_ppg_pre, v_imu_pre, tr_imu_pre, location)\n",
    "\n",
    "# Feature extraction and Classification\n",
    "# Assume feature extraction and classification functions are implemented\n",
    "features_ppg, features_imu = extract_features(v_ppg_pre, v_imu_pre)\n",
    "classification_results = classify_signals(features_ppg, features_imu)\n",
    "\n",
    "# Save the classification results\n",
    "save_classification_data(classification_results, location)\n",
    "\n",
    "# We need to implement:\n",
    "# - synchronization: to find overlapping segments between PPG and IMU data based on metadata\n",
    "# - extract_overlapping_segments: to calculate the correct indices for synchronized data segments\n",
    "# - preprocessing_ppg, preprocessing_imu: functions to preprocess the raw PPG and IMU data\n",
    "# - extract_features: to extract relevant features from the preprocessed data\n",
    "# - classify_signals: to perform the classification on the extracted features\n",
    "# - save_preprocessed_data, save_classification_data: functions to save data to files in a suitable format\n"
   ]
  }
 ],
 "metadata": {
  "kernelspec": {
   "display_name": ".venv",
   "language": "python",
   "name": "python3"
  },
  "language_info": {
   "codemirror_mode": {
    "name": "ipython",
    "version": 3
   },
   "file_extension": ".py",
   "mimetype": "text/x-python",
   "name": "python",
   "nbconvert_exporter": "python",
   "pygments_lexer": "ipython3",
   "version": "3.11.2"
  }
 },
 "nbformat": 4,
 "nbformat_minor": 2
}

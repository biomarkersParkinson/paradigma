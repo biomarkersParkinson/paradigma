{
 "cells": [
  {
   "cell_type": "markdown",
   "metadata": {},
   "source": [
    "# Tremor analysis"
   ]
  },
  {
   "cell_type": "code",
   "execution_count": null,
   "metadata": {},
   "outputs": [],
   "source": [
    "from pathlib import Path\n",
    "from paradigma.util import load_tsdf_dataframe\n",
    "from paradigma.config import IMUConfig, TremorFeatureExtractionConfig, TremorDetectionConfig, TremorAggregationConfig\n",
    "from paradigma.preprocessing import preprocess_imu_data\n",
    "from paradigma.pipelines.tremor_pipeline import extract_tremor_features, detect_tremor, aggregate_tremor"
   ]
  },
  {
   "cell_type": "markdown",
   "metadata": {},
   "source": [
    "## Load example data"
   ]
  },
  {
   "cell_type": "code",
   "execution_count": null,
   "metadata": {},
   "outputs": [],
   "source": [
    "path_to_data =  Path('../../tests/data')\n",
    "path_to_assets = Path('../../src/paradigma/assets')\n",
    "path_to_prepared_data = path_to_data / '1.prepared_data' / 'imu'\n",
    "df_data, metadata_time, metadata_values = load_tsdf_dataframe(path_to_prepared_data, prefix='IMU')"
   ]
  },
  {
   "cell_type": "markdown",
   "metadata": {},
   "source": [
    "## Preprocess data"
   ]
  },
  {
   "cell_type": "code",
   "execution_count": null,
   "metadata": {},
   "outputs": [],
   "source": [
    "config = IMUConfig()\n",
    "df_preprocessed_data = preprocess_imu_data(df_data, config, sensor='gyroscope')"
   ]
  },
  {
   "cell_type": "markdown",
   "metadata": {},
   "source": [
    "## Extract tremor features"
   ]
  },
  {
   "cell_type": "code",
   "execution_count": null,
   "metadata": {},
   "outputs": [],
   "source": [
    "config = TremorFeatureExtractionConfig()\n",
    "df_features = extract_tremor_features(df_preprocessed_data, config)"
   ]
  },
  {
   "cell_type": "markdown",
   "metadata": {},
   "source": [
    "## Detect tremor"
   ]
  },
  {
   "cell_type": "code",
   "execution_count": null,
   "metadata": {},
   "outputs": [],
   "source": [
    "tremor_detection_classifier_package_filename = 'tremor_detection_clf_package.pkl'\n",
    "full_path_to_classifier_package = path_to_assets / tremor_detection_classifier_package_filename\n",
    "\n",
    "config = TremorDetectionConfig()\n",
    "df_predictions = detect_tremor(df_features, config, full_path_to_classifier_package)"
   ]
  },
  {
   "cell_type": "markdown",
   "metadata": {},
   "source": [
    "## Compute aggregated tremor measures"
   ]
  },
  {
   "cell_type": "code",
   "execution_count": null,
   "metadata": {},
   "outputs": [],
   "source": [
    "config = TremorAggregationConfig()\n",
    "d_tremor_aggregates = aggregate_tremor(df_predictions, config)"
   ]
  }
 ],
 "metadata": {
  "kernelspec": {
   "display_name": "paradigma-Fn6RLG4_-py3.11",
   "language": "python",
   "name": "python3"
  },
  "language_info": {
   "codemirror_mode": {
    "name": "ipython",
    "version": 3
   },
   "file_extension": ".py",
   "mimetype": "text/x-python",
   "name": "python",
   "nbconvert_exporter": "python",
   "pygments_lexer": "ipython3",
   "version": "3.11.5"
  }
 },
 "nbformat": 4,
 "nbformat_minor": 2
}

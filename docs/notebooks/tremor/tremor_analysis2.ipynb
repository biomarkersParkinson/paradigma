{
 "cells": [
  {
   "cell_type": "markdown",
   "metadata": {},
   "source": [
    "# Tremor analysis"
   ]
  },
  {
   "cell_type": "code",
   "execution_count": 1,
   "metadata": {},
   "outputs": [],
   "source": [
    "import pandas as pd\n",
    "from paradigma.config import IMUConfig, TremorFeatureExtractionConfig, TremorDetectionConfig, TremorQuantificationConfig\n",
    "from paradigma.imu_preprocessing import preprocess_imu_data\n",
    "from paradigma.tremor.tremor_analysis import extract_tremor_features, detect_tremor, quantify_tremor"
   ]
  },
  {
   "cell_type": "code",
   "execution_count": 2,
   "metadata": {},
   "outputs": [],
   "source": [
    "df_tremor_week = pd.DataFrame(columns=['low_freq_power','tremor_power','pred_tremor_checked']) # create dataframe for concatenation of segments after the tremor detection step"
   ]
  },
  {
   "cell_type": "markdown",
   "metadata": {},
   "source": [
    "## Load data"
   ]
  },
  {
   "cell_type": "code",
   "execution_count": 2,
   "metadata": {},
   "outputs": [],
   "source": [
    "import tsdf\n",
    "from paradigma.util import read_metadata\n",
    "\n",
    "input_path =  'C:\\\\Users\\\\z835211\\\\Documents\\\\Data\\\\Raw IMU data\\\\WatchData.IMU.Week2\\\\POMU0000775B2E171842'\n",
    "segment = 'WatchData.IMU.Week2.raw_segment0010'\n",
    "\n",
    "# Load data\n",
    "metadata_time, metadata_values = read_metadata(str(input_path), str(segment+'_meta.json'),\n",
    "                                                    str(segment+'_time.bin'), str(segment+'_samples.bin'))\n",
    "df = tsdf.load_dataframe_from_binaries([metadata_time, metadata_values], tsdf.constants.ConcatenationType.columns)\n",
    "\n",
    "# Rename columns\n",
    "df = df.rename(columns={f'rotation_{a}': f'gyroscope_{a}' for a in ['x', 'y', 'z']})\n",
    "df = df.rename(columns={f'acceleration_{a}': f'accelerometer_{a}' for a in ['x', 'y', 'z']})\n",
    "\n",
    "config = IMUConfig()\n",
    "\n",
    "# Apply scale factors \n",
    "df[list(config.d_channels_imu.keys())] *= metadata_values.scale_factors\n"
   ]
  },
  {
   "cell_type": "markdown",
   "metadata": {},
   "source": [
    "## Preprocess gyroscope data"
   ]
  },
  {
   "cell_type": "code",
   "execution_count": 3,
   "metadata": {},
   "outputs": [],
   "source": [
    "config = IMUConfig()\n",
    "df_preprocessed = preprocess_imu_data(df, config, sensor='gyroscope')"
   ]
  },
  {
   "cell_type": "markdown",
   "metadata": {},
   "source": [
    "## Extract features"
   ]
  },
  {
   "cell_type": "code",
   "execution_count": null,
   "metadata": {},
   "outputs": [],
   "source": [
    "config = TremorFeatureExtractionConfig()\n",
    "df_features = extract_tremor_features(df_preprocessed, config)\n",
    "print(df_features)"
   ]
  },
  {
   "cell_type": "markdown",
   "metadata": {},
   "source": [
    "## Detect tremor"
   ]
  },
  {
   "cell_type": "code",
   "execution_count": null,
   "metadata": {},
   "outputs": [],
   "source": [
    "config = TremorDetectionConfig()\n",
    "path_to_classifier_input =  '../../../tests/data/0.classification/tremor'\n",
    "df_tremor_predictions = detect_tremor(df_features, config, path_to_classifier_input)\n",
    "\n",
    "df_tremor_week = pd.concat([df_tremor_week, df_tremor_predictions[['low_freq_power','tremor_power','pred_tremor_checked']]],ignore_index=True)\n"
   ]
  },
  {
   "cell_type": "markdown",
   "metadata": {},
   "source": [
    "## Quantify tremor"
   ]
  },
  {
   "cell_type": "code",
   "execution_count": null,
   "metadata": {},
   "outputs": [],
   "source": [
    "config = TremorQuantificationConfig()\n",
    "d_aggregates = quantify_tremor(df_tremor_week, config)\n",
    "\n",
    "import json\n",
    "import os \n",
    "\n",
    "# Save output\n",
    "with open(os.path.join(input_path,\"weekly_tremor.json\"), 'w') as json_file:\n",
    "    json.dump(d_aggregates, json_file, indent=4)"
   ]
  }
 ],
 "metadata": {
  "kernelspec": {
   "display_name": "paradigma-cfWEGyqZ-py3.11",
   "language": "python",
   "name": "python3"
  },
  "language_info": {
   "codemirror_mode": {
    "name": "ipython",
    "version": 3
   },
   "file_extension": ".py",
   "mimetype": "text/x-python",
   "name": "python",
   "nbconvert_exporter": "python",
   "pygments_lexer": "ipython3",
   "version": "3.11.8"
  }
 },
 "nbformat": 4,
 "nbformat_minor": 2
}

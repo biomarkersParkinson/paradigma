{
 "cells": [
  {
   "cell_type": "markdown",
   "metadata": {},
   "source": [
    "# Tremor analysis"
   ]
  },
  {
   "cell_type": "code",
   "execution_count": 1,
   "metadata": {},
   "outputs": [],
   "source": [
    "%load_ext autoreload\n",
    "%autoreload 2\n",
    "\n",
    "import os\n",
    "from paradigma.preprocessing_config import IMUPreprocessingConfig\n",
    "from paradigma.imu_preprocessing import preprocess_imu_data_io"
   ]
  },
  {
   "cell_type": "code",
   "execution_count": 4,
   "metadata": {},
   "outputs": [],
   "source": [
    "path_to_data =  '../../../tests/data'\n",
    "path_to_classifier = os.path.join(path_to_data, '0.classification', 'tremor')\n",
    "path_to_sensor_data = os.path.join(path_to_data, '1.sensor_data', 'imu')\n",
    "path_to_preprocessed_data = os.path.join(path_to_data, '2.preprocessed_data', 'imu')\n",
    "path_to_extracted_features = os.path.join(path_to_data, '3.extracted_features', 'tremor')\n",
    "path_to_predictions = os.path.join(path_to_data, '4.predictions', 'tremor')"
   ]
  },
  {
   "cell_type": "markdown",
   "metadata": {},
   "source": [
    "# Preprocessing"
   ]
  },
  {
   "cell_type": "code",
   "execution_count": 5,
   "metadata": {},
   "outputs": [],
   "source": [
    "config = IMUPreprocessingConfig()\n",
    "preprocess_imu_data_io(path_to_sensor_data, path_to_preprocessed_data, config)"
   ]
  }
 ],
 "metadata": {
  "kernelspec": {
   "display_name": "paradigma-Fn6RLG4_-py3.11",
   "language": "python",
   "name": "python3"
  },
  "language_info": {
   "codemirror_mode": {
    "name": "ipython",
    "version": 3
   },
   "file_extension": ".py",
   "mimetype": "text/x-python",
   "name": "python",
   "nbconvert_exporter": "python",
   "pygments_lexer": "ipython3",
   "version": "3.11.5"
  }
 },
 "nbformat": 4,
 "nbformat_minor": 2
}

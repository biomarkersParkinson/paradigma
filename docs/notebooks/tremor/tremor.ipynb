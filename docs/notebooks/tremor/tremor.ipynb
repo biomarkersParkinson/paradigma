{
 "cells": [
  {
   "cell_type": "markdown",
   "metadata": {},
   "source": [
    "# Tremor analysis"
   ]
  },
  {
   "cell_type": "code",
   "execution_count": 1,
   "metadata": {},
   "outputs": [],
   "source": [
    "import os\n",
    "from paradigma.preprocessing_config import IMUPreprocessingConfig\n",
    "from paradigma.imu_preprocessing import preprocess_imu_data_io\n",
    "from paradigma.tremor.tremor_analysis_config import TremorFeatureExtractionConfig\n",
    "from paradigma.tremor.tremor_analysis import extract_tremor_features_io"
   ]
  },
  {
   "cell_type": "code",
   "execution_count": 2,
   "metadata": {},
   "outputs": [],
   "source": [
    "path_to_data =  '../../../tests/data'\n",
    "path_to_classifier = os.path.join(path_to_data, '0.classification', 'tremor')\n",
    "path_to_sensor_data = os.path.join(path_to_data, '1.sensor_data', 'imu')\n",
    "path_to_preprocessed_data = os.path.join(path_to_data, '2.preprocessed_data', 'imu')\n",
    "path_to_extracted_features = os.path.join(path_to_data, '3.extracted_features', 'tremor')\n",
    "path_to_predictions = os.path.join(path_to_data, '4.predictions', 'tremor')"
   ]
  },
  {
   "cell_type": "markdown",
   "metadata": {},
   "source": [
    "## Preprocessing"
   ]
  },
  {
   "cell_type": "code",
   "execution_count": null,
   "metadata": {},
   "outputs": [],
   "source": [
    "config = IMUPreprocessingConfig()\n",
    "preprocess_imu_data_io(path_to_sensor_data, path_to_preprocessed_data, config)"
   ]
  },
  {
   "cell_type": "markdown",
   "metadata": {},
   "source": [
    "## Extract tremor features"
   ]
  },
  {
   "cell_type": "code",
   "execution_count": 3,
   "metadata": {},
   "outputs": [
    {
     "name": "stdout",
     "output_type": "stream",
     "text": [
      "[ 0.    0.25  0.5   0.75  1.    1.25  1.5   1.75  2.    2.25  2.5   2.75\n",
      "  3.    3.25  3.5   3.75  4.    4.25  4.5   4.75  5.    5.25  5.5   5.75\n",
      "  6.    6.25  6.5   6.75  7.    7.25  7.5   7.75  8.    8.25  8.5   8.75\n",
      "  9.    9.25  9.5   9.75 10.   10.25 10.5  10.75 11.   11.25 11.5  11.75\n",
      " 12.   12.25 12.5  12.75 13.   13.25 13.5  13.75 14.   14.25 14.5  14.75\n",
      " 15.   15.25 15.5  15.75 16.   16.25 16.5  16.75 17.   17.25 17.5  17.75\n",
      " 18.   18.25 18.5  18.75 19.   19.25 19.5  19.75 20.   20.25 20.5  20.75\n",
      " 21.   21.25 21.5  21.75 22.   22.25 22.5  22.75 23.   23.25 23.5  23.75\n",
      " 24.   24.25 24.5  24.75 25.   25.25 25.5  25.75 26.   26.25 26.5  26.75\n",
      " 27.   27.25 27.5  27.75 28.   28.25 28.5  28.75 29.   29.25 29.5  29.75\n",
      " 30.   30.25 30.5  30.75 31.   31.25 31.5  31.75 32.   32.25 32.5  32.75\n",
      " 33.   33.25 33.5  33.75 34.   34.25 34.5  34.75 35.   35.25 35.5  35.75\n",
      " 36.   36.25 36.5  36.75 37.   37.25 37.5  37.75 38.   38.25 38.5  38.75\n",
      " 39.   39.25 39.5  39.75 40.   40.25 40.5  40.75 41.   41.25 41.5  41.75\n",
      " 42.   42.25 42.5  42.75 43.   43.25 43.5  43.75 44.   44.25 44.5  44.75\n",
      " 45.   45.25 45.5  45.75 46.   46.25 46.5  46.75 47.   47.25 47.5  47.75\n",
      " 48.   48.25 48.5  48.75 49.   49.25 49.5  49.75 50.  ]\n"
     ]
    }
   ],
   "source": [
    "config = TremorFeatureExtractionConfig()\n",
    "extract_tremor_features_io(path_to_preprocessed_data, path_to_extracted_features, config)"
   ]
  }
 ],
 "metadata": {
  "kernelspec": {
   "display_name": "paradigma-cfWEGyqZ-py3.11",
   "language": "python",
   "name": "python3"
  },
  "language_info": {
   "codemirror_mode": {
    "name": "ipython",
    "version": 3
   },
   "file_extension": ".py",
   "mimetype": "text/x-python",
   "name": "python",
   "nbconvert_exporter": "python",
   "pygments_lexer": "ipython3",
   "version": "3.11.8"
  }
 },
 "nbformat": 4,
 "nbformat_minor": 2
}

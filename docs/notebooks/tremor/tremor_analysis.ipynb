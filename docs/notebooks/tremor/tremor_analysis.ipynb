{
 "cells": [
  {
   "cell_type": "markdown",
   "metadata": {},
   "source": [
    "# Tremor analysis"
   ]
  },
  {
   "cell_type": "code",
   "execution_count": 1,
   "metadata": {},
   "outputs": [],
   "source": [
    "import os\n",
    "from paradigma.util import load_tsdf_dataframe\n",
    "from paradigma.config import IMUConfig, TremorFeatureExtractionConfig, TremorDetectionConfig, TremorQuantificationConfig\n",
    "from paradigma.preprocessing import preprocess_imu_data\n",
    "from paradigma.tremor.tremor_analysis import extract_tremor_features, detect_tremor, quantify_tremor"
   ]
  },
  {
   "cell_type": "markdown",
   "metadata": {},
   "source": [
    "## Load example data"
   ]
  },
  {
   "cell_type": "code",
   "execution_count": 2,
   "metadata": {},
   "outputs": [],
   "source": [
    "path_to_data =  '../../../tests/data'\n",
    "path_to_prepared_data = os.path.join(path_to_data, '1.prepared_data', 'imu')\n",
    "df_data, metadata_time, metadata_values = load_tsdf_dataframe(path_to_prepared_data, prefix='IMU')"
   ]
  },
  {
   "cell_type": "markdown",
   "metadata": {},
   "source": [
    "## Preprocess data"
   ]
  },
  {
   "cell_type": "code",
   "execution_count": 3,
   "metadata": {},
   "outputs": [],
   "source": [
    "config = IMUConfig()\n",
    "df_preprocessed_data = preprocess_imu_data(df_data, config, sensor='gyroscope')"
   ]
  },
  {
   "cell_type": "markdown",
   "metadata": {},
   "source": [
    "## Extract tremor features"
   ]
  },
  {
   "cell_type": "code",
   "execution_count": 4,
   "metadata": {},
   "outputs": [],
   "source": [
    "config = TremorFeatureExtractionConfig()\n",
    "df_features = extract_tremor_features(df_preprocessed_data, config)"
   ]
  },
  {
   "cell_type": "markdown",
   "metadata": {},
   "source": [
    "## Detect tremor"
   ]
  },
  {
   "cell_type": "code",
   "execution_count": 7,
   "metadata": {},
   "outputs": [],
   "source": [
    "config = TremorDetectionConfig()\n",
    "path_to_classifier_input = os.path.join(path_to_data, '0.classification', 'tremor')\n",
    "df_predictions = detect_tremor(df_features, config, path_to_classifier_input)"
   ]
  },
  {
   "cell_type": "markdown",
   "metadata": {},
   "source": [
    "## Compute aggregated tremor measures"
   ]
  },
  {
   "cell_type": "code",
   "execution_count": 9,
   "metadata": {},
   "outputs": [],
   "source": [
    "config = TremorQuantificationConfig()\n",
    "d_tremor_aggregates = quantify_tremor(df_predictions, config)"
   ]
  }
 ],
 "metadata": {
  "kernelspec": {
   "display_name": "paradigma-cfWEGyqZ-py3.11",
   "language": "python",
   "name": "python3"
  },
  "language_info": {
   "codemirror_mode": {
    "name": "ipython",
    "version": 3
   },
   "file_extension": ".py",
   "mimetype": "text/x-python",
   "name": "python",
   "nbconvert_exporter": "python",
   "pygments_lexer": "ipython3",
   "version": "3.11.8"
  }
 },
 "nbformat": 4,
 "nbformat_minor": 2
}

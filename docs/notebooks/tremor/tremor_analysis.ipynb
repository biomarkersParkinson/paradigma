{
 "cells": [
  {
   "cell_type": "markdown",
   "metadata": {},
   "source": [
    "# Tremor analysis"
   ]
  },
  {
   "cell_type": "code",
   "execution_count": null,
   "metadata": {},
   "outputs": [],
   "source": [
    "import os\n",
    "from paradigma.preprocessing_config import GyroPreprocessingConfig\n",
    "from paradigma.imu_preprocessing import preprocess_gyro_data_io\n",
    "from paradigma.tremor.tremor_analysis_config import TremorFeatureExtractionConfig, TremorDetectionConfig, TremorQuantificationConfig\n",
    "from paradigma.tremor.tremor_analysis import extract_tremor_features_io, detect_tremor_io, quantify_tremor_io"
   ]
  },
  {
   "cell_type": "code",
   "execution_count": null,
   "metadata": {},
   "outputs": [],
   "source": [
    "path_to_data =  '../../../tests/data'\n",
    "path_to_classifier = os.path.join(path_to_data, '0.classification', 'tremor')\n",
    "path_to_sensor_data = os.path.join(path_to_data, '1.sensor_data', 'imu')\n",
    "path_to_preprocessed_data = os.path.join(path_to_data, '2.preprocessed_data', 'gyro')\n",
    "path_to_extracted_features = os.path.join(path_to_data, '3.extracted_features', 'tremor')\n",
    "path_to_predictions = os.path.join(path_to_data, '4.predictions', 'tremor')\n",
    "path_to_quantification = os.path.join(path_to_data, '5.quantification', 'tremor')"
   ]
  },
  {
   "cell_type": "markdown",
   "metadata": {},
   "source": [
    "## Preprocessing"
   ]
  },
  {
   "cell_type": "code",
   "execution_count": null,
   "metadata": {},
   "outputs": [],
   "source": [
    "config = GyroPreprocessingConfig()\n",
    "preprocess_gyro_data_io(path_to_sensor_data, path_to_preprocessed_data, config)"
   ]
  },
  {
   "cell_type": "markdown",
   "metadata": {},
   "source": [
    "## Extract tremor features"
   ]
  },
  {
   "cell_type": "code",
   "execution_count": null,
   "metadata": {},
   "outputs": [],
   "source": [
    "config = TremorFeatureExtractionConfig()\n",
    "extract_tremor_features_io(path_to_preprocessed_data, path_to_extracted_features, config)"
   ]
  },
  {
   "cell_type": "markdown",
   "metadata": {},
   "source": [
    "## Detect tremor"
   ]
  },
  {
   "cell_type": "code",
   "execution_count": null,
   "metadata": {},
   "outputs": [],
   "source": [
    "config = TremorDetectionConfig()\n",
    "detect_tremor_io(path_to_extracted_features, path_to_predictions, path_to_classifier, config)"
   ]
  },
  {
   "cell_type": "markdown",
   "metadata": {},
   "source": [
    "## Compute weekly tremor measures"
   ]
  },
  {
   "cell_type": "code",
   "execution_count": null,
   "metadata": {},
   "outputs": [],
   "source": [
    "config = TremorQuantificationConfig()\n",
    "quantify_tremor_io(path_to_extracted_features, path_to_predictions, path_to_quantification, config)"
   ]
  }
 ],
 "metadata": {
  "kernelspec": {
   "display_name": "paradigma-cfWEGyqZ-py3.11",
   "language": "python",
   "name": "python3"
  },
  "language_info": {
   "codemirror_mode": {
    "name": "ipython",
    "version": 3
   },
   "file_extension": ".py",
   "mimetype": "text/x-python",
   "name": "python",
   "nbconvert_exporter": "python",
   "pygments_lexer": "ipython3",
   "version": "3.11.8"
  }
 },
 "nbformat": 4,
 "nbformat_minor": 2
}

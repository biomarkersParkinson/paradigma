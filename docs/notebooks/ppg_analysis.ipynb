{
 "cells": [
  {
   "cell_type": "markdown",
   "metadata": {},
   "source": [
    "# PPG analysis"
   ]
  },
  {
   "cell_type": "code",
   "execution_count": 1,
   "metadata": {},
   "outputs": [],
   "source": [
    "import importlib.resources\n",
    "import pickle\n",
    "from pathlib import Path\n",
    "\n",
    "from paradigma.config import PPGConfig, IMUConfig, HeartRateConfig\n",
    "from paradigma.preprocessing import preprocess_ppg_data\n",
    "from paradigma.pipelines.heart_rate_pipeline import extract_signal_quality_features, signal_quality_classification, estimate_heart_rate, aggregate_heart_rate\n",
    "from paradigma.util import load_tsdf_dataframe"
   ]
  },
  {
   "cell_type": "code",
   "execution_count": null,
   "metadata": {
    "tags": [
     "parameters"
    ]
   },
   "outputs": [],
   "source": [
    "# Cell has the tag 'parameters'\n",
    "branch = 'heart_rate'\n",
    "sensor = 'ppg'\n",
    "\n",
    "ppg_prefix = 'PPG'\n",
    "imu_prefix = 'IMU'\n",
    "\n",
    "ppg_classifier_package_filename = 'ppg_quality_classifier.pkl'\n",
    "\n",
    "path_to_data =  Path('../../tests/data')\n",
    "path_to_assets = Path('../../src/paradigma/assets')\n",
    "\n",
    "path_to_classifier = path_to_data / '0.Classification' / sensor\n",
    "path_to_prepared_data = path_to_data / '1.prepared_data'\n",
    "path_to_preprocessed_data = path_to_data / '2.preprocessed_data' / sensor\n",
    "path_to_extracted_features = path_to_data / '3.extracted_features' / branch\n",
    "path_to_predictions = path_to_data / '4.predictions' / branch\n",
    "path_to_quantification = path_to_data / '5.quantification' / branch\n",
    "path_to_aggregation = path_to_data / '6.aggregation' / branch\n",
    "\n",
    "aggregation_filename = 'heart_rate_aggregates.json'"
   ]
  },
  {
   "cell_type": "markdown",
   "metadata": {},
   "source": [
    "## Load the data"
   ]
  },
  {
   "cell_type": "code",
   "execution_count": null,
   "metadata": {},
   "outputs": [],
   "source": [
    "df_ppg, _, _ = load_tsdf_dataframe(path_to_prepared_data / ppg_prefix, prefix = ppg_prefix)\n",
    "df_imu, _, _ = load_tsdf_dataframe(path_to_prepared_data / imu_prefix, prefix = imu_prefix)"
   ]
  },
  {
   "cell_type": "markdown",
   "metadata": {},
   "source": [
    "## Preprocessing"
   ]
  },
  {
   "cell_type": "code",
   "execution_count": null,
   "metadata": {},
   "outputs": [],
   "source": [
    "ppg_config = PPGConfig()\n",
    "imu_config = IMUConfig()\n",
    "\n",
    "df_ppg_proc, df_acc_proc = preprocess_ppg_data(df_ppg, df_imu, ppg_config, imu_config)"
   ]
  },
  {
   "cell_type": "markdown",
   "metadata": {},
   "source": [
    "## Extract signal quality features"
   ]
  },
  {
   "cell_type": "code",
   "execution_count": null,
   "metadata": {},
   "outputs": [],
   "source": [
    "config_ppg = HeartRateConfig(sensor='ppg')\n",
    "config_acc = HeartRateConfig(sensor='imu')\n",
    "\n",
    "df_features = extract_signal_quality_features(config_ppg, df_ppg_proc, config_acc, df_acc_proc)"
   ]
  },
  {
   "cell_type": "markdown",
   "metadata": {},
   "source": [
    "## Signal quality classification"
   ]
  },
  {
   "cell_type": "code",
   "execution_count": null,
   "metadata": {},
   "outputs": [],
   "source": [
    "full_path_to_classifier_package = path_to_assets / ppg_classifier_package_filename\n",
    "config = HeartRateConfig()\n",
    "df_sqa = signal_quality_classification(df_features, config, full_path_to_classifier_package)\n",
    "df_sqa"
   ]
  },
  {
   "cell_type": "markdown",
   "metadata": {},
   "source": [
    "## Heart rate estimation"
   ]
  },
  {
   "cell_type": "code",
   "execution_count": null,
   "metadata": {},
   "outputs": [],
   "source": [
    "config = HeartRateConfig()\n",
    "df_hr = estimate_heart_rate(df_sqa, df_ppg_proc, config)"
   ]
  },
  {
   "cell_type": "markdown",
   "metadata": {},
   "source": [
    "## Heart rate aggregation"
   ]
  },
  {
   "cell_type": "code",
   "execution_count": null,
   "metadata": {},
   "outputs": [],
   "source": [
    "hr_values = df_hr['heart_rate'].values\n",
    "df_hr_agg = aggregate_heart_rate(hr_values, aggregates = ['mode', '99p'])"
   ]
  }
 ],
 "metadata": {
  "kernelspec": {
   "display_name": "paradigma-8ps1bg0Z-py3.12",
   "language": "python",
   "name": "python3"
  },
  "language_info": {
   "codemirror_mode": {
    "name": "ipython",
    "version": 3
   },
   "file_extension": ".py",
   "mimetype": "text/x-python",
   "name": "python",
   "nbconvert_exporter": "python",
   "pygments_lexer": "ipython3",
   "version": "3.12.6"
  }
 },
 "nbformat": 4,
 "nbformat_minor": 2
}

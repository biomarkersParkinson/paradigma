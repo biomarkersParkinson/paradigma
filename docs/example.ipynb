{
    "cells": [
        {
            "cell_type": "markdown",
            "metadata": {},
            "source": [
                "# Example usage\n",
                "\n",
                "To use `dbpd` in a project:"
            ]
        },
        {
            "cell_type": "code",
            "execution_count": 3,
            "metadata": {},
            "outputs": [],
            "source": [
                "# Automatically reload modules\n",
                "%load_ext autoreload\n",
                "%autoreload 2"
            ]
        },
        {
            "cell_type": "code",
            "execution_count": 4,
            "metadata": {},
            "outputs": [
                {
                    "name": "stdout",
                    "output_type": "stream",
                    "text": [
                        "0.1.0\n"
                    ]
                }
            ],
            "source": [
                "import dbpd\n",
                "print(dbpd.__version__)"
            ]
        },
        {
            "cell_type": "markdown",
            "metadata": {},
            "source": [
                "### Load the metadata and binaries"
            ]
        },
        {
            "cell_type": "code",
            "execution_count": 5,
            "metadata": {},
            "outputs": [
                {
                    "name": "stdout",
                    "output_type": "stream",
                    "text": [
                        "Data shape:\t (6757787, 6)\n",
                        "[0.        9.8532715 9.853516  9.8532715 9.8532715 9.8532715 9.853516\n",
                        " 9.8532715 9.8532715 9.8532715]\n"
                    ]
                }
            ],
            "source": [
                "import tsdf\n",
                "import numpy as np\n",
                "import pandas as pd\n",
                "from dbpd.constants import DataColumns\n",
                "\n",
                "metadata_dict = tsdf.load_metadata_from_path('../data/WatchData.IMU.Week0.raw_segment0161_meta.json')\n",
                "\n",
                "# Retrieve the metadata object we want, using the name of the binary as key\n",
                "metadata_samples = metadata_dict[\"WatchData.IMU.Week0.raw_segment0161_samples.bin\"]\n",
                "data = tsdf.load_ndarray_from_binary(metadata_samples)\n",
                "metadata_time = metadata_dict[\"WatchData.IMU.Week0.raw_segment0161_time.bin\"]\n",
                "time = tsdf.load_ndarray_from_binary(metadata_time)\n",
                "\n",
                "# Print some info\n",
                "print(f\"Data shape:\\t {data.shape}\")\n",
                "print(time[0:10])"
            ]
        },
        {
            "cell_type": "markdown",
            "metadata": {},
            "source": [
                "#### Setup a preprocessing configuration"
            ]
        },
        {
            "cell_type": "code",
            "execution_count": 6,
            "metadata": {},
            "outputs": [],
            "source": [
                "processingConfig = dbpd.PreprocessingPipelineConfig(DataColumns.TIME, 100, 100, True)"
            ]
        },
        {
            "cell_type": "markdown",
            "metadata": {},
            "source": [
                "### Convert time from delta time to relative time"
            ]
        },
        {
            "cell_type": "code",
            "execution_count": 7,
            "metadata": {},
            "outputs": [
                {
                    "name": "stdout",
                    "output_type": "stream",
                    "text": [
                        "[0.         0.00985327 0.01970679 0.02956006 0.03941333 0.0492666\n",
                        " 0.05912012 0.06897339 0.07882666 0.08867993]\n"
                    ]
                }
            ],
            "source": [
                "time = dbpd.transform_time_array(time, 1000, True)\n",
                "print(time[0:10])"
            ]
        },
        {
            "cell_type": "markdown",
            "metadata": {},
            "source": [
                "#### Resample the data\n"
            ]
        },
        {
            "cell_type": "code",
            "execution_count": 8,
            "metadata": {},
            "outputs": [
                {
                    "name": "stdout",
                    "output_type": "stream",
                    "text": [
                        "(6663, 7)\n"
                    ]
                },
                {
                    "data": {
                        "text/html": [
                            "<div>\n",
                            "<style scoped>\n",
                            "    .dataframe tbody tr th:only-of-type {\n",
                            "        vertical-align: middle;\n",
                            "    }\n",
                            "\n",
                            "    .dataframe tbody tr th {\n",
                            "        vertical-align: top;\n",
                            "    }\n",
                            "\n",
                            "    .dataframe thead th {\n",
                            "        text-align: right;\n",
                            "    }\n",
                            "</style>\n",
                            "<table border=\"1\" class=\"dataframe\">\n",
                            "  <thead>\n",
                            "    <tr style=\"text-align: right;\">\n",
                            "      <th></th>\n",
                            "      <th>time</th>\n",
                            "      <th>acceleration_x</th>\n",
                            "      <th>acceleration_y</th>\n",
                            "      <th>acceleration_z</th>\n",
                            "      <th>rotation_x</th>\n",
                            "      <th>rotation_y</th>\n",
                            "      <th>rotation_z</th>\n",
                            "    </tr>\n",
                            "  </thead>\n",
                            "  <tbody>\n",
                            "    <tr>\n",
                            "      <th>0</th>\n",
                            "      <td>0.0</td>\n",
                            "      <td>-2.689536</td>\n",
                            "      <td>-10.931814</td>\n",
                            "      <td>1.042019</td>\n",
                            "      <td>247.987806</td>\n",
                            "      <td>-270.914635</td>\n",
                            "      <td>196.341464</td>\n",
                            "    </tr>\n",
                            "    <tr>\n",
                            "      <th>1</th>\n",
                            "      <td>10.0</td>\n",
                            "      <td>-0.132490</td>\n",
                            "      <td>-0.125068</td>\n",
                            "      <td>-9.580040</td>\n",
                            "      <td>-0.220231</td>\n",
                            "      <td>0.281284</td>\n",
                            "      <td>-0.542383</td>\n",
                            "    </tr>\n",
                            "    <tr>\n",
                            "      <th>2</th>\n",
                            "      <td>20.0</td>\n",
                            "      <td>-0.121807</td>\n",
                            "      <td>0.205916</td>\n",
                            "      <td>-9.605981</td>\n",
                            "      <td>-0.123111</td>\n",
                            "      <td>0.191975</td>\n",
                            "      <td>-0.547743</td>\n",
                            "    </tr>\n",
                            "    <tr>\n",
                            "      <th>3</th>\n",
                            "      <td>30.0</td>\n",
                            "      <td>-0.105577</td>\n",
                            "      <td>0.233108</td>\n",
                            "      <td>-9.579939</td>\n",
                            "      <td>-0.221343</td>\n",
                            "      <td>0.264289</td>\n",
                            "      <td>-0.548177</td>\n",
                            "    </tr>\n",
                            "    <tr>\n",
                            "      <th>4</th>\n",
                            "      <td>40.0</td>\n",
                            "      <td>-0.065655</td>\n",
                            "      <td>0.286415</td>\n",
                            "      <td>-9.580043</td>\n",
                            "      <td>-0.243927</td>\n",
                            "      <td>0.303979</td>\n",
                            "      <td>-0.608892</td>\n",
                            "    </tr>\n",
                            "  </tbody>\n",
                            "</table>\n",
                            "</div>"
                        ],
                        "text/plain": [
                            "   time  acceleration_x  acceleration_y  acceleration_z  rotation_x  \\\n",
                            "0   0.0       -2.689536      -10.931814        1.042019  247.987806   \n",
                            "1  10.0       -0.132490       -0.125068       -9.580040   -0.220231   \n",
                            "2  20.0       -0.121807        0.205916       -9.605981   -0.123111   \n",
                            "3  30.0       -0.105577        0.233108       -9.579939   -0.221343   \n",
                            "4  40.0       -0.065655        0.286415       -9.580043   -0.243927   \n",
                            "\n",
                            "   rotation_y  rotation_z  \n",
                            "0 -270.914635  196.341464  \n",
                            "1    0.281284   -0.542383  \n",
                            "2    0.191975   -0.547743  \n",
                            "3    0.264289   -0.548177  \n",
                            "4    0.303979   -0.608892  "
                        ]
                    },
                    "execution_count": 8,
                    "metadata": {},
                    "output_type": "execute_result"
                }
            ],
            "source": [
                "df = dbpd.resample_data(processingConfig, time, data, metadata_samples.scale_factors)\n",
                "print(df.shape)\n",
                "df.head()"
            ]
        }
    ],
    "metadata": {
        "kernelspec": {
            "display_name": "Python 3",
            "language": "python",
            "name": "python3"
        },
        "language_info": {
            "codemirror_mode": {
                "name": "ipython",
                "version": 3
            },
            "file_extension": ".py",
            "mimetype": "text/x-python",
            "name": "python",
            "nbconvert_exporter": "python",
            "pygments_lexer": "ipython3",
            "version": "3.11.2"
        }
    },
    "nbformat": 4,
    "nbformat_minor": 4
}

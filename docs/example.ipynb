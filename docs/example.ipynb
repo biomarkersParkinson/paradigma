{
    "cells": [
        {
            "cell_type": "markdown",
            "metadata": {},
            "source": [
                "# Example usage\n",
                "\n",
                "To use `dbpd` in a project:"
            ]
        },
        {
            "cell_type": "code",
            "execution_count": 3,
            "metadata": {},
            "outputs": [],
            "source": [
                "# Automatically reload modules\n",
                "%load_ext autoreload\n",
                "%autoreload 2"
            ]
        },
        {
            "cell_type": "code",
            "execution_count": 4,
            "metadata": {},
            "outputs": [
                {
                    "name": "stdout",
                    "output_type": "stream",
                    "text": [
                        "0.1.0\n"
                    ]
                }
            ],
            "source": [
                "import dbpd\n",
                "\n",
                "print(dbpd.__version__)"
            ]
        },
        {
            "cell_type": "code",
            "execution_count": 5,
            "metadata": {},
            "outputs": [
                {
                    "name": "stdout",
                    "output_type": "stream",
                    "text": [
                        "Data type:\t int16\n",
                        "Data shape:\t (6757787, 6)\n"
                    ]
                }
            ],
            "source": [
                "import tsdf\n",
                "import numpy as np\n",
                "import pandas as pd\n",
                "\n",
                "metadata_dict = tsdf.load_metadata_from_path('../data/WatchData.IMU.Week0.raw_segment0161_meta.json')\n",
                "\n",
                "# Retrieve the metadata object we want, using the name of the binary as key\n",
                "metadata_samples = metadata_dict[\"WatchData.IMU.Week0.raw_segment0161_samples.bin\"]\n",
                "data = tsdf.load_binary_from_metadata(metadata_samples)\n",
                "metadata_time = metadata_dict[\"WatchData.IMU.Week0.raw_segment0161_time.bin\"]\n",
                "time = tsdf.load_binary_from_metadata(metadata_time)\n",
                "\n",
                "df = pd.concat([pd.DataFrame(time, columns=['time']),\n",
                "                pd.DataFrame(data, columns=['acceleration_x', 'acceleration_y', 'acceleration_z', 'rotation_x', 'rotation_y', 'rotation_z'])], axis=1)\n",
                "\n",
                "\n",
                "# Print some info\n",
                "print(f\"Data type:\\t {data.dtype}\")\n",
                "print(f\"Data shape:\\t {data.shape}\")\n"
            ]
        },
        {
            "cell_type": "code",
            "execution_count": 6,
            "metadata": {},
            "outputs": [],
            "source": [
                "ppp = dbpd.PreprocessingPipeline(df, 'time', 100, 100, True)\n",
                "\n"
            ]
        },
        {
            "cell_type": "code",
            "execution_count": 7,
            "metadata": {},
            "outputs": [
                {
                    "name": "stdout",
                    "output_type": "stream",
                    "text": [
                        "(3289481, 7)\n"
                    ]
                }
            ],
            "source": [
                "df = ppp.resample_data(time, data, metadata_samples.scale_factors)\n",
                "print(df.shape)"
            ]
        },
        {
            "cell_type": "code",
            "execution_count": 24,
            "metadata": {},
            "outputs": [
                {
                    "data": {
                        "text/html": [
                            "<div>\n",
                            "<style scoped>\n",
                            "    .dataframe tbody tr th:only-of-type {\n",
                            "        vertical-align: middle;\n",
                            "    }\n",
                            "\n",
                            "    .dataframe tbody tr th {\n",
                            "        vertical-align: top;\n",
                            "    }\n",
                            "\n",
                            "    .dataframe thead th {\n",
                            "        text-align: right;\n",
                            "    }\n",
                            "</style>\n",
                            "<table border=\"1\" class=\"dataframe\">\n",
                            "  <thead>\n",
                            "    <tr style=\"text-align: right;\">\n",
                            "      <th></th>\n",
                            "      <th>time</th>\n",
                            "      <th>acceleration_x</th>\n",
                            "      <th>acceleration_y</th>\n",
                            "      <th>acceleration_z</th>\n",
                            "      <th>rotation_x</th>\n",
                            "      <th>rotation_y</th>\n",
                            "      <th>rotation_z</th>\n",
                            "    </tr>\n",
                            "  </thead>\n",
                            "  <tbody>\n",
                            "    <tr>\n",
                            "      <th>0</th>\n",
                            "      <td>0.00</td>\n",
                            "      <td>-1.947919</td>\n",
                            "      <td>-6.937407</td>\n",
                            "      <td>6.655780</td>\n",
                            "      <td>0.426829</td>\n",
                            "      <td>0.365854</td>\n",
                            "      <td>-0.060976</td>\n",
                            "    </tr>\n",
                            "    <tr>\n",
                            "      <th>1</th>\n",
                            "      <td>0.01</td>\n",
                            "      <td>-1.929206</td>\n",
                            "      <td>-6.970213</td>\n",
                            "      <td>6.617931</td>\n",
                            "      <td>0.242929</td>\n",
                            "      <td>0.302510</td>\n",
                            "      <td>-0.123012</td>\n",
                            "    </tr>\n",
                            "    <tr>\n",
                            "      <th>2</th>\n",
                            "      <td>0.02</td>\n",
                            "      <td>-1.948174</td>\n",
                            "      <td>-6.951278</td>\n",
                            "      <td>6.556102</td>\n",
                            "      <td>0.183581</td>\n",
                            "      <td>-0.190263</td>\n",
                            "      <td>-0.307185</td>\n",
                            "    </tr>\n",
                            "    <tr>\n",
                            "      <th>3</th>\n",
                            "      <td>0.03</td>\n",
                            "      <td>-1.967239</td>\n",
                            "      <td>-6.951788</td>\n",
                            "      <td>6.491408</td>\n",
                            "      <td>0.242955</td>\n",
                            "      <td>-0.549013</td>\n",
                            "      <td>-0.428149</td>\n",
                            "    </tr>\n",
                            "    <tr>\n",
                            "      <th>4</th>\n",
                            "      <td>0.04</td>\n",
                            "      <td>-2.000309</td>\n",
                            "      <td>-6.965541</td>\n",
                            "      <td>6.544878</td>\n",
                            "      <td>-0.011529</td>\n",
                            "      <td>-0.165813</td>\n",
                            "      <td>-0.490807</td>\n",
                            "    </tr>\n",
                            "    <tr>\n",
                            "      <th>...</th>\n",
                            "      <td>...</td>\n",
                            "      <td>...</td>\n",
                            "      <td>...</td>\n",
                            "      <td>...</td>\n",
                            "      <td>...</td>\n",
                            "      <td>...</td>\n",
                            "      <td>...</td>\n",
                            "    </tr>\n",
                            "    <tr>\n",
                            "      <th>95</th>\n",
                            "      <td>0.95</td>\n",
                            "      <td>-1.953118</td>\n",
                            "      <td>-6.922230</td>\n",
                            "      <td>6.604785</td>\n",
                            "      <td>-0.124503</td>\n",
                            "      <td>0.737273</td>\n",
                            "      <td>-0.497406</td>\n",
                            "    </tr>\n",
                            "    <tr>\n",
                            "      <th>96</th>\n",
                            "      <td>0.96</td>\n",
                            "      <td>-1.936685</td>\n",
                            "      <td>-6.940766</td>\n",
                            "      <td>6.622679</td>\n",
                            "      <td>-0.376661</td>\n",
                            "      <td>0.734967</td>\n",
                            "      <td>-0.303513</td>\n",
                            "    </tr>\n",
                            "    <tr>\n",
                            "      <th>97</th>\n",
                            "      <td>0.97</td>\n",
                            "      <td>-1.944537</td>\n",
                            "      <td>-6.959815</td>\n",
                            "      <td>6.641376</td>\n",
                            "      <td>-0.416458</td>\n",
                            "      <td>0.705000</td>\n",
                            "      <td>-0.239195</td>\n",
                            "    </tr>\n",
                            "    <tr>\n",
                            "      <th>98</th>\n",
                            "      <td>0.98</td>\n",
                            "      <td>-1.953137</td>\n",
                            "      <td>-6.940753</td>\n",
                            "      <td>6.628472</td>\n",
                            "      <td>-0.259175</td>\n",
                            "      <td>0.602034</td>\n",
                            "      <td>-0.203600</td>\n",
                            "    </tr>\n",
                            "    <tr>\n",
                            "      <th>99</th>\n",
                            "      <td>0.99</td>\n",
                            "      <td>-1.959261</td>\n",
                            "      <td>-6.930996</td>\n",
                            "      <td>6.616581</td>\n",
                            "      <td>-0.081104</td>\n",
                            "      <td>0.472068</td>\n",
                            "      <td>-0.227189</td>\n",
                            "    </tr>\n",
                            "  </tbody>\n",
                            "</table>\n",
                            "<p>100 rows × 7 columns</p>\n",
                            "</div>"
                        ],
                        "text/plain": [
                            "    time  acceleration_x  acceleration_y  acceleration_z  rotation_x  \\\n",
                            "0   0.00       -1.947919       -6.937407        6.655780    0.426829   \n",
                            "1   0.01       -1.929206       -6.970213        6.617931    0.242929   \n",
                            "2   0.02       -1.948174       -6.951278        6.556102    0.183581   \n",
                            "3   0.03       -1.967239       -6.951788        6.491408    0.242955   \n",
                            "4   0.04       -2.000309       -6.965541        6.544878   -0.011529   \n",
                            "..   ...             ...             ...             ...         ...   \n",
                            "95  0.95       -1.953118       -6.922230        6.604785   -0.124503   \n",
                            "96  0.96       -1.936685       -6.940766        6.622679   -0.376661   \n",
                            "97  0.97       -1.944537       -6.959815        6.641376   -0.416458   \n",
                            "98  0.98       -1.953137       -6.940753        6.628472   -0.259175   \n",
                            "99  0.99       -1.959261       -6.930996        6.616581   -0.081104   \n",
                            "\n",
                            "    rotation_y  rotation_z  \n",
                            "0     0.365854   -0.060976  \n",
                            "1     0.302510   -0.123012  \n",
                            "2    -0.190263   -0.307185  \n",
                            "3    -0.549013   -0.428149  \n",
                            "4    -0.165813   -0.490807  \n",
                            "..         ...         ...  \n",
                            "95    0.737273   -0.497406  \n",
                            "96    0.734967   -0.303513  \n",
                            "97    0.705000   -0.239195  \n",
                            "98    0.602034   -0.203600  \n",
                            "99    0.472068   -0.227189  \n",
                            "\n",
                            "[100 rows x 7 columns]"
                        ]
                    },
                    "execution_count": 24,
                    "metadata": {},
                    "output_type": "execute_result"
                }
            ],
            "source": [
                "df.head(100)"
            ]
        }
    ],
    "metadata": {
        "kernelspec": {
            "display_name": "Python 3",
            "language": "python",
            "name": "python3"
        },
        "language_info": {
            "codemirror_mode": {
                "name": "ipython",
                "version": 3
            },
            "file_extension": ".py",
            "mimetype": "text/x-python",
            "name": "python",
            "nbconvert_exporter": "python",
            "pygments_lexer": "ipython3",
            "version": "3.11.2"
        }
    },
    "nbformat": 4,
    "nbformat_minor": 4
}

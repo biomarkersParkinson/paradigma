{
    "cells": [
        {
            "cell_type": "markdown",
            "metadata": {},
            "source": [
                "# Example usage\n",
                "\n",
                "To use `dbpd` in a project:"
            ]
        },
        {
            "cell_type": "code",
            "execution_count": 1,
            "metadata": {},
            "outputs": [],
            "source": [
                "# Automatically reload modules\n",
                "%load_ext autoreload\n",
                "%autoreload 2"
            ]
        },
        {
            "cell_type": "code",
            "execution_count": 2,
            "metadata": {},
            "outputs": [
                {
                    "name": "stdout",
                    "output_type": "stream",
                    "text": [
                        "0.1.0\n"
                    ]
                }
            ],
            "source": [
                "import dbpd\n",
                "print(dbpd.__version__)"
            ]
        },
        {
            "cell_type": "markdown",
            "metadata": {},
            "source": [
                "### Load the metadata and binaries"
            ]
        },
        {
            "cell_type": "code",
            "execution_count": 3,
            "metadata": {},
            "outputs": [
                {
                    "name": "stdout",
                    "output_type": "stream",
                    "text": [
                        "Data shape:\t (6757787, 6)\n",
                        "[0.        9.8532715 9.853516  9.8532715 9.8532715 9.8532715 9.853516\n",
                        " 9.8532715 9.8532715 9.8532715]\n"
                    ]
                }
            ],
            "source": [
                "import tsdf\n",
                "import numpy as np\n",
                "import pandas as pd\n",
                "from dbpd.constants import DataColumns\n",
                "\n",
                "metadata_dict = tsdf.load_metadata_from_path('../data/WatchData.IMU.Week0.raw_segment0161_meta.json')\n",
                "\n",
                "# Retrieve the metadata object we want, using the name of the binary as key\n",
                "metadata_samples = metadata_dict[\"WatchData.IMU.Week0.raw_segment0161_samples.bin\"]\n",
                "data = tsdf.load_binary_from_metadata(metadata_samples)\n",
                "metadata_time = metadata_dict[\"WatchData.IMU.Week0.raw_segment0161_time.bin\"]\n",
                "time = tsdf.load_binary_from_metadata(metadata_time)\n",
                "\n",
                "# Print some info\n",
                "print(f\"Data shape:\\t {data.shape}\")\n",
                "print(time[0:10])"
            ]
        },
        {
            "cell_type": "markdown",
            "metadata": {},
            "source": [
                "#### Setup a preprocessing configuration"
            ]
        },
        {
            "cell_type": "code",
            "execution_count": 4,
            "metadata": {},
            "outputs": [],
            "source": [
                "processingConfig = dbpd.PreprocessingPipelineConfig(DataColumns.TIME, 100, 100, True)"
            ]
        },
        {
            "cell_type": "markdown",
            "metadata": {},
            "source": [
                "### Convert time from delta time to relative time"
            ]
        },
        {
            "cell_type": "code",
            "execution_count": 5,
            "metadata": {},
            "outputs": [
                {
                    "name": "stdout",
                    "output_type": "stream",
                    "text": [
                        "[0.         0.00985327 0.01970679 0.02956006 0.03941333 0.0492666\n",
                        " 0.05912012 0.06897339 0.07882666 0.08867993]\n"
                    ]
                }
            ],
            "source": [
                "time = dbpd.transform_time_array(time, 1000, True)\n",
                "print(time[0:10])"
            ]
        },
        {
            "cell_type": "markdown",
            "metadata": {},
            "source": [
                "#### Resample the data\n"
            ]
        },
        {
            "cell_type": "code",
            "execution_count": 6,
            "metadata": {},
            "outputs": [
                {
                    "name": "stdout",
                    "output_type": "stream",
                    "text": [
                        "(6662096, 7)\n"
                    ]
                },
                {
                    "data": {
                        "text/html": [
                            "<div>\n",
                            "<style scoped>\n",
                            "    .dataframe tbody tr th:only-of-type {\n",
                            "        vertical-align: middle;\n",
                            "    }\n",
                            "\n",
                            "    .dataframe tbody tr th {\n",
                            "        vertical-align: top;\n",
                            "    }\n",
                            "\n",
                            "    .dataframe thead th {\n",
                            "        text-align: right;\n",
                            "    }\n",
                            "</style>\n",
                            "<table border=\"1\" class=\"dataframe\">\n",
                            "  <thead>\n",
                            "    <tr style=\"text-align: right;\">\n",
                            "      <th></th>\n",
                            "      <th>time</th>\n",
                            "      <th>acceleration_x</th>\n",
                            "      <th>acceleration_y</th>\n",
                            "      <th>acceleration_z</th>\n",
                            "      <th>rotation_x</th>\n",
                            "      <th>rotation_y</th>\n",
                            "      <th>rotation_z</th>\n",
                            "    </tr>\n",
                            "  </thead>\n",
                            "  <tbody>\n",
                            "    <tr>\n",
                            "      <th>0</th>\n",
                            "      <td>0.00</td>\n",
                            "      <td>-2.689536</td>\n",
                            "      <td>-10.931814</td>\n",
                            "      <td>1.042019</td>\n",
                            "      <td>247.987806</td>\n",
                            "      <td>-270.914635</td>\n",
                            "      <td>196.341464</td>\n",
                            "    </tr>\n",
                            "    <tr>\n",
                            "      <th>1</th>\n",
                            "      <td>0.01</td>\n",
                            "      <td>-1.588193</td>\n",
                            "      <td>-10.467764</td>\n",
                            "      <td>-4.220596</td>\n",
                            "      <td>242.813985</td>\n",
                            "      <td>-272.776486</td>\n",
                            "      <td>196.123144</td>\n",
                            "    </tr>\n",
                            "    <tr>\n",
                            "      <th>2</th>\n",
                            "      <td>0.02</td>\n",
                            "      <td>-1.308063</td>\n",
                            "      <td>-11.668771</td>\n",
                            "      <td>-4.109930</td>\n",
                            "      <td>207.835635</td>\n",
                            "      <td>-260.688301</td>\n",
                            "      <td>187.506886</td>\n",
                            "    </tr>\n",
                            "    <tr>\n",
                            "      <th>3</th>\n",
                            "      <td>0.03</td>\n",
                            "      <td>-1.311445</td>\n",
                            "      <td>-10.683093</td>\n",
                            "      <td>-2.101027</td>\n",
                            "      <td>156.162746</td>\n",
                            "      <td>-219.600694</td>\n",
                            "      <td>170.990978</td>\n",
                            "    </tr>\n",
                            "    <tr>\n",
                            "      <th>4</th>\n",
                            "      <td>0.04</td>\n",
                            "      <td>-2.464753</td>\n",
                            "      <td>-10.089515</td>\n",
                            "      <td>0.602694</td>\n",
                            "      <td>127.339890</td>\n",
                            "      <td>-220.812595</td>\n",
                            "      <td>178.438022</td>\n",
                            "    </tr>\n",
                            "  </tbody>\n",
                            "</table>\n",
                            "</div>"
                        ],
                        "text/plain": [
                            "   time  acceleration_x  acceleration_y  acceleration_z  rotation_x  \\\n",
                            "0  0.00       -2.689536      -10.931814        1.042019  247.987806   \n",
                            "1  0.01       -1.588193      -10.467764       -4.220596  242.813985   \n",
                            "2  0.02       -1.308063      -11.668771       -4.109930  207.835635   \n",
                            "3  0.03       -1.311445      -10.683093       -2.101027  156.162746   \n",
                            "4  0.04       -2.464753      -10.089515        0.602694  127.339890   \n",
                            "\n",
                            "   rotation_y  rotation_z  \n",
                            "0 -270.914635  196.341464  \n",
                            "1 -272.776486  196.123144  \n",
                            "2 -260.688301  187.506886  \n",
                            "3 -219.600694  170.990978  \n",
                            "4 -220.812595  178.438022  "
                        ]
                    },
                    "execution_count": 6,
                    "metadata": {},
                    "output_type": "execute_result"
                }
            ],
            "source": [
                "df = dbpd.resample_data(processingConfig, time, data, metadata_samples.scale_factors)\n",
                "print(df.shape)\n",
                "df.head()"
            ]
        }
    ],
    "metadata": {
        "kernelspec": {
            "display_name": "Python 3",
            "language": "python",
            "name": "python3"
        },
        "language_info": {
            "codemirror_mode": {
                "name": "ipython",
                "version": 3
            },
            "file_extension": ".py",
            "mimetype": "text/x-python",
            "name": "python",
            "nbconvert_exporter": "python",
            "pygments_lexer": "ipython3",
            "version": "3.9.13"
        }
    },
    "nbformat": 4,
    "nbformat_minor": 4
}

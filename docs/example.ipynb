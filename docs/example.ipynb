{
    "cells": [
        {
            "cell_type": "markdown",
            "metadata": {},
            "source": [
                "# Example usage\n",
                "\n",
                "To use `dbpd` in a project:"
            ]
        },
        {
            "cell_type": "code",
            "execution_count": 7,
            "metadata": {},
            "outputs": [
                {
                    "name": "stdout",
                    "output_type": "stream",
                    "text": [
                        "The autoreload extension is already loaded. To reload it, use:\n",
                        "  %reload_ext autoreload\n"
                    ]
                }
            ],
            "source": [
                "# Automatically reload modules\n",
                "%load_ext autoreload\n",
                "%autoreload 2"
            ]
        },
        {
            "cell_type": "code",
            "execution_count": 8,
            "metadata": {},
            "outputs": [
                {
                    "name": "stdout",
                    "output_type": "stream",
                    "text": [
                        "0.1.0\n"
                    ]
                }
            ],
            "source": [
                "import dbpd\n",
                "\n",
                "print(dbpd.__version__)"
            ]
        },
        {
            "cell_type": "markdown",
            "metadata": {},
            "source": [
                "#### Load the metadata and binaries"
            ]
        },
        {
            "cell_type": "code",
            "execution_count": 9,
            "metadata": {},
            "outputs": [
                {
                    "name": "stdout",
                    "output_type": "stream",
                    "text": [
                        "Data type:\t int16\n",
                        "Data shape:\t (6757787, 6)\n"
                    ]
                }
            ],
            "source": [
                "import tsdf\n",
                "import numpy as np\n",
                "import pandas as pd\n",
                "from dbpd.constants import DataColumns\n",
                "\n",
                "metadata_dict = tsdf.load_metadata_from_path('../data/WatchData.IMU.Week0.raw_segment0161_meta.json')\n",
                "\n",
                "# Retrieve the metadata object we want, using the name of the binary as key\n",
                "metadata_samples = metadata_dict[\"WatchData.IMU.Week0.raw_segment0161_samples.bin\"]\n",
                "data = tsdf.load_binary_from_metadata(metadata_samples)\n",
                "metadata_time = metadata_dict[\"WatchData.IMU.Week0.raw_segment0161_time.bin\"]\n",
                "time = tsdf.load_binary_from_metadata(metadata_time)\n",
                "\n",
                "\n",
                "# Print some info\n",
                "print(f\"Data type:\\t {data.dtype}\")\n",
                "print(f\"Data shape:\\t {data.shape}\")\n"
            ]
        },
        {
            "cell_type": "markdown",
            "metadata": {},
            "source": [
                "##### Test whether the time data channel is strictly increasing"
            ]
        },
        {
            "cell_type": "code",
            "execution_count": 10,
            "metadata": {},
            "outputs": [
                {
                    "name": "stdout",
                    "output_type": "stream",
                    "text": [
                        "time_abs_array is not strictly increasing\n",
                        "Non-increasing at index 2: 9.853515625 followed by 9.853271484375\n",
                        "time[3]-time[2] = -0.000244140625\n",
                        "\n",
                        "Non-increasing at index 3: 9.853271484375 followed by 9.853271484375\n",
                        "time[4]-time[3] = 0.0\n",
                        "\n",
                        "Non-increasing at index 4: 9.853271484375 followed by 9.853271484375\n",
                        "time[5]-time[4] = 0.0\n",
                        "\n"
                    ]
                }
            ],
            "source": [
                "if not np.all(np.diff(time) > 0):\n",
                "    print(\"time_abs_array is not strictly increasing\")\n",
                "    non_increasing_indices = np.where(np.diff(time) <= 0)[0]\n",
                "\n",
                "    # Printing the problematic parts\n",
                "    for index in non_increasing_indices[:3]:\n",
                "        print(f\"Non-increasing at index {index}: {time[index]} followed by {time[index + 1]}\")\n",
                "        print(f\"time[{index+1}]-time[{index}] = {time[index + 1] - time[index]}\\n\")"
            ]
        },
        {
            "cell_type": "markdown",
            "metadata": {},
            "source": [
                "#### Setup a preprocessing configuration"
            ]
        },
        {
            "cell_type": "code",
            "execution_count": 11,
            "metadata": {},
            "outputs": [],
            "source": [
                "ppp = dbpd.PreprocessingPipeline(DataColumns.TIME, 100, 100, True)\n",
                "\n"
            ]
        },
        {
            "cell_type": "markdown",
            "metadata": {},
            "source": [
                "#### Resample the data\n"
            ]
        },
        {
            "cell_type": "code",
            "execution_count": 12,
            "metadata": {},
            "outputs": [
                {
                    "ename": "ValueError",
                    "evalue": "time_abs_array is not strictly increasing",
                    "output_type": "error",
                    "traceback": [
                        "\u001b[0;31m---------------------------------------------------------------------------\u001b[0m",
                        "\u001b[0;31mValueError\u001b[0m                                Traceback (most recent call last)",
                        "Cell \u001b[0;32mIn[12], line 1\u001b[0m\n\u001b[0;32m----> 1\u001b[0m df \u001b[38;5;241m=\u001b[39m \u001b[43mppp\u001b[49m\u001b[38;5;241;43m.\u001b[39;49m\u001b[43mresample_data\u001b[49m\u001b[43m(\u001b[49m\u001b[43mtime\u001b[49m\u001b[43m,\u001b[49m\u001b[43m \u001b[49m\u001b[43mdata\u001b[49m\u001b[43m,\u001b[49m\u001b[43m \u001b[49m\u001b[43mmetadata_samples\u001b[49m\u001b[38;5;241;43m.\u001b[39;49m\u001b[43mscale_factors\u001b[49m\u001b[43m)\u001b[49m\n\u001b[1;32m      2\u001b[0m \u001b[38;5;28mprint\u001b[39m(df\u001b[38;5;241m.\u001b[39mshape)\n",
                        "File \u001b[0;32m~/git/biomarkers_repo/dbpd-toolbox/src/dbpd/imu_preprocessing.py:97\u001b[0m, in \u001b[0;36mPreprocessingPipeline.resample_data\u001b[0;34m(self, time_abs_array, values_unscaled, scale_factors)\u001b[0m\n\u001b[1;32m     86\u001b[0m \u001b[38;5;28;01mfor\u001b[39;00m j, sensor_col \u001b[38;5;129;01min\u001b[39;00m \u001b[38;5;28menumerate\u001b[39m(\n\u001b[1;32m     87\u001b[0m     [\n\u001b[1;32m     88\u001b[0m         DataColumns\u001b[38;5;241m.\u001b[39mACCELERATION_X,\n\u001b[0;32m   (...)\u001b[0m\n\u001b[1;32m     94\u001b[0m     ]\n\u001b[1;32m     95\u001b[0m ):\n\u001b[1;32m     96\u001b[0m     \u001b[38;5;28;01mif\u001b[39;00m \u001b[38;5;129;01mnot\u001b[39;00m np\u001b[38;5;241m.\u001b[39mall(np\u001b[38;5;241m.\u001b[39mdiff(time_abs_array) \u001b[38;5;241m>\u001b[39m \u001b[38;5;241m0\u001b[39m):\n\u001b[0;32m---> 97\u001b[0m         \u001b[38;5;28;01mraise\u001b[39;00m \u001b[38;5;167;01mValueError\u001b[39;00m(\u001b[38;5;124m\"\u001b[39m\u001b[38;5;124mtime_abs_array is not strictly increasing\u001b[39m\u001b[38;5;124m\"\u001b[39m)\n\u001b[1;32m     99\u001b[0m     cs \u001b[38;5;241m=\u001b[39m CubicSpline(time_abs_array, scaled_values\u001b[38;5;241m.\u001b[39mT[j])\n\u001b[1;32m    100\u001b[0m     df[sensor_col] \u001b[38;5;241m=\u001b[39m cs(df[\u001b[38;5;28mself\u001b[39m\u001b[38;5;241m.\u001b[39mtime_column])\n",
                        "\u001b[0;31mValueError\u001b[0m: time_abs_array is not strictly increasing"
                    ]
                }
            ],
            "source": [
                "df = ppp.resample_data(time, data, metadata_samples.scale_factors)\n",
                "print(df.shape)"
            ]
        },
        {
            "cell_type": "code",
            "execution_count": null,
            "metadata": {},
            "outputs": [
                {
                    "data": {
                        "text/html": [
                            "<div>\n",
                            "<style scoped>\n",
                            "    .dataframe tbody tr th:only-of-type {\n",
                            "        vertical-align: middle;\n",
                            "    }\n",
                            "\n",
                            "    .dataframe tbody tr th {\n",
                            "        vertical-align: top;\n",
                            "    }\n",
                            "\n",
                            "    .dataframe thead th {\n",
                            "        text-align: right;\n",
                            "    }\n",
                            "</style>\n",
                            "<table border=\"1\" class=\"dataframe\">\n",
                            "  <thead>\n",
                            "    <tr style=\"text-align: right;\">\n",
                            "      <th></th>\n",
                            "      <th>time</th>\n",
                            "      <th>acceleration_x</th>\n",
                            "      <th>acceleration_y</th>\n",
                            "      <th>acceleration_z</th>\n",
                            "      <th>rotation_x</th>\n",
                            "      <th>rotation_y</th>\n",
                            "      <th>rotation_z</th>\n",
                            "    </tr>\n",
                            "  </thead>\n",
                            "  <tbody>\n",
                            "    <tr>\n",
                            "      <th>0</th>\n",
                            "      <td>0.00</td>\n",
                            "      <td>-1.947919</td>\n",
                            "      <td>-6.937407</td>\n",
                            "      <td>6.655780</td>\n",
                            "      <td>0.426829</td>\n",
                            "      <td>0.365854</td>\n",
                            "      <td>-0.060976</td>\n",
                            "    </tr>\n",
                            "    <tr>\n",
                            "      <th>1</th>\n",
                            "      <td>0.01</td>\n",
                            "      <td>-1.929206</td>\n",
                            "      <td>-6.970213</td>\n",
                            "      <td>6.617931</td>\n",
                            "      <td>0.242929</td>\n",
                            "      <td>0.302510</td>\n",
                            "      <td>-0.123012</td>\n",
                            "    </tr>\n",
                            "    <tr>\n",
                            "      <th>2</th>\n",
                            "      <td>0.02</td>\n",
                            "      <td>-1.948174</td>\n",
                            "      <td>-6.951278</td>\n",
                            "      <td>6.556102</td>\n",
                            "      <td>0.183581</td>\n",
                            "      <td>-0.190263</td>\n",
                            "      <td>-0.307185</td>\n",
                            "    </tr>\n",
                            "    <tr>\n",
                            "      <th>3</th>\n",
                            "      <td>0.03</td>\n",
                            "      <td>-1.967239</td>\n",
                            "      <td>-6.951788</td>\n",
                            "      <td>6.491408</td>\n",
                            "      <td>0.242955</td>\n",
                            "      <td>-0.549013</td>\n",
                            "      <td>-0.428149</td>\n",
                            "    </tr>\n",
                            "    <tr>\n",
                            "      <th>4</th>\n",
                            "      <td>0.04</td>\n",
                            "      <td>-2.000309</td>\n",
                            "      <td>-6.965541</td>\n",
                            "      <td>6.544878</td>\n",
                            "      <td>-0.011529</td>\n",
                            "      <td>-0.165813</td>\n",
                            "      <td>-0.490807</td>\n",
                            "    </tr>\n",
                            "    <tr>\n",
                            "      <th>...</th>\n",
                            "      <td>...</td>\n",
                            "      <td>...</td>\n",
                            "      <td>...</td>\n",
                            "      <td>...</td>\n",
                            "      <td>...</td>\n",
                            "      <td>...</td>\n",
                            "      <td>...</td>\n",
                            "    </tr>\n",
                            "    <tr>\n",
                            "      <th>95</th>\n",
                            "      <td>0.95</td>\n",
                            "      <td>-1.953118</td>\n",
                            "      <td>-6.922230</td>\n",
                            "      <td>6.604785</td>\n",
                            "      <td>-0.124503</td>\n",
                            "      <td>0.737273</td>\n",
                            "      <td>-0.497406</td>\n",
                            "    </tr>\n",
                            "    <tr>\n",
                            "      <th>96</th>\n",
                            "      <td>0.96</td>\n",
                            "      <td>-1.936685</td>\n",
                            "      <td>-6.940766</td>\n",
                            "      <td>6.622679</td>\n",
                            "      <td>-0.376661</td>\n",
                            "      <td>0.734967</td>\n",
                            "      <td>-0.303513</td>\n",
                            "    </tr>\n",
                            "    <tr>\n",
                            "      <th>97</th>\n",
                            "      <td>0.97</td>\n",
                            "      <td>-1.944537</td>\n",
                            "      <td>-6.959815</td>\n",
                            "      <td>6.641376</td>\n",
                            "      <td>-0.416458</td>\n",
                            "      <td>0.705000</td>\n",
                            "      <td>-0.239195</td>\n",
                            "    </tr>\n",
                            "    <tr>\n",
                            "      <th>98</th>\n",
                            "      <td>0.98</td>\n",
                            "      <td>-1.953137</td>\n",
                            "      <td>-6.940753</td>\n",
                            "      <td>6.628472</td>\n",
                            "      <td>-0.259175</td>\n",
                            "      <td>0.602034</td>\n",
                            "      <td>-0.203600</td>\n",
                            "    </tr>\n",
                            "    <tr>\n",
                            "      <th>99</th>\n",
                            "      <td>0.99</td>\n",
                            "      <td>-1.959261</td>\n",
                            "      <td>-6.930996</td>\n",
                            "      <td>6.616581</td>\n",
                            "      <td>-0.081104</td>\n",
                            "      <td>0.472068</td>\n",
                            "      <td>-0.227189</td>\n",
                            "    </tr>\n",
                            "  </tbody>\n",
                            "</table>\n",
                            "<p>100 rows × 7 columns</p>\n",
                            "</div>"
                        ],
                        "text/plain": [
                            "    time  acceleration_x  acceleration_y  acceleration_z  rotation_x  \\\n",
                            "0   0.00       -1.947919       -6.937407        6.655780    0.426829   \n",
                            "1   0.01       -1.929206       -6.970213        6.617931    0.242929   \n",
                            "2   0.02       -1.948174       -6.951278        6.556102    0.183581   \n",
                            "3   0.03       -1.967239       -6.951788        6.491408    0.242955   \n",
                            "4   0.04       -2.000309       -6.965541        6.544878   -0.011529   \n",
                            "..   ...             ...             ...             ...         ...   \n",
                            "95  0.95       -1.953118       -6.922230        6.604785   -0.124503   \n",
                            "96  0.96       -1.936685       -6.940766        6.622679   -0.376661   \n",
                            "97  0.97       -1.944537       -6.959815        6.641376   -0.416458   \n",
                            "98  0.98       -1.953137       -6.940753        6.628472   -0.259175   \n",
                            "99  0.99       -1.959261       -6.930996        6.616581   -0.081104   \n",
                            "\n",
                            "    rotation_y  rotation_z  \n",
                            "0     0.365854   -0.060976  \n",
                            "1     0.302510   -0.123012  \n",
                            "2    -0.190263   -0.307185  \n",
                            "3    -0.549013   -0.428149  \n",
                            "4    -0.165813   -0.490807  \n",
                            "..         ...         ...  \n",
                            "95    0.737273   -0.497406  \n",
                            "96    0.734967   -0.303513  \n",
                            "97    0.705000   -0.239195  \n",
                            "98    0.602034   -0.203600  \n",
                            "99    0.472068   -0.227189  \n",
                            "\n",
                            "[100 rows x 7 columns]"
                        ]
                    },
                    "execution_count": 24,
                    "metadata": {},
                    "output_type": "execute_result"
                }
            ],
            "source": [
                "df.head(100)"
            ]
        }
    ],
    "metadata": {
        "kernelspec": {
            "display_name": "Python 3",
            "language": "python",
            "name": "python3"
        },
        "language_info": {
            "codemirror_mode": {
                "name": "ipython",
                "version": 3
            },
            "file_extension": ".py",
            "mimetype": "text/x-python",
            "name": "python",
            "nbconvert_exporter": "python",
            "pygments_lexer": "ipython3",
            "version": "3.11.2"
        }
    },
    "nbformat": 4,
    "nbformat_minor": 4
}
